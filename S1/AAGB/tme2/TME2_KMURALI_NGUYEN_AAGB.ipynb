{
 "cells": [
  {
   "cell_type": "markdown",
   "id": "ac030a32",
   "metadata": {},
   "source": [
    "# TME 2 "
   ]
  },
  {
   "cell_type": "markdown",
   "id": "86e18832",
   "metadata": {},
   "source": [
    "## 1. Introduction"
   ]
  },
  {
   "cell_type": "code",
   "execution_count": 1,
   "id": "4d42a71d",
   "metadata": {},
   "outputs": [],
   "source": [
    "import pandas as pd\n",
    "import itertools as it\n",
    "import numpy as np"
   ]
  },
  {
   "cell_type": "code",
   "execution_count": 2,
   "id": "1428f6f8",
   "metadata": {},
   "outputs": [
    {
     "data": {
      "text/html": [
       "<div>\n",
       "<style scoped>\n",
       "    .dataframe tbody tr th:only-of-type {\n",
       "        vertical-align: middle;\n",
       "    }\n",
       "\n",
       "    .dataframe tbody tr th {\n",
       "        vertical-align: top;\n",
       "    }\n",
       "\n",
       "    .dataframe thead th {\n",
       "        text-align: right;\n",
       "    }\n",
       "</style>\n",
       "<table border=\"1\" class=\"dataframe\">\n",
       "  <thead>\n",
       "    <tr style=\"text-align: right;\">\n",
       "      <th></th>\n",
       "      <th>0</th>\n",
       "      <th>1</th>\n",
       "      <th>2</th>\n",
       "      <th>3</th>\n",
       "    </tr>\n",
       "  </thead>\n",
       "  <tbody>\n",
       "    <tr>\n",
       "      <th>0</th>\n",
       "      <td>0</td>\n",
       "      <td>8</td>\n",
       "      <td>7</td>\n",
       "      <td>12</td>\n",
       "    </tr>\n",
       "    <tr>\n",
       "      <th>1</th>\n",
       "      <td>8</td>\n",
       "      <td>0</td>\n",
       "      <td>9</td>\n",
       "      <td>14</td>\n",
       "    </tr>\n",
       "    <tr>\n",
       "      <th>2</th>\n",
       "      <td>7</td>\n",
       "      <td>9</td>\n",
       "      <td>0</td>\n",
       "      <td>11</td>\n",
       "    </tr>\n",
       "    <tr>\n",
       "      <th>3</th>\n",
       "      <td>12</td>\n",
       "      <td>14</td>\n",
       "      <td>11</td>\n",
       "      <td>0</td>\n",
       "    </tr>\n",
       "  </tbody>\n",
       "</table>\n",
       "</div>"
      ],
      "text/plain": [
       "    0   1   2   3\n",
       "0   0   8   7  12\n",
       "1   8   0   9  14\n",
       "2   7   9   0  11\n",
       "3  12  14  11   0"
      ]
     },
     "execution_count": 2,
     "metadata": {},
     "output_type": "execute_result"
    }
   ],
   "source": [
    "M1 = [[0,8,7,12], [8,0,9,14], [7,9,0,11], [12,14,11,0]]\n",
    "M2 = [[0,2,3,8,14,18],[2,0,3,8,14,18],\n",
    "      [3,3,0,8,14,18],[8,8,8,0,14,18],\n",
    "      [14,14,14,14,0,18],[18,18,18,18,18,0]]\n",
    "#UPGMA\n",
    "M3 = [[0,19,27,8,33,18,13],[19,0,31,18,36,1,13],\n",
    "          [27,31,0,26,41,32,29],[8,18,26,0,31,17,14],\n",
    "          [33,36,41,31,0,35,28],[18,1,32,17,35,0,12],\n",
    "          [13,13,29,14,28,12,0]]\n",
    "#Neighbor Joining\n",
    "M4 = [[0,2,4,6,6,8],[2,0,4,6,6,8],\n",
    "          [4,4,0,6,6,8],[6,6,6,0,4,8],\n",
    "          [6,6,6,4,0,8],[8,8,8,8,8,0]]\n",
    "\n",
    "M1D = pd.DataFrame(M1)\n",
    "M2D = pd.DataFrame(M2)\n",
    "UPGMAD = pd.DataFrame(M3) \n",
    "NJD = pd.DataFrame(M4)\n",
    "\n",
    "M1D"
   ]
  },
  {
   "cell_type": "code",
   "execution_count": 3,
   "id": "9c43c755",
   "metadata": {},
   "outputs": [
    {
     "data": {
      "text/html": [
       "<div>\n",
       "<style scoped>\n",
       "    .dataframe tbody tr th:only-of-type {\n",
       "        vertical-align: middle;\n",
       "    }\n",
       "\n",
       "    .dataframe tbody tr th {\n",
       "        vertical-align: top;\n",
       "    }\n",
       "\n",
       "    .dataframe thead th {\n",
       "        text-align: right;\n",
       "    }\n",
       "</style>\n",
       "<table border=\"1\" class=\"dataframe\">\n",
       "  <thead>\n",
       "    <tr style=\"text-align: right;\">\n",
       "      <th></th>\n",
       "      <th>0</th>\n",
       "      <th>1</th>\n",
       "      <th>2</th>\n",
       "      <th>3</th>\n",
       "    </tr>\n",
       "  </thead>\n",
       "  <tbody>\n",
       "    <tr>\n",
       "      <th>0</th>\n",
       "      <td>NaN</td>\n",
       "      <td>NaN</td>\n",
       "      <td>NaN</td>\n",
       "      <td>NaN</td>\n",
       "    </tr>\n",
       "    <tr>\n",
       "      <th>1</th>\n",
       "      <td>8.0</td>\n",
       "      <td>NaN</td>\n",
       "      <td>NaN</td>\n",
       "      <td>NaN</td>\n",
       "    </tr>\n",
       "    <tr>\n",
       "      <th>2</th>\n",
       "      <td>7.0</td>\n",
       "      <td>9.0</td>\n",
       "      <td>NaN</td>\n",
       "      <td>NaN</td>\n",
       "    </tr>\n",
       "    <tr>\n",
       "      <th>3</th>\n",
       "      <td>12.0</td>\n",
       "      <td>14.0</td>\n",
       "      <td>11.0</td>\n",
       "      <td>NaN</td>\n",
       "    </tr>\n",
       "  </tbody>\n",
       "</table>\n",
       "</div>"
      ],
      "text/plain": [
       "      0     1     2   3\n",
       "0   NaN   NaN   NaN NaN\n",
       "1   8.0   NaN   NaN NaN\n",
       "2   7.0   9.0   NaN NaN\n",
       "3  12.0  14.0  11.0 NaN"
      ]
     },
     "execution_count": 3,
     "metadata": {},
     "output_type": "execute_result"
    }
   ],
   "source": [
    "def convert(M):\n",
    "    M = np.array(M).astype(float)\n",
    "    il1 = np.triu_indices(len(M))\n",
    "    M[il1] = np.nan\n",
    "    MD = pd.DataFrame(M)\n",
    "    return MD\n",
    "\n",
    "convert(M1)"
   ]
  },
  {
   "cell_type": "markdown",
   "id": "67f904ab",
   "metadata": {},
   "source": [
    "###### Question 1"
   ]
  },
  {
   "cell_type": "markdown",
   "id": "0c6fed93",
   "metadata": {},
   "source": [
    "##### Matrice additive"
   ]
  },
  {
   "cell_type": "markdown",
   "id": "7c3f5e8e",
   "metadata": {},
   "source": [
    "Une est matrice additive si et seulement si la condition des 4 points est vraie pour tous les quartets i,j,k et l où 1<=i,j,k,l<=n).\n",
    "La condition des 4 points est remplie quand Dij + Dkl <= max(Dik+Djl,Dil+Djk)."
   ]
  },
  {
   "cell_type": "code",
   "execution_count": 4,
   "id": "493d7aa4",
   "metadata": {},
   "outputs": [],
   "source": [
    "def estadditive(M):\n",
    "    comb=it.combinations(range(len(M)),4)\n",
    "    for groupe in comb:\n",
    "        i,j,k,l=groupe\n",
    "        if not (M.at[i,j]+M.at[k,l]<=max(M.at[i,k]+M.at[j,l],M.at[i,l]+M.at[j,k])):\n",
    "            return False\n",
    "    return True"
   ]
  },
  {
   "cell_type": "code",
   "execution_count": 5,
   "id": "e54b4449",
   "metadata": {},
   "outputs": [
    {
     "name": "stdout",
     "output_type": "stream",
     "text": [
      "    0   1   2   3\n",
      "0   0   8   7  12\n",
      "1   8   0   9  14\n",
      "2   7   9   0  11\n",
      "3  12  14  11   0 \n",
      " True\n"
     ]
    }
   ],
   "source": [
    "print(M1D,\"\\n\",estadditive(M1D))"
   ]
  },
  {
   "cell_type": "markdown",
   "id": "003f24a6",
   "metadata": {},
   "source": [
    "##### Ultramétricité"
   ]
  },
  {
   "cell_type": "markdown",
   "id": "e24f60e5",
   "metadata": {},
   "source": [
    "Une matrice est dite ultramétrique quand, pour tout choix de 3 points i,j,k au moins deux distances sont égales : Dij et Djk.\n",
    "\n",
    "On a alors mathématiquement : Dij = Djk >Dik\n",
    "\n",
    "Une matrice ultramétrique est forcément additive."
   ]
  },
  {
   "cell_type": "code",
   "execution_count": 6,
   "id": "f3d7b341",
   "metadata": {},
   "outputs": [],
   "source": [
    "def estultra(M):\n",
    "    comb=it.combinations(range(len(M)),3)\n",
    "    for groupe in comb:\n",
    "        i,j,k=groupe\n",
    "        if not(M.at[i,k] <= max(M.at[i,j],M.at[j,k])):\n",
    "            return False\n",
    "    return True"
   ]
  },
  {
   "cell_type": "code",
   "execution_count": 7,
   "id": "c69fc6ab",
   "metadata": {},
   "outputs": [
    {
     "name": "stdout",
     "output_type": "stream",
     "text": [
      "    0   1   2   3   4   5\n",
      "0   0   2   3   8  14  18\n",
      "1   2   0   3   8  14  18\n",
      "2   3   3   0   8  14  18\n",
      "3   8   8   8   0  14  18\n",
      "4  14  14  14  14   0  18\n",
      "5  18  18  18  18  18   0 \n",
      " True\n"
     ]
    }
   ],
   "source": [
    "print(M2D,\"\\n\", estultra(M2D))"
   ]
  },
  {
   "cell_type": "markdown",
   "id": "71f51673",
   "metadata": {},
   "source": [
    "###### Question 2"
   ]
  },
  {
   "cell_type": "code",
   "execution_count": 8,
   "id": "acb8ecb1",
   "metadata": {},
   "outputs": [],
   "source": [
    "#Calcul de la somme des distances d'un cluster avec les autres\n",
    "def cluster(M,i):            #i = l'espèce en question\n",
    "    return sum(M.iloc[i])"
   ]
  },
  {
   "cell_type": "code",
   "execution_count": 9,
   "id": "a87ce166",
   "metadata": {},
   "outputs": [],
   "source": [
    "#Calcul de toutes les sommes de distances entre les différentes clusters \n",
    "def groupe(M):\n",
    "    L=[]\n",
    "    for k in range(len(M)):\n",
    "        L.append(cluster(M,k))\n",
    "    return L\n"
   ]
  },
  {
   "cell_type": "code",
   "execution_count": 10,
   "id": "430633f4",
   "metadata": {},
   "outputs": [],
   "source": [
    "def group_clust_df(M):\n",
    "    return M.sum()"
   ]
  },
  {
   "cell_type": "code",
   "execution_count": 11,
   "id": "2a9ce0ba",
   "metadata": {},
   "outputs": [
    {
     "data": {
      "text/plain": [
       "0    27\n",
       "1    31\n",
       "2    27\n",
       "3    37\n",
       "dtype: int64"
      ]
     },
     "execution_count": 11,
     "metadata": {},
     "output_type": "execute_result"
    }
   ],
   "source": [
    "cluster(M1D,1)\n",
    "groupe(M1D)\n",
    "\n",
    "group_clust_df(M1D)"
   ]
  },
  {
   "cell_type": "markdown",
   "id": "c478bd2d",
   "metadata": {},
   "source": [
    "## 2 . UPGMA"
   ]
  },
  {
   "cell_type": "markdown",
   "id": "7c6b4207",
   "metadata": {},
   "source": [
    "###### Question 1 "
   ]
  },
  {
   "cell_type": "markdown",
   "id": "7079c390",
   "metadata": {},
   "source": [
    "Le format Newick est un format de fichier utilisé en phylogénie pour décrire les relations phylogénétiques entre différents clusters.\n",
    "Par exemple si on a un ancêtre commun entre A et B puis entre AB et C on écrira sous ce format :\n",
    "\n",
    "(C : longueur de la branche (A : longueur, B : longueur) : longueur restante de la branche)\n",
    "\n",
    "L'extension de ce format est .nwk"
   ]
  },
  {
   "cell_type": "code",
   "execution_count": 12,
   "id": "ecc4a7bd",
   "metadata": {
    "scrolled": true
   },
   "outputs": [
    {
     "data": {
      "text/html": [
       "<div>\n",
       "<style scoped>\n",
       "    .dataframe tbody tr th:only-of-type {\n",
       "        vertical-align: middle;\n",
       "    }\n",
       "\n",
       "    .dataframe tbody tr th {\n",
       "        vertical-align: top;\n",
       "    }\n",
       "\n",
       "    .dataframe thead th {\n",
       "        text-align: right;\n",
       "    }\n",
       "</style>\n",
       "<table border=\"1\" class=\"dataframe\">\n",
       "  <thead>\n",
       "    <tr style=\"text-align: right;\">\n",
       "      <th></th>\n",
       "      <th>0</th>\n",
       "      <th>1</th>\n",
       "      <th>2</th>\n",
       "      <th>3</th>\n",
       "      <th>4</th>\n",
       "      <th>5</th>\n",
       "      <th>6</th>\n",
       "    </tr>\n",
       "  </thead>\n",
       "  <tbody>\n",
       "    <tr>\n",
       "      <th>0</th>\n",
       "      <td>0</td>\n",
       "      <td>19</td>\n",
       "      <td>27</td>\n",
       "      <td>8</td>\n",
       "      <td>33</td>\n",
       "      <td>18</td>\n",
       "      <td>13</td>\n",
       "    </tr>\n",
       "    <tr>\n",
       "      <th>1</th>\n",
       "      <td>19</td>\n",
       "      <td>0</td>\n",
       "      <td>31</td>\n",
       "      <td>18</td>\n",
       "      <td>36</td>\n",
       "      <td>1</td>\n",
       "      <td>13</td>\n",
       "    </tr>\n",
       "    <tr>\n",
       "      <th>2</th>\n",
       "      <td>27</td>\n",
       "      <td>31</td>\n",
       "      <td>0</td>\n",
       "      <td>26</td>\n",
       "      <td>41</td>\n",
       "      <td>32</td>\n",
       "      <td>29</td>\n",
       "    </tr>\n",
       "    <tr>\n",
       "      <th>3</th>\n",
       "      <td>8</td>\n",
       "      <td>18</td>\n",
       "      <td>26</td>\n",
       "      <td>0</td>\n",
       "      <td>31</td>\n",
       "      <td>17</td>\n",
       "      <td>14</td>\n",
       "    </tr>\n",
       "    <tr>\n",
       "      <th>4</th>\n",
       "      <td>33</td>\n",
       "      <td>36</td>\n",
       "      <td>41</td>\n",
       "      <td>31</td>\n",
       "      <td>0</td>\n",
       "      <td>35</td>\n",
       "      <td>28</td>\n",
       "    </tr>\n",
       "    <tr>\n",
       "      <th>5</th>\n",
       "      <td>18</td>\n",
       "      <td>1</td>\n",
       "      <td>32</td>\n",
       "      <td>17</td>\n",
       "      <td>35</td>\n",
       "      <td>0</td>\n",
       "      <td>12</td>\n",
       "    </tr>\n",
       "    <tr>\n",
       "      <th>6</th>\n",
       "      <td>13</td>\n",
       "      <td>13</td>\n",
       "      <td>29</td>\n",
       "      <td>14</td>\n",
       "      <td>28</td>\n",
       "      <td>12</td>\n",
       "      <td>0</td>\n",
       "    </tr>\n",
       "  </tbody>\n",
       "</table>\n",
       "</div>"
      ],
      "text/plain": [
       "    0   1   2   3   4   5   6\n",
       "0   0  19  27   8  33  18  13\n",
       "1  19   0  31  18  36   1  13\n",
       "2  27  31   0  26  41  32  29\n",
       "3   8  18  26   0  31  17  14\n",
       "4  33  36  41  31   0  35  28\n",
       "5  18   1  32  17  35   0  12\n",
       "6  13  13  29  14  28  12   0"
      ]
     },
     "execution_count": 12,
     "metadata": {},
     "output_type": "execute_result"
    }
   ],
   "source": [
    "UPGMAD"
   ]
  },
  {
   "cell_type": "code",
   "execution_count": 13,
   "id": "be05fd1d",
   "metadata": {},
   "outputs": [],
   "source": [
    "def UPGMA(M):\n",
    "    \n",
    "    UPGMAD2 = convert(M3)\n",
    "    UPGMAD3 = UPGMAD2.copy()\n",
    "    \n",
    "    L = []\n",
    "    \n",
    "    for i in range(len(UPGMAD2)):\n",
    "        idx = np.unravel_index(np.nanargmin(UPGMAD3.values), UPGMAD3.shape)\n",
    "        \n",
    "        idxmi = min(idx)\n",
    "        idxma = max(idx)\n",
    "        \n",
    "        L.append(UPGMAD3.at[idx]/2)\n",
    "        \n",
    "        UPGMAD3.at[idxmi,0] = (UPGMAD2.at[idxmi,0] + UPGMAD2.at[idxma,0])/2 \n",
    "        for j in range(len(UPGMAD3)):\n",
    "            if(j<idxma):\n",
    "                UPGMAD3.at[j,idxmi] =  (UPGMAD2.at[j,idxmi] + UPGMAD2.at[idxma,j])/2 \n",
    "            if(j>idxma):\n",
    "                UPGMAD3.at[j,idxmi] =  (UPGMAD2.at[j,idxmi] + UPGMAD2.at[j,idxma])/2\n",
    "\n",
    "        \n",
    "        UPGMAD3 = UPGMAD3.rename(index = {idxmi: str(idxmi)+\"-\"+str(idxma)}, columns = {idxmi: str(idxmi)+\"-\"+str(idxma)})\n",
    "        UPGMAD3 = UPGMAD3.drop(index = idxma, columns = idxma)\n",
    "\n",
    "    return L"
   ]
  },
  {
   "cell_type": "code",
   "execution_count": 14,
   "id": "cd621320",
   "metadata": {},
   "outputs": [
    {
     "data": {
      "text/plain": [
       "'(5, 1)'"
      ]
     },
     "execution_count": 14,
     "metadata": {},
     "output_type": "execute_result"
    }
   ],
   "source": [
    "#S = UPGMA(M3)\n",
    "#S\n",
    "\n",
    "UPGMAD.shape == (7,7)\n",
    "\n",
    "UPGMAD.idxmin()\n",
    "\n",
    "a = convert(UPGMAD)\n",
    "\n",
    "b = a.stack().idxmin()\n",
    "\n",
    "a.drop(b[1], axis=1, inplace=True)\n",
    "a.drop(b[0], axis=0, inplace=True)\n",
    "\n",
    "new_row = np.zeros(len(a))\n",
    "new_row[:] = np.nan \n",
    "\n",
    "a.loc[str(b)] = new_row\n",
    "\n",
    "\n",
    "\n",
    "#a = pd.concat([a, pd.DataFrame(new_row)], axis=1, ignore_index=True)\n",
    "\n",
    "\n",
    "\n",
    "a.insert(loc=0,   column= str(b),   value = np.NaN )\n",
    "\n",
    "\n",
    "#a.append(pd.Series(), ignore_index=True)\n",
    "\n",
    "\n",
    "\n",
    "\n",
    "a.rename({str(len(a)-1): str(b)}, axis='index')\n",
    "\n",
    "a.columns[0]\n"
   ]
  },
  {
   "cell_type": "code",
   "execution_count": 15,
   "id": "8e9d1e1c",
   "metadata": {},
   "outputs": [
    {
     "ename": "SyntaxError",
     "evalue": "invalid syntax (295974441.py, line 20)",
     "output_type": "error",
     "traceback": [
      "\u001b[0;36m  Input \u001b[0;32mIn [15]\u001b[0;36m\u001b[0m\n\u001b[0;31m    new_matrix_UPGMA.at[str(d_min),i] = new_matrix_UPGMA.at[i,str(d_min)] =\u001b[0m\n\u001b[0m                                                                            ^\u001b[0m\n\u001b[0;31mSyntaxError\u001b[0m\u001b[0;31m:\u001b[0m invalid syntax\n"
     ]
    }
   ],
   "source": [
    "def UPGMA(M):\n",
    "    \n",
    "    matrix_UPGMA = M.copy()\n",
    "    nwk = \"\"\n",
    "    \n",
    "    while(matrix_UPGMA.shape != (1,1)):       \n",
    "        d_min = matrix_UPGMA.stack().idxmin()\n",
    "        \n",
    "        new_row = np.zeros(len(a))\n",
    "        new_row[:] = np.nan \n",
    "        \n",
    "        new_matrix_UPGMA = matrix_UPGMA.copy()\n",
    "\n",
    "        new_matrix_UPGMA.loc[str(d_min)] = new_row\n",
    "        new_matrix_UPGMA.insert(loc=0, column= str(d_min), value = np.NaN)\n",
    "        new_matrix_UPGMA.drop(d_min[0], axis=0, inplace=True)\n",
    "        new_matrix_UPGMA.drop(d_min[1], axis=1, inplace=True)\n",
    "        \n",
    "        for i in new_matrix_UPGMA.columns:\n",
    "            new_matrix_UPGMA.at[str(d_min),i] = new_matrix_UPGMA.at[i,str(d_min)] = \n",
    "    "
   ]
  },
  {
   "cell_type": "code",
   "execution_count": 16,
   "id": "5fdec33e",
   "metadata": {},
   "outputs": [],
   "source": [
    "#UPGMAD2 : copie float\n",
    "#UPGMAD3 : modifiable\n",
    "\n",
    "UPGMAD2 = convert(M3)\n",
    "UPGMAD2\n",
    "UPGMAD3 = UPGMAD2.copy()\n",
    "UPGMAD3\n",
    "\n",
    "#liste avec longueur branches : \n",
    "dico = {}"
   ]
  },
  {
   "cell_type": "code",
   "execution_count": 17,
   "id": "0c08c90b",
   "metadata": {},
   "outputs": [
    {
     "name": "stdout",
     "output_type": "stream",
     "text": [
      "(5, 1)\n",
      "{(5, 1): 0.5}\n"
     ]
    },
    {
     "data": {
      "text/html": [
       "<div>\n",
       "<style scoped>\n",
       "    .dataframe tbody tr th:only-of-type {\n",
       "        vertical-align: middle;\n",
       "    }\n",
       "\n",
       "    .dataframe tbody tr th {\n",
       "        vertical-align: top;\n",
       "    }\n",
       "\n",
       "    .dataframe thead th {\n",
       "        text-align: right;\n",
       "    }\n",
       "</style>\n",
       "<table border=\"1\" class=\"dataframe\">\n",
       "  <thead>\n",
       "    <tr style=\"text-align: right;\">\n",
       "      <th></th>\n",
       "      <th>0</th>\n",
       "      <th>1-5</th>\n",
       "      <th>2</th>\n",
       "      <th>3</th>\n",
       "      <th>4</th>\n",
       "      <th>6</th>\n",
       "    </tr>\n",
       "  </thead>\n",
       "  <tbody>\n",
       "    <tr>\n",
       "      <th>0</th>\n",
       "      <td>NaN</td>\n",
       "      <td>NaN</td>\n",
       "      <td>NaN</td>\n",
       "      <td>NaN</td>\n",
       "      <td>NaN</td>\n",
       "      <td>NaN</td>\n",
       "    </tr>\n",
       "    <tr>\n",
       "      <th>1-5</th>\n",
       "      <td>18.5</td>\n",
       "      <td>NaN</td>\n",
       "      <td>NaN</td>\n",
       "      <td>NaN</td>\n",
       "      <td>NaN</td>\n",
       "      <td>NaN</td>\n",
       "    </tr>\n",
       "    <tr>\n",
       "      <th>2</th>\n",
       "      <td>27.0</td>\n",
       "      <td>31.5</td>\n",
       "      <td>NaN</td>\n",
       "      <td>NaN</td>\n",
       "      <td>NaN</td>\n",
       "      <td>NaN</td>\n",
       "    </tr>\n",
       "    <tr>\n",
       "      <th>3</th>\n",
       "      <td>8.0</td>\n",
       "      <td>17.5</td>\n",
       "      <td>26.0</td>\n",
       "      <td>NaN</td>\n",
       "      <td>NaN</td>\n",
       "      <td>NaN</td>\n",
       "    </tr>\n",
       "    <tr>\n",
       "      <th>4</th>\n",
       "      <td>33.0</td>\n",
       "      <td>35.5</td>\n",
       "      <td>41.0</td>\n",
       "      <td>31.0</td>\n",
       "      <td>NaN</td>\n",
       "      <td>NaN</td>\n",
       "    </tr>\n",
       "    <tr>\n",
       "      <th>6</th>\n",
       "      <td>13.0</td>\n",
       "      <td>12.5</td>\n",
       "      <td>29.0</td>\n",
       "      <td>14.0</td>\n",
       "      <td>28.0</td>\n",
       "      <td>NaN</td>\n",
       "    </tr>\n",
       "  </tbody>\n",
       "</table>\n",
       "</div>"
      ],
      "text/plain": [
       "        0   1-5     2     3     4   6\n",
       "0     NaN   NaN   NaN   NaN   NaN NaN\n",
       "1-5  18.5   NaN   NaN   NaN   NaN NaN\n",
       "2    27.0  31.5   NaN   NaN   NaN NaN\n",
       "3     8.0  17.5  26.0   NaN   NaN NaN\n",
       "4    33.0  35.5  41.0  31.0   NaN NaN\n",
       "6    13.0  12.5  29.0  14.0  28.0 NaN"
      ]
     },
     "execution_count": 17,
     "metadata": {},
     "output_type": "execute_result"
    }
   ],
   "source": [
    "#Index minimal trouvé\n",
    "idx = np.unravel_index(np.nanargmin(UPGMAD3.values), UPGMAD3.shape)\n",
    "\n",
    "print(idx)\n",
    "idxmi = min(idx)\n",
    "idxma = max(idx)\n",
    "\n",
    "dico[idx] = UPGMAD3.at[idx]/2\n",
    "\n",
    "\n",
    "\n",
    "UPGMAD3.at[idxmi,0] = (UPGMAD2.at[idxmi,0] + UPGMAD2.at[idxma,0])/2 \n",
    "for i in range(len(UPGMAD3)):\n",
    "    if(i<idxma and i>idxmi-1):\n",
    "        UPGMAD3.at[i,idxmi] =  (UPGMAD2.at[i,idxmi] + UPGMAD2.at[idxma,i])/2 \n",
    "    if(i>idxma):\n",
    "        UPGMAD3.at[i,idxmi] =  (UPGMAD2.at[i,idxmi] + UPGMAD2.at[i,idxma])/2\n",
    "\n",
    "UPGMAD3 = UPGMAD3.drop(index = idxma, columns = idxma)\n",
    "UPGMAD3 = UPGMAD3.rename(index = {idxmi: str(idxmi)+\"-\"+str(idxma)}, columns = {idxmi: str(idxmi)+\"-\"+str(idxma)})\n",
    "\n",
    "\n",
    "\n",
    "print(dico)\n",
    "\n",
    "UPGMAD3\n",
    "\n"
   ]
  },
  {
   "cell_type": "markdown",
   "id": "ec73c95f",
   "metadata": {},
   "source": [
    "http://www.slimsuite.unsw.edu.au/teaching/upgma/"
   ]
  },
  {
   "cell_type": "code",
   "execution_count": 83,
   "id": "493b7a28",
   "metadata": {},
   "outputs": [
    {
     "data": {
      "text/plain": [
       "3"
      ]
     },
     "execution_count": 83,
     "metadata": {},
     "output_type": "execute_result"
    }
   ],
   "source": [
    "a = 3\n",
    "b = str(a)\n",
    "b = 0\n",
    "a"
   ]
  },
  {
   "cell_type": "code",
   "execution_count": null,
   "id": "664c0693",
   "metadata": {},
   "outputs": [],
   "source": []
  },
  {
   "cell_type": "code",
   "execution_count": null,
   "id": "1b242fa8",
   "metadata": {},
   "outputs": [],
   "source": []
  }
 ],
 "metadata": {
  "kernelspec": {
   "display_name": "Python 3 (ipykernel)",
   "language": "python",
   "name": "python3"
  },
  "language_info": {
   "codemirror_mode": {
    "name": "ipython",
    "version": 3
   },
   "file_extension": ".py",
   "mimetype": "text/x-python",
   "name": "python",
   "nbconvert_exporter": "python",
   "pygments_lexer": "ipython3",
   "version": "3.10.6"
  }
 },
 "nbformat": 4,
 "nbformat_minor": 5
}

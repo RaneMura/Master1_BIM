{
 "cells": [
  {
   "cell_type": "markdown",
   "id": "c838a0d7",
   "metadata": {},
   "source": [
    "# TME 1"
   ]
  },
  {
   "cell_type": "code",
   "execution_count": 2,
   "id": "ec6ddec3",
   "metadata": {},
   "outputs": [],
   "source": [
    "import numpy as np\n",
    "#import pandas as pd\n",
    "#dataset=pd.read_csv(\"BLOSUM62.txt\")"
   ]
  },
  {
   "cell_type": "markdown",
   "id": "739df03d",
   "metadata": {},
   "source": [
    "## Part 1 :  Needleman & Wunsch"
   ]
  },
  {
   "cell_type": "raw",
   "id": "0ddde744",
   "metadata": {},
   "source": [
    "#  Matrix made by matblas from blosum62.iij\n",
    "#  * column uses minimum score\n",
    "#  BLOSUM Clustered Scoring Matrix in 1/2 Bit Units\n",
    "#  Blocks Database = /data/blocks_5.0/blocks.dat\n",
    "#  Cluster Percentage: >= 62\n",
    "#  Entropy =   0.6979, Expected =  -0.5209\n",
    "\n",
    "   A  R  N  D  C  Q  E  G  H  I  L  K  M  F  P  S  T  W  Y  V  B  Z  X  *\n",
    "A  4 -1 -2 -2  0 -1 -1  0 -2 -1 -1 -1 -1 -2 -1  1  0 -3 -2  0 -2 -1  0 -4 \n",
    "R -1  5  0 -2 -3  1  0 -2  0 -3 -2  2 -1 -3 -2 -1 -1 -3 -2 -3 -1  0 -1 -4 \n",
    "N -2  0  6  1 -3  0  0  0  1 -3 -3  0 -2 -3 -2  1  0 -4 -2 -3  3  0 -1 -4 \n",
    "D -2 -2  1  6 -3  0  2 -1 -1 -3 -4 -1 -3 -3 -1  0 -1 -4 -3 -3  4  1 -1 -4 \n",
    "C  0 -3 -3 -3  9 -3 -4 -3 -3 -1 -1 -3 -1 -2 -3 -1 -1 -2 -2 -1 -3 -3 -2 -4 \n",
    "Q -1  1  0  0 -3  5  2 -2  0 -3 -2  1  0 -3 -1  0 -1 -2 -1 -2  0  3 -1 -4 \n",
    "E -1  0  0  2 -4  2  5 -2  0 -3 -3  1 -2 -3 -1  0 -1 -3 -2 -2  1  4 -1 -4 \n",
    "G  0 -2  0 -1 -3 -2 -2  6 -2 -4 -4 -2 -3 -3 -2  0 -2 -2 -3 -3 -1 -2 -1 -4 \n",
    "H -2  0  1 -1 -3  0  0 -2  8 -3 -3 -1 -2 -1 -2 -1 -2 -2  2 -3  0  0 -1 -4 \n",
    "I -1 -3 -3 -3 -1 -3 -3 -4 -3  4  2 -3  1  0 -3 -2 -1 -3 -1  3 -3 -3 -1 -4 \n",
    "L -1 -2 -3 -4 -1 -2 -3 -4 -3  2  4 -2  2  0 -3 -2 -1 -2 -1  1 -4 -3 -1 -4 \n",
    "K -1  2  0 -1 -3  1  1 -2 -1 -3 -2  5 -1 -3 -1  0 -1 -3 -2 -2  0  1 -1 -4 \n",
    "M -1 -1 -2 -3 -1  0 -2 -3 -2  1  2 -1  5  0 -2 -1 -1 -1 -1  1 -3 -1 -1 -4 \n",
    "F -2 -3 -3 -3 -2 -3 -3 -3 -1  0  0 -3  0  6 -4 -2 -2  1  3 -1 -3 -3 -1 -4 \n",
    "P -1 -2 -2 -1 -3 -1 -1 -2 -2 -3 -3 -1 -2 -4  7 -1 -1 -4 -3 -2 -2 -1 -2 -4 \n",
    "S  1 -1  1  0 -1  0  0  0 -1 -2 -2  0 -1 -2 -1  4  1 -3 -2 -2  0  0  0 -4 \n",
    "T  0 -1  0 -1 -1 -1 -1 -2 -2 -1 -1 -1 -1 -2 -1  1  5 -2 -2  0 -1 -1  0 -4 \n",
    "W -3 -3 -4 -4 -2 -2 -3 -2 -2 -3 -2 -3 -1  1 -4 -3 -2 11  2 -3 -4 -3 -2 -4 \n",
    "Y -2 -2 -2 -3 -2 -1 -2 -3  2 -1 -1 -2 -1  3 -3 -2 -2  2  7 -1 -3 -2 -1 -4 \n",
    "V  0 -3 -3 -3 -1 -2 -2 -3 -3  3  1 -2  1 -1 -2 -2  0 -3 -1  4 -3 -2 -1 -4 \n",
    "B -2 -1  3  4 -3  0  1 -1  0 -3 -4  0 -3 -3 -2  0 -1 -4 -3 -3  4  1 -1 -4 \n",
    "Z -1  0  0  1 -3  3  4 -2  0 -3 -3  1 -1 -3 -1  0 -1 -3 -2 -2  1  4 -1 -4 \n",
    "X  0 -1 -1 -1 -2 -1 -1 -1 -1 -1 -1 -1 -1 -1 -2  0  0 -2 -1 -1 -1 -1 -1 -4 \n",
    "* -4 -4 -4 -4 -4 -4 -4 -4 -4 -4 -4 -4 -4 -4 -4 -4 -4 -4 -4 -4 -4 -4 -4  1 "
   ]
  },
  {
   "cell_type": "code",
   "execution_count": 3,
   "id": "2cc527b7",
   "metadata": {},
   "outputs": [],
   "source": [
    "# Initialisation de l'alphabet\n",
    "alphabet = ['A','T','G','C']\n",
    "\n",
    "#Initialisation des valeurs de match, mismatch et gap\n",
    "match = 1\n",
    "mismatch = -2\n",
    "gap = -1\n",
    "\n",
    "#s1 et s2 sont les deux séquences utilisés pour notre test\n",
    "s1 = \"CATGAC\"\n",
    "s2 = \"TCTGAAC\"\n"
   ]
  },
  {
   "cell_type": "code",
   "execution_count": 5,
   "id": "86b31fed",
   "metadata": {},
   "outputs": [],
   "source": [
    "def mat_dist(alphabet,match,mismatch):\n",
    "    \n",
    "    #Calcul de la longueur de l'alphabet\n",
    "    l_al = len(alphabet)\n",
    "    \n",
    "    #Création de la matrice de distance\n",
    "    mat = np.zeros((l_al,l_al))\n",
    "    \n",
    "    #Parcours sur deux dimensions\n",
    "    for i in range(l_al):\n",
    "        for j in range(l_al):\n",
    "            #Attribution des valeurs de match et mismatch\n",
    "            if(i==j):\n",
    "                mat[i][j] = match\n",
    "            else:\n",
    "                mat[i][j]= mismatch\n",
    "    return mat"
   ]
  },
  {
   "cell_type": "code",
   "execution_count": 6,
   "id": "ec31050f",
   "metadata": {},
   "outputs": [
    {
     "name": "stdout",
     "output_type": "stream",
     "text": [
      "[[ 1. -2. -2. -2.]\n",
      " [-2.  1. -2. -2.]\n",
      " [-2. -2.  1. -2.]\n",
      " [-2. -2. -2.  1.]]\n"
     ]
    }
   ],
   "source": [
    "#Calcul de matrice de distance pour atgc\n",
    "mat = mat_dist(alphabet,match,mismatch)\n",
    "print(mat)"
   ]
  },
  {
   "cell_type": "code",
   "execution_count": 7,
   "id": "d654bb4a",
   "metadata": {},
   "outputs": [
    {
     "name": "stdout",
     "output_type": "stream",
     "text": [
      "[[ 0. -1. -2. -3. -4. -5. -6. -7.]\n",
      " [-1. -2.  0. -1. -2. -3. -4. -5.]\n",
      " [-2. -3. -1. -2. -3. -1. -2. -3.]\n",
      " [-3. -1. -2.  0. -1. -2. -3. -4.]\n",
      " [-4. -2. -3. -1.  1.  0. -1. -2.]\n",
      " [-5. -3. -4. -2.  0.  2.  1.  0.]\n",
      " [-6. -4. -2. -3. -1.  1.  0.  2.]]\n"
     ]
    }
   ],
   "source": [
    "\n",
    "# Calcul de matrice de score sans le traceback\n",
    "def matscorewotb(s1,s2):\n",
    "    \n",
    "    #Initialisation de la matrice de score\n",
    "    ms = np.zeros((len(s1)+1,len(s2)+1))\n",
    "    \n",
    "    #Récupération des longueurs pour l'itération\n",
    "    x,y = ms.shape\n",
    "    for i in range(1,y):\n",
    "        ms[0][i] =i*gap\n",
    "    for j in range(1,x):\n",
    "        ms[j][0] =j*gap\n",
    "    \n",
    "    for i in range(1,x):\n",
    "        for j in range(1,y):\n",
    "            sig = 0\n",
    "            if s1[i-1]==s2[j-1]:\n",
    "                sig = match\n",
    "            else :\n",
    "                sig = mismatch\n",
    "            \n",
    "            v_diag = ms[i-1,j-1]+sig\n",
    "            v_up = ms[i-1,j]+gap\n",
    "            v_left = ms[i,j-1]+gap\n",
    "            \n",
    "            ms[i,j] = max([v_diag,v_up,v_left])\n",
    "    return ms\n",
    "\n",
    "print(matscorewotb(s1,s2))\n"
   ]
  },
  {
   "cell_type": "code",
   "execution_count": 61,
   "id": "3bc6e00a",
   "metadata": {},
   "outputs": [
    {
     "ename": "ValueError",
     "evalue": "cannot reshape array of size 0 into shape (8,7)",
     "output_type": "error",
     "traceback": [
      "\u001b[0;31m---------------------------------------------------------------------------\u001b[0m",
      "\u001b[0;31mValueError\u001b[0m                                Traceback (most recent call last)",
      "Input \u001b[0;32mIn [61]\u001b[0m, in \u001b[0;36m<cell line: 73>\u001b[0;34m()\u001b[0m\n\u001b[1;32m     69\u001b[0m                     tbval \u001b[38;5;241m+\u001b[39m\u001b[38;5;241m=\u001b[39mmismatch\n\u001b[1;32m     70\u001b[0m     \u001b[38;5;28;01mreturn\u001b[39;00m sc1,sc2,tbval\n\u001b[0;32m---> 73\u001b[0m sc1,sc2,tbval \u001b[38;5;241m=\u001b[39m \u001b[43mnw\u001b[49m\u001b[43m(\u001b[49m\u001b[43ms1\u001b[49m\u001b[43m,\u001b[49m\u001b[43ms2\u001b[49m\u001b[43m)\u001b[49m\n\u001b[1;32m     74\u001b[0m \u001b[38;5;28mprint\u001b[39m(sc1)\n\u001b[1;32m     75\u001b[0m \u001b[38;5;28mprint\u001b[39m(sc2)\n",
      "Input \u001b[0;32mIn [61]\u001b[0m, in \u001b[0;36mnw\u001b[0;34m(s1, s2)\u001b[0m\n\u001b[1;32m     11\u001b[0m         Dir\u001b[38;5;241m.\u001b[39mappend([])\n\u001b[1;32m     12\u001b[0m Dir\u001b[38;5;241m=\u001b[39mnp\u001b[38;5;241m.\u001b[39marray(Dir)\n\u001b[0;32m---> 13\u001b[0m \u001b[43mDir\u001b[49m\u001b[38;5;241;43m.\u001b[39;49m\u001b[43mreshape\u001b[49m\u001b[43m(\u001b[49m\u001b[38;5;241;43m8\u001b[39;49m\u001b[43m,\u001b[49m\u001b[38;5;241;43m7\u001b[39;49m\u001b[43m)\u001b[49m\n\u001b[1;32m     14\u001b[0m \u001b[38;5;28mprint\u001b[39m(ms\u001b[38;5;241m.\u001b[39mshape,Dir\u001b[38;5;241m.\u001b[39mshape)\n\u001b[1;32m     15\u001b[0m \u001b[38;5;28;01mfor\u001b[39;00m i \u001b[38;5;129;01min\u001b[39;00m \u001b[38;5;28mrange\u001b[39m(\u001b[38;5;241m1\u001b[39m,x):\n",
      "\u001b[0;31mValueError\u001b[0m: cannot reshape array of size 0 into shape (8,7)"
     ]
    }
   ],
   "source": [
    "# Calcul de matrice de score avec le traceback\n",
    "def nw(s1,s2):\n",
    "    \n",
    "    #Initialisation de la matrice de score\n",
    "    ms = np.zeros((len(s2)+1,len(s1)+1))\n",
    "    Dir=[]\n",
    "    #Récupération des longueurs pour l'itération\n",
    "    x,y = ms.shape\n",
    "    for i in range(len(ms)):\n",
    "        for j in range(len(ms[i])):\n",
    "            Dir.append([])\n",
    "    Dir=np.array(Dir)\n",
    "    Dir.reshape(8,7)\n",
    "    print(ms.shape,Dir.shape)\n",
    "    for i in range(1,x):\n",
    "        ms[i][0] =-i\n",
    "        Dir[i][0]=[1]\n",
    "    for j in range(1,y):\n",
    "        ms[0][j] =-j\n",
    "        Dir[0][j]=[2]\n",
    "    for i in range(1,x):\n",
    "        for j in range(1,y):\n",
    "            sig = 0\n",
    "            if s2[i-1]==s1[j-1]:\n",
    "                sig = match\n",
    "            else :\n",
    "                sig = mismatch\n",
    "            #Traceback\n",
    "            S=np.array([ms[i-1,j-1]+sig, ms[i-1,j]+gap, ms[i,j-1]+gap])\n",
    "            ms[i,j]=max(S)\n",
    "            index=list(np.where(S==max(S))[0])\n",
    "            Dir[i][j]=index\n",
    "    print(Dir)\n",
    "    #En diagonale on remonte de la longueur de la séquence en ligne\n",
    "    #En haut on remonte de diag -1\n",
    "    #A gauche c'est évident\n",
    "    sc1 = \"\"\n",
    "    sc2 = \"\" \n",
    "    tbval = 0\n",
    "    cell=len(Dir)-1\n",
    "    nb1=len(s1)-1\n",
    "    nb2=len(s2)-1\n",
    "    while Dir[cell]!=[]:\n",
    "        if 0 in Dir[cell]:\n",
    "            sc1+=s1[nb1]\n",
    "            sc2+=s2[nb2]\n",
    "            nb1-=1\n",
    "            nb2-=1\n",
    "            cell-=(len(s2)+1)                           #on va vers cette cellule quand on a une diagonale (dans notre Traceback du moins)\n",
    "        elif 1 in Dir[cell]:\n",
    "            sc1+='_'\n",
    "            sc2+=s2[nb2]\n",
    "            nb2-=1\n",
    "            cell-=(len(s2))                               #on va vers cette cellule quand on monte\n",
    "        else:\n",
    "            sc1+=s1[nb1]\n",
    "            sc2+='_'\n",
    "            nb1-=1\n",
    "            cell-=1                                     #évident\n",
    "    #sc1=sc1[::-1]\n",
    "    #sc2=sc2[::-1]\n",
    "    for c1 in range(len(sc1)):\n",
    "            if sc1[c1] == sc2[c1]:\n",
    "                tbval += match\n",
    "            else :\n",
    "                if (sc1[c1]=='_' or sc2[c1] == '_'):\n",
    "                    tbval += gap\n",
    "                else:\n",
    "                    tbval +=mismatch\n",
    "    return sc1,sc2,tbval\n",
    "\n",
    "\n",
    "sc1,sc2,tbval = nw(s1,s2)\n",
    "print(sc1)\n",
    "print(sc2)\n",
    "print(tbval)"
   ]
  },
  {
   "cell_type": "code",
   "execution_count": 34,
   "id": "64fe9951",
   "metadata": {},
   "outputs": [
    {
     "name": "stdout",
     "output_type": "stream",
     "text": [
      "b\n",
      "z\n"
     ]
    }
   ],
   "source": [
    "s='abcdefghijklmnopqrstuvwxyz'\n",
    "print(s[-25])\n",
    "print(s[-1])"
   ]
  },
  {
   "cell_type": "code",
   "execution_count": null,
   "id": "1ecc244a",
   "metadata": {},
   "outputs": [],
   "source": [
    "   sc1 = \"\"\n",
    "    sc2 = \"\"\n",
    "    tb = []\n",
    "    \n",
    "    backx = x-1\n",
    "    backy = y-1\n",
    "\n",
    "    while not((backx==0 and backy==0)):\n",
    "        v_diag = ms[backx-1,backy-1]\n",
    "        v_left = ms[backx,backy-1]\n",
    "        v_up = ms[backx-1,backy]\n",
    "        \n",
    "\n",
    "        backway = \"\"\n",
    "        if v_diag > v_up:\n",
    "            if v_diag> v_left:\n",
    "                tb.append(\"d\")\n",
    "                sc1+=s1[backx-1]\n",
    "                sc2+=s2[backy-1]\n",
    "                backx-=1\n",
    "                backy-=1\n",
    "            else : \n",
    "                tb.append(\"l\")\n",
    "                sc1+='_'\n",
    "                sc2+=s2[backy-1]\n",
    "                backy-=1\n",
    "        else:\n",
    "            if v_up > v_left:\n",
    "                tb.append(\"u\")\n",
    "                sc1+=s1[backx-1]\n",
    "                sc2+='_'\n",
    "                backx-=1\n",
    "            else : \n",
    "                tb.append(\"l\")\n",
    "                sc1+='_'\n",
    "                sc2+=s2[backy-1]\n",
    "                backy-=1\n",
    "        \n",
    "    tbval = 0\n",
    "    sc1 = sc1[::-1]         #permet d'inverser la chaine de caractères\n",
    "    sc2 = sc2[::-1]\n",
    "    \n",
    "    for c1 in range(len(sc1)):\n",
    "            if sc1[c1] == sc2[c1]:\n",
    "                tbval += match\n",
    "            else :\n",
    "                if (sc1[c1]=='_' or sc2[c1] == '_'):\n",
    "                    tbval += gap\n",
    "                else:\n",
    "                    tbval +=mismatch"
   ]
  },
  {
   "cell_type": "markdown",
   "id": "dddbe5b6",
   "metadata": {},
   "source": [
    "## Part 2 : Petit exemple"
   ]
  },
  {
   "cell_type": "code",
   "execution_count": 32,
   "id": "da2070a8",
   "metadata": {},
   "outputs": [
    {
     "name": "stdout",
     "output_type": "stream",
     "text": [
      "[0 1]\n"
     ]
    }
   ],
   "source": [
    "test=np.array([1,1,0])\n",
    "L=np.where(test==1)[0]\n",
    "print(L)"
   ]
  }
 ],
 "metadata": {
  "kernelspec": {
   "display_name": "Python 3 (ipykernel)",
   "language": "python",
   "name": "python3"
  },
  "language_info": {
   "codemirror_mode": {
    "name": "ipython",
    "version": 3
   },
   "file_extension": ".py",
   "mimetype": "text/x-python",
   "name": "python",
   "nbconvert_exporter": "python",
   "pygments_lexer": "ipython3",
   "version": "3.10.6"
  },
  "vscode": {
   "interpreter": {
    "hash": "8e34c564ff11baf284cb400e7f3e3bd149ac1aa1e2a9dc39b311358bd09fe12d"
   }
  }
 },
 "nbformat": 4,
 "nbformat_minor": 5
}

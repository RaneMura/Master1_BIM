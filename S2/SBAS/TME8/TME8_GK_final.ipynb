{
 "cells": [
  {
   "cell_type": "markdown",
   "metadata": {
    "id": "ZdkvgILA4JHh"
   },
   "source": [
    "<h1><b>Statistique en Bioinformatique : </b> TME8 </h1><br>\n",
    "\n",
    "L’objectif de ce TME est: \n",
    "<br>\n",
    "<ul>\n",
    "<li> Evaluer la performance des HMMs sur les homologues lointains </li> \n",
    "</ul>\n",
    "<br>\n",
    "<div class=\"alert alert-warning\" role=\"alert\" style=\"margin: 10px\">\n",
    "<p><b>Soumission</b></p>\n",
    "<ul>\n",
    "<li>Renomer le fichier TME8.ipynb pour NomEtudiant1_NomEtudiant2.ipynb </li>\n",
    "<li>Soumettre via moodle </li>\n",
    "</div>\n",
    "</div>\n"
   ]
  },
  {
   "cell_type": "markdown",
   "metadata": {
    "id": "UmRBFyGR4JHm"
   },
   "source": [
    "<h2> Datasets </h2><br>\n",
    "To evaluate the performance of HMMer over remote homologous proteins, we will work with datasets scop-95 and scop-30 having at most 95 and 30% of sequence identity, respectivelly.  We will use a leave-one-out strategy as follows. Given a scop family $F$ in one of the scop datasets, we consider the set of $n$ sequences associated to $F$, to create $n$ test-sets for $F$. Each test-set takes $n−1$ sequences for training and leaves one sequence out for the test. Then, we test whether the sequence that was left out could be annotated by a HMMer profile constructed without using it, and count the correct identification of the domain as a true positive (TP), the identification of an erroneous domain as a false positive (FP) and the identification of no domain as a false negative (FN). For each scop dataset you can find the directory `aln` that contains the alignment for each testsets in STOCKHOLM format, extension .sto"
   ]
  },
  {
   "cell_type": "markdown",
   "metadata": {
    "id": "mlYqLoTH4JHn"
   },
   "source": [
    "For scop-95 dataset do:"
   ]
  },
  {
   "cell_type": "markdown",
   "metadata": {
    "id": "TcUwryMI4JHo"
   },
   "source": [
    "1\\. Create pHMMs from the alignments in `aln/*.sto`. Use the program `hmmbuild` from the HMMer-3 package. Save models  in a directory named models. You have two options (1) do your script in python or (2) in bash script and run it in the terminal.\n",
    "To  built models with python you can use `os.system` to execute hmmbuild program.\n",
    "Anyway, put your code bellow."
   ]
  },
  {
   "cell_type": "code",
   "execution_count": 1,
   "metadata": {
    "id": "eMfsKe2M4JHo"
   },
   "outputs": [],
   "source": [
    "import numpy as np\n",
    "import os\n",
    "from os import listdir,system,makedirs\n",
    "from os.path import isfile,join,exists\n",
    "from shutil import rmtree\n",
    "import matplotlib.pyplot as plt\n",
    "import pandas as pds"
   ]
  },
  {
   "cell_type": "code",
   "execution_count": 2,
   "metadata": {
    "id": "f0Hs8ilp4JHq"
   },
   "outputs": [
    {
     "data": {
      "text/plain": [
       "'\\n#!/bin/bash\\n\\nexport ALN_PATH_95=\"scop/scop95/aln\" \\nexport ALN_PATH_30=\"scop/scop30/aln\"\\n\\nmkdir hmmModels95\\nfor FILE in $ALN_PATH_95/*.sto; do\\n\\told=\".aln.sto\"\\n\\tnew=\".hmm\"\\n\\tNAME_HMM=${FILE/$old/$new}\\n\\techo \"Building ${NAME_HMM}\"\\n\\t\\n\\techo \"hmmbuild ${NAME_HMM} ${FILE}\"\\n\\thmmbuild ${NAME_HMM} ${FILE} > /dev/null\\n\\n\\ndone\\n\\nmv $ALN_PATH_95/*.hmm hmmModels95/\\n\\nmkdir hmmModels30\\nfor FILE in $ALN_PATH_30/*.sto; do\\n\\told=\".aln.sto\"\\n\\tnew=\".hmm\"\\n\\tNAME_HMM=${FILE/$old/$new}\\n\\techo \"Building ${NAME_HMM}\"\\n\\t\\n\\techo \"hmmbuild ${NAME_HMM} ${FILE}\"\\n\\thmmbuild ${NAME_HMM} ${FILE} > /dev/null\\n\\ndone\\n\\nmv $ALN_PATH_30/*.hmm hmmModels30/\\n\\necho \"Number of aln 95\"\\nls -c $ALN_PATH_95/ | wc -l\\n\\necho \"Number of models 95\"\\nls -c hmmModels95/ | wc -l\\n\\necho \"Number of aln 30\"\\nls -c $ALN_PATH_30/ | wc -l\\n\\necho \"Number of models 30\"\\nls -c hmmModels30/ | wc -l\\n'"
      ]
     },
     "execution_count": 2,
     "metadata": {},
     "output_type": "execute_result"
    }
   ],
   "source": [
    "#see run.sh\n",
    "#my run.sh to do for scop_95 and scop_30\n",
    "\n",
    "\"\"\"\n",
    "#!/bin/bash\n",
    "\n",
    "export ALN_PATH_95=\"scop/scop95/aln\" \n",
    "export ALN_PATH_30=\"scop/scop30/aln\"\n",
    "\n",
    "mkdir hmmModels95\n",
    "for FILE in $ALN_PATH_95/*.sto; do\n",
    "\told=\".aln.sto\"\n",
    "\tnew=\".hmm\"\n",
    "\tNAME_HMM=${FILE/$old/$new}\n",
    "\techo \"Building ${NAME_HMM}\"\n",
    "\t\n",
    "\techo \"hmmbuild ${NAME_HMM} ${FILE}\"\n",
    "\thmmbuild ${NAME_HMM} ${FILE} > /dev/null\n",
    "\n",
    "\n",
    "done\n",
    "\n",
    "mv $ALN_PATH_95/*.hmm hmmModels95/\n",
    "\n",
    "mkdir hmmModels30\n",
    "for FILE in $ALN_PATH_30/*.sto; do\n",
    "\told=\".aln.sto\"\n",
    "\tnew=\".hmm\"\n",
    "\tNAME_HMM=${FILE/$old/$new}\n",
    "\techo \"Building ${NAME_HMM}\"\n",
    "\t\n",
    "\techo \"hmmbuild ${NAME_HMM} ${FILE}\"\n",
    "\thmmbuild ${NAME_HMM} ${FILE} > /dev/null\n",
    "\n",
    "done\n",
    "\n",
    "mv $ALN_PATH_30/*.hmm hmmModels30/\n",
    "\n",
    "echo \"Number of aln 95\"\n",
    "ls -c $ALN_PATH_95/ | wc -l\n",
    "\n",
    "echo \"Number of models 95\"\n",
    "ls -c hmmModels95/ | wc -l\n",
    "\n",
    "echo \"Number of aln 30\"\n",
    "ls -c $ALN_PATH_30/ | wc -l\n",
    "\n",
    "echo \"Number of models 30\"\n",
    "ls -c hmmModels30/ | wc -l\n",
    "\"\"\""
   ]
  },
  {
   "cell_type": "markdown",
   "metadata": {
    "id": "CsmzFMty4JHr"
   },
   "source": [
    "2\\. Search all sequences in the file `scopTestSeq.fasta` against all models created previously. Use `hmmsearch` and the option `--domtblout` to save parseable table of per-domain hits to file, use option `-E 1`. Save the outputs in a directory named `searchResults/`. You have two options (1) do your script in python or (2) in bash script and run it in the terminal.\n",
    "To  built models with python you can use `os.system` to execute hmmsearch program.\n",
    "Anyway, put your code bellow."
   ]
  },
  {
   "cell_type": "code",
   "execution_count": 3,
   "metadata": {
    "id": "oHulHb154JHs"
   },
   "outputs": [
    {
     "data": {
      "text/plain": [
       "'\\n#!/bin/bash\\nmkdir searchResults95\\nmkdir searchResults30\\n\\nexport MODELS_PATH_95=\"hmmModels95\" \\nexport MODELS_PATH_30=\"hmmModels30\" \\n\\n#execute it in hmmModels directory\\nfor FILE in $MODELS_PATH_95/*.hmm\\ndo\\n        old=\".hmm\"\\n        new=\".out\"\\n        NAME_RES=${FILE//$old/$new}\\n        echo \"Searching ${NAME_RES}\"\\n        hmmsearch --domtblout ${NAME_RES} -E 1 ${FILE} scop/scopTestSeq.fasta > /dev/null\\n       \\ndone\\n\\nmv $MODELS_PATH_95/*.out searchResults95/\\n\\nfor FILE in $MODELS_PATH_30/*.hmm\\ndo\\n        old=\".hmm\"\\n        new=\".out\"\\n        NAME_RES=${FILE//$old/$new}\\n        echo \"Searching ${NAME_RES}\"\\n        hmmsearch --domtblout ${NAME_RES} -E 1 ${FILE} scop/scopTestSeq.fasta > /dev/null\\n       \\ndone\\n\\nmv $MODELS_PATH_30/*.out searchResults30/\\n\\necho \"Number of models 95\"\\nls -c $MODELS_PATH_95/ | wc -l\\n\\necho \"Number of results 95\"\\nls -c searchResults95/ | wc -l\\n\\necho \"Number of models 30\"\\nls -c $MODELS_PATH_30/ | wc -l\\n\\necho \"Number of results 30\"\\nls -c searchResults30/ | wc -l\\n'"
      ]
     },
     "execution_count": 3,
     "metadata": {},
     "output_type": "execute_result"
    }
   ],
   "source": [
    "#see search.sh\n",
    "#My search.sh\n",
    "\n",
    "\"\"\"\n",
    "#!/bin/bash\n",
    "mkdir searchResults95\n",
    "mkdir searchResults30\n",
    "\n",
    "export MODELS_PATH_95=\"hmmModels95\" \n",
    "export MODELS_PATH_30=\"hmmModels30\" \n",
    "\n",
    "#execute it in hmmModels directory\n",
    "for FILE in $MODELS_PATH_95/*.hmm\n",
    "do\n",
    "        old=\".hmm\"\n",
    "        new=\".out\"\n",
    "        NAME_RES=${FILE//$old/$new}\n",
    "        echo \"Searching ${NAME_RES}\"\n",
    "        hmmsearch --domtblout ${NAME_RES} -E 1 ${FILE} scop/scopTestSeq.fasta > /dev/null\n",
    "       \n",
    "done\n",
    "\n",
    "mv $MODELS_PATH_95/*.out searchResults95/\n",
    "\n",
    "for FILE in $MODELS_PATH_30/*.hmm\n",
    "do\n",
    "        old=\".hmm\"\n",
    "        new=\".out\"\n",
    "        NAME_RES=${FILE//$old/$new}\n",
    "        echo \"Searching ${NAME_RES}\"\n",
    "        hmmsearch --domtblout ${NAME_RES} -E 1 ${FILE} scop/scopTestSeq.fasta > /dev/null\n",
    "       \n",
    "done\n",
    "\n",
    "mv $MODELS_PATH_30/*.out searchResults30/\n",
    "\n",
    "echo \"Number of models 95\"\n",
    "ls -c $MODELS_PATH_95/ | wc -l\n",
    "\n",
    "echo \"Number of results 95\"\n",
    "ls -c searchResults95/ | wc -l\n",
    "\n",
    "echo \"Number of models 30\"\n",
    "ls -c $MODELS_PATH_30/ | wc -l\n",
    "\n",
    "echo \"Number of results 30\"\n",
    "ls -c searchResults30/ | wc -l\n",
    "\"\"\""
   ]
  },
  {
   "cell_type": "markdown",
   "metadata": {
    "id": "8mtG84Mw4JHu"
   },
   "source": [
    "3\\. Concat all search results, rank the sequences and remove all hits having same family and different proteinID. Consider just the best hit per sequence."
   ]
  },
  {
   "cell_type": "markdown",
   "metadata": {
    "id": "0FT9iFun4JHv"
   },
   "source": [
    "```bash\n",
    "# the following bash commands illustrate a way to concatenate and format the output of hmmsearch\n",
    "# hmmsearch results are assumed to be in the current directory and in files with extension .out\n",
    "cat *.out > allRes.txt\n",
    "sed '/^#/d' allRes.txt > allRes.txt.ftt\n",
    "cat allRes.txt.ftt | awk '{print $1\" \"$4\" \"$12}' > allRes.txt.ftt.2\n",
    "sed -i -e 's/\\.aln//g' allRes.txt.ftt.2\n",
    "mv allRes.txt.ftt.2 allRes.txt.ftt\n",
    "```"
   ]
  },
  {
   "cell_type": "code",
   "execution_count": 4,
   "metadata": {},
   "outputs": [
    {
     "data": {
      "text/plain": [
       "'\\n#!/bin/bash\\n\\ncat searchResults95/*.out > allRes_95.txt\\nsed \\'/^#/d\\' allRes_95.txt > allRes_95.txt.ftt\\ncat allRes_95.txt.ftt | awk \\'{print $1\" \"$4\" \"$12}\\' > allRes_95.txt.ftt.2\\nsed -i -e \\'s/\\\\.aln//g\\' allRes_95.txt.ftt.2\\nmv allRes_95.txt.ftt.2 allRes_95.txt.ftt\\n\\nrm allRes_95.txt\\n\\necho \"allRes_95.txt.ftt done\"\\n\\ncat searchResults30/*.out > allRes_30.txt\\nsed \\'/^#/d\\' allRes_30.txt > allRes_30.txt.ftt\\ncat allRes_30.txt.ftt | awk \\'{print $1\" \"$4\" \"$12}\\' > allRes_30.txt.ftt.2\\nsed -i -e \\'s/\\\\.aln//g\\' allRes_30.txt.ftt.2\\nmv allRes_30.txt.ftt.2 allRes_30.txt.ftt\\n\\nrm allRes_30.txt\\n\\necho \"allRes_30.txt.ftt done\"\\n\\n'"
      ]
     },
     "execution_count": 4,
     "metadata": {},
     "output_type": "execute_result"
    }
   ],
   "source": [
    "#My concat.sh\n",
    "\n",
    "\"\"\"\n",
    "#!/bin/bash\n",
    "\n",
    "cat searchResults95/*.out > allRes_95.txt\n",
    "sed '/^#/d' allRes_95.txt > allRes_95.txt.ftt\n",
    "cat allRes_95.txt.ftt | awk '{print $1\" \"$4\" \"$12}' > allRes_95.txt.ftt.2\n",
    "sed -i -e 's/\\.aln//g' allRes_95.txt.ftt.2\n",
    "mv allRes_95.txt.ftt.2 allRes_95.txt.ftt\n",
    "\n",
    "rm allRes_95.txt\n",
    "\n",
    "echo \"allRes_95.txt.ftt done\"\n",
    "\n",
    "cat searchResults30/*.out > allRes_30.txt\n",
    "sed '/^#/d' allRes_30.txt > allRes_30.txt.ftt\n",
    "cat allRes_30.txt.ftt | awk '{print $1\" \"$4\" \"$12}' > allRes_30.txt.ftt.2\n",
    "sed -i -e 's/\\.aln//g' allRes_30.txt.ftt.2\n",
    "mv allRes_30.txt.ftt.2 allRes_30.txt.ftt\n",
    "\n",
    "rm allRes_30.txt\n",
    "\n",
    "echo \"allRes_30.txt.ftt done\"\n",
    "\n",
    "\"\"\""
   ]
  },
  {
   "cell_type": "code",
   "execution_count": 5,
   "metadata": {
    "id": "0PI0-whR4JHv"
   },
   "outputs": [],
   "source": [
    "#Filter the best hit four each test sequence, you can produce a table with\n",
    "#sequenceID, correct family, predicted family\n",
    "\n",
    "def removeWrongLines(nom):\n",
    "\tinfile=open(nom, 'r')\n",
    "\toutfile=open(nom + \".tmp\", 'w')\n",
    "\tA=infile.readlines()\n",
    "\trep = \"\"\n",
    "\tcpt=0\n",
    "\tfor ligne in A :\n",
    "\t\tif ligne[0] != \"#\": \n",
    "\t\t\ttab=ligne.split()\n",
    "\t\t\tprot = tab[0]; protqid = prot[0:7]; protqfa = prot[7:]\n",
    "\t\t\tprot = tab[1]; protmid = prot[0:7]; protmfa = prot[7:]\n",
    "\t\t\tif (protqfa != protmfa) :\n",
    "\t\t\t\trep= rep + ligne\n",
    "\t\t\telif (protqid == protmid):\n",
    "\t\t\t\trep= rep + ligne\n",
    "\t\n",
    "\toutfile.write(rep)\n",
    "\toutfile.close()\n",
    "\tinfile.close()\n",
    " \n",
    "################################################\n",
    "def removeDupLines(nom):\n",
    "\tinfile=open(nom, 'r')\n",
    "\tA=infile.readlines()\n",
    "\trep = {}\n",
    "\tlrep = []\n",
    "\tcpt=0\n",
    "\tfor ligne in A :\n",
    "\t\ttab=ligne.split()\n",
    "\t\tprot = tab[0]; protqid = prot[0:7]; protqfa = prot[7:]\n",
    "\t\tprot = tab[1]; protmid = prot[0:7]; protmfa = prot[7:]\n",
    "\t\tevalue = float(tab[2])\n",
    "\t\tl=[]\n",
    "\t\tif protqid not in rep.keys():\n",
    "\t\t\tl.append(protqid); l.append(protqfa); l.append(protmid); l.append(protmfa); l.append(evalue);\n",
    "\t\telse:\n",
    "\t\t\tc = rep[protqid]\n",
    "\t\t\t#print c\n",
    "\t\t\tif (evalue < c[4]):\n",
    "\t\t\t\tl.append(protqid);l.append(protqfa); l.append(protmid); l.append(protmfa); l.append(evalue);\n",
    "\t\t\telse:\n",
    "\t\t\t\tl = c\n",
    "\t\trep[protqid] = l\n",
    "\t\n",
    "\tfor key in rep:\n",
    "\t\tlrep.append(rep[key])\n",
    "\treturn lrep\t\n",
    "\n",
    "file_95 = \"allRes_95.txt.ftt\"\n",
    "file_30 = \"allRes_30.txt.ftt\"\n",
    "\n",
    "removeWrongLines(file_95)\n",
    "removeWrongLines(file_30)\n",
    "\n",
    "rep_95 = removeDupLines(file_95 + \".tmp\")\n",
    "rep_30 = removeDupLines(file_30 + \".tmp\")\n",
    "\n",
    "\n"
   ]
  },
  {
   "cell_type": "markdown",
   "metadata": {
    "id": "yjkfA1di4JHw"
   },
   "source": [
    "4\\. Compute the performance. If a test sequence is better scored by the model associated to its family it is a true positive (TP). If it is scored by a different model it is a false positive (FP). If it is not scored by any model it is a false negative (FN). With this values compute $\\text{Precision}=\\frac{TP}{TP+FP}$, $\\text{Recall} = \\frac{TP}{TP+FN}$, and $\\text{F-score} = \\frac{ 2 \\cdot \\text{Precision} \\cdot \\text{Recall} }{ \\text{Precision} + \\text{Recall} }$."
   ]
  },
  {
   "cell_type": "code",
   "execution_count": 6,
   "metadata": {
    "scrolled": false
   },
   "outputs": [],
   "source": [
    "def Sort_Erase( input_file ):\n",
    "    ResTable = np.genfromtxt(input_file, delimiter=' ', dtype=str)\n",
    "\n",
    "    realite     = ResTable[:,0].reshape(len(ResTable), 1).astype(str)\n",
    "    predictions = ResTable[:,1].reshape(len(ResTable), 1).astype(str)\n",
    "    Seuils      = ResTable[:,2].reshape(len(ResTable), 1).astype(float)\n",
    "    Classes     = (realite == predictions).astype(int)\n",
    "    # + <--> 1\n",
    "    # - <--> 0\n",
    "\n",
    "    modified = np.hstack( (realite, Classes.reshape(len(Classes),1), Seuils.reshape(len(Classes),1)) )\n",
    "    \n",
    "    df = pds.DataFrame( modified, columns=['Realite', 'Classe', 'E-value'] )\n",
    "    # On doit spécifier les types de chaque colonne, car introduire une colonne de type str change aussi en str les colonnes int/float\n",
    "    df['Realite'] = df['Realite'].astype(str)\n",
    "    df['Classe']  = df['Classe' ].astype(int)\n",
    "    df['E-value'] = df['E-value'].astype(float)\n",
    "    \n",
    "    # On classe par E-value croissantes pour d'abord effacer les doublons, puis pour effectuer le test\n",
    "    df = df.sort_values(by=['E-value'])\n",
    "    \n",
    "    # On enlève les duplicats en gardant le premier qui correspond à la e-value la plus petite car ordonnées par valeurs croissantes\n",
    "    df = df.drop_duplicates(subset=['Realite'])\n",
    "\n",
    "    rep = np.array([ df['Classe'], df['E-value'] ])\n",
    "    \n",
    "    return rep\n",
    "\n",
    "rep_30 = Sort_Erase( 'allRes_30.txt.ftt.tmp' )\n",
    "rep_95 = Sort_Erase( 'allRes_95.txt.ftt.tmp' )\n"
   ]
  },
  {
   "cell_type": "code",
   "execution_count": 11,
   "metadata": {
    "id": "7TIB6Mps4JHw"
   },
   "outputs": [],
   "source": [
    "def ComputePerformance(resultsTable):\n",
    "    \"\"\"\n",
    "    compute performance measures\n",
    "\n",
    "    \"\"\"\n",
    "    \n",
    "    #Récupération des +\n",
    "    Classes_pos = resultsTable[0,:]\n",
    "\n",
    "    #Récupération des -\n",
    "    Classes_neg = np.where(Classes_pos==1, 0, 1)\n",
    "    Seuils  = resultsTable[1,:]\n",
    "    \n",
    "    #Calcul TP,FN,TN,FP\n",
    "    TP = np.cumsum(Classes_pos)\n",
    "    FN = TP[-1] - TP\n",
    "    \n",
    "    TN = np.cumsum(Classes_neg)\n",
    "    FP = TN[-1] - TN\n",
    "        \n",
    "    #Calcul précision et recall\n",
    "    precision = TP / (TP+FP)\n",
    "    recall    = TP / (TP+FN)\n",
    "    \n",
    "    #Calcul f-score\n",
    "    f_score = 2*precision*recall / (precision+recall)\n",
    "    \n",
    "    return TP, FP, FN, precision, recall, f_score\n",
    "\n",
    "\n",
    "TP_95, FP_95, FN_95, precision_95, recall_95, f_score_95 = ComputePerformance(rep_95)\n",
    "TP_30, FP_30, FN_30, precision_30, recall_30, f_score_30 = ComputePerformance(rep_30)"
   ]
  },
  {
   "cell_type": "code",
   "execution_count": 15,
   "metadata": {},
   "outputs": [
    {
     "name": "stdout",
     "output_type": "stream",
     "text": [
      "515\n"
     ]
    }
   ],
   "source": []
  },
  {
   "cell_type": "markdown",
   "metadata": {
    "id": "HJNKTq-04JHx"
   },
   "source": [
    "5\\. Roc curve https://en.wikipedia.org/wiki/Receiver_operating_characteristic. We can plot curves to observe the performance of a tool under different conditions. For that, we range the score (E-value) and we compute true positive rate (Y axis) and false positive rate (X-axis) measures for each value. Write a python script to construct the Roc curve based on the results obtained before.<br><br>\n",
    "\n",
    "<font color=\"blue\">\n",
    "Sensitivity = true positive rate, recall, or probability of detection = the proportion of positives that are correctly classified\n",
    "Specificity = true negative rate = the proportion of negatives that are correctly classified\n",
    "<br>\n",
    "<br>\n",
    "$\\text{True Positive Rate} = \\frac{TP}{TP+FN}$\n",
    "<br>\n",
    "<br>\n",
    "$\\text{False Positive Rate} = \\frac{FP}{FP+TN}$\n",
    "<font>"
   ]
  },
  {
   "cell_type": "code",
   "execution_count": 26,
   "metadata": {
    "id": "gQC4b1h-4JHx"
   },
   "outputs": [
    {
     "name": "stdout",
     "output_type": "stream",
     "text": [
      "(2, 434)\n",
      "(2, 515)\n"
     ]
    },
    {
     "data": {
      "text/plain": [
       "<matplotlib.legend.Legend at 0x7fbd6be73ac0>"
      ]
     },
     "execution_count": 26,
     "metadata": {},
     "output_type": "execute_result"
    },
    {
     "data": {
      "image/png": "[encoded data removed]",
      "text/plain": [
       "<Figure size 640x480 with 1 Axes>"
      ]
     },
     "metadata": {},
     "output_type": "display_data"
    }
   ],
   "source": [
    "def plotROC(rep, nom, total):\n",
    "    \n",
    "    #Récupération des +\n",
    "    Classes_pos = rep[0,:]\n",
    "    \n",
    "    #Récupération des -\n",
    "    Classes_neg = np.where(Classes_pos==1, 0, 1)\n",
    "\n",
    "    #Calcul TP,FN,FP,TN\n",
    "    TP  = np.cumsum(Classes_pos)\n",
    "    FN  = TP[-1] - TP\n",
    "    FP  = np.cumsum(Classes_neg)\n",
    "    TN  = FP[-1] - FP    \n",
    "    \n",
    "    #Calcul du size_ratio\n",
    "    size_ratio = rep.shape[1]/789\n",
    "\n",
    "    #Calcul TPR et FPR\n",
    "    TPR = TP /(TP+FN)\n",
    "    FPR = FP /(FP+TN)\n",
    "    \n",
    "    #Code plot\n",
    "    plt.plot( FPR/10, TPR*size_ratio, label=nom )\n",
    "    plt.xlabel('FPR')\n",
    "    plt.ylabel('TPR')\n",
    "    plt.ylim(0,1)\n",
    "    plt.xlim(0,0.1)\n",
    "    plt.title('Tracé Scop')\n",
    "    \n",
    "print(rep_30.shape)\n",
    "print(rep_95.shape)\n",
    "\n",
    "plotROC(rep_95, \"Scop-95\", 789)\n",
    "plotROC(rep_30, \"Scop-30\", 789)\n",
    "plt.legend()"
   ]
  },
  {
   "cell_type": "markdown",
   "metadata": {
    "id": "Jl5S7f5o4JHy"
   },
   "source": [
    "6\\. Write a python script to plot the Precision/recall curve. We can use the same strategy of Roc curve to compute the precision  (Y axis)  and recall  (X axis)  curves."
   ]
  },
  {
   "cell_type": "code",
   "execution_count": 27,
   "metadata": {
    "id": "9WdrokDt4JHy",
    "scrolled": true
   },
   "outputs": [
    {
     "data": {
      "text/plain": [
       "<matplotlib.legend.Legend at 0x7fbd6beb4cd0>"
      ]
     },
     "execution_count": 27,
     "metadata": {},
     "output_type": "execute_result"
    },
    {
     "data": {
      "image/png": "[encoded data removed]",
      "text/plain": [
       "<Figure size 640x480 with 1 Axes>"
      ]
     },
     "metadata": {},
     "output_type": "display_data"
    }
   ],
   "source": [
    "def plotPR(reps, nom, total):\n",
    "    \n",
    "    #Récupération des +\n",
    "    Classes_pos = reps[0,:]\n",
    "    \n",
    "    #Récupération des -\n",
    "    Classes_neg = np.where(Classes_pos==1, 0, 1)\n",
    "    Seuils      = reps[1,:]\n",
    "    \n",
    "    #Calcul TP,FN,FP,TN\n",
    "    TP  = np.cumsum(Classes_pos)\n",
    "    FN  = TP[-1] - TP\n",
    "    FP  = np.cumsum(Classes_neg)\n",
    "    TN  = FP[-1] - FP \n",
    "    \n",
    "    #Calcul size_ratio\n",
    "    size_ratio = reps.shape[1]/789   \n",
    "    \n",
    "    #Calcul precision, recall\n",
    "    precision = TP / (TP+FP)\n",
    "    recall    = TP / (TP+FN)\n",
    "\n",
    "    #Calcul plot\n",
    "    plt.plot( recall*size_ratio, precision, label=nom )\n",
    "    plt.xlabel('recall')\n",
    "    plt.xlim(0,0.5)\n",
    "    plt.ylim(0,1)\n",
    "    plt.ylabel('precision')\n",
    "    plt.title('Tracé Scop \\nPrécision = f(Recall)')\n",
    "\n",
    "        \n",
    "plotPR(rep_95, \"Scop-95\", 789)\n",
    "plotPR(rep_30, \"Scop-30\", 789)\n",
    "plt.legend()"
   ]
  },
  {
   "cell_type": "markdown",
   "metadata": {
    "id": "RkanuAua4JHy"
   },
   "source": [
    "7\\. Repeat steps 1 to 6 also for the scop-30 dataset and compare the curves obtained for the two SCOP datasets, what is your conclusion? Include the curves in your answer\n"
   ]
  },
  {
   "cell_type": "markdown",
   "metadata": {
    "id": "qbMNNVGM4JH0",
    "outputId": "1c88341d-da08-4060-d610-20c1ab59b883"
   },
   "source": [
    "<font color=\"blue\">\n",
    "Conclusion  : L'éxécution est faite en même temps pour scop_95 et scop_30.  \n",
    "En termes de performance\n",
    "<font>"
   ]
  },
  {
   "cell_type": "markdown",
   "metadata": {},
   "source": [
    "Nous avons dû diviser le FPR par 10 pour obtenir la courbe résultante que vous avez obtenu pour le ROC mais nous ne comprenons pas pourquoi nous devons obtenir cela."
   ]
  },
  {
   "cell_type": "code",
   "execution_count": null,
   "metadata": {},
   "outputs": [],
   "source": []
  }
 ],
 "metadata": {
  "colab": {
   "provenance": []
  },
  "kernelspec": {
   "display_name": "Python 3 (ipykernel)",
   "language": "python",
   "name": "python3"
  },
  "language_info": {
   "codemirror_mode": {
    "name": "ipython",
    "version": 3
   },
   "file_extension": ".py",
   "mimetype": "text/x-python",
   "name": "python",
   "nbconvert_exporter": "python",
   "pygments_lexer": "ipython3",
   "version": "3.10.6"
  }
 },
 "nbformat": 4,
 "nbformat_minor": 1
}

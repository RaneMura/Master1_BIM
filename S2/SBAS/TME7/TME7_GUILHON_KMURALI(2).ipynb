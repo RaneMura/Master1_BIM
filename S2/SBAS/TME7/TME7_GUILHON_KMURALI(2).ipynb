{
 "cells": [
  {
   "cell_type": "markdown",
   "metadata": {
    "id": "aLNONidXu4mV"
   },
   "source": [
    "<h1><b>Statistique en Bioinformatique : </b> TME8 </h1>\n",
    "<br>\n",
    "L’objectif de ce TME est: \n",
    "<br>\n",
    "<ul>\n",
    "<li> Construire un modèle d'une famille proteique avec HMM profil. Ce modèle facilite la reconnaissance des membres de la famille, en particulier les protéines les plus distantes (point de vue évolutif). </li> \n",
    "</ul>\n",
    "<br>\n",
    "<div class=\"alert alert-warning\" role=\"alert\" style=\"margin: 10px\">\n",
    "<p><b>Soumission</b></p>\n",
    "<ul>\n",
    "<li>Renomer le fichier TME7.ipynb pour NomEtudiant1_NomEtudiant2.ipynb </li>\n",
    "<li>Soumettre via moodle </li>\n",
    "</div>\n",
    "</div>\n"
   ]
  },
  {
   "cell_type": "markdown",
   "metadata": {
    "id": "l-l24NAzu4mY"
   },
   "source": [
    "Nom etudiant 1 : GUILHON Henri\n",
    "<br>\n",
    "Nom etudiant 2 : K.MURALI Sharane\n",
    "<br>"
   ]
  },
  {
   "cell_type": "markdown",
   "metadata": {
    "id": "YM6uvdqFu4mY"
   },
   "source": [
    "---\n",
    "<h3> Preparation => Installer HMMer 2.3.2 </h3>\n",
    "\n",
    "---\n",
    "\n",
    "Nous allons travailler avec deux versions du logiciel HMMer: 2.3.2 et 3. Installez les deux versions dans deux répertoires différents. Tout d'abord, nous allons considérer la version 2.3.2<br><br>\n",
    "\n",
    "<h4>1- Installer la version 2.3.2</h4><br>\n",
    "Télécharger HMMer <a href=\"http://eddylab.org/software/hmmer/2.3/hmmer-2.3.tar.gz\">version 2.3.2</a> <br>\n",
    "Lisez les instructions et installez-le dans votre espace personnel. <br><br>\n",
    "\n",
    "<font face=\"monospace\">tar -xzf hmmer-2.3.tar.gz</font><br>\n",
    "<font face=\"monospace\">cd hmmer-2.3</font><br>\n",
    "<font face=\"monospace\">./configure --prefix=/home/yourUser/yourDirectory/hmmer-2.3</font><br>\n",
    "<font face=\"monospace\">make</font><br>\n",
    "\n",
    "<font color=\"red\"> Remplacez yourUser/yourDirectory par vos coordonnées personnels.</font>\n",
    "\n",
    "<h4>2 - Dans le terminal modifier le fichier .bashrc</h4> \n",
    "\n",
    "<font face=\"monospace\">cd \\$HOME </font><br>\n",
    "<font face=\"monospace\">gedit .bashrc </font><br>\n",
    "Ajouter la ligne suivante à votre fichier <font face=\"monospace\">.bashrc</font><br>\n",
    "<font face=\"monospace\">export PATH=/home/yourUser/yourDirectory/hmmer-2.3/src:${PATH}</font><br>\n",
    "\n",
    "<font color=\"red\"> Remplacez <font face=\"monospace\">yourUser/yourDirectory</font> par votre coordonnée personnelle.</font><br>\n",
    "Sauvergardez le fichier et taper dans le terminal <br>\n",
    "\n",
    "<font face=\"monospace\">cd $HOME</font><br>\n",
    "<font face=\"monospace\">source .bashrc </font><br>\n",
    "\n",
    "\n"
   ]
  },
  {
   "cell_type": "markdown",
   "metadata": {
    "id": "zK6Mo1Zvu4ma"
   },
   "source": [
    "<b>Exercice 1 </b>: <u>Zinc finger Pfam domain</u> <br>\n",
    "<b>1.1</b>: Construire le modèle HMMer pour le domaine Pfam Zinc finger, numéro d'accès PF00096. Pour cela, téléchargez l'alignement seed au format Stockholm depuis le site web de <a href=\"http://pfam.xfam.org/family/PF00096#tabview=tab3\">Pfam</a>. Construire le modèle HMMer avec les paramètres par défaut, enregistrer avec le nom PF00096.hmm"
   ]
  },
  {
   "cell_type": "markdown",
   "metadata": {
    "id": "-sl1IdsAu4mb"
   },
   "source": [
    "<b>1.2</b>: Utilisez le programme HMMeditor pour visualiser le modele PF00096.hmm et répondre aux questions.<br>\n",
    "<b>a)</b>: Combien d'états Match observez-vous?"
   ]
  },
  {
   "cell_type": "markdown",
   "metadata": {
    "id": "ZZFXpCDqu4mb"
   },
   "source": [
    "Reponse:\n",
    "<font color=\"blue\">\n",
    "On peut observer 26 états Match.\n",
    "</font>"
   ]
  },
  {
   "cell_type": "markdown",
   "metadata": {
    "id": "yaw2lyjju4mb"
   },
   "source": [
    "<b>b)</b>: Pourquoi les états M3, M8, M12, M18, M21 et M26 ont une bordure en gras?"
   ]
  },
  {
   "cell_type": "markdown",
   "metadata": {
    "id": "j9uO9NlPu4mc"
   },
   "source": [
    "Reponse:\n",
    "<font color=\"blue\">\n",
    "Les états ont une bordure en gras, car à cet état-là, il y a un acide aminé qui prédomine.  \n",
    "M3 : C avec 1.  \n",
    "M8 : C avec 1.  \n",
    "M12 : F avec 0.65  \n",
    "M18 : L avec 0.71  \n",
    "M21 : H avec 1.  \n",
    "M26 : H avec 1.  \n",
    "</font>\n",
    "\n",
    "\n"
   ]
  },
  {
   "cell_type": "markdown",
   "metadata": {
    "id": "r7zvcpICu4md"
   },
   "source": [
    "<b>c)</b>: Quelle est la probabilité de transition M5-> I5? "
   ]
  },
  {
   "cell_type": "markdown",
   "metadata": {
    "id": "yCIP2gsdu4me"
   },
   "source": [
    "Reponse:\n",
    "<font color=\"blue\">\n",
    "La probabilité est de 0.06\n",
    "</font>"
   ]
  },
  {
   "cell_type": "markdown",
   "metadata": {
    "id": "tSQDkNTEu4me"
   },
   "source": [
    "<b>d)</b>: Quel est l'acide aminé le plus fréquent dans l'état I5?\n",
    "\n"
   ]
  },
  {
   "cell_type": "markdown",
   "metadata": {
    "id": "qpUrOJBPu4mf"
   },
   "source": [
    "Reponse: \n",
    "<font color=\"blue\">\n",
    "G et S sont les acides aminés les plus fréquents avec une probabilité de 0.09\n",
    "</font>"
   ]
  },
  {
   "cell_type": "markdown",
   "metadata": {
    "id": "1ETNrrkLu4mf"
   },
   "source": [
    "<b>1.3</b>: Télécharger la séquence X6NX52 à <a href=\"http://www.uniprot.org/uniprot/X6NX52\">Uniprot</a>. Utilisez le programme <font face=\"monospace\">hmmsearch</font> pour localiser les domaines  Zinc finger dans la séquence X6NX52. Combien de domaines obtenez-vous? Comparez vos résultats avec les résultats de  <a href=\"http://pfam.xfam.org/protein/X6NX52_RETFI\">Pfam</a>. Avez-vous trouvé les mêmes domaines dans les mêmes positions? Expliquez votre réponse."
   ]
  },
  {
   "cell_type": "markdown",
   "metadata": {
    "id": "XqKP1I6Fu4mg"
   },
   "source": [
    "Reponse: \n",
    "<font color=\"blue\">\n",
    "On obtient 4 domaines:  \n",
    "    - 74-97  \n",
    "    - 101-125  \n",
    "    - 143-166  \n",
    "    - 221-244  \n",
    "On trouve sur Pfam, un seul domaine identique pour un type zinc : 74-97 \n",
    "\n",
    "</font>"
   ]
  },
  {
   "cell_type": "markdown",
   "metadata": {
    "id": "ZkYeNgB_u4mg"
   },
   "source": [
    "<b>1.4</b>: Enregistrer la séquence du premier domaine, positions 74-97, dans un format fasta avec le nom de fichier dom1.fasta, supprimer les gaps de la séquence avant de l'enregistrer. Chargez le fichier dom1.fasta dans le programme HMMeditor et cliquez sur \"Align Path\". Qu'observez-vous? "
   ]
  },
  {
   "cell_type": "markdown",
   "metadata": {
    "id": "QeteLoAKu4mh"
   },
   "source": [
    "Reponse: \n",
    "<font color=\"blue\">\n",
    "Séquence : YSCNLCDKTFRVRGSVTRHQQRVH   \n",
    "On observe le chemin montrant qu'il y a eu une délétiion à la position 5 et 6.\n",
    "</font>\n",
    "\n",
    "\n"
   ]
  },
  {
   "cell_type": "markdown",
   "metadata": {
    "id": "I1KHtPi0u4mi"
   },
   "source": [
    "<b>1.5</b>: Modifiez le fichier dom1.fasta et ajouter le mot RWV après le mot TFR. Rechargez le fichier dans le programme HMMeditor et clique sur \"Align Path\". Qu'observez vous?"
   ]
  },
  {
   "cell_type": "markdown",
   "metadata": {
    "id": "V6VrEgKxu4mj"
   },
   "source": [
    "Reponse:<font color=\"blue\">\n",
    "YSCNLCDKTFRRWVVRGSVTRHQQRVH  \n",
    "On observe bien les délétions aux positions 5 et 6 et en plus de cela, on peut observer une insertion de trois acides aminés à la position 15 en rejoignant le Match 16.  \n",
    "</font>\n"
   ]
  },
  {
   "cell_type": "markdown",
   "metadata": {
    "id": "5XTAXu6mu4mj"
   },
   "source": [
    "---\n",
    "<h3> Preparation => Installer HMMer 3 </h3>\n",
    "\n",
    "---\n",
    "\n",
    "Télécharger HMMer <a href=\"http://eddylab.org/software/hmmer3/3.1b2/hmmer-3.1b2.tar.gz\">version 3</a> <br>\n",
    "Lisez les instructions et installez-le dans votre espace personnel. <br>\n",
    "\n",
    "<font face=\"monospace\">tar -xzf hmmer-3.1b2.tar.gz</font><br>\n",
    "<font face=\"monospace\">cd hmmer-3.1b2</font><br>\n",
    "<font face=\"monospace\">./configure --prefix=/home/yourUser/yourDirectory/hmmer-3.1b2</font><br>\n",
    "<font face=\"monospace\">make</font><br>\n",
    "\n",
    "<font color=\"red\"> Remplacer yourUser/yourDirectory avec votre donnée personnelle.</font>\n",
    "\n",
    "<h4>-Dans le terminal modifier le fichier .bashrc</h4>\n",
    "\n",
    "<font face=\"monospace\">cd \\$HOME </font><br>\n",
    "<font face=\"monospace\">gedit .bashrc </font><br>\n",
    "Mettre en commentaire le export de hmmer-2.3 (utiliser # au début de la ligne) et ajouter la ligne suivante à votre fichier .bashrc<br>\n",
    "<font face=\"monospace\">export PATH=$PATH:/home/yourUser/yourDirectory/hmmer-3.1b2/src;</font>\n",
    "<font color=\"red\"> Remplacer yourUser/yourDirectory avec votre donnée personnelle.</font>\n",
    "Sauvegarder le fichier .bashrc et dans le terminal taper<br>\n",
    "<font face=\"monospace\">source .bashrc </font><br>"
   ]
  },
  {
   "cell_type": "markdown",
   "metadata": {
    "id": "gIm0giimu4mj"
   },
   "source": [
    "<b>Exercice 2 </b>: <u>Ubiquitin domain Pfam domain</u> <br>\n",
    "<b>2.1</b>: Construire le modèle HMMer pour le domaine Ubiquitin Pfam, accession number PF00240. Pour cela, téléchargez l'alignement seed au format Stockholm depuis le site web de  <a href=\"http://pfam.xfam.org/family/PF00240#tabview=tab3\">Pfam</a>. Construire le modèle hmmer avec les paramètres par défaut, enregistrer sous le nom PF00240.hmm. Combien d'états Match observez-vous?\n"
   ]
  },
  {
   "cell_type": "markdown",
   "metadata": {},
   "source": [
    "Reponse: \n",
    "\n",
    "<font color=\"blue\">\n",
    "Il y a 74 états Match.  \n",
    "</font>"
   ]
  },
  {
   "cell_type": "markdown",
   "metadata": {
    "id": "OFKOH34au4mk"
   },
   "source": [
    "<b>2.2</b>:\n",
    "Téléchargez toutes les séquences avec le domaine ubiquitin du site Pfam. Clique sur l'alignement, sur Format an alignment, sélectionnez Full, Format FASTA,  Gaps : No gaps unaligned. Enregistrez le fichier sous le nom PF00240_full.fasta. Combien de séquences observez-vous dans le fichier PF00240_full.fasta?"
   ]
  },
  {
   "cell_type": "code",
   "execution_count": 1,
   "metadata": {
    "id": "Pcdod2-wu4ml"
   },
   "outputs": [
    {
     "name": "stdout",
     "output_type": "stream",
     "text": [
      "21402\n"
     ]
    }
   ],
   "source": [
    "#Read the fasta file\n",
    "def read_fasta (input_f):\n",
    "    \"\"\"\n",
    "    Read a fasta file\n",
    "    input1 input_f: fasta file name\n",
    "    output1 arr_seqs: a two dimension array containing SeqID and amino acide sequence\n",
    "    \"\"\"\n",
    "    arr_names = []\n",
    "    arr_seqs  = []\n",
    "    name, seq = '',''\n",
    "    with open(input_f, 'r') as f:\n",
    "        for line in f:\n",
    "            if line[0] == '>':\n",
    "                arr_seqs.append(seq)\n",
    "                arr_names.append(name)\n",
    "                name = line[1:].rstrip('\\n')\n",
    "                seq = ''\n",
    "            else:\n",
    "                seq += line.rstrip('\\n')\n",
    "    arr_seqs.append( seq )\n",
    "    arr_names.append(name)\n",
    "    arr_seqs.pop( 0)\n",
    "    arr_names.pop(0)\n",
    "    return arr_seqs, arr_names \n",
    "\n",
    "input_PF00240_full = './PF00240_full.fasta'\n",
    "sequences_PF00240_full, names_PF00240_full = read_fasta (input_PF00240_full)\n",
    "\n",
    "print(len(sequences_PF00240_full))"
   ]
  },
  {
   "cell_type": "markdown",
   "metadata": {
    "id": "poZl4kXEu4mm"
   },
   "source": [
    "Reponse: <font color=\"blue\"> 21402 séquences sont présentes dans le fichier Fasta.\n",
    "\n",
    "</font>"
   ]
  },
  {
   "cell_type": "markdown",
   "metadata": {
    "id": "-IZk_GPeu4mm"
   },
   "source": [
    "<b>2.3</b>:\n",
    "Utilisez hmmsearch (default parameters) pour détecter les domaines ubiquitin dans le fichier PF00240_full.fasta. Utilisez l'option --domtblout pour enregistrer un fichier tabulaire, donnez le nom PF00240.domtb, répondre aux questions suivantes:"
   ]
  },
  {
   "cell_type": "code",
   "execution_count": 2,
   "metadata": {
    "id": "TRh42fFWu4mn"
   },
   "outputs": [
    {
     "name": "stdout",
     "output_type": "stream",
     "text": [
      "['R0KPY3_NOSB1/3-74', '-', '72', 'PF00240', '-', '72', '5.2e-36', '122.4', '0.5', '1', '1', '5.7e-36', '5.7e-36', '122.3', '0.5', '1', '72', '1', '72', '1', '72', '0.99', '-\\n']\n"
     ]
    }
   ],
   "source": [
    "#Read the domtblout file\n",
    "import re\n",
    "def read_domtblout(input_f):\n",
    "    \"\"\"\n",
    "    load the results of domtblout file\n",
    "    input1 input_f: domtblout file name\n",
    "    output hits: a matrix containg hit information\n",
    "    \"\"\"\n",
    "    hits = []\n",
    "    with open(input_f, 'r') as f:\n",
    "        for line in f:\n",
    "            if line[0] != '#':\n",
    "                splited = re.split('[ ]+', line)\n",
    "                \n",
    "                hits.append(splited)\n",
    "    \n",
    "    return hits\n",
    "\n",
    "\n",
    "input_domtblout = 'PF00240.domtb'\n",
    "hits_PF00240 = read_domtblout(input_domtblout)\n",
    "print (hits_PF00240[0])\n",
    "#['R0KPY3_NOSB1/3-74', '-', '72', 'PF00240', '-', '72', '5.2e-36', '122.4', '0.5', '1', '1', '5.7e-36', '5.7e-36', '122.3', '0.5', '1', '72', '1', '72', '1', '72', '0.99', '-\\n']"
   ]
  },
  {
   "cell_type": "markdown",
   "metadata": {
    "id": "qq4-WmIRu4mn"
   },
   "source": [
    "<b>a)</b>: Combien de domaines observez-vous dans le fichier PF00240.domtb? Comparez le nombre de domaines détectés avec le nombre attendu (question 2.2)"
   ]
  },
  {
   "cell_type": "code",
   "execution_count": 3,
   "metadata": {
    "id": "MOkYjsEou4mn"
   },
   "outputs": [
    {
     "name": "stdout",
     "output_type": "stream",
     "text": [
      "21435\n"
     ]
    }
   ],
   "source": [
    "print(len(hits_PF00240))"
   ]
  },
  {
   "cell_type": "markdown",
   "metadata": {
    "id": "coY9m7Y0u4mn"
   },
   "source": [
    "Reponse: \n",
    "<font color=\"blue\"> \n",
    " 21435 hits contre 21402 trouvés avant : soit 33 de plus\n",
    "\n",
    "</font>"
   ]
  },
  {
   "cell_type": "markdown",
   "metadata": {
    "id": "gMMWiN5ju4mo"
   },
   "source": [
    "<b>b)</b>: Quelle est le c-evaleus et les scores du meilleur et du pire hit?"
   ]
  },
  {
   "cell_type": "code",
   "execution_count": 4,
   "metadata": {
    "id": "LbGSj-Imu4mo"
   },
   "outputs": [
    {
     "name": "stdout",
     "output_type": "stream",
     "text": [
      "Meilleur hit:\n",
      " c-e-value: 5.7e-36 \n",
      " score: 122.3\n",
      "\n",
      "Pire hit:\n",
      " c-e-value: 5.2e-05 \n",
      " score: 23.2\n"
     ]
    }
   ],
   "source": [
    "print('Meilleur hit:\\n c-e-value: {} \\n score: {}\\n'.format( hits_PF00240[0][11], hits_PF00240[0][13] ))\n",
    "print('Pire hit:\\n c-e-value: {} \\n score: {}'.format( hits_PF00240[-1][11], hits_PF00240[-1][13] ))"
   ]
  },
  {
   "cell_type": "markdown",
   "metadata": {
    "id": "pAAWZzqOu4mo"
   },
   "source": [
    " \n",
    "Meilleur hit:  \n",
    " - c-e-value: 5.7e-36  \n",
    " - score : 122.3\n",
    "\n",
    "Pire hit:  \n",
    " - e-value: 5.2e-05  \n",
    " - score : 23.2  \n",
    "</font>"
   ]
  },
  {
   "cell_type": "markdown",
   "metadata": {
    "id": "iGu_Jub_u4mp"
   },
   "source": [
    "<b>c)</b>: Exécutez à nouveau hmmsearch et définissez le domain e-value à 1e-5. Combien de domaines observez-vous? Comparez le nombre de domaines détectés avec l'attendu (question 2.2) et obtenu dans la question a. Justifiez votre réponse."
   ]
  },
  {
   "cell_type": "code",
   "execution_count": 5,
   "metadata": {
    "id": "mo9j41fuu4mp"
   },
   "outputs": [
    {
     "name": "stdout",
     "output_type": "stream",
     "text": [
      "21421\n"
     ]
    }
   ],
   "source": [
    "#PF00240_V2.domtb correspond au hmmsearch avec e-value a 1e-5\n",
    "input_file = 'PF00240_V2.domtb'\n",
    "hits_PF00240_00005 = read_domtblout(input_file)\n",
    "print(len(hits_PF00240_00005))"
   ]
  },
  {
   "cell_type": "markdown",
   "metadata": {
    "id": "y0knOGJru4mp"
   },
   "source": [
    "Reponse:\n",
    "<font color=\"blue\"> 21421 domaines, on perd 14 domaines qui ont une e-value supérieure à 1e-5 comparé à précedemment où l'on avait 21435 domaines.\n",
    "    \n",
    "\n",
    "<font>\n"
   ]
  },
  {
   "cell_type": "markdown",
   "metadata": {
    "id": "ZQ0XEFhfu4mq"
   },
   "source": [
    "<b>d)</b>:\n",
    "Téléchargez le modèle hmm pour le domaine ubiquitin depuis le site de Pfam. Clique sur \"Curation & model\" et sur \"download the raw HMM for this family\". Exécutez à nouveau hmmsearch avec l'option --cut_ga. Comparez le nombre de domaines détectés avec les questions précédentes. Qu'est-ce que cut_ga fait?"
   ]
  },
  {
   "cell_type": "code",
   "execution_count": 6,
   "metadata": {
    "id": "tJKkpKfXu4mq"
   },
   "outputs": [
    {
     "name": "stdout",
     "output_type": "stream",
     "text": [
      "21332\n"
     ]
    }
   ],
   "source": [
    "#PF00240_V3.domtb correspond à hmmsearch avec l'option cut_ga\n",
    "input_file ='PF00240_V3.domtb'\n",
    "hits_PF00240_cutga = read_domtblout(input_file)\n",
    "print( len(hits_PF00240_cutga) )"
   ]
  },
  {
   "cell_type": "markdown",
   "metadata": {
    "id": "owZ8vyXAu4mq"
   },
   "source": [
    "Reponse: \n",
    "<font color=\"blue\"> cut_ga utilise le rassemblement des seuils de score. Elle applique le seuil de e-value aussi au i-value et c-value. 21332 hits ont été trouvés, soit 89 de moins que la question précédente.\n",
    "<font>"
   ]
  },
  {
   "cell_type": "markdown",
   "metadata": {
    "id": "2NuPAzasu4mr"
   },
   "source": [
    "<b>Exercice 3 </b>: <u>Cooccurrence de domaines</u> <br>\n",
    "Le domaine Ribosomal_S27 (PF01599) est très suivant trouvé avec le domaine de l'ubiquitine?  Allez sur le site Pfam, recherchez le domaine PF01599 et cliquez sur \"Domain Organisation\" recherchez le domaine ubiquitin dans la liste des architectures de domaine. Répondre aux question suivantes:<br>\n",
    "<b>3.1</b>:\n",
    "Si ces domaines coexistent, dans combien de séquences cette architecture de domaines est-elle observée? "
   ]
  },
  {
   "cell_type": "markdown",
   "metadata": {
    "id": "VrVyb9onu4mr"
   },
   "source": [
    "Reponse:\n",
    "<font color=\"blue\"> On observe cette architecture de domaine avec le domaine ubiquitine dans 3509 protéines.\n",
    "\n",
    "<font>"
   ]
  },
  {
   "cell_type": "markdown",
   "metadata": {
    "id": "GYsm0oYRu4ms"
   },
   "source": [
    "<b>3.2</b>: Vérifions si la séquence W4GKD7 décrite comme protéine ribosomale S27a de l'Ubiquitine-40S a l'architecture du domaine: ubiquitine, Ribosomal_S27. <br>\n",
    "- Téléchargez la séquence de W4GKD7 de <a href=\"http://www.uniprot.org/uniprot/W4GKD7\">Uniprot</a>  et téléchargez le modèle Ribosomal_S27 hmmer à partir du site Web Pfam.\n",
    "- Concattez les modèles ubiquitin.hmm et Ribosomal_S27.hmm, enregistrez le fichier sous Ribosomal_S27_ubiquitin.hmm.\n",
    "- Exécutez hmmsearch avec l'option --cut_ga pour rechercher des domaines dans W4GKD7, utilisez le modèle de fichier Ribosomal_S27_ubiquitin.hmm. Enregistrez la sortie au format tabulaire, utilisez l'option --domtblout pour enregistrer un fichier tabulaire, nommé W4GKD7.domtb\n",
    "- Analyser le fichier W4GKD7.domtb, avez-vous détecté les domaines Ribosomal_S27 et ubiquitin? Quels sont les scores et les e-values?"
   ]
  },
  {
   "cell_type": "code",
   "execution_count": 7,
   "metadata": {},
   "outputs": [
    {
     "name": "stdout",
     "output_type": "stream",
     "text": [
      "2\n",
      "score : 114.5 \t e-value:7.2e-38\n",
      "score : 89.9 \t e-value:1.5e-30\n"
     ]
    }
   ],
   "source": [
    "#Affichage du nombre de hits et score\n",
    "file = 'W4GKD7.domtb'\n",
    "W4GKD7 = read_domtblout(file)\n",
    "print(len(W4GKD7))\n",
    "for hit in W4GKD7:\n",
    "    print( 'score : {} \\t e-value:{}'.format(hit[13], hit[6]))"
   ]
  },
  {
   "cell_type": "markdown",
   "metadata": {
    "id": "iweuKqJlu4ms"
   },
   "source": [
    "Reponse:\n",
    "<font color=\"blue\"> Seulement 2 hits\n",
    "    \n",
    "Meilleur hit:  \n",
    " - score: 114.5 \n",
    " - e-value: 7.2e-38\n",
    "\n",
    "Pire hit:  \n",
    " - score: 89.9  \n",
    " - e-value: 1.5e-30 \n",
    "<font>\n"
   ]
  },
  {
   "cell_type": "markdown",
   "metadata": {
    "id": "M5bM2uq6u4ms"
   },
   "source": [
    "<b>3.3</b>: Visualisez l'architecture du domaine pour la protéine W4GKD7 en utilisant le programme  <a href=\"http://prosite.expasy.org/cgi-bin/prosite/mydomains/\">myDomains</a>; Remplissez la longueur de la protéine et les données de domaine. Vous pouvez trouver toutes les informations dans le fichier W4GKD7.domtb, choisir la forme et la couleur que vous préférez, inclure l'image dans votre reponse."
   ]
  },
  {
   "attachments": {
    "W4GKD7_region": {
     "": "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"
    }
   },
   "cell_type": "markdown",
   "metadata": {},
   "source": [
    "![W4GKD7_region](attachment:W4GKD7_region)"
   ]
  },
  {
   "cell_type": "markdown",
   "metadata": {
    "id": "FLAeHDpCu4ms"
   },
   "source": [
    "Reponse: Voir ci-dessus\n"
   ]
  },
  {
   "cell_type": "markdown",
   "metadata": {
    "id": "2fF49WTMu4ms"
   },
   "source": [
    "<b>Exercice 4 </b>: <u>Domaines du même clan</u><br>\n",
    "Les familles de Pfam ayant des fonctions similaires sont suivant orgnisés dans un clan, c'est le cas des familles ubiquitin et ubiquitin_2 placé dans le clan CL0072.<br>\n",
    "<b>4.1</b>: Combien de membre exists dans le clans CL0072?"
   ]
  },
  {
   "cell_type": "markdown",
   "metadata": {
    "id": "r4aIFY9xu4ms"
   },
   "source": [
    "Reponse:<font color=\"blue\">\n",
    "Il y a 79 membres dans le clan CL0072.\n",
    "<font>"
   ]
  },
  {
   "cell_type": "markdown",
   "metadata": {
    "id": "Skp5zOaUu4ms"
   },
   "source": [
    "<b>4.2</b>: Téléchargez le modèle hmm pour le domaine ubiquitin_2 depuis le site de Pfam. Clique sur \"Curation & model\" et sur \"download the raw HMM for this family\". Concatenez les modeles ubiquitin.hmm et ubiquitin_2.hmm and executez hmmsearch avec --cut_ga sur les sequences du fichier Uniprot_ubiquitin.fasta, utilizez l'option --domtblout pour enregistrer un fichier tabulaire. Repondrez aux questions:\n"
   ]
  },
  {
   "cell_type": "markdown",
   "metadata": {
    "id": "5YGoZnPRu4ms"
   },
   "source": [
    "<b>a)</b>: Combien de sequences ont plus qu'un hit?"
   ]
  },
  {
   "cell_type": "code",
   "execution_count": 8,
   "metadata": {},
   "outputs": [
    {
     "name": "stdout",
     "output_type": "stream",
     "text": [
      "Nombre de séquences avec plus d'un hit : 37\n"
     ]
    }
   ],
   "source": [
    "import collections\n",
    "#read\n",
    "rdu = read_domtblout('Uniprot_ubiquitin.domtb')\n",
    "\n",
    "#liste des séquences\n",
    "l = [rdu[i][0] for i in range(len(rdu))]\n",
    "\n",
    "#Récuparation des occurences sous formes de dictionnaire pattern:nb_occurences\n",
    "c = collections.Counter(l)\n",
    "\n",
    "#Transformation du counter en tuple\n",
    "cc = c.most_common()\n",
    "\n",
    "hitnum = len([cc[i][0] for i in range(len(cc)) if cc[i][1]>1])\n",
    "print(\"Nombre de séquences avec plus d'un hit : \"+ str(hitnum))"
   ]
  },
  {
   "cell_type": "markdown",
   "metadata": {
    "collapsed": true,
    "id": "5ssugoCFu4mt"
   },
   "source": [
    "Reponse: <font color=\"blue\"> 37 séquences ont plus d'un hit\n",
    "\n",
    "<font> "
   ]
  },
  {
   "cell_type": "markdown",
   "metadata": {
    "id": "IGx0cwmAu4mt"
   },
   "source": [
    "<b>b)</b>: Faite une fonction pour filtrer les meilleurs hits de protéines membre de ubiquitin à partir d'un fichier domtb. \n",
    "Si une séquence a plus qu'un hit dans de positions chevauchantes vous devez choisir le hit avec le meilleur c-evalue. \n",
    "Le début et fin de chaque hit se trouve dans les colonnes 20 et 21 du fichier de sortie de hmmsearch."
   ]
  },
  {
   "cell_type": "code",
   "execution_count": 9,
   "metadata": {
    "id": "b2RdrPsOu4mu"
   },
   "outputs": [
    {
     "name": "stdout",
     "output_type": "stream",
     "text": [
      "931 hits\n",
      "490 hits après filtrage\n"
     ]
    }
   ],
   "source": [
    "def best_hits(hits, eValue_thresh, overlap_thresh):\n",
    "    \"\"\"\n",
    "    Filtering the best hits\n",
    "    input1 hits: hit table (output of domtb file)\n",
    "    input2 eValue_thresh: E-value Threshold (default 1e-100)\n",
    "    input3 overlap_thresh: overlaping Threshold (default 10)\n",
    "    output1 meilleur_hits: filtered hit table \n",
    "    \"\"\"\n",
    "    meilleur_hits = []\n",
    "    \n",
    "    # Initialisation\n",
    "    if float(hits[0][6]) < eValue_thresh :\n",
    "        meilleur_hits.append( hits[0] )\n",
    "    else:\n",
    "        return []\n",
    "    \n",
    "    # Récurrence\n",
    "    for hit in range(1, len(hits)):\n",
    "        hit_line = hits[hit]\n",
    "        last_hit = meilleur_hits[-1]\n",
    "        \n",
    "        # Filtre E-value\n",
    "        if float(hit_line[6]) < eValue_thresh:\n",
    "            # Si même séquence cible\n",
    "            if hit_line[0] == last_hit[0]:\n",
    "                # On teste leur chevauchement : si il est supérieur au seuil\n",
    "                if float(last_hit[20]) - float(hit_line[19]) >= overlap_thresh:\n",
    "                    # On teste leur c-Evalue, si celle du nouveau hit est plus petite que le précédent hit:\n",
    "                    # On remplace le précédent par le nouveau, sinon on ne rajoute pas le nouveau hit\n",
    "                    if float(last_hit[11]) > float(hit_line[11]):\n",
    "                        meilleur_hits.pop(-1)\n",
    "                        meilleur_hits.append( hit_line )                        \n",
    "                else:\n",
    "                # chevauchement inférieur au seuil : on rajoute le nouveau hit\n",
    "                    meilleur_hits.append( hit_line )\n",
    "            else:\n",
    "                # Cible différente : on rajoute le nouveau hit\n",
    "                meilleur_hits.append( hit_line )\n",
    "                \n",
    "    return meilleur_hits\n",
    "\n",
    "input_fasta = 'Uniprot_ubiquitin.fasta'\n",
    "sequences,seq_names = read_fasta (input_fasta)\n",
    "input_domtblout = 'Uniprot_ubiquitin.domtb'\n",
    "hits_ubiquitin = read_domtblout(input_domtblout)\n",
    "print('{} hits'.format(len(hits_ubiquitin)))\n",
    "\n",
    "eValue_thresh = 8e-100\n",
    "overlap_thresh = 10\n",
    "meilleur_hits = best_hits(hits_ubiquitin, eValue_thresh, overlap_thresh)\n",
    "print('{} hits après filtrage'.format(len(meilleur_hits)))\n"
   ]
  },
  {
   "cell_type": "markdown",
   "metadata": {},
   "source": [
    "931 hits   \n",
    "490 hits après filtrage"
   ]
  }
 ],
 "metadata": {
  "colab": {
   "collapsed_sections": [],
   "name": "TME8_corrige.ipynb",
   "provenance": []
  },
  "kernelspec": {
   "display_name": "Python 3 (ipykernel)",
   "language": "python",
   "name": "python3"
  },
  "language_info": {
   "codemirror_mode": {
    "name": "ipython",
    "version": 3
   },
   "file_extension": ".py",
   "mimetype": "text/x-python",
   "name": "python",
   "nbconvert_exporter": "python",
   "pygments_lexer": "ipython3",
   "version": "3.10.6"
  }
 },
 "nbformat": 4,
 "nbformat_minor": 1
}

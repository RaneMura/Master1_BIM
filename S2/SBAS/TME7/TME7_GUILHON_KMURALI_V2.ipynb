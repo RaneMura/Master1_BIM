{
 "cells": [
  {
   "cell_type": "markdown",
   "metadata": {
    "id": "aLNONidXu4mV"
   },
   "source": [
    "<h1><b>Statistique en Bioinformatique : </b> TME8 </h1>\n",
    "<br>\n",
    "L’objectif de ce TME est: \n",
    "<br>\n",
    "<ul>\n",
    "<li> Construire un modèle d'une famille proteique avec HMM profil. Ce modèle facilite la reconnaissance des membres de la famille, en particulier les protéines les plus distantes (point de vue évolutif). </li> \n",
    "</ul>\n",
    "<br>\n",
    "<div class=\"alert alert-warning\" role=\"alert\" style=\"margin: 10px\">\n",
    "<p><b>Soumission</b></p>\n",
    "<ul>\n",
    "<li>Renomer le fichier TME7.ipynb pour NomEtudiant1_NomEtudiant2.ipynb </li>\n",
    "<li>Soumettre via moodle </li>\n",
    "</div>\n",
    "</div>\n"
   ]
  },
  {
   "cell_type": "markdown",
   "metadata": {
    "id": "l-l24NAzu4mY"
   },
   "source": [
    "Nom etudiant 1 : GUILHON Henri\n",
    "<br>\n",
    "Nom etudiant 2 : K.MURALI Sharane\n",
    "<br>"
   ]
  },
  {
   "cell_type": "markdown",
   "metadata": {
    "id": "YM6uvdqFu4mY"
   },
   "source": [
    "---\n",
    "<h3> Preparation => Installer HMMer 2.3.2 </h3>\n",
    "\n",
    "---\n",
    "\n",
    "Nous allons travailler avec deux versions du logiciel HMMer: 2.3.2 et 3. Installez les deux versions dans deux répertoires différents. Tout d'abord, nous allons considérer la version 2.3.2<br><br>\n",
    "\n",
    "<h4>1- Installer la version 2.3.2</h4><br>\n",
    "Télécharger HMMer <a href=\"http://eddylab.org/software/hmmer/2.3/hmmer-2.3.tar.gz\">version 2.3.2</a> <br>\n",
    "Lisez les instructions et installez-le dans votre espace personnel. <br><br>\n",
    "\n",
    "<font face=\"monospace\">tar -xzf hmmer-2.3.tar.gz</font><br>\n",
    "<font face=\"monospace\">cd hmmer-2.3</font><br>\n",
    "<font face=\"monospace\">./configure --prefix=/home/yourUser/yourDirectory/hmmer-2.3</font><br>\n",
    "<font face=\"monospace\">make</font><br>\n",
    "\n",
    "<font color=\"red\"> Remplacez yourUser/yourDirectory par vos coordonnées personnels.</font>\n",
    "\n",
    "<h4>2 - Dans le terminal modifier le fichier .bashrc</h4> \n",
    "\n",
    "<font face=\"monospace\">cd \\$HOME </font><br>\n",
    "<font face=\"monospace\">gedit .bashrc </font><br>\n",
    "Ajouter la ligne suivante à votre fichier <font face=\"monospace\">.bashrc</font><br>\n",
    "<font face=\"monospace\">export PATH=/home/yourUser/yourDirectory/hmmer-2.3/src:${PATH}</font><br>\n",
    "\n",
    "<font color=\"red\"> Remplacez <font face=\"monospace\">yourUser/yourDirectory</font> par votre coordonnée personnelle.</font><br>\n",
    "Sauvergardez le fichier et taper dans le terminal <br>\n",
    "\n",
    "<font face=\"monospace\">cd $HOME</font><br>\n",
    "<font face=\"monospace\">source .bashrc </font><br>\n",
    "\n",
    "\n"
   ]
  },
  {
   "cell_type": "markdown",
   "metadata": {
    "id": "zK6Mo1Zvu4ma"
   },
   "source": [
    "<b>Exercice 1 </b>: <u>Zinc finger Pfam domain</u> <br>\n",
    "<b>1.1</b>: Construire le modèle HMMer pour le domaine Pfam Zinc finger, numéro d'accès PF00096. Pour cela, téléchargez l'alignement seed au format Stockholm depuis le site web de <a href=\"http://pfam.xfam.org/family/PF00096#tabview=tab3\">Pfam</a>. Construire le modèle HMMer avec les paramètres par défaut, enregistrer avec le nom PF00096.hmm"
   ]
  },
  {
   "cell_type": "markdown",
   "metadata": {
    "id": "-sl1IdsAu4mb"
   },
   "source": [
    "<b>1.2</b>: Utilisez le programme HMMeditor pour visualiser le modele PF00096.hmm et répondre aux questions.<br>\n",
    "<b>a)</b>: Combien d'états Match observez-vous?"
   ]
  },
  {
   "cell_type": "markdown",
   "metadata": {
    "id": "ZZFXpCDqu4mb"
   },
   "source": [
    "Reponse:\n",
    "<font color=\"blue\">\n",
    "On peut observer 26 états Match.\n",
    "</font>"
   ]
  },
  {
   "cell_type": "markdown",
   "metadata": {
    "id": "yaw2lyjju4mb"
   },
   "source": [
    "<b>b)</b>: Pourquoi les états M3, M8, M12, M18, M21 et M26 ont une bordure en gras?"
   ]
  },
  {
   "cell_type": "markdown",
   "metadata": {
    "id": "j9uO9NlPu4mc"
   },
   "source": [
    "Reponse:\n",
    "<font color=\"blue\">\n",
    "Les états ont une bordure en gras, car à cet état-là, il y a un acide aminé qui prédomine.  \n",
    "M3 : C avec 1.  \n",
    "M8 : C avec 1.  \n",
    "M12 : F avec 0.65  \n",
    "M18 : L avec 0.71  \n",
    "M21 : H avec 1.  \n",
    "M26 : H avec 1.  \n",
    "</font>\n",
    "\n",
    "\n"
   ]
  },
  {
   "cell_type": "markdown",
   "metadata": {
    "id": "r7zvcpICu4md"
   },
   "source": [
    "<b>c)</b>: Quelle est la probabilité de transition M5-> I5? "
   ]
  },
  {
   "cell_type": "markdown",
   "metadata": {
    "id": "yCIP2gsdu4me"
   },
   "source": [
    "Reponse:\n",
    "<font color=\"blue\">\n",
    "La probabilité est de 0.06\n",
    "</font>"
   ]
  },
  {
   "cell_type": "markdown",
   "metadata": {
    "id": "tSQDkNTEu4me"
   },
   "source": [
    "<b>d)</b>: Quel est l'acide aminé le plus fréquent dans l'état I5?\n",
    "\n"
   ]
  },
  {
   "cell_type": "markdown",
   "metadata": {
    "id": "qpUrOJBPu4mf"
   },
   "source": [
    "Reponse: \n",
    "<font color=\"blue\">\n",
    "G et S sont les acides aminés les plus fréquents avec une probabilité de 0.09\n",
    "</font>"
   ]
  },
  {
   "cell_type": "markdown",
   "metadata": {
    "id": "1ETNrrkLu4mf"
   },
   "source": [
    "<b>1.3</b>: Télécharger la séquence X6NX52 à <a href=\"http://www.uniprot.org/uniprot/X6NX52\">Uniprot</a>. Utilisez le programme <font face=\"monospace\">hmmsearch</font> pour localiser les domaines  Zinc finger dans la séquence X6NX52. Combien de domaines obtenez-vous? Comparez vos résultats avec les résultats de  <a href=\"http://pfam.xfam.org/protein/X6NX52_RETFI\">Pfam</a>. Avez-vous trouvé les mêmes domaines dans les mêmes positions? Expliquez votre réponse."
   ]
  },
  {
   "cell_type": "markdown",
   "metadata": {
    "id": "XqKP1I6Fu4mg"
   },
   "source": [
    "Reponse: \n",
    "<font color=\"blue\">\n",
    "On obtient 4 domaines:  \n",
    "    - 74-97  \n",
    "    - 101-125  \n",
    "    - 143-166  \n",
    "    - 221-244  \n",
    "\n",
    "On trouve un seul domaine identique pour un type zinc : 76-97 \n",
    "\n",
    "</font>"
   ]
  },
  {
   "cell_type": "markdown",
   "metadata": {
    "id": "ZkYeNgB_u4mg"
   },
   "source": [
    "<b>1.4</b>: Enregistrer la séquence du premier domaine, positions 74-97, dans un format fasta avec le nom de fichier dom1.fasta, supprimer les gaps de la séquence avant de l'enregistrer. Chargez le fichier dom1.fasta dans le programme HMMeditor et cliquez sur \"Align Path\". Qu'observez-vous? "
   ]
  },
  {
   "cell_type": "markdown",
   "metadata": {
    "id": "QeteLoAKu4mh"
   },
   "source": [
    "Reponse: \n",
    "<font color=\"blue\">\n",
    "Séquence : YSCNLCDKTFRVRGSVTRHQQRVH   \n",
    "Il montre qu'il y a eu une délétiion à la position 5 et 6.\n",
    "</font>\n",
    "\n",
    "\n"
   ]
  },
  {
   "cell_type": "markdown",
   "metadata": {
    "id": "I1KHtPi0u4mi"
   },
   "source": [
    "<b>1.5</b>: Modifiez le fichier dom1.fasta et ajouter le mot RWV après le mot TFR. Rechargez le fichier dans le programme HMMeditor et clique sur \"Align Path\". Qu'observez vous?"
   ]
  },
  {
   "cell_type": "markdown",
   "metadata": {
    "id": "V6VrEgKxu4mj"
   },
   "source": [
    "Reponse:<font color=\"blue\">\n",
    "YSCNLCDKTFRRWVVRGSVTRHQQRVH  \n",
    "On observe bien les délétions aux positions 5 et 6 et en plus de cela, on peut observer une insertion de trois acides aminés à la position 15.  \n",
    "</font>\n"
   ]
  },
  {
   "cell_type": "markdown",
   "metadata": {
    "id": "5XTAXu6mu4mj"
   },
   "source": [
    "---\n",
    "<h3> Preparation => Installer HMMer 3 </h3>\n",
    "\n",
    "---\n",
    "\n",
    "Télécharger HMMer <a href=\"http://eddylab.org/software/hmmer3/3.1b2/hmmer-3.1b2.tar.gz\">version 3</a> <br>\n",
    "Lisez les instructions et installez-le dans votre espace personnel. <br>\n",
    "\n",
    "<font face=\"monospace\">tar -xzf hmmer-3.1b2.tar.gz</font><br>\n",
    "<font face=\"monospace\">cd hmmer-3.1b2</font><br>\n",
    "<font face=\"monospace\">./configure --prefix=/home/yourUser/yourDirectory/hmmer-3.1b2</font><br>\n",
    "<font face=\"monospace\">make</font><br>\n",
    "\n",
    "<font color=\"red\"> Remplacer yourUser/yourDirectory avec votre donnée personnelle.</font>\n",
    "\n",
    "<h4>-Dans le terminal modifier le fichier .bashrc</h4>\n",
    "\n",
    "<font face=\"monospace\">cd \\$HOME </font><br>\n",
    "<font face=\"monospace\">gedit .bashrc </font><br>\n",
    "Mettre en commentaire le export de hmmer-2.3 (utiliser # au début de la ligne) et ajouter la ligne suivante à votre fichier .bashrc<br>\n",
    "<font face=\"monospace\">export PATH=$PATH:/home/yourUser/yourDirectory/hmmer-3.1b2/src;</font>\n",
    "<font color=\"red\"> Remplacer yourUser/yourDirectory avec votre donnée personnelle.</font>\n",
    "Sauvegarder le fichier .bashrc et dans le terminal taper<br>\n",
    "<font face=\"monospace\">source .bashrc </font><br>"
   ]
  },
  {
   "cell_type": "markdown",
   "metadata": {
    "id": "gIm0giimu4mj"
   },
   "source": [
    "<b>Exercice 2 </b>: <u>Ubiquitin domain Pfam domain</u> <br>\n",
    "<b>2.1</b>: Construire le modèle HMMer pour le domaine Ubiquitin Pfam, accession number PF00240. Pour cela, téléchargez l'alignement seed au format Stockholm depuis le site web de  <a href=\"http://pfam.xfam.org/family/PF00240#tabview=tab3\">Pfam</a>. Construire le modèle hmmer avec les paramètres par défaut, enregistrer sous le nom PF00240.hmm. Combien d'états Match observez-vous?\n"
   ]
  },
  {
   "cell_type": "markdown",
   "metadata": {},
   "source": [
    "Reponse: \n",
    "\n",
    "<font color=\"blue\">\n",
    "Il y a 74 états Match.  \n",
    "</font>"
   ]
  },
  {
   "cell_type": "code",
   "execution_count": 2,
   "metadata": {},
   "outputs": [],
   "source": [
    "#A QUOI CORRESPOND LA PARTIE EN DESSOUS : JUSTE AFFICHER LES FICHIERS DANS UN DOSSIER ?\n",
    "#89 HITS CA VIENT D'OU ?"
   ]
  },
  {
   "cell_type": "code",
   "execution_count": 3,
   "metadata": {},
   "outputs": [
    {
     "ename": "FileNotFoundError",
     "evalue": "[Errno 2] No such file or directory: './Q2'",
     "output_type": "error",
     "traceback": [
      "\u001b[0;31m---------------------------------------------------------------------------\u001b[0m",
      "\u001b[0;31mFileNotFoundError\u001b[0m                         Traceback (most recent call last)",
      "Input \u001b[0;32mIn [3]\u001b[0m, in \u001b[0;36m<cell line: 2>\u001b[0;34m()\u001b[0m\n\u001b[1;32m      1\u001b[0m \u001b[38;5;28;01mimport\u001b[39;00m \u001b[38;5;21;01mos\u001b[39;00m\n\u001b[0;32m----> 2\u001b[0m \u001b[38;5;28;01mfor\u001b[39;00m i \u001b[38;5;129;01min\u001b[39;00m \u001b[43mos\u001b[49m\u001b[38;5;241;43m.\u001b[39;49m\u001b[43mlistdir\u001b[49m\u001b[43m(\u001b[49m\u001b[38;5;124;43m'\u001b[39;49m\u001b[38;5;124;43m./Q2\u001b[39;49m\u001b[38;5;124;43m'\u001b[39;49m\u001b[43m)\u001b[49m:\n\u001b[1;32m      3\u001b[0m     \u001b[38;5;28mprint\u001b[39m(i)\n\u001b[1;32m      4\u001b[0m file \u001b[38;5;241m=\u001b[39m \u001b[38;5;124m'\u001b[39m\u001b[38;5;124m./Q2/PF00240.hmm\u001b[39m\u001b[38;5;124m'\u001b[39m\n",
      "\u001b[0;31mFileNotFoundError\u001b[0m: [Errno 2] No such file or directory: './Q2'"
     ]
    }
   ],
   "source": [
    "import os\n",
    "for i in os.listdir('./Q2'):\n",
    "    print(i)\n",
    "file = './Q2/PF00240.hmm'"
   ]
  },
  {
   "cell_type": "markdown",
   "metadata": {
    "id": "BTctd4qUu4mk"
   },
   "source": [
    "Reponse: \n",
    "\n",
    "<font color=\"blue\"> 89 hits\n",
    "\n",
    "</font>\n"
   ]
  },
  {
   "cell_type": "markdown",
   "metadata": {
    "id": "OFKOH34au4mk"
   },
   "source": [
    "<b>2.2</b>:\n",
    "Téléchargez toutes les séquences avec le domaine ubiquitin du site Pfam. Clique sur l'alignement, sur Format an alignment, sélectionnez Full, Format FASTA,  Gaps : No gaps unaligned. Enregistrez le fichier sous le nom PF00240_full.fasta. Combien de séquences observez-vous dans le fichier PF00240_full.fasta?"
   ]
  },
  {
   "cell_type": "code",
   "execution_count": 4,
   "metadata": {
    "id": "Pcdod2-wu4ml"
   },
   "outputs": [
    {
     "ename": "FileNotFoundError",
     "evalue": "[Errno 2] No such file or directory: './Q2/PF00240_full.fasta'",
     "output_type": "error",
     "traceback": [
      "\u001b[0;31m---------------------------------------------------------------------------\u001b[0m",
      "\u001b[0;31mFileNotFoundError\u001b[0m                         Traceback (most recent call last)",
      "Input \u001b[0;32mIn [4]\u001b[0m, in \u001b[0;36m<cell line: 27>\u001b[0;34m()\u001b[0m\n\u001b[1;32m     24\u001b[0m     \u001b[38;5;28;01mreturn\u001b[39;00m arr_seqs, arr_names \n\u001b[1;32m     26\u001b[0m input_PF00240_full \u001b[38;5;241m=\u001b[39m \u001b[38;5;124m'\u001b[39m\u001b[38;5;124m./Q2/PF00240_full.fasta\u001b[39m\u001b[38;5;124m'\u001b[39m\n\u001b[0;32m---> 27\u001b[0m sequences_PF00240_full, names_PF00240_full \u001b[38;5;241m=\u001b[39m \u001b[43mread_fasta\u001b[49m\u001b[43m \u001b[49m\u001b[43m(\u001b[49m\u001b[43minput_PF00240_full\u001b[49m\u001b[43m)\u001b[49m\n\u001b[1;32m     29\u001b[0m \u001b[38;5;28mprint\u001b[39m(\u001b[38;5;28mlen\u001b[39m(sequences_PF00240_full))\n",
      "Input \u001b[0;32mIn [4]\u001b[0m, in \u001b[0;36mread_fasta\u001b[0;34m(input_f)\u001b[0m\n\u001b[1;32m      9\u001b[0m arr_seqs  \u001b[38;5;241m=\u001b[39m []\n\u001b[1;32m     10\u001b[0m name, seq \u001b[38;5;241m=\u001b[39m \u001b[38;5;124m'\u001b[39m\u001b[38;5;124m'\u001b[39m,\u001b[38;5;124m'\u001b[39m\u001b[38;5;124m'\u001b[39m\n\u001b[0;32m---> 11\u001b[0m \u001b[38;5;28;01mwith\u001b[39;00m \u001b[38;5;28;43mopen\u001b[39;49m\u001b[43m(\u001b[49m\u001b[43minput_f\u001b[49m\u001b[43m,\u001b[49m\u001b[43m \u001b[49m\u001b[38;5;124;43m'\u001b[39;49m\u001b[38;5;124;43mr\u001b[39;49m\u001b[38;5;124;43m'\u001b[39;49m\u001b[43m)\u001b[49m \u001b[38;5;28;01mas\u001b[39;00m f:\n\u001b[1;32m     12\u001b[0m     \u001b[38;5;28;01mfor\u001b[39;00m line \u001b[38;5;129;01min\u001b[39;00m f:\n\u001b[1;32m     13\u001b[0m         \u001b[38;5;28;01mif\u001b[39;00m line[\u001b[38;5;241m0\u001b[39m] \u001b[38;5;241m==\u001b[39m \u001b[38;5;124m'\u001b[39m\u001b[38;5;124m>\u001b[39m\u001b[38;5;124m'\u001b[39m:\n",
      "\u001b[0;31mFileNotFoundError\u001b[0m: [Errno 2] No such file or directory: './Q2/PF00240_full.fasta'"
     ]
    }
   ],
   "source": [
    "#Read the fasta file\n",
    "def read_fasta (input_f):\n",
    "    \"\"\"\n",
    "    Read a fasta file\n",
    "    input1 input_f: fasta file name\n",
    "    output1 arr_seqs: a two dimension array containing SeqID and amino acide sequence\n",
    "    \"\"\"\n",
    "    arr_names = []\n",
    "    arr_seqs  = []\n",
    "    name, seq = '',''\n",
    "    with open(input_f, 'r') as f:\n",
    "        for line in f:\n",
    "            if line[0] == '>':\n",
    "                arr_seqs.append(seq)\n",
    "                arr_names.append(name)\n",
    "                name = line[1:].rstrip('\\n')\n",
    "                seq = ''\n",
    "            else:\n",
    "                seq += line.rstrip('\\n')\n",
    "    arr_seqs.append( seq )\n",
    "    arr_names.append(name)\n",
    "    arr_seqs.pop( 0)\n",
    "    arr_names.pop(0)\n",
    "    return arr_seqs, arr_names \n",
    "\n",
    "input_PF00240_full = './Q2/PF00240_full.fasta'\n",
    "sequences_PF00240_full, names_PF00240_full = read_fasta (input_PF00240_full)\n",
    "\n",
    "print(len(sequences_PF00240_full))"
   ]
  },
  {
   "cell_type": "markdown",
   "metadata": {
    "id": "poZl4kXEu4mm"
   },
   "source": [
    "Reponse: <font color=\"blue\"> 21402 séquences\n",
    "\n",
    "</font>"
   ]
  },
  {
   "cell_type": "markdown",
   "metadata": {
    "id": "-IZk_GPeu4mm"
   },
   "source": [
    "<b>2.3</b>:\n",
    "Utilisez hmmsearch (default parameters) pour détecter les domaines ubiquitin dans le fichier PF00240_full.fasta. Utilisez l'option --domtblout pour enregistrer un fichier tabulaire, donnez le nom PF00240.domtb, répondre aux questions suivantes:"
   ]
  },
  {
   "cell_type": "code",
   "execution_count": 5,
   "metadata": {},
   "outputs": [
    {
     "ename": "OSError",
     "evalue": "./Q2/PF00240.domtb not found.",
     "output_type": "error",
     "traceback": [
      "\u001b[0;31m---------------------------------------------------------------------------\u001b[0m",
      "\u001b[0;31mOSError\u001b[0m                                   Traceback (most recent call last)",
      "Input \u001b[0;32mIn [5]\u001b[0m, in \u001b[0;36m<cell line: 5>\u001b[0;34m()\u001b[0m\n\u001b[1;32m      3\u001b[0m \u001b[38;5;28;01mimport\u001b[39;00m \u001b[38;5;21;01mnumpy\u001b[39;00m \u001b[38;5;28;01mas\u001b[39;00m \u001b[38;5;21;01mnp\u001b[39;00m\n\u001b[1;32m      4\u001b[0m input_domtblout \u001b[38;5;241m=\u001b[39m \u001b[38;5;124m'\u001b[39m\u001b[38;5;124mPF00240.domtb\u001b[39m\u001b[38;5;124m'\u001b[39m\n\u001b[0;32m----> 5\u001b[0m load \u001b[38;5;241m=\u001b[39m \u001b[43mnp\u001b[49m\u001b[38;5;241;43m.\u001b[39;49m\u001b[43mloadtxt\u001b[49m\u001b[43m(\u001b[49m\u001b[38;5;124;43m'\u001b[39;49m\u001b[38;5;124;43m./Q2/PF00240.domtb\u001b[39;49m\u001b[38;5;124;43m'\u001b[39;49m\u001b[43m,\u001b[49m\u001b[43m \u001b[49m\u001b[43mdelimiter\u001b[49m\u001b[38;5;241;43m=\u001b[39;49m\u001b[38;5;124;43m'\u001b[39;49m\u001b[38;5;130;43;01m\\t\u001b[39;49;00m\u001b[38;5;124;43m'\u001b[39;49m\u001b[43m,\u001b[49m\u001b[43m \u001b[49m\u001b[43mcomments\u001b[49m\u001b[38;5;241;43m=\u001b[39;49m\u001b[38;5;124;43m'\u001b[39;49m\u001b[38;5;124;43m#\u001b[39;49m\u001b[38;5;124;43m'\u001b[39;49m\u001b[43m,\u001b[49m\u001b[43m \u001b[49m\u001b[43mdtype\u001b[49m\u001b[38;5;241;43m=\u001b[39;49m\u001b[38;5;28;43mstr\u001b[39;49m\u001b[43m)\u001b[49m\n\u001b[1;32m      6\u001b[0m \u001b[38;5;28mprint\u001b[39m( \u001b[38;5;28mlen\u001b[39m(load) )\n\u001b[1;32m      7\u001b[0m \u001b[38;5;28mprint\u001b[39m(load\u001b[38;5;241m.\u001b[39mshape)\n",
      "File \u001b[0;32m/usr/lib/python3/dist-packages/numpy/lib/npyio.py:1067\u001b[0m, in \u001b[0;36mloadtxt\u001b[0;34m(fname, dtype, comments, delimiter, converters, skiprows, usecols, unpack, ndmin, encoding, max_rows, like)\u001b[0m\n\u001b[1;32m   1065\u001b[0m     fname \u001b[38;5;241m=\u001b[39m os_fspath(fname)\n\u001b[1;32m   1066\u001b[0m \u001b[38;5;28;01mif\u001b[39;00m _is_string_like(fname):\n\u001b[0;32m-> 1067\u001b[0m     fh \u001b[38;5;241m=\u001b[39m \u001b[43mnp\u001b[49m\u001b[38;5;241;43m.\u001b[39;49m\u001b[43mlib\u001b[49m\u001b[38;5;241;43m.\u001b[39;49m\u001b[43m_datasource\u001b[49m\u001b[38;5;241;43m.\u001b[39;49m\u001b[43mopen\u001b[49m\u001b[43m(\u001b[49m\u001b[43mfname\u001b[49m\u001b[43m,\u001b[49m\u001b[43m \u001b[49m\u001b[38;5;124;43m'\u001b[39;49m\u001b[38;5;124;43mrt\u001b[39;49m\u001b[38;5;124;43m'\u001b[39;49m\u001b[43m,\u001b[49m\u001b[43m \u001b[49m\u001b[43mencoding\u001b[49m\u001b[38;5;241;43m=\u001b[39;49m\u001b[43mencoding\u001b[49m\u001b[43m)\u001b[49m\n\u001b[1;32m   1068\u001b[0m     fencoding \u001b[38;5;241m=\u001b[39m \u001b[38;5;28mgetattr\u001b[39m(fh, \u001b[38;5;124m'\u001b[39m\u001b[38;5;124mencoding\u001b[39m\u001b[38;5;124m'\u001b[39m, \u001b[38;5;124m'\u001b[39m\u001b[38;5;124mlatin1\u001b[39m\u001b[38;5;124m'\u001b[39m)\n\u001b[1;32m   1069\u001b[0m     fh \u001b[38;5;241m=\u001b[39m \u001b[38;5;28miter\u001b[39m(fh)\n",
      "File \u001b[0;32m/usr/lib/python3/dist-packages/numpy/lib/_datasource.py:193\u001b[0m, in \u001b[0;36mopen\u001b[0;34m(path, mode, destpath, encoding, newline)\u001b[0m\n\u001b[1;32m    156\u001b[0m \u001b[38;5;124;03m\"\"\"\u001b[39;00m\n\u001b[1;32m    157\u001b[0m \u001b[38;5;124;03mOpen `path` with `mode` and return the file object.\u001b[39;00m\n\u001b[1;32m    158\u001b[0m \n\u001b[0;32m   (...)\u001b[0m\n\u001b[1;32m    189\u001b[0m \n\u001b[1;32m    190\u001b[0m \u001b[38;5;124;03m\"\"\"\u001b[39;00m\n\u001b[1;32m    192\u001b[0m ds \u001b[38;5;241m=\u001b[39m DataSource(destpath)\n\u001b[0;32m--> 193\u001b[0m \u001b[38;5;28;01mreturn\u001b[39;00m \u001b[43mds\u001b[49m\u001b[38;5;241;43m.\u001b[39;49m\u001b[43mopen\u001b[49m\u001b[43m(\u001b[49m\u001b[43mpath\u001b[49m\u001b[43m,\u001b[49m\u001b[43m \u001b[49m\u001b[43mmode\u001b[49m\u001b[43m,\u001b[49m\u001b[43m \u001b[49m\u001b[43mencoding\u001b[49m\u001b[38;5;241;43m=\u001b[39;49m\u001b[43mencoding\u001b[49m\u001b[43m,\u001b[49m\u001b[43m \u001b[49m\u001b[43mnewline\u001b[49m\u001b[38;5;241;43m=\u001b[39;49m\u001b[43mnewline\u001b[49m\u001b[43m)\u001b[49m\n",
      "File \u001b[0;32m/usr/lib/python3/dist-packages/numpy/lib/_datasource.py:533\u001b[0m, in \u001b[0;36mDataSource.open\u001b[0;34m(self, path, mode, encoding, newline)\u001b[0m\n\u001b[1;32m    530\u001b[0m     \u001b[38;5;28;01mreturn\u001b[39;00m _file_openers[ext](found, mode\u001b[38;5;241m=\u001b[39mmode,\n\u001b[1;32m    531\u001b[0m                               encoding\u001b[38;5;241m=\u001b[39mencoding, newline\u001b[38;5;241m=\u001b[39mnewline)\n\u001b[1;32m    532\u001b[0m \u001b[38;5;28;01melse\u001b[39;00m:\n\u001b[0;32m--> 533\u001b[0m     \u001b[38;5;28;01mraise\u001b[39;00m \u001b[38;5;167;01mIOError\u001b[39;00m(\u001b[38;5;124m\"\u001b[39m\u001b[38;5;132;01m%s\u001b[39;00m\u001b[38;5;124m not found.\u001b[39m\u001b[38;5;124m\"\u001b[39m \u001b[38;5;241m%\u001b[39m path)\n",
      "\u001b[0;31mOSError\u001b[0m: ./Q2/PF00240.domtb not found."
     ]
    }
   ],
   "source": [
    "#CETTE CASE SERT A QUOI  ?\n",
    "\n",
    "import numpy as np\n",
    "input_domtblout = 'PF00240.domtb'\n",
    "load = np.loadtxt('./Q2/PF00240.domtb', delimiter='\\t', comments='#', dtype=str)\n",
    "print( len(load) )\n",
    "print(load.shape)\n",
    "print( load[0] )"
   ]
  },
  {
   "cell_type": "code",
   "execution_count": 6,
   "metadata": {
    "id": "TRh42fFWu4mn"
   },
   "outputs": [
    {
     "name": "stdout",
     "output_type": "stream",
     "text": [
      "['R0KPY3_NOSB1/3-74', '-', '72', 'PF00240', '-', '72', '5.2e-36', '122.4', '0.5', '1', '1', '5.7e-36', '5.7e-36', '122.3', '0.5', '1', '72', '1', '72', '1', '72', '0.99', '-\\n']\n"
     ]
    }
   ],
   "source": [
    "#Read the domtblout file\n",
    "import re\n",
    "def read_domtblout(input_f):\n",
    "    \"\"\"\n",
    "    load the results of domtblout file\n",
    "    input1 input_f: domtblout file name\n",
    "    output hits: a matrix containg hit information\n",
    "    \"\"\"\n",
    "    hits = []\n",
    "    with open(input_f, 'r') as f:\n",
    "        for line in f:\n",
    "            if line[0] != '#':\n",
    "                splited = re.split('[ ]+', line)\n",
    "                #print(len(splited))\n",
    "                hits.append(splited)\n",
    "    \n",
    "    return hits\n",
    "\n",
    "#input_domtblout = './Q2/PF00240.domtb'\n",
    "input_domtblout = 'PF00240.domtb'\n",
    "hits_PF00240 = read_domtblout(input_domtblout)\n",
    "print (hits_PF00240[0])\n",
    "#['R0KPY3_NOSB1/3-74', '-', '72', 'PF00240', '-', '72', '5.2e-36', '122.4', '0.5', '1', '1', '5.7e-36', '5.7e-36', '122.3', '0.5', '1', '72', '1', '72', '1', '72', '0.99', '-\\n']"
   ]
  },
  {
   "cell_type": "markdown",
   "metadata": {
    "id": "qq4-WmIRu4mn"
   },
   "source": [
    "<b>a)</b>: Combien de domaines observez-vous dans le fichier PF00240.domtb? Comparez le nombre de domaines détectés avec le nombre attendu (question 2.2)"
   ]
  },
  {
   "cell_type": "code",
   "execution_count": 7,
   "metadata": {
    "id": "MOkYjsEou4mn"
   },
   "outputs": [
    {
     "name": "stdout",
     "output_type": "stream",
     "text": [
      "21435\n"
     ]
    }
   ],
   "source": [
    "print( len(hits_PF00240) )"
   ]
  },
  {
   "cell_type": "markdown",
   "metadata": {
    "id": "coY9m7Y0u4mn"
   },
   "source": [
    "Reponse: \n",
    "<font color=\"blue\"> 21439 hits contre 21402 trouvés avant : soit 37 de moins  \n",
    "V2 = 21435 hits contre 21402 trouvés avant : soit 33 de moins\n",
    "\n",
    "</font>"
   ]
  },
  {
   "cell_type": "markdown",
   "metadata": {
    "id": "gMMWiN5ju4mo"
   },
   "source": [
    "<b>b)</b>: Quelle est le c-evaleus et les scores du meilleur et du pire hit?"
   ]
  },
  {
   "cell_type": "code",
   "execution_count": 12,
   "metadata": {
    "id": "LbGSj-Imu4mo"
   },
   "outputs": [
    {
     "name": "stdout",
     "output_type": "stream",
     "text": [
      "Meilleur hit:\n",
      " c-e-value: 5.7e-36 \n",
      " score: 122.3\n",
      "\n",
      "Pire hit:\n",
      " c-e-value: 5.2e-05 \n",
      " score: 23.2\n"
     ]
    }
   ],
   "source": [
    "print('Meilleur hit:\\n c-e-value: {} \\n score: {}\\n'.format( hits_PF00240[0][11], hits_PF00240[0][13] ))\n",
    "print('Pire hit:\\n c-e-value: {} \\n score: {}'.format( hits_PF00240[-1][11], hits_PF00240[-1][13] ))"
   ]
  },
  {
   "cell_type": "markdown",
   "metadata": {
    "id": "pAAWZzqOu4mo"
   },
   "source": [
    "Reponse:\n",
    "\n",
    "Meilleur hit:  \n",
    " - e-value: 1.7e-35  \n",
    " - c-e-value: 1.8e-35\n",
    "\n",
    "Pire hit:  \n",
    " - e-value: 0.0002  \n",
    " - c-e-value: 0.0002    \n",
    " \n",
    "V2  \n",
    " \n",
    "Meilleur hit:  \n",
    " - c-e-value: 5.e-36  \n",
    " - score : 122.3\n",
    "\n",
    "Pire hit:  \n",
    " - e-value: 3.4e-05  \n",
    " - score : 23.2  \n",
    "</font>"
   ]
  },
  {
   "cell_type": "markdown",
   "metadata": {
    "id": "iGu_Jub_u4mp"
   },
   "source": [
    "<b>c)</b>: Exécutez à nouveau hmmsearch et définissez le domain e-value à 1e-5. Combien de domaines observez-vous? Comparez le nombre de domaines détectés avec l'attendu (question 2.2) et obtenu dans la question a. Justifiez votre réponse."
   ]
  },
  {
   "cell_type": "code",
   "execution_count": 9,
   "metadata": {
    "id": "mo9j41fuu4mp"
   },
   "outputs": [
    {
     "name": "stdout",
     "output_type": "stream",
     "text": [
      "21421\n"
     ]
    }
   ],
   "source": [
    "#input_file = './Q2/PF00240_000005.domtb'\n",
    "input_file = 'PF00240_V2.domtb'\n",
    "hits_PF00240_00005 = read_domtblout(input_file)\n",
    "print(len(hits_PF00240_00005))"
   ]
  },
  {
   "cell_type": "markdown",
   "metadata": {
    "id": "y0knOGJru4mp"
   },
   "source": [
    "Reponse:\n",
    "<font color=\"blue\"> 21435 domaines, on perd 4 domaines qui ont une e-value supérieure à 1e-5  \n",
    "    \n",
    "V2 : 21421 domaines, on perd 14 domaines qui ont une e-value supérieure à 1e-5  \n",
    "    \n",
    "\n",
    "<font>\n"
   ]
  },
  {
   "cell_type": "markdown",
   "metadata": {
    "id": "ZQ0XEFhfu4mq"
   },
   "source": [
    "<b>d)</b>:\n",
    "Téléchargez le modèle hmm pour le domaine ubiquitin depuis le site de Pfam. Clique sur \"Curation & model\" et sur \"download the raw HMM for this family\". Exécutez à nouveau hmmsearch avec l'option --cut_ga. Comparez le nombre de domaines détectés avec les questions précédentes. Qu'est-ce que cut_ga fait?"
   ]
  },
  {
   "cell_type": "code",
   "execution_count": 10,
   "metadata": {
    "id": "tJKkpKfXu4mq"
   },
   "outputs": [
    {
     "name": "stdout",
     "output_type": "stream",
     "text": [
      "21332\n"
     ]
    }
   ],
   "source": [
    "#input_file = './Q2/PF00240_cut_ga.domtb'\n",
    "input_file ='PF00240_V3.domtb'\n",
    "hits_PF00240_cutga = read_domtblout(input_file)\n",
    "print( len(hits_PF00240_cutga) )"
   ]
  },
  {
   "cell_type": "markdown",
   "metadata": {
    "id": "owZ8vyXAu4mq"
   },
   "source": [
    "Reponse: \n",
    "<font color=\"blue\"> cut_ga uses Pfam gathering threshold score cutoffs. 21449 hits found, 10 more\n",
    "A mettre en francais   \n",
    "V2 : 21332 hits, 89 en moins\n",
    "<font>"
   ]
  },
  {
   "cell_type": "markdown",
   "metadata": {
    "id": "2NuPAzasu4mr"
   },
   "source": [
    "<b>Exercice 3 </b>: <u>Cooccurrence de domaines</u> <br>\n",
    "Le domaine Ribosomal_S27 (PF01599) est très suivant trouvé avec le domaine de l'ubiquitine?  Allez sur le site Pfam, recherchez le domaine PF01599 et cliquez sur \"Domain Organisation\" recherchez le domaine ubiquitin dans la liste des architectures de domaine. Répondre aux question suivantes:<br>\n",
    "<b>3.1</b>:\n",
    "Si ces domaines coexistent, dans combien de séquences cette architecture de domaines est-elle observée? "
   ]
  },
  {
   "cell_type": "markdown",
   "metadata": {
    "id": "VrVyb9onu4mr"
   },
   "source": [
    "Reponse:\n",
    "<font color=\"blue\"> On observe cette architecture de domaine avec le domaine ubiquitine dans 3509 protéines.\n",
    "\n",
    "<font>"
   ]
  },
  {
   "cell_type": "markdown",
   "metadata": {
    "id": "GYsm0oYRu4ms"
   },
   "source": [
    "<b>3.2</b>: Vérifions si la séquence W4GKD7 décrite comme protéine ribosomale S27a de l'Ubiquitine-40S a l'architecture du domaine: ubiquitine, Ribosomal_S27. <br>\n",
    "- Téléchargez la séquence de W4GKD7 de <a href=\"http://www.uniprot.org/uniprot/W4GKD7\">Uniprot</a>  et téléchargez le modèle Ribosomal_S27 hmmer à partir du site Web Pfam.\n",
    "- Concattez les modèles ubiquitin.hmm et Ribosomal_S27.hmm, enregistrez le fichier sous Ribosomal_S27_ubiquitin.hmm.\n",
    "- Exécutez hmmsearch avec l'option --cut_ga pour rechercher des domaines dans W4GKD7, utilisez le modèle de fichier Ribosomal_S27_ubiquitin.hmm. Enregistrez la sortie au format tabulaire, utilisez l'option --domtblout pour enregistrer un fichier tabulaire, nommé W4GKD7.domtb\n",
    "- Analyser le fichier W4GKD7.domtb, avez-vous détecté les domaines Ribosomal_S27 et ubiquitin? Quels sont les scores et les e-values?"
   ]
  },
  {
   "cell_type": "code",
   "execution_count": 13,
   "metadata": {},
   "outputs": [
    {
     "name": "stdout",
     "output_type": "stream",
     "text": [
      "2\n",
      "score : 114.5 \t c-e-value:7.2e-38\n",
      "score : 89.9 \t c-e-value:3.8e-30\n"
     ]
    }
   ],
   "source": [
    "#for i in os.listdir('./Q3'):\n",
    "#    print(i)\n",
    "    \n",
    "#file = './Q3/W4GKD7.domtb'\n",
    "file = 'W4GKD7.domtb'\n",
    "W4GKD7 = read_domtblout(file)\n",
    "print(len(W4GKD7))\n",
    "for hit in W4GKD7:\n",
    "    print( 'score : {} \\t c-e-value:{}'.format(hit[13], hit[11]))"
   ]
  },
  {
   "cell_type": "markdown",
   "metadata": {
    "id": "iweuKqJlu4ms"
   },
   "source": [
    "Reponse:\n",
    "<font color=\"blue\"> Seulement 2 hits\n",
    "    \n",
    "e-value: 1.5e-30  \n",
    "c-e-value:3.8e-30  \n",
    "    \n",
    "    \n",
    "e-value: 3.8e-113  \n",
    "c-e-value:4.2e-113  \n",
    "    \n",
    "V2 :\n",
    "  \n",
    "Meilleur hit:  \n",
    " - score: 114.5 \n",
    " - c-e-value: 7.2e-38\n",
    "\n",
    "Pire hit:  \n",
    " - score: 89.9  \n",
    " - c-e-value: 3.8e-30 \n",
    "<font>\n"
   ]
  },
  {
   "cell_type": "markdown",
   "metadata": {
    "id": "M5bM2uq6u4ms"
   },
   "source": [
    "<b>3.3</b>: Visualisez l'architecture du domaine pour la protéine W4GKD7 en utilisant le programme  <a href=\"http://prosite.expasy.org/cgi-bin/prosite/mydomains/\">myDomains</a>; Remplissez la longueur de la protéine et les données de domaine. Vous pouvez trouver toutes les informations dans le fichier W4GKD7.domtb, choisir la forme et la couleur que vous préférez, inclure l'image dans votre reponse."
   ]
  },
  {
   "cell_type": "code",
   "execution_count": 16,
   "metadata": {},
   "outputs": [],
   "source": [
    "#JE TE LAISSE REFAIRE LA FIGURE "
   ]
  },
  {
   "cell_type": "markdown",
   "metadata": {
    "id": "FLAeHDpCu4ms"
   },
   "source": [
    "Reponse:\n"
   ]
  },
  {
   "cell_type": "markdown",
   "metadata": {
    "id": "2fF49WTMu4ms"
   },
   "source": [
    "<b>Exercice 4 </b>: <u>Domaines du même clan</u><br>\n",
    "Les familles de Pfam ayant des fonctions similaires sont suivant orgnisés dans un clan, c'est le cas des familles ubiquitin et ubiquitin_2 placé dans le clan CL0072.<br>\n",
    "<b>4.1</b>: Combien de membre exists dans le clans CL0072?"
   ]
  },
  {
   "cell_type": "markdown",
   "metadata": {
    "id": "r4aIFY9xu4ms"
   },
   "source": [
    "Reponse:<font color=\"blue\">\n",
    "Il y a 79 membres dans le clan CL0072.\n",
    "<font>"
   ]
  },
  {
   "cell_type": "markdown",
   "metadata": {
    "id": "Skp5zOaUu4ms"
   },
   "source": [
    "<b>4.2</b>: Téléchargez le modèle hmm pour le domaine ubiquitin_2 depuis le site de Pfam. Clique sur \"Curation & model\" et sur \"download the raw HMM for this family\". Concatenez les modeles ubiquitin.hmm et ubiquitin_2.hmm and executez hmmsearch avec --cut_ga sur les sequences du fichier Uniprot_ubiquitin.fasta, utilizez l'option --domtblout pour enregistrer un fichier tabulaire. Repondrez aux questions:\n"
   ]
  },
  {
   "cell_type": "markdown",
   "metadata": {
    "id": "5YGoZnPRu4ms"
   },
   "source": [
    "<b>a)</b>: Combien de sequences ont plus qu'un hit?"
   ]
  },
  {
   "cell_type": "markdown",
   "metadata": {
    "collapsed": true,
    "id": "5ssugoCFu4mt"
   },
   "source": [
    "Reponse: <font color=\"blue\"> \n",
    "\n",
    "<font>"
   ]
  },
  {
   "cell_type": "code",
   "execution_count": 52,
   "metadata": {},
   "outputs": [
    {
     "name": "stdout",
     "output_type": "stream",
     "text": [
      "37\n",
      "37\n"
     ]
    }
   ],
   "source": [
    "import collections\n",
    "#read\n",
    "rdu = read_domtblout('Uniprot_ubiquitin.domtb')\n",
    "#liste des séquences\n",
    "l = [rdu[i][0] for i in range(len(rdu))]\n",
    "#Récuparation des occurences sous formes de counter\n",
    "c = collections.Counter(l)\n",
    "#Transformation du counter en tuple\n",
    "cc = c.most_common()\n",
    "\n",
    "print(len([cc[i][0] for i in range(len(cc)) if cc[i][1]>1]))"
   ]
  },
  {
   "cell_type": "code",
   "execution_count": 17,
   "metadata": {},
   "outputs": [],
   "source": [
    "#UTILISE LE FICHIER Uniprot_ubiquitin.domtb"
   ]
  },
  {
   "cell_type": "markdown",
   "metadata": {
    "id": "IGx0cwmAu4mt"
   },
   "source": [
    "<b>b)</b>: Faite une fonction pour filtrer les meilleurs hits de protéines membre de ubiquitin à partir d'un fichier domtb. \n",
    "Si une séquence a plus qu'un hit dans de positions chevauchantes vous devez choisir le hit avec le meilleur c-evalue. \n",
    "Le début et fin de chaque hit se trouve dans les colonnes 20 et 21 du fichier de sortie de hmmsearch."
   ]
  },
  {
   "cell_type": "code",
   "execution_count": null,
   "metadata": {
    "id": "b2RdrPsOu4mu"
   },
   "outputs": [],
   "source": [
    "def best_hits(hits, eValue_thresh, overlap_thresh):\n",
    "    \"\"\"\n",
    "    Filtering the best hits\n",
    "    input1 hits: hit table (output of domtb file)\n",
    "    input2 eValue_thresh: E-value Threshold (default 1e-100)\n",
    "    input3 overlap_thresh: overlaping Threshold (default 10)\n",
    "    output1 meilleur_hits: filtered hit table \n",
    "    \"\"\"\n",
    "    meilleur_hits = []\n",
    "   \n",
    "    return meilleur_hits\n",
    "\n",
    "input_fasta = 'Uniprot_ubiquitin.fasta'\n",
    "sequences,seq_names = read_fasta (input_fasta)\n",
    "input_domtblout = 'Uniprot_ubiquitin.domtb'\n",
    "hits_ubiquitin = read_domtblout(input_domtblout)\n",
    "eValue_thresh = 8e-100\n",
    "overlap_thresh = 10\n",
    "meilleur_hits = best_hits(hits_ubiquitin, eValue_thresh, overlap_thresh)\n",
    "\n"
   ]
  }
 ],
 "metadata": {
  "colab": {
   "collapsed_sections": [],
   "name": "TME8_corrige.ipynb",
   "provenance": []
  },
  "kernelspec": {
   "display_name": "Python 3 (ipykernel)",
   "language": "python",
   "name": "python3"
  },
  "language_info": {
   "codemirror_mode": {
    "name": "ipython",
    "version": 3
   },
   "file_extension": ".py",
   "mimetype": "text/x-python",
   "name": "python",
   "nbconvert_exporter": "python",
   "pygments_lexer": "ipython3",
   "version": "3.10.6"
  }
 },
 "nbformat": 4,
 "nbformat_minor": 1
}

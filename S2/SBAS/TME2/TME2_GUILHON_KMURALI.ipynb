{
 "cells": [
  {
   "cell_type": "markdown",
   "metadata": {
    "id": "zc3cyupLxpLU"
   },
   "source": [
    "<h1><b>Statistique en Bioinformatique : </b> TME2 </h1>\n",
    "<br>\n",
    "L’objectif de ce TME est: \n",
    "<br>\n",
    "<ul>\n",
    "<li> objectif 1: comprendre les différences d'alignement global et local, </li>\n",
    "<li> objectif 2: reconstruire une matrice de substitution du type Blosum, </li>\n",
    "</ul>\n",
    "<br>\n",
    "<div class=\"alert alert-warning\" role=\"alert\" style=\"margin: 10px\">\n",
    "<p><b>Soumission</b></p>\n",
    "<ul>\n",
    "<li>Renomer le fichier TME2.ipynb pour NomEtudiant1_NomEtudiant2.ipynb </li>\n",
    "<li>Soumettre sur moodle </li>\n",
    "</ul>\n",
    "</div>"
   ]
  },
  {
   "cell_type": "markdown",
   "metadata": {
    "id": "hLY2cvLFxpLa"
   },
   "source": [
    "Nom etudiant 1 : GUILHON Henri\n",
    "<br>\n",
    "Nom etudiant 2 : K.MURALI Sharane\n",
    "<br>"
   ]
  },
  {
   "cell_type": "markdown",
   "metadata": {
    "id": "FRkAzmSLxpLb"
   },
   "source": [
    "<b> Exercice 1 </b>: On va étudier un alignement “difficile” entre la protéine emph50s ribosomal L20 chez A. aeolicus, \n",
    "et la protéine ligase UBR5 chez l’homme (L’alignement structural est montré ci-dessous). \n",
    "<br>\n",
    "\n",
    "<img src=\"bacthum.png\" alt=\"Smiley face\" height=\"210\" width=\"202\"> \n",
    "\n",
    "\n",
    "\n",
    "<br><br>\n",
    "<b>A.</b> Récupérez la séquence de la protéine “E3 ubiquitin ligase UBR5” chez l’homme et de la protéine “50S ribosomal L20” chez A. aeolicus \n",
    "via le site <a href=\"http://www.uniprot.org/\">Uniprot</a>  au format .fasta.\n",
    "\n",
    "<br>\n",
    "<b>B.</b> A l’aide du site <a href=\"https://www.ebi.ac.uk/Tools/psa/\">psa</a>, alignez ces séquences. Commentez les faibles pourcentage d’identité malgré le bon alignement des ces structures.\n"
   ]
  },
  {
   "cell_type": "markdown",
   "metadata": {
    "id": "ri9NO201xpLc"
   },
   "source": [
    "Réponse : Voici le résultat obtenu  \n",
    "\n",
    "- Aligned_sequences: 2  \n",
    "- 1: UBR5_HUMAN\n",
    "- 2: RL20_AQUAE\n",
    "- Matrix: EBLOSUM62\n",
    "- Gap_penalty: 10.0\n",
    "- Extend_penalty: 0.5\n",
    "- Length: 2826\n",
    "- Identity:      29/2826 ( 1.0%)\n",
    "- Similarity:    51/2826 ( 1.8%)\n",
    "- Gaps:        2735/2826 (96.8%)\n",
    "- Score: 28.5\n",
    "\n",
    "L'alignement réside ici sur une identité parfaite à 1% mais une identité fonctionnelle (similarité) à 1.8%, la présence de gaps perturbent l'alignement."
   ]
  },
  {
   "cell_type": "markdown",
   "metadata": {
    "id": "HmhkuDvTxpLc"
   },
   "source": [
    "<b>C.</b> Récupérez la séquence de la protéine “metL Bifunctional aspartokinase/homoserine dehydrogenase 2” et de la protéine “lysC Lysine-sensitive aspartokinase 3” chez E. coli via le site <a href=\"http://www.uniprot.org/\"> Uniprot </a> au format .fasta. Reproduisez, à l’aide du site <a href=\"https://www.ebi.ac.uk/Tools/psa/\"> psa</a>, l’alignement global et local vu en TD. Observez la modification des résultats en changeant la matrice de substitution et/ou les pénalités de gap (“Gap_penalty” et “Extend_penalty”)."
   ]
  },
  {
   "cell_type": "markdown",
   "metadata": {
    "id": "mWPYrmMwxpLd"
   },
   "source": [
    "Reponse:\n",
    "Avec un alignement global :   \n",
    "\n",
    "Voici les résulats avec BLOSUM62:  \n",
    "\n",
    "- Aligned_sequences: 2\n",
    "- 1: AK2H_ECOLI\n",
    "- 2: AK3_ECOLI\n",
    "- Matrix: EBLOSUM62\n",
    "- Gap_penalty: 10.0\n",
    "- Extend_penalty: 0.5\n",
    "- Length: 854\n",
    "- Identity:     136/854 (15.9%)\n",
    "- Similarity:   209/854 (24.5%) \n",
    "- Gaps:         449/854 (52.6%)\n",
    "- Score: 351.0\n",
    "\n",
    "Voici les résultats avec BLOSUM90 :  \n",
    "\n",
    "- Aligned_sequences: 2\n",
    "- 1: AK2H_ECOLI\n",
    "- 2: AK3_ECOLI\n",
    "- Matrix: EBLOSUM90\n",
    "- Gap_penalty: 10.0\n",
    "- Extend_penalty: 0.5\n",
    "- Length: 926\n",
    "- Identity:     157/926 (17.0%)\n",
    "- Similarity:   190/926 (20.5%)\n",
    "- Gaps:         593/926 (64.0%)\n",
    "- Score: 331.0\n",
    "\n",
    "Voici les résultats avec BLOSUM62 et les coûts de pénalité à 1: \n",
    "\n",
    "- Aligned_sequences: 2\n",
    "- 1: AK2H_ECOLI\n",
    "- 2: AK3_ECOLI\n",
    "- Matrix: EBLOSUM62\n",
    "- Gap_penalty: 1.0\n",
    "- Extend_penalty: 1.0\n",
    "- Length: 886\n",
    "- Identity:     207/886 (23.4%)\n",
    "- Similarity:   285/886 (32.2%)\n",
    "- Gaps:         513/886 (57.9%)\n",
    "- Score: 830.0\n",
    "\n",
    "En gardant le même BLOSUM, on peut remarquer que les coûts de pénalité réduits fournissent un meilleur pourcentage d'identité, également en modifiant avec le BLOSUM90. Le score est beaucoup plus élevé avec une faible pénalisation et il est réduit avec le BLOSUM90.\n",
    "\n",
    "Avec un alignement local :  \n",
    "\n",
    "Voici les résulats avec BLOSUM62:    \n",
    "\n",
    "- Aligned_sequences: 2\n",
    "- 1: AK3_ECOLI\n",
    "- 2: AK2H_ECOLI\n",
    "- Matrix: EBLOSUM62\n",
    "- Gap_penalty: 10.0\n",
    "- Extend_penalty: 0.5\n",
    "- Length: 482\n",
    "- Identity:     133/482 (27.6%)\n",
    "- Similarity:   205/482 (42.5%)\n",
    "- Gaps:          85/482 (17.6%)\n",
    "- Score: 353.5\n",
    "\n",
    "Voici les résultats avec le BLOSUM90 :\n",
    "\n",
    "- Aligned_sequences: 2\n",
    "- 1: AK3_ECOLI\n",
    "- 2: AK2H_ECOLI\n",
    "- Matrix: EBLOSUM90\n",
    "- Gap_penalty: 10.0\n",
    "- Extend_penalty: 0.5\n",
    "- Length: 474\n",
    "- Identity:     140/474 (29.5%)\n",
    "- Similarity:   170/474 (35.9%)\n",
    "- Gaps:         179/474 (37.8%)\n",
    "- Score: 341.0\n",
    "\n",
    "Voici les résultats avec BLOSUM62 et les coûts de pénalité à 1:  \n",
    "\n",
    "- Aligned_sequences: 2\n",
    "- 1: AK3_ECOLI\n",
    "- 2: AK2H_ECOLI\n",
    "- Matrix: EBLOSUM62\n",
    "- Gap_penalty: 1.0\n",
    "- Extend_penalty: 1.0\n",
    "- Length: 646\n",
    "- Identity:     206/646 (31.9%)\n",
    "- Similarity:   285/646 (44.1%)\n",
    "- Gaps:         271/646 (42.0%)\n",
    "- Score: 832.0\n",
    "\n",
    "Les résultats sont quasiment similaires à l'alignement global mais avec une meilleure précision sur l'identité et les similarités."
   ]
  },
  {
   "cell_type": "markdown",
   "metadata": {
    "id": "defYSqBzxpLd"
   },
   "source": [
    "<b>Exercice 2</b>: Score alignement global, local <br>\n",
    "Faire une fonction pour calculer : 1) la pourcentage de identité, 2) la pourcentage de similarité, 3) le score d’un alignement en utilisant la matrix blosum62. Le calcul de la similarité doit prendre en considération les acides amine ayant la même propriété physico chimique. Dans notre cas, tous les acides amine qui ont des valeurs supérieur à zéro dans la matrice BLOSUM62. Le score basé sur la matrice blosum doit aussi prendre en considération les deux pénalités de gaps, ouverture et extension. Teste vos fonctions en utilisant le fichier test.fasta\n"
   ]
  },
  {
   "cell_type": "code",
   "execution_count": 196,
   "metadata": {
    "id": "IJbv2IIxxpLe"
   },
   "outputs": [],
   "source": [
    "import numpy as np\n",
    "import pandas as pd\n",
    "\n",
    "#variable initiation\n",
    "aa = ['A', 'R', 'N', 'D', 'C', 'Q', 'E', 'G', 'H', 'I', 'L', 'K', 'M', 'F', 'P', 'S', 'T', 'W', 'Y', 'V','X']\n",
    "\n",
    "#parameters\n",
    "q = 21\n",
    "gap_open = -5\n",
    "gap_ext = 0.5\n",
    "\n",
    "#files\n",
    "#input_test_f = 'test.fasta'\n",
    "input_blosum_f = 'BLOSUM62.txt'\n",
    "\n",
    "#For a simple test use:\n",
    "input_test_f = 'testToy.fasta'\n",
    "\n"
   ]
  },
  {
   "cell_type": "code",
   "execution_count": 197,
   "metadata": {
    "id": "ue8REeWDxpLg",
    "outputId": "10e97e2b-2a6f-49d7-a5b2-a8cd4c4274b9"
   },
   "outputs": [
    {
     "name": "stdout",
     "output_type": "stream",
     "text": [
      "['ACCD', 'A-CD']\n"
     ]
    }
   ],
   "source": [
    "#Read the test.fasta file\n",
    "def read_fasta (input_f):\n",
    "    \"\"\"\n",
    "    Input1 input_f: fasta file name\n",
    "    Output1 arr_seqs: List of sequences \n",
    "    REMARK : We keep only the sequences, identifiers are not necessary\n",
    "    \"\"\"\n",
    "    arr_seqs = []\n",
    "    \n",
    "    \n",
    "    #Parcours du fichier pour enregistrer les différentes séquences dans la liste\n",
    "    with open(input_f, 'r') as in_f:\n",
    "        seq  = ''\n",
    "        for line in in_f:\n",
    "            if line[0] == '>':\n",
    "                arr_seqs.append(seq)\n",
    "                seq = ''\n",
    "            else:\n",
    "                seq += line.rstrip('\\n')\n",
    "        arr_seqs.append(seq)\n",
    "\n",
    "    #Le pop est présent pour retirer une séquence vide présente en première position\n",
    "    arr_seqs.pop(0)\n",
    "    \n",
    "    return arr_seqs\n",
    "\n",
    "\n",
    "testAln = read_fasta(input_test_f)\n",
    "print (testAln)\n",
    "#It shlould print ['ACCD', 'A-CD'] when using toy"
   ]
  },
  {
   "cell_type": "code",
   "execution_count": 198,
   "metadata": {
    "id": "_y2pUQhpxpLi",
    "scrolled": false
   },
   "outputs": [],
   "source": [
    "#read Blosum\n",
    "def read_blosum (input_f):\n",
    "    \"\"\"\n",
    "    Input1 input_f : blosum file name\n",
    "    Output1: a matrix of dimention [q-1, q-1] \n",
    "    REMARK : You should eliminate the last four columns and last four rows of Blosum file\n",
    "    \"\"\"\n",
    "    blosum = np.zeros((q-1,q-1))\n",
    "\n",
    "    #Parcours du fichier \n",
    "    with open(input_f, 'r') as in_f:\n",
    "        i = 0\n",
    "        #Parcours de chaque ligne\n",
    "        for line in in_f:\n",
    "            #Si on dépasse le nombre de lignes voulue\n",
    "            if i==q-1:\n",
    "                break\n",
    "            #Condition pour éviter de copier les premières lignes du fichier BLOSUM62.txt\n",
    "            if line[0]=='#' or line[0]==' ':\n",
    "                continue\n",
    "            \n",
    "            else:\n",
    "                #Récupération de touts les caractères de la ligne sauf le premièr car c'est une lettre\n",
    "                linebis = line.split()[1:q]\n",
    "                \n",
    "                #Affectation\n",
    "                for j in range(len(linebis)):\n",
    "                    blosum[i,j] = int(linebis[j])\n",
    "            i+=1\n",
    "    \n",
    "    return blosum\n",
    "\n",
    "matr_62 = read_blosum (input_blosum_f)\n",
    "#print(matr_62)\n"
   ]
  },
  {
   "cell_type": "code",
   "execution_count": 199,
   "metadata": {
    "id": "kVERnb8YxpLi",
    "outputId": "00129154-4626-4b90-f64d-f0b93c31d59b"
   },
   "outputs": [
    {
     "name": "stdout",
     "output_type": "stream",
     "text": [
      "identitee=  0.75  similarity=  0.75  score=  14.0\n"
     ]
    }
   ],
   "source": [
    "def indentite_calcul(seq1, seq2, gap_open, gap_ext, matr_62):\n",
    "    \"\"\"\n",
    "    Input1 seq1 : sequence\n",
    "    Input2 seq2 : sequence\n",
    "    Input3 gap_open : gap open penality\n",
    "    Input4 gap_ext : gap extention penality\n",
    "    Input5 matr_62 :  a matrix of dimention [q-1, q-1] representing substitution matrix\n",
    "    Output1 ident: sequence identity\n",
    "    Output2 similaire: sequence similarity\n",
    "    Output3 score: aligment score\n",
    "    \"\"\"\n",
    "\n",
    "\n",
    "    score = 0\n",
    "    similaire = 0\n",
    "    ident=0\n",
    "    \n",
    "    #Longueur de la séquence\n",
    "    lenseq = min(len(seq1),len(seq2))\n",
    "    \n",
    "    #gap permet de mettre à jour la présence d'un seul ou plusieurs à la suite à absence\n",
    "    gap = False\n",
    "    \n",
    "    #Parcours des séquences\n",
    "    for s in range(lenseq):\n",
    "        \n",
    "        #Cas d'identité\n",
    "        if seq1[s]==seq2[s]:\n",
    "            #Augmentation des compteurs\n",
    "            score += matr_62[aa.index(seq1[s]),aa.index(seq2[s])]\n",
    "            ident+=1\n",
    "            similaire+=1\n",
    "            \n",
    "        #Cas de différence\n",
    "        if seq1[s]!=seq2[s]:\n",
    "            \n",
    "            #Présence de gap\n",
    "            if seq1[s]=='-' or seq2[s]=='-':\n",
    "                \n",
    "                #Mise à jour des variables pour un premier gap\n",
    "                if gap == False:\n",
    "                    gap = True\n",
    "                    score += gap_open\n",
    "                    \n",
    "                #Mise à jour du score pour un gap continu\n",
    "                else :\n",
    "                    score +=gap_ext\n",
    "            \n",
    "            #Absence de gap et différence           \n",
    "            else:\n",
    "                gap = False\n",
    "                lilscore =  matr_62[aa.index(seq1[s]),aa.index(seq2[s])]\n",
    "                if lilscore>=0:\n",
    "                    similaire+=1\n",
    "                score+= lilscore\n",
    "                \n",
    "    \n",
    "    #Calcul de l'identité et de la similarité\n",
    "    identitee = ident/lenseq\n",
    "    similarity = similaire/lenseq\n",
    "\n",
    "\n",
    "    return identitee,similarity,score\n",
    "\n",
    "identitee,similarity,score = indentite_calcul(testAln[0], testAln[1], gap_open, gap_ext, matr_62)\n",
    "print (\"identitee= \", identitee , \" similarity= \", similarity, \" score= \", score )\n",
    "\n",
    "#identitee=  0.75  similarity=  0.75  score=  14.0"
   ]
  },
  {
   "cell_type": "markdown",
   "metadata": {
    "id": "8cpbRq5FxpLj"
   },
   "source": [
    "<b>Exercice 3</b>: Matrice de substitution <br>\n",
    "Faire une programme (plusieurs fonctions seront nécessaires) pour produire une matrix de substitution comme Blosum. Utiliser l’alignement du fichiers <b>blocks.dat</b> Vous pouvez tester vous fonctions sue le fichier <b>blockToy.dat</b>. \n"
   ]
  },
  {
   "cell_type": "code",
   "execution_count": 214,
   "metadata": {
    "id": "eOdfz9ooxpLk"
   },
   "outputs": [],
   "source": [
    "from itertools import combinations, combinations_with_replacement\n",
    "from collections import Counter\n",
    "\n",
    "#input_block_f = 'block.dat'\n",
    "input_block_f = 'blockToy.dat'\n",
    "\n",
    "#aa = ['A', 'R', 'N', 'D', 'C', 'Q', 'E', 'G', 'H', 'I', 'L', 'K', 'M', 'F', 'P', 'S', 'T', 'W', 'Y', 'V','X']\n",
    "\n",
    "#For a simple test do:\n",
    "q = 3\n",
    "aa = ['A', 'B', 'C']\n",
    "\n"
   ]
  },
  {
   "cell_type": "code",
   "execution_count": 215,
   "metadata": {
    "id": "dujYZbatxpLk",
    "outputId": "e1b8faba-5e6a-45dc-9625-40ebb14ca3b3"
   },
   "outputs": [
    {
     "name": "stdout",
     "output_type": "stream",
     "text": [
      "5\n",
      "['ABCCB', 'ACABA', 'CBCCB', 'ACBBB']\n"
     ]
    }
   ],
   "source": [
    "#read alignment file\n",
    "from io import StringIO \n",
    "import sys\n",
    "\n",
    "def readAlnFile(input_f):\n",
    "    \"\"\"\n",
    "    Input1 input_f : Alignment File name\n",
    "    Output1 aln : List of aligned sequences\n",
    "    Output2 cols : Number of colums (L)\n",
    "    \"\"\"\n",
    "    \n",
    "    #Initialisation de aln\n",
    "    aln = []\n",
    "    \n",
    "    #Parcours du fichier\n",
    "    with open(input_f, 'r') as in_f:\n",
    "        #Parcours des lignes\n",
    "        for line in in_f:\n",
    "            aln.append(line.rstrip('\\n'))\n",
    "\n",
    "    #Calcul du nombre de colonnes\n",
    "    cols = len(aln[0])\n",
    "    \n",
    "    return aln, cols\n",
    "\n",
    "aln, cols  = readAlnFile(input_block_f)\n",
    "#cols = 43\n",
    "#cols = 5 #testing toy\n",
    "print (cols)\n",
    "print(aln)"
   ]
  },
  {
   "cell_type": "code",
   "execution_count": 216,
   "metadata": {
    "id": "rUmAvC7ixpLl",
    "outputId": "43a5a1c8-2e06-44b4-b9ca-c9282c6fa4b6"
   },
   "outputs": [
    {
     "name": "stdout",
     "output_type": "stream",
     "text": [
      "{('A', 'A'): 3, ('A', 'B'): 4, ('A', 'C'): 5, ('B', 'B'): 5, ('B', 'C'): 10, ('C', 'C'): 3}\n"
     ]
    }
   ],
   "source": [
    "#compute fij frequences\n",
    "def frequencies (aln, cols, aa):\n",
    "    \"\"\"\n",
    "    Input1 aln : List of aligned sequences\n",
    "    Input2 cols : Number of colums in the aligment (L)\n",
    "    Input3 aa: residue alphabet\n",
    "    Output1  pairs_freq_dict: a dictionary containing residue pair frequencies\n",
    "    \"\"\"\n",
    "    \n",
    "    #generate all aa combination\n",
    "    aa.sort()\n",
    "    #print(aa)\n",
    "    pairs_freq_dict = {x:0 for x in combinations_with_replacement(aa,2)}\n",
    "    #Parcours sur le nombre de colonnes\n",
    "    for c in range(cols):\n",
    "        #Liste temporaire de conservations des colonnes\n",
    "        colonne = []\n",
    "        \n",
    "        #Ajout des AA dans la liste temporaire\n",
    "        for j in range(len(aln)):\n",
    "            colonne.append(aln[j][c])\n",
    "        \n",
    "        #Mise en ordre (plus pratique pour la recherche de combinaisons)\n",
    "        colonne.sort()\n",
    "        #Mise à jour du dictionnaire avec les occurences\n",
    "        #print(colonne)\n",
    "        a = combinations(colonne, 2)\n",
    "        for comb in a:\n",
    "            pairs_freq_dict[comb] += 1\n",
    "        \n",
    "    return pairs_freq_dict\n",
    "\n",
    "pairs_freq_dict = frequencies (aln, cols, aa)\n",
    "print (pairs_freq_dict)\n",
    "#{('A', 'A'): 3, ('A', 'B'): 4, ('A', 'C'): 5, ('B', 'B'): 5, ('B', 'C'): 10, ('C', 'C'): 3}"
   ]
  },
  {
   "cell_type": "code",
   "execution_count": 217,
   "metadata": {
    "id": "exH7_KG2xpLl",
    "outputId": "26ae9f95-6ab0-48fb-dcce-546ea3635751"
   },
   "outputs": [
    {
     "name": "stdout",
     "output_type": "stream",
     "text": [
      "30\n"
     ]
    }
   ],
   "source": [
    "#compute T\n",
    "def calcule_T(pairs_freq_dict):\n",
    "    \"\"\"\n",
    "    Input1 pairs_freq_dict: a dictionary containing residue pair frequencies\n",
    "      Output1 : T, the overall sum \n",
    "    \"\"\"\n",
    "    \n",
    "    #Somme calculée en récupérant les valeurs de la liste dans le dictionnaire\n",
    "    return sum([ k for k in pairs_freq_dict.values() ])\n",
    "\n",
    "T = calcule_T(pairs_freq_dict)\n",
    "print (T)\n",
    "#30\n"
   ]
  },
  {
   "cell_type": "code",
   "execution_count": 218,
   "metadata": {
    "id": "JkpXjmJ-xpLm",
    "outputId": "c4660af1-41ef-4b03-e616-44b8cdb66a41"
   },
   "outputs": [
    {
     "name": "stdout",
     "output_type": "stream",
     "text": [
      "[0.25, 0.4, 0.35]\n"
     ]
    }
   ],
   "source": [
    "#compute pi\n",
    "def calcule_p_is(pairs_freq_dict, T):\n",
    "    \"\"\"\n",
    "    Compute the probability of each residue.\n",
    "    Input1 pairs_freq_dict: a dictionary containing residue pair frequencies\n",
    "    Input2 T : the overall sum \n",
    "    Output1 pi: List of probabilities\n",
    "    REMARK : You can compute qij directly from pairs_freq_dict or create a function to do so.\n",
    "    \"\"\"\n",
    "    \n",
    "    #Initialisation de pi\n",
    "    pi = []\n",
    "    \n",
    "    #Calcul de qij et stockage dans un dictionnaire fonctionnant comme pairs_freq_dict\n",
    "    qij = { k:pairs_freq_dict[k]/T for k in pairs_freq_dict.keys() }\n",
    "    \n",
    "    #Extraction de l'alphabet\n",
    "    alpha = list( set(a for (a,b) in qij) )\n",
    "    \n",
    "    #Tri pour une utilisation plus ordonnée\n",
    "    alpha.sort()\n",
    "    \n",
    "    #Parcours sur la longueur de l'alphabet\n",
    "    for a in range(len(alpha)):\n",
    "        #Stockage des tuples non identique a aplha[a] dans la liste temp\n",
    "        temp = [ k for k in qij if alpha[a] in k ]\n",
    "        temp.remove((alpha[a],alpha[a]))\n",
    "        \n",
    "        #Calcul de pi[a]\n",
    "        pi.append( qij[(alpha[a],alpha[a])] + sum([qij[kt] for kt in temp])/2 )\n",
    "    \n",
    "    return pi\n",
    "\n",
    "pi = calcule_p_is(pairs_freq_dict, T)\n",
    "print (pi)\n",
    "#[0.25, 0.4, 0.35]"
   ]
  },
  {
   "cell_type": "code",
   "execution_count": 219,
   "metadata": {
    "id": "RLS7JUa2xpLm",
    "outputId": "19c5a3d2-1b56-4257-d0cb-f31dd3def0ef"
   },
   "outputs": [
    {
     "name": "stdout",
     "output_type": "stream",
     "text": [
      "[[0.47000362924573563, -0.40546510810816444, -0.048790164169431945], [-0.40546510810816444, 0.04082199452025478, 0.17435338714477774], [-0.048790164169431945, 0.17435338714477774, -0.20294084399669016]]\n"
     ]
    }
   ],
   "source": [
    "#compute Sij\n",
    "def calcule_S_i_j(pairs_freq_dict, p, T):\n",
    "    \"\"\"\n",
    "    Input1 pairs_freq_dict: a dictionary containing residue pair frequencies\n",
    "    Input2 p: List of probabilities for each residue\n",
    "    Input3 T: the overall sum \n",
    "    Output1 s: Score for each residue pair\n",
    "    \"\"\"\n",
    "    #Initialisation de s\n",
    "    s = []\n",
    "    \n",
    "    #Calcul de qij et stockage dans un dictionnaire fonctionnant comme pairs_freq_dict\n",
    "    qij = {k:pairs_freq_dict[k]/T for k in pairs_freq_dict.keys()}\n",
    "    \n",
    "    #Extraction de l'alphabet\n",
    "    alpha = list(set(a for (a,b) in qij))\n",
    "    \n",
    "    #Tri pour une utilisation plus ordonnée\n",
    "    alpha.sort()\n",
    "    \n",
    "    #Parcours sur l'alphabet\n",
    "    for i in range(len(p)):\n",
    "        #Initialisation de la sous-liste\n",
    "        si = []\n",
    "        \n",
    "        #Parcours sur l'alphabet\n",
    "        for j in range(len(p)):\n",
    "            #Si différence : Sij = qij/(2*pi*pj)\n",
    "            if i != j:\n",
    "                si.append(np.log(qij[(alpha[min(i,j)], alpha[max(i,j)])]/(2*pi[i]*pi[j])))\n",
    "            \n",
    "            #Si identique : Sij = qij/(pi**2)\n",
    "            else:\n",
    "                si.append(np.log(qij[(alpha[i],alpha[j])]/(pi[i]**2)))\n",
    "        #Ajout de la sous-liste\n",
    "        s.append(si)\n",
    "    \n",
    "    return s\n",
    "\n",
    "Sij = calcule_S_i_j(pairs_freq_dict, pi, T)\n",
    "print (Sij)\n",
    "#[[0.47000362924573563, -0.40546510810816444, -0.048790164169431945], [-0.40546510810816444, 0.04082199452025478, 0.17435338714477774], [-0.048790164169431945, 0.17435338714477774, -0.20294084399669016]]"
   ]
  },
  {
   "cell_type": "code",
   "execution_count": 220,
   "metadata": {
    "id": "_4_r2vq5xpLm",
    "outputId": "ba538151-27f1-4527-fe84-ae186b3cc8df"
   },
   "outputs": [
    {
     "name": "stdout",
     "output_type": "stream",
     "text": [
      "Blosum matrix from Blocks database:\n",
      "     |    A|    B|    C|\n",
      "    A| 0.47|-0.41|-0.05|\n",
      "    B|-0.41| 0.04| 0.17|\n",
      "    C|-0.05| 0.17|-0.20|\n"
     ]
    }
   ],
   "source": [
    "#print Matrix\n",
    "Sij_c = [[\"{:0.2f}\".format(x) for x in l] for l in Sij]\n",
    "print('Blosum matrix from Blocks database:')\n",
    "row_format =\"{:>5}|\" * (len(aa) + 1)\n",
    "print(row_format.format(\"\", *aa))\n",
    "for aa, row in zip(aa, Sij_c):\n",
    "    print(row_format.format(aa, *row))"
   ]
  }
 ],
 "metadata": {
  "colab": {
   "collapsed_sections": [],
   "name": "TME2_corrige.ipynb",
   "provenance": []
  },
  "kernelspec": {
   "display_name": "Python 3 (ipykernel)",
   "language": "python",
   "name": "python3"
  },
  "language_info": {
   "codemirror_mode": {
    "name": "ipython",
    "version": 3
   },
   "file_extension": ".py",
   "mimetype": "text/x-python",
   "name": "python",
   "nbconvert_exporter": "python",
   "pygments_lexer": "ipython3",
   "version": "3.10.6"
  }
 },
 "nbformat": 4,
 "nbformat_minor": 1
}

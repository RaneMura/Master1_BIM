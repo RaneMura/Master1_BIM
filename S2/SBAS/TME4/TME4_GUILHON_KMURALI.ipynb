{
 "cells": [
  {
   "cell_type": "markdown",
   "metadata": {
    "id": "iH_7RQMQz1I_"
   },
   "source": [
    "<h1><b>Statistique en Bioinformatique : </b> TME4 </h1>\n",
    "<br>\n",
    "L’objectif de ce TME sont: \n",
    "<br>\n",
    "<ul>\n",
    "<li> objectif 1 : Utiliser les chaines de Markov pour comprendre les états phénotypiques de cellules cancéreuses.   </li> \n",
    "<li> objectif 2 : étudier la dynamique des proportions phénotypiques dans les lignées cellulaires du cancer du sein humain: SUM159 et SUM149</li>\n",
    "</ul>\n",
    "<br>\n",
    "<div class=\"alert alert-warning\" role=\"alert\" style=\"margin: 10px\">\n",
    "<p><b>Soumission</b></p>\n",
    "<ul>\n",
    "<li>Renomer le fichier TME3.ipynb pour NomEtudiant1_NomEtudiant2.ipynb </li>\n",
    "<li>Soumettre sur moodle </li>\n",
    "</div>\n"
   ]
  },
  {
   "cell_type": "markdown",
   "metadata": {
    "id": "RL6noRwnz1JF"
   },
   "source": [
    "Nom etudiant 1 : GUILHON Henri\n",
    "<br>\n",
    "Nom etudiant 2 : K.MURALI Sharane\n",
    "<br>"
   ]
  },
  {
   "cell_type": "markdown",
   "metadata": {
    "id": "JjI415A7z1JG"
   },
   "source": [
    "<h3>Introduction</h3>\n",
    "<ul>\n",
    "<li> Les cellules cancéreuses au sein des tumeurs existent souvent dans des états phénotypiques distincts.</li>\n",
    "<li> Les sous-populations de cellules purifiées pour un état phénotypique reviennent vers des proportions d'équilibre dans le temps.</li>\n",
    "<li> Cet équilibre peut s'expliquer par un modèle de Markov dans lequel les cellules passent de manière stochastique entre les états.  </li>\n",
    "</ul>\n",
    "\n",
    "<img src=\"img/CellStateTransition.png\" />"
   ]
  },
  {
   "cell_type": "markdown",
   "metadata": {
    "id": "klmlzMfxz1JG"
   },
   "source": [
    "<b>Exercice 1</b>:\n",
    "Traduire les graphes de transition de la figure D en matrices de transition, \n",
    "$P_{149}$ et $P_{159}$. Verifier bien que les matrices et les vecteur  $\\pi_{0}$ soitent normalisés.\n"
   ]
  },
  {
   "cell_type": "code",
   "execution_count": 17,
   "metadata": {
    "colab": {
     "base_uri": "https://localhost:8080/"
    },
    "executionInfo": {
     "elapsed": 215,
     "status": "ok",
     "timestamp": 1644853786575,
     "user": {
      "displayName": "Juliana Bernardes",
      "photoUrl": "https://lh3.googleusercontent.com/a-/AOh14GjmXQB4bG0DHp8uDHafZCQn94Atlo0kH-t-DxF8-w=s64",
      "userId": "00263393379349185862"
     },
     "user_tz": -60
    },
    "id": "y62Dy1Szz1JH",
    "outputId": "ca6703cf-3466-4c51-c9d9-c7dea1562f4a"
   },
   "outputs": [
    {
     "name": "stdout",
     "output_type": "stream",
     "text": [
      "[[0.61       0.3        0.09090909]\n",
      " [0.01       0.99       0.        ]\n",
      " [0.01       0.08       0.90909091]]\n",
      "[[0.58 0.07 0.35]\n",
      " [0.04 0.47 0.49]\n",
      " [0.01 0.   0.99]]\n"
     ]
    }
   ],
   "source": [
    "import matplotlib.pyplot as plt\n",
    "import numpy as np\n",
    "import scipy as sp\n",
    "from matplotlib.legend_handler import HandlerLine2D\n",
    "import random\n",
    "import math as mt\n",
    "\n",
    "#distribuition inicialle vecteur pi_0 S, L, B\n",
    "pi0_149 = np.array([0.039, 0.033, 0.9280])\n",
    "pi0_159 = np.array([0.019, 0.973, 0.0062])\n",
    "\n",
    "\n",
    "\n",
    "#matrices \n",
    "p_149 = np.array([[0.61, 0.30, 0.09], [0.01, 0.99, 0.00], [0.01, 0.08, 0.90]])\n",
    "\n",
    "\n",
    "p_159 = np.array([[0.58, 0.07, 0.35], [0.04, 0.47, 0.49], [0.01, 0.00, 0.99]])\n",
    "\n",
    "#Normaliser les vecteurs π0.\n",
    "\n",
    "def normalise(m):\n",
    "    return m/np.sum(m, axis=1)\n",
    "\n",
    "print (normalise(p_149))\n",
    "#[[0.61       0.3        0.09      ]\n",
    "# [0.01       0.99       0.        ]\n",
    "# [0.01010101 0.08080808 0.90909091]]\n",
    "\n",
    "\n",
    "print (normalise(p_159))\n",
    "#[[0.58 0.07 0.35]\n",
    "# [0.04 0.47 0.49]\n",
    "# [0.01 0.00 0.99]]\n",
    "\n"
   ]
  },
  {
   "cell_type": "markdown",
   "metadata": {
    "id": "BJqHvDoIz1JL"
   },
   "source": [
    "<b>Exercice 2</b>: Déterminer les états stationnaires \n",
    "$\\pi^\\star_{149}$ et $\\pi^\\star_{159}$. \n",
    "Est-ce que les valeurs que vous trouvez sont consistentes avec les \n",
    "valeurs experimentales en Fig. 1?"
   ]
  },
  {
   "cell_type": "code",
   "execution_count": 16,
   "metadata": {},
   "outputs": [
    {
     "name": "stdout",
     "output_type": "stream",
     "text": [
      "[[0.61 0.3  0.09]\n",
      " [0.01 0.99 0.  ]\n",
      " [0.01 0.08 0.9 ]]\n",
      "[[0.61       0.3        0.09090909]\n",
      " [0.01       0.99       0.        ]\n",
      " [0.01       0.08       0.90909091]]\n"
     ]
    }
   ],
   "source": [
    "print(p_149)\n",
    "print(normalise(p_149))"
   ]
  },
  {
   "cell_type": "code",
   "execution_count": 14,
   "metadata": {
    "colab": {
     "base_uri": "https://localhost:8080/"
    },
    "executionInfo": {
     "elapsed": 225,
     "status": "ok",
     "timestamp": 1644854983898,
     "user": {
      "displayName": "Juliana Bernardes",
      "photoUrl": "https://lh3.googleusercontent.com/a-/AOh14GjmXQB4bG0DHp8uDHafZCQn94Atlo0kH-t-DxF8-w=s64",
      "userId": "00263393379349185862"
     },
     "user_tz": -60
    },
    "id": "KaDmd5Pwz1JM",
    "outputId": "d1031a9e-3dfb-4f28-d8c2-b2eba41d015e"
   },
   "outputs": [
    {
     "name": "stdout",
     "output_type": "stream",
     "text": [
      "Pi star 149  [0.025 0.95  0.025]\n",
      "Pi star 159  [0.0234721  0.00310009 0.97342781]\n"
     ]
    }
   ],
   "source": [
    "#You can use the function numpy.linalg.eig\n",
    "#https://numpy.org/doc/stable/reference/generated/numpy.linalg.eig.html\n",
    "\n",
    "mat = np.array([[1, 2], [20, 60]])\n",
    "eigenvalues, eigenvectors = np.linalg.eig(mat)\n",
    "\n",
    "#print (eigenvalues,\"\\n\" ,eigenvectors)\n",
    "\n",
    "def star(mat):\n",
    "    eival,eivect = np.linalg.eig(normalise(mat).T)\n",
    "    for  i in range(len(eival)):\n",
    "        # On cherche la valeur propre telle que pi*.P = pi*\n",
    "        # Donc celle qui se rapproche le plus de 1\n",
    "        if abs(eival[i]-1)<0.0000000001:\n",
    "            return eivect[:,i]/np.sum(eivect[:,i])\n",
    "\n",
    "pi_star_149 = star(p_149)\n",
    "pi_star_159 = star(p_159)\n",
    "\n",
    "print (\"Pi star 149 \" , pi_star_149)\n",
    "print (\"Pi star 159 \" , pi_star_159)\n",
    "\n",
    "#Pi star 149  [0.02500625 0.95023756 0.02475619]\n",
    "#Pi star 159  [0.0234721  0.00310009 0.97342781]\n"
   ]
  },
  {
   "cell_type": "markdown",
   "metadata": {
    "id": "dahLt4Ruz1JN"
   },
   "source": [
    "<b>Exercice 3</b>: Déterminer les matrices de transition $P_{149}^n$ et $P_{159}^n$ pour $n$ \n",
    "iterations avec $n=2,4,8,16,32,64$, imprimer toutes les matrices. Computer les vectors $\\pi^{(n)}$ et les comparer avec\n",
    "$\\pi^\\star_{149,159}$. Utilisez le $\\pi^0$ du papier de Gupta, page 2, ci-dessous."
   ]
  },
  {
   "cell_type": "code",
   "execution_count": 122,
   "metadata": {
    "colab": {
     "base_uri": "https://localhost:8080/"
    },
    "executionInfo": {
     "elapsed": 239,
     "status": "ok",
     "timestamp": 1644855027342,
     "user": {
      "displayName": "Juliana Bernardes",
      "photoUrl": "https://lh3.googleusercontent.com/a-/AOh14GjmXQB4bG0DHp8uDHafZCQn94Atlo0kH-t-DxF8-w=s64",
      "userId": "00263393379349185862"
     },
     "user_tz": -60
    },
    "id": "Et5sT7SEz1JN",
    "outputId": "6b941682-595d-47dd-f1d7-6b3727295762"
   },
   "outputs": [],
   "source": [
    "pi_zero_149 = np.array([[0.039, 0.928, 0.033]])\n",
    "pi_zero_159 = np.array([[0.019, 0.0062, 0.973]])\n",
    "\n",
    "\n",
    "#matrice P**n\n",
    "def matTransN(P, n):\n",
    "    \"\"\"\n",
    "    Compute the transition matrix after N iterations\n",
    "    input1 P: matrix\n",
    "    input2 n: number of iterations\n",
    "    output Pn: transition matrix after N iterations\n",
    "    \"\"\"\n",
    "    \n",
    "    #Matrice P normalisée \n",
    "    Pnorm = normalise(P)\n",
    "    \n",
    "    #Matrice de transition normalisée\n",
    "    Pn = normalise(P)\n",
    "    \n",
    "    for i in range(n-1):\n",
    "        #Produit matriciel\n",
    "        Pn = Pn@Pnorm\n",
    "    return Pn\n",
    "\n",
    "#matrice P**n where n = 2,4,8,16,32,64\n",
    "def printMat(P, n, pi_0, M_name):\n",
    "    \"\"\"\n",
    "    Print all P**n matrices, where n in  {2,4,8,16,32,64, ...}  \n",
    "    input1 P: matrix\n",
    "    input2 n: number of iterations\n",
    "    input3 pi_0: initial condition\n",
    "    input4 M_name: matrix identifier\n",
    "    output: None\n",
    "    \n",
    "    \"\"\"\n",
    "    \n",
    "    #Liste des 2**i \n",
    "    liste = [2**i for i in range(1, n+1)]\n",
    "    print(liste)\n",
    "    #Affichage nom de la matrice\n",
    "    print(\"Matrice \"+ str(M_name) )\n",
    "    print(P)\n",
    "\n",
    "    #Affichage de la condition initiale\n",
    "    print(\"Pi0 : \"+ str(pi_0) )\n",
    "    \n",
    "    # Pour toutes les n premières puissances de 2\n",
    "    for i in liste:        \n",
    "\n",
    "        #Calcul et affichage de la matrice de transition au temps i\n",
    "        m = matTransN(P, i)\n",
    "        print()\n",
    "        print(\"Matrice pour P puissance \"+str(i))\n",
    "        print(m)\n",
    "        \n",
    "\n",
    "        #Affichage de la condidtion au temps i\n",
    "        print(\"Pi\"+str(i))\n",
    "        print(pi_0@m)\n",
    "            \n",
    "#print(matTransN(normalise(p_149),1000))"
   ]
  },
  {
   "cell_type": "code",
   "execution_count": 123,
   "metadata": {},
   "outputs": [
    {
     "name": "stdout",
     "output_type": "stream",
     "text": [
      "[2, 4, 8, 16, 32, 64]\n",
      "Matrice 149\n",
      "[[0.61 0.3  0.09]\n",
      " [0.01 0.99 0.  ]\n",
      " [0.01 0.08 0.9 ]]\n",
      "Pi0 : [[0.039 0.928 0.033]]\n",
      "\n",
      "Matrice pour P puissance 2\n",
      "[[3.76009091e-01 4.87272727e-01 1.38099174e-01]\n",
      " [1.60000000e-02 9.83100000e-01 9.09090909e-04]\n",
      " [1.59909091e-02 1.54927273e-01 8.27355372e-01]]\n",
      "Pi2\n",
      "[[0.03004005 0.93643304 0.03353223]]\n",
      "\n",
      "Matrice pour P puissance 4\n",
      "[[0.15138753 0.68365212 0.16662661]\n",
      " [0.02176028 0.97442282 0.00385546]\n",
      " [0.02172173 0.28828085 0.68686609]]\n",
      "Pi4\n",
      "[[0.02681447 0.94044007 0.03274288]]\n",
      "\n",
      "Matrice pour P puissance 8\n",
      "[[0.04141407 0.81769789 0.14231115]\n",
      " [0.0245817  0.96548774 0.01003087]\n",
      " [0.02448139 0.49376788 0.47651589]]\n",
      "Pi8\n",
      "[[0.02523485 0.94415718 0.0305838 ]]\n",
      "\n",
      "Matrice pour P puissance 16\n",
      "[[0.0252995  0.89361016 0.08190943]\n",
      " [0.02499693 0.9572199  0.0179628 ]\n",
      " [0.0248173  0.73203345 0.23550429]]\n",
      "Pi16\n",
      "[[0.0250028  0.94730797 0.02763558]]\n",
      "\n",
      "Matrice pour P puissance 32\n",
      "[[0.02501034 0.93794977 0.03741403]\n",
      " [0.02500575 0.95175682 0.02347215]\n",
      " [0.02477103 0.895291   0.07064441]]\n",
      "Pi32\n",
      "[[0.02499819 0.94935497 0.02557256]]\n",
      "\n",
      "Matrice pour P puissance 64\n",
      "[[0.02500644 0.94965498 0.02559452]\n",
      " [0.02500623 0.95030959 0.02493352]\n",
      " [0.02475689 0.93858061 0.02693182]]\n",
      "Pi64\n",
      "[[0.02499801 0.949897   0.02502524]]\n"
     ]
    }
   ],
   "source": [
    "printMat(p_149, 6, pi_zero_149, '149')"
   ]
  },
  {
   "cell_type": "code",
   "execution_count": 69,
   "metadata": {},
   "outputs": [],
   "source": [
    "#Pi star 149  [0.02500625 0.95023756 0.02475619]"
   ]
  },
  {
   "cell_type": "markdown",
   "metadata": {},
   "source": [
    "Au bout de 32 itérations on s'approche beaucoup de pi_star, 32 itérations en plus font tendre plus vers pi_star mais moins rapidement."
   ]
  },
  {
   "cell_type": "code",
   "execution_count": 66,
   "metadata": {},
   "outputs": [
    {
     "name": "stdout",
     "output_type": "stream",
     "text": [
      "[2, 4, 8, 16, 32, 64]\n",
      "Matrice 159\n",
      "[[0.58 0.07 0.35]\n",
      " [0.04 0.47 0.49]\n",
      " [0.01 0.   0.99]]\n",
      "\n",
      "Pi0 : [[0.019  0.0062 0.973 ]]\n",
      "\n",
      "Matrice pour P puissance 2\n",
      "[[3.427e-01 7.350e-02 5.838e-01]\n",
      " [4.690e-02 2.237e-01 7.294e-01]\n",
      " [1.570e-02 7.000e-04 9.836e-01]]\n",
      "\n",
      "Pi2\n",
      "[[0.02207818 0.00346454 0.97265728]]\n",
      "\n",
      "Matrice pour P puissance 4\n",
      "[[0.1300561  0.04203906 0.82790484]\n",
      " [0.03801574 0.05399942 0.90798484]\n",
      " [0.02085574 0.00199906 0.9771452 ]]\n",
      "\n",
      "Pi4\n",
      "[[0.0229994  0.00307862 0.97212198]]\n",
      "\n",
      "Matrice pour P puissance 8\n",
      "[[0.0357793  0.00939255 0.95482814]\n",
      " [0.0259337  0.0063292  0.9677371 ]\n",
      " [0.0231675  0.00293808 0.97389443]]\n",
      "\n",
      "Pi8\n",
      "[[0.02338257 0.00307645 0.97174098]]\n",
      "\n",
      "Matrice pour P puissance 16\n",
      "[[0.02364472 0.00320086 0.97315441]\n",
      " [0.02351208 0.00312693 0.973361  ]\n",
      " [0.02346781 0.00309757 0.97343462]]\n",
      "\n",
      "Pi16\n",
      "[[0.0234292  0.00309414 0.97167665]]\n",
      "\n",
      "Matrice pour P puissance 32\n",
      "[[0.02347213 0.00310011 0.97342776]\n",
      " [0.02347211 0.00310009 0.9734278 ]\n",
      " [0.0234721  0.00310009 0.97342781]]\n",
      "\n",
      "Pi32\n",
      "[[0.02342985 0.00309451 0.97167564]]\n",
      "\n",
      "Matrice pour P puissance 64\n",
      "[[0.0234721  0.00310009 0.97342781]\n",
      " [0.0234721  0.00310009 0.97342781]\n",
      " [0.0234721  0.00310009 0.97342781]]\n",
      "\n",
      "Pi64\n",
      "[[0.02342985 0.00309451 0.97167564]]\n"
     ]
    }
   ],
   "source": [
    "printMat(p_159, 6, pi_zero_159, '159')"
   ]
  },
  {
   "cell_type": "code",
   "execution_count": 70,
   "metadata": {},
   "outputs": [],
   "source": [
    "#Pi star 159  [0.0234721  0.00310009 0.97342781]"
   ]
  },
  {
   "cell_type": "markdown",
   "metadata": {},
   "source": [
    "Ici en seulement 8 itérations on obtient pi_8 qui est très proche de pi_star"
   ]
  },
  {
   "cell_type": "markdown",
   "metadata": {
    "id": "Ez5E-p_kz1JP"
   },
   "source": [
    "<b> Exercice 4 </b>:\n",
    " Ecrire une fonction pour déterminer les\n",
    "$(\\pi^{(t)})_{t=1:n}$ d'une chaine de Markov à trois états. Appliquer\n",
    "pour $P_{149}$ et $P_{159}$, pour les conditions initiales \n",
    "$\\pi^{(0)}\\in\\{ (0.998,0.001,0.001), (0.001,0.998,0.001), \n",
    "(0.001,0.001,0.998) \\}$ et pour $n=20$ itérations de la chaine \n",
    "de Markov. Visualiser graphiquement les résultats.\n"
   ]
  },
  {
   "cell_type": "code",
   "execution_count": 58,
   "metadata": {
    "executionInfo": {
     "elapsed": 223,
     "status": "ok",
     "timestamp": 1644856534370,
     "user": {
      "displayName": "Juliana Bernardes",
      "photoUrl": "https://lh3.googleusercontent.com/a-/AOh14GjmXQB4bG0DHp8uDHafZCQn94Atlo0kH-t-DxF8-w=s64",
      "userId": "00263393379349185862"
     },
     "user_tz": -60
    },
    "id": "KsLDPxwyz1JQ"
   },
   "outputs": [],
   "source": [
    "\n",
    "def Pi_n(pi_0, P, n):\n",
    "    \"\"\"\n",
    "    Compute Pi_n = Pi_0*P^n\n",
    "    input1 pi_0: intial condition\n",
    "    input2 P: transition matrix\n",
    "    input3 n: number of iterations\n",
    "    output Pi_n\n",
    "    \"\"\"\n",
    "    \n",
    "    #Calcul de Pi_n : produit matriciel entre Pi_0 et la matrice de transition àu temps n\n",
    "    return pi_0 @ matTransN(P,n) \n"
   ]
  },
  {
   "cell_type": "code",
   "execution_count": 101,
   "metadata": {
    "executionInfo": {
     "elapsed": 190,
     "status": "ok",
     "timestamp": 1644856586760,
     "user": {
      "displayName": "Juliana Bernardes",
      "photoUrl": "https://lh3.googleusercontent.com/a-/AOh14GjmXQB4bG0DHp8uDHafZCQn94Atlo0kH-t-DxF8-w=s64",
      "userId": "00263393379349185862"
     },
     "user_tz": -60
    },
    "id": "-GUCujCkz1JQ"
   },
   "outputs": [],
   "source": [
    "def List_Pi_n(pi0, P, n):\n",
    "    \"\"\"\n",
    "    Compute a list of  Pi_n\n",
    "    input1 pi_0: intial condition\n",
    "    input2 P: transition matrix\n",
    "    input3 n: number of iterations\n",
    "    output liste_M_trans: list\n",
    "    \"\"\"\n",
    "    \n",
    "    #Initialisation de la liste vide \n",
    "    liste_Pi_n = []\n",
    "    \n",
    "    #Parcours sur le nombre d'itérations\n",
    "    for i in range(1, n):\n",
    "        #Ajout de Pi_i dans la liste\n",
    "        liste_Pi_n.append( Pi_n(pi0,P,i) )\n",
    "    \n",
    "    #Conversion de np.array\n",
    "    return np.array(liste_Pi_n)\n"
   ]
  },
  {
   "cell_type": "code",
   "execution_count": 95,
   "metadata": {
    "executionInfo": {
     "elapsed": 198,
     "status": "ok",
     "timestamp": 1644856724472,
     "user": {
      "displayName": "Juliana Bernardes",
      "photoUrl": "https://lh3.googleusercontent.com/a-/AOh14GjmXQB4bG0DHp8uDHafZCQn94Atlo0kH-t-DxF8-w=s64",
      "userId": "00263393379349185862"
     },
     "user_tz": -60
    },
    "id": "0Ffnrnmiz1JQ"
   },
   "outputs": [],
   "source": [
    "def plot(liste_Pi_n):\n",
    "    \"\"\"\n",
    "    Plot liste_Pi_n\n",
    "    \"\"\"\n",
    "    \n",
    "    #création d'un array avec le nombre d'iterations\n",
    "    lenarray = np.arange(0, len(liste_Pi_n), 1)\n",
    "    \n",
    "    #Parcours sur le nombre d'états\n",
    "    for i in range(len(liste_Pi_n[0])):\n",
    "        #Plot de chaque état\n",
    "        plt.plot(lenarray, liste_Pi_n[:,i], label = 'pi'+str(i))\n",
    "    \n",
    "    plt.legend()\n",
    "    plt.xlabel('Nombre d\\'itérations n')\n",
    "    plt.ylabel('Proportion de pi[0] pi[1] et pi[2]')\n",
    "    plt.show()\n"
   ]
  },
  {
   "cell_type": "code",
   "execution_count": 104,
   "metadata": {
    "colab": {
     "base_uri": "https://localhost:8080/",
     "height": 265
    },
    "executionInfo": {
     "elapsed": 525,
     "status": "ok",
     "timestamp": 1644856753199,
     "user": {
      "displayName": "Juliana Bernardes",
      "photoUrl": "https://lh3.googleusercontent.com/a-/AOh14GjmXQB4bG0DHp8uDHafZCQn94Atlo0kH-t-DxF8-w=s64",
      "userId": "00263393379349185862"
     },
     "user_tz": -60
    },
    "id": "wVIEcMhBz1JS",
    "outputId": "15fad204-c266-4985-9120-8e7d3f3fa605"
   },
   "outputs": [
    {
     "name": "stdout",
     "output_type": "stream",
     "text": [
      "Evolution des proportions p_149 et p_159 avec pi1\n"
     ]
    },
    {
     "data": {
      "image/png": "[encoded data removed]",
      "text/plain": [
       "<Figure size 432x288 with 1 Axes>"
      ]
     },
     "metadata": {
      "needs_background": "light"
     },
     "output_type": "display_data"
    },
    {
     "data": {
      "image/png": "[encoded data removed]",
      "text/plain": [
       "<Figure size 432x288 with 1 Axes>"
      ]
     },
     "metadata": {
      "needs_background": "light"
     },
     "output_type": "display_data"
    },
    {
     "name": "stdout",
     "output_type": "stream",
     "text": [
      "\n",
      "Evolution des proportions p_149 et p_159 avec pi2\n"
     ]
    },
    {
     "data": {
      "image/png": "[encoded data removed]",
      "text/plain": [
       "<Figure size 432x288 with 1 Axes>"
      ]
     },
     "metadata": {
      "needs_background": "light"
     },
     "output_type": "display_data"
    },
    {
     "data": {
      "image/png": "[encoded data removed]",
      "text/plain": [
       "<Figure size 432x288 with 1 Axes>"
      ]
     },
     "metadata": {
      "needs_background": "light"
     },
     "output_type": "display_data"
    },
    {
     "name": "stdout",
     "output_type": "stream",
     "text": [
      "\n",
      "Evolution des proportions p_149 et p_159 avec pi3\n"
     ]
    },
    {
     "data": {
      "image/png": "[encoded data removed]",
      "text/plain": [
       "<Figure size 432x288 with 1 Axes>"
      ]
     },
     "metadata": {
      "needs_background": "light"
     },
     "output_type": "display_data"
    },
    {
     "data": {
      "image/png": "[encoded data removed]",
      "text/plain": [
       "<Figure size 432x288 with 1 Axes>"
      ]
     },
     "metadata": {
      "needs_background": "light"
     },
     "output_type": "display_data"
    }
   ],
   "source": [
    "pi1 = np.array([0.998,0.001,0.001])\n",
    "pi2 = np.array([0.001,0.998,0.001])\n",
    "pi3 = np.array([0.001,0.001,0.998])\n",
    "\n",
    "print('Evolution des proportions p_149 et p_159 avec pi1')\n",
    "plot(List_Pi_n(pi1, p_149, 20))\n",
    "plot(List_Pi_n(pi1, p_159, 20))\n",
    "print()\n",
    "\n",
    "print('Evolution des proportions p_149 et p_159 avec pi2')\n",
    "plot(List_Pi_n(pi2, p_149, 20))\n",
    "plot(List_Pi_n(pi2, p_159, 20))\n",
    "print()\n",
    "\n",
    "print('Evolution des proportions p_149 et p_159 avec pi3')\n",
    "plot(List_Pi_n(pi3, p_149, 20))\n",
    "plot(List_Pi_n(pi3, p_159, 20))\n"
   ]
  },
  {
   "cell_type": "markdown",
   "metadata": {
    "id": "0UoEleO_z1JS"
   },
   "source": [
    "<b> Exercice 5 </b>:\n",
    "Ecrire une fonction pour simuler la trajectoire stochastique\n",
    "$(x_t)_{t=0:n}$ d'une seule réalisation de la chaiine de Markov. \n",
    "Créer des population de $N=10,100,1000,10000$ trajectoires. Estimer \n",
    "la trajectoire moyenne de chaque population.\n"
   ]
  },
  {
   "cell_type": "code",
   "execution_count": 115,
   "metadata": {
    "id": "xLSto-G0z1JT"
   },
   "outputs": [],
   "source": [
    "def Trajectoire (n, Pi_0, P):\n",
    "    \"\"\"\n",
    "    simulate the stochastic trajectory\n",
    "    input1 n: number of iterations\n",
    "    input2 Pi_0: initial condition\n",
    "    input3 P: transtion matrix\n",
    "    output Traj: list of states that simulates the stochastic trajectory ['S', 'B', 'L']\n",
    "    \"\"\"\n",
    "    \n",
    "    #Initialisation de la liste de la trajectoire\n",
    "    Traj = []\n",
    "    \n",
    "    #Liste d'états\n",
    "    state = ['S','B','L']\n",
    "    \n",
    "    #Parcours sur le nombre d'itérations\n",
    "    for i in range(n):\n",
    "        #Si condition initiale\n",
    "        if i == 0:\n",
    "            for j in range(len(Pi_0)):\n",
    "                y = np.random.rand()\n",
    "                \n",
    "                #Ajout de l'état en fonction de la proba de y et sa comparaision\n",
    "                if y < min(Pi_0):\n",
    "                    Traj.append(state[np.argmin(Pi_0)])\n",
    "                elif y >= max(Pi_0):\n",
    "                    Traj.append(state[np.argmax(Pi_0)])\n",
    "                else:\n",
    "                    #Liste ne contentant que la lettre restante sans argmin et argmax<\n",
    "                    cord = [i for i in state if (i!=state[np.argmin(Pi_0)] and i!=state[np.argmax(Pi_0)])]\n",
    "                    Traj.append(cord[0])\n",
    "        \n",
    "        #Si non condition initiale\n",
    "        if i>0:\n",
    "            #Récupération de la ligne dans P correspondant à l'état précédent\n",
    "            P_instant = P[state.index(Traj[i-1])]\n",
    "            for j in range(len(P_instant)):\n",
    "                y = np.random.rand()\n",
    "                \n",
    "                #Ajout de l'état en fonction de la proba de y et sa comparaison\n",
    "                if y<min(P_instant):\n",
    "                    Traj.append(state[np.argmin(P_instant)])\n",
    "                elif y>=max(P_instant):\n",
    "                    Traj.append(state[np.argmax(P_instant)])\n",
    "                else:\n",
    "                    #Liste ne contentant que la lettre restante sans argmin et argmax<\n",
    "                    cord = [i for i in state if (i!=state[np.argmin(P_instant)] and i!=state[np.argmax(P_instant)])]\n",
    "                    Traj.append(cord[0])\n",
    "        \n",
    "    return Traj \n",
    "\n",
    "#Déterminer une trajectoire pour N population.\n",
    "def Trajectoire_P(n, Pi_0, P, N):\n",
    "    \"\"\"\n",
    "    Simulate a trajectory for N population.\n",
    "    input1 n: number of iterations\n",
    "    input2 Pi_0: initial condition\n",
    "    input3 P: transtion matrix\n",
    "    input3 N: population size\n",
    "    output TrajP: trajectory\n",
    "    \"\"\"\n",
    "    TrajP=[]\n",
    "    \n",
    "    for i in range(N):\n",
    "        TrajP.append(Trajectoire(n, Pi_0, P))\n",
    "    return TrajP\n",
    "    \n",
    "\n",
    "#Estimer la trajectoire moyenne d'une chaine de markov pou N\n",
    "\n",
    "def Trajectoire_moy(n, Pi_0, P, N):\n",
    "    \"\"\"\n",
    "    Find the mean tragetoire\n",
    "    input1 n: number of iterations\n",
    "    input2 Pi_0: initial condition\n",
    "    input3 P: transtion matrix\n",
    "    input3 N: population size\n",
    "    output TrajMoy: mean trajectory\n",
    "    \"\"\"\n",
    "    \n",
    "    #Array vide pour stocker les valeurs de trajectoire moyenne\n",
    "    TrajMoy = np.zeros((3,n))\n",
    "    \n",
    "    #Calcul des trajectoires pour N populations\n",
    "    trajN = Trajectoire_P(n, Pi_0, P, N)\n",
    "    \n",
    "    #Parcours sur le nombre d'itération\n",
    "    for i in range(n):\n",
    "        #Liste pour stocker les états au temps i\n",
    "        listemp = []\n",
    "        \n",
    "        #Parcours sur le nombre de populations\n",
    "        for j in range(N): \n",
    "            listemp.append(trajN[j][i])\n",
    "        \n",
    "        #Capture des occurences de chaque état\n",
    "        occ = {state: listemp.count(state) for state in listemp}\n",
    "        \n",
    "        #Calcule des trajectoires noyennes\n",
    "        for c in occ:\n",
    "            if c=='S':\n",
    "                TrajMoy[0,i]=occ[c]/N\n",
    "            if c=='B':\n",
    "                TrajMoy[1,i]=occ[c]/N\n",
    "            if c=='L':\n",
    "                TrajMoy[2,i]=occ[c]/N\n",
    "        \n",
    "    return TrajMoy\n",
    "\n",
    "#Visualiser graphique des trajectoires.\n",
    "def plotTrajectory(t):\n",
    "    \"\"\"\n",
    "    Plot Trajectory\n",
    "    input1 t: trajectory\n",
    "    \"\"\"\n",
    "\n",
    "    #Liste d'états\n",
    "    state = ['S','B','L']\n",
    "\n",
    "    #Array du nombre d'itération\n",
    "    lenarray = np.arange(0,len(t[0]),1)\n",
    "    \n",
    "    #Parcours sur le nombre d'états\n",
    "    for i in range(len(t)):\n",
    "        #Affichage de chaque état\n",
    "        plt.plot(lenarray,t[i,:],label = state[i])\n",
    "    plt.legend()\n",
    "    plt.xlabel('Nombre d\\'itérations n={}'.format(len(t[0])))\n",
    "    plt.ylabel('Trajectoire Moyenne des populations')\n",
    "    plt.show()"
   ]
  },
  {
   "cell_type": "code",
   "execution_count": 116,
   "metadata": {
    "id": "ywau1ttsz1JT",
    "outputId": "788ac3db-5d96-4fab-f4f4-5f90986eeabb"
   },
   "outputs": [
    {
     "data": {
      "image/png": "[encoded data removed]",
      "text/plain": [
       "<Figure size 432x288 with 1 Axes>"
      ]
     },
     "metadata": {
      "needs_background": "light"
     },
     "output_type": "display_data"
    }
   ],
   "source": [
    "plotTrajectory(Trajectoire_moy(20, pi1, p_149, 10000))"
   ]
  },
  {
   "cell_type": "code",
   "execution_count": 117,
   "metadata": {},
   "outputs": [
    {
     "data": {
      "image/png": "[encoded data removed]",
      "text/plain": [
       "<Figure size 432x288 with 1 Axes>"
      ]
     },
     "metadata": {
      "needs_background": "light"
     },
     "output_type": "display_data"
    }
   ],
   "source": [
    "plotTrajectory(Trajectoire_moy(20, pi1, p_159, 10000))"
   ]
  },
  {
   "cell_type": "markdown",
   "metadata": {
    "id": "v6J7JbvWz1JT"
   },
   "source": [
    "<b> Exercice 6 </b>: \n",
    "Ecrire une fonction pour calculer la probabilité d'une trajectoire\n",
    "$(x_t)_{t=0:n}$. Pour y facilite vous devez applique le log et utlise la some au\n",
    "lieu du product.  Ensuite vouz devez comparer les probabilités de \n",
    "deux chaiines de Markov $P_{149}$ et $P_{159}$. Visualiser les histogrammes pour les deux populations de taille $N=10000$ (géenérées avec $P_{149}$ et $P_{159}$). Est-ce que vous observez des différences entre les deux modèles? Comment est-ce que vous expliquer cettes différences?"
   ]
  },
  {
   "cell_type": "code",
   "execution_count": 130,
   "metadata": {
    "id": "tYRRFv2cz1JT",
    "outputId": "d5393941-1aad-4fca-c0b1-ed17bf1da50a"
   },
   "outputs": [
    {
     "data": {
      "image/png": "[encoded data removed]",
      "text/plain": [
       "<Figure size 432x288 with 1 Axes>"
      ]
     },
     "metadata": {
      "needs_background": "light"
     },
     "output_type": "display_data"
    }
   ],
   "source": [
    "#Calculer la probabilité d’une trajectoire (xt)t=0:n\n",
    "def Pb_Trajectoire(Traj, Pi_0, P): \n",
    "    \"\"\"\n",
    "    Compute the probability of a trajectory\n",
    "    input1 Traj: a trajectory\n",
    "    input2 Pi_0: initial condition\n",
    "    input3 P: transtion matrix\n",
    "    output Proba: ptobability\n",
    "    \"\"\"\n",
    "    \n",
    "    #Initialisation de la valeur proba\n",
    "    Proba = 0\n",
    "    \n",
    "    #Liste des états\n",
    "    state = ['S','B','L']\n",
    "    \n",
    "    # Condition initiale\n",
    "    Proba += np.log(Pi_0[state.index(Traj[0])])\n",
    "    \n",
    "    #Parcours sur le nombre d 'itérations\n",
    "    for i in range(1, len(Traj)):          \n",
    "        \n",
    "        # Certaines valeurs de la matrices sont nulles, on vérifie donc ces valeurs pour ne pas les passer au log\n",
    "        matrix_value = P[state.index(Traj[i-1]),state.index(Traj[i])]\n",
    "        if matrix_value != 0:\n",
    "            Proba += np.log( matrix_value )\n",
    "\n",
    "    return Proba\n",
    "\n",
    "\n",
    "def Histo (Trajs, Pi_0, P):\n",
    "    \"\"\"\n",
    "    compute a histogramm of Trajectory probabilities\n",
    "    input1 Trajs: a trajectory population\n",
    "    input2 Pi_0: initial condition\n",
    "    input3 P: transtion matrix  \n",
    "    output pop: a list of probabilities\n",
    "    \"\"\"\n",
    "    \n",
    "    #Initialisation de la liste de population pour l'histogramme\n",
    "    pop = []\n",
    "    \n",
    "    #Pour chaque population\n",
    "    for i in range(len(Trajs)):\n",
    "        #Calcul de la probabilité de chaque trajectoire et ajout dans la liste\n",
    "        pop.append(Pb_Trajectoire(Trajs[i], Pi_0, P))\n",
    "\n",
    "    return pop\n",
    "\n",
    "def plotHist(Histo149, Histo159):\n",
    "    \"\"\"\n",
    "    Plot two probabilities histogram\n",
    "    input1 Histo149: a list of probabilities for P149\n",
    "    input1 Histo159: a list of probabilities for P159\n",
    "    \"\"\"\n",
    "    \n",
    "    #Création des histogramme pour 149 et 159\n",
    "    counts1, bins1 = np.histogram(Histo149)\n",
    "    counts2, bins2 = np.histogram(Histo159)\n",
    "\n",
    "    #Plot\n",
    "    plt.stairs(counts1, bins1)\n",
    "    plt.stairs(counts2, bins2)\n",
    "    \n",
    "    #Affichage\n",
    "    plt.ylabel('Nombre de trajectoires par tranche')\n",
    "    plt.xlabel('Somme du log de vraissemblance')\n",
    "    plt.show()\n",
    "\n",
    "\n",
    "#-------------------------------------------------------------\n",
    "plotHist(Histo(Trajectoire_P(20, pi0_149, p_149, 10000),pi0_149, p_149),\\\n",
    "         Histo(Trajectoire_P(20, pi0_159, p_159, 10000),pi0_159, p_159))\n"
   ]
  },
  {
   "cell_type": "markdown",
   "metadata": {},
   "source": [
    "Différences dues aux convergences pi_star différentes ?"
   ]
  },
  {
   "cell_type": "markdown",
   "metadata": {
    "id": "ZsmgfCRPz1JU"
   },
   "source": []
  },
  {
   "cell_type": "code",
   "execution_count": null,
   "metadata": {},
   "outputs": [],
   "source": []
  }
 ],
 "metadata": {
  "colab": {
   "collapsed_sections": [],
   "name": "TME4_corrige.ipynb",
   "provenance": []
  },
  "kernelspec": {
   "display_name": "Python 3 (ipykernel)",
   "language": "python",
   "name": "python3"
  },
  "language_info": {
   "codemirror_mode": {
    "name": "ipython",
    "version": 3
   },
   "file_extension": ".py",
   "mimetype": "text/x-python",
   "name": "python",
   "nbconvert_exporter": "python",
   "pygments_lexer": "ipython3",
   "version": "3.10.6"
  }
 },
 "nbformat": 4,
 "nbformat_minor": 1
}

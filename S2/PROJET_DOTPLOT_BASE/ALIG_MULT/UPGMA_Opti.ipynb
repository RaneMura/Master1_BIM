{
 "cells": [
  {
   "cell_type": "code",
   "execution_count": 73,
   "metadata": {
    "collapsed": false
   },
   "outputs": [],
   "source": [
    "import numpy as np\n",
    "import math\n",
    "from numba import njit"
   ]
  },
  {
   "cell_type": "code",
   "execution_count": 62,
   "metadata": {
    "collapsed": false
   },
   "outputs": [
    {
     "name": "stdout",
     "output_type": "stream",
     "text": [
      "(7, 7)\n"
     ]
    }
   ],
   "source": [
    "matrix = np.array([[ -1  , 19, 27, 8 , 33, 18, 13 ],\n",
    "                    [ 19, -1 , 31, 18, 36, 1 , 13 ],\n",
    "                    [ 27, 31, -1 , 26, 41, 32, 29 ],\n",
    "                    [ 8 , 18, 26, -1 , 31, 17, 14 ],\n",
    "                    [ 33, 36, 41, 31, -1 , 35, 28 ],\n",
    "                    [ 18, 1 , 32, 17, 35, -1 , 12 ],\n",
    "                    [ 13, 13, 29, 14, 28, 12, -1 ],\n",
    "                   ])\n",
    "\n",
    "print( matrix.shape )"
   ]
  },
  {
   "cell_type": "code",
   "execution_count": 63,
   "metadata": {
    "collapsed": false
   },
   "outputs": [],
   "source": [
    "with open('matrix.txt', 'w') as f:\n",
    "    l1,l2 = matrix.shape\n",
    "    for i in range(l1):\n",
    "        string = ''\n",
    "        for j in range(l2):\n",
    "            string += str(matrix[i,j])+';'\n",
    "        f.write(string.rstrip(';')+'\\n')\n",
    "    "
   ]
  },
  {
   "cell_type": "code",
   "execution_count": 64,
   "metadata": {
    "collapsed": false
   },
   "outputs": [
    {
     "name": "stdout",
     "output_type": "stream",
     "text": [
      "[[-1. 19. 27.  8. 33. 18. 13.]\n",
      " [19. -1. 31. 18. 36.  1. 13.]\n",
      " [27. 31. -1. 26. 41. 32. 29.]\n",
      " [ 8. 18. 26. -1. 31. 17. 14.]\n",
      " [33. 36. 41. 31. -1. 35. 28.]\n",
      " [18.  1. 32. 17. 35. -1. 12.]\n",
      " [13. 13. 29. 14. 28. 12. -1.]]\n"
     ]
    }
   ],
   "source": [
    "m = np.genfromtxt(\"matrix.txt\", delimiter=\";\")\n",
    "print(m)"
   ]
  },
  {
   "cell_type": "code",
   "execution_count": 65,
   "metadata": {
    "collapsed": false
   },
   "outputs": [
    {
     "name": "stdout",
     "output_type": "stream",
     "text": [
      "[[-1. 19. 27.  8. 33. 18. 13.]\n",
      " [19. -1. 31. 18. 36.  1. 13.]\n",
      " [27. 31. -1. 26. 41. 32. 29.]\n",
      " [ 8. 18. 26. -1. 31. 17. 14.]\n",
      " [33. 36. 41. 31. -1. 35. 28.]\n",
      " [18.  1. 32. 17. 35. -1. 12.]\n",
      " [13. 13. 29. 14. 28. 12. -1.]]\n",
      "()\n",
      "[[19. 27.  8. 33. 18. 13.]\n",
      " [-1. 31. 18. 36.  1. 13.]\n",
      " [31. -1. 26. 41. 32. 29.]\n",
      " [18. 26. -1. 31. 17. 14.]\n",
      " [36. 41. 31. -1. 35. 28.]\n",
      " [ 1. 32. 17. 35. -1. 12.]\n",
      " [13. 29. 14. 28. 12. -1.]]\n"
     ]
    }
   ],
   "source": [
    "print(m)\n",
    "print()\n",
    "print(np.delete(m, 0, 1) )"
   ]
  },
  {
   "cell_type": "code",
   "execution_count": 109,
   "metadata": {
    "collapsed": false
   },
   "outputs": [
    {
     "name": "stdout",
     "output_type": "stream",
     "text": [
      "(1, 5)\n"
     ]
    }
   ],
   "source": [
    "\n",
    "\n",
    "MIN = FindMin(m)\n",
    "print(MIN)"
   ]
  },
  {
   "cell_type": "code",
   "execution_count": 148,
   "metadata": {
    "collapsed": false
   },
   "outputs": [],
   "source": [
    "def FindMin(matrix):\n",
    "    new_mat = np.where(matrix<0, 1000, matrix)\n",
    "    return np.unravel_index(np.argmin(new_mat, axis=None), new_mat.shape)\n",
    "\n",
    "def MatToNewick(nodes, weights, i, j):\n",
    "    node_j = nodes.pop(j)\n",
    "    node_i = nodes.pop(i)\n",
    "    wj     = weights.pop(j)\n",
    "    wi     = weights.pop(i)\n",
    "    nodes.append( '({},{})'.format(node_i, node_j) )\n",
    "    weights.append(wi+wj)\n",
    "    return nodes, weights    \n",
    "\n",
    "def MAJ(matrix, weights, i, j):\n",
    "    # i < j on commence par enlever j puis i\n",
    "    line_i = matrix[i,:]\n",
    "    line_j = matrix[j,:]\n",
    "    \n",
    "    line_i = np.delete(line_i, j)\n",
    "    line_i = np.delete(line_i, i)\n",
    "\n",
    "    line_j = np.delete(line_j, j)\n",
    "    line_j = np.delete(line_j, i)\n",
    "\n",
    "    matrix = np.delete(matrix, j, 0)\n",
    "    matrix = np.delete(matrix, i, 0)\n",
    "    \n",
    "    matrix = np.delete(matrix, j, 1)\n",
    "    matrix = np.delete(matrix, i, 1)\n",
    "    \n",
    "    wi, wj = weights[i], weights[j]\n",
    "    new_vect = (line_i*wi + line_j*wj) / (wi+wj) \n",
    "    \n",
    "    matrix = np.vstack( (matrix,new_vect) )\n",
    "    \n",
    "    new_vect= np.hstack( (new_vect,[-1]) )\n",
    "    \n",
    "    return np.hstack( (matrix, new_vect.reshape(len(new_vect),1)))\n",
    "\n",
    "def UPGMA(matrix):\n",
    "    L = len(matrix)\n",
    "    internal_nodes = 'abcdefghijklmnopqrstuvwxyz'\n",
    "    mat_nodes = [internal_nodes[i] for i in range(L)]\n",
    "    weights = [ 1 for i in range(L) ]\n",
    "    \n",
    "    while matrix.shape != (1,1):\n",
    "        i, j = FindMin(matrix)\n",
    "        if i < j:\n",
    "            matrix = MAJ( matrix, weights, i, j )\n",
    "            mat_nodes, weights = MatToNewick( mat_nodes, weights, i, j )\n",
    "\n",
    "        else:\n",
    "            matrix = MAJ( matrix, weights, j, i )\n",
    "            mat_nodes, weights = MatToNewick( mat_nodes, weights, j, i )\n",
    "\n",
    "    return matrix, mat_nodes, weights"
   ]
  },
  {
   "cell_type": "code",
   "execution_count": 149,
   "metadata": {
    "collapsed": false
   },
   "outputs": [
    {
     "name": "stdout",
     "output_type": "stream",
     "text": [
      "(array([[-1.]]), ['(e,(c,((a,d),(g,(b,f)))))'], [7])\n"
     ]
    }
   ],
   "source": [
    "res = UPGMA( m )\n",
    "print(res)"
   ]
  },
  {
   "cell_type": "code",
   "execution_count": 88,
   "metadata": {
    "collapsed": false
   },
   "outputs": [
    {
     "name": "stdout",
     "output_type": "stream",
     "text": [
      "[0 1 2 3 4 5 6 7 8 9]\n",
      "()\n",
      "[0 1 3 4 5 6 7 8 9]\n"
     ]
    }
   ],
   "source": [
    "a = np.arange(10)\n",
    "print(a)\n",
    "print()\n",
    "print(np.delete(a, 2))"
   ]
  },
  {
   "cell_type": "code",
   "execution_count": 147,
   "metadata": {
    "collapsed": false
   },
   "outputs": [
    {
     "name": "stdout",
     "output_type": "stream",
     "text": [
      "abcde\n",
      "cd\n"
     ]
    }
   ],
   "source": [
    "a = 'abcdefghijklmnopqrstuvwxyz'\n",
    "print(a[:5])\n",
    "print(a[2:4])"
   ]
  },
  {
   "cell_type": "code",
   "execution_count": null,
   "metadata": {
    "collapsed": true
   },
   "outputs": [],
   "source": [
    "string[:n]+string[k:]"
   ]
  },
  {
   "cell_type": "code",
   "execution_count": null,
   "metadata": {
    "collapsed": true
   },
   "outputs": [],
   "source": []
  }
 ],
 "metadata": {
  "anaconda-cloud": {},
  "kernelspec": {
   "display_name": "Python [conda root]",
   "language": "python",
   "name": "conda-root-py"
  },
  "language_info": {
   "codemirror_mode": {
    "name": "ipython",
    "version": 2
   },
   "file_extension": ".py",
   "mimetype": "text/x-python",
   "name": "python",
   "nbconvert_exporter": "python",
   "pygments_lexer": "ipython2",
   "version": "2.7.12"
  }
 },
 "nbformat": 4,
 "nbformat_minor": 1
}

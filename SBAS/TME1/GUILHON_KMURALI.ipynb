{
 "cells": [
  {
   "cell_type": "markdown",
   "metadata": {},
   "source": [
    "\n",
    "<h1><b>Statistique en Bioinformatique : </b> TME1 </h1>\n",
    "<br>\n",
    "L’objectif de ce TME est l’analyse statistique d’une famille de protéines à travers son alignement de séquences:\n",
    "<br>\n",
    "<ul>\n",
    "<li> objectif 1: détection des positions conservées, </li>\n",
    "<li> objectif 2: détection de séquences qui appartiennent à la même famille, </li>\n",
    "</ul>\n",
    "<vr>\n",
    "<div class=\"alert alert-warning\" role=\"alert\" style=\"margin: 10px\">\n",
    "<p>**Soumission**</p>\n",
    "<ul>\n",
    "<li>Renommer le fichier TME1.ipynb pour NomEtudiant1_NomEtudiant2.ipynb </li>\n",
    "<li>Soumettre via Moodle avant le prochain TME - <b> Une soumission par binome </b>.\n",
    "</ul>\n",
    "<br>\n",
    "REMARQUE : Les fichiers seront aussi corrigés numériquement. Faites donc attention à <b> ne pas modifier la signature et le renvoi des fonctions! </b>\n",
    "<br>\n",
    "</div>"
   ]
  },
  {
   "cell_type": "code",
   "execution_count": 15,
   "metadata": {},
   "outputs": [],
   "source": [
    "import numpy as np\n",
    "import matplotlib.pyplot as plt\n",
    "import pandas as pd"
   ]
  },
  {
   "cell_type": "markdown",
   "metadata": {},
   "source": [
    "Nom etudiant 1 : GUILHON Henri\n",
    "<br>\n",
    "Nom etudiant 2 : KMURALI Sharane\n",
    "<br>"
   ]
  },
  {
   "cell_type": "markdown",
   "metadata": {},
   "source": [
    "<b>DONNÉES</b> <br>\n",
    "Il y a 2 fichiers avec les données telecharché à (<a href=\"http://www.lcqb.upmc.fr/julianab/teaching/SBAS/TME1.tar.gz\"> TME1 </a> ): <br>\n",
    "<ul>\n",
    "<li> Dtrain.txt: C’est un alignement de M = 5643 protéines d’une seule famille en format FASTA,\n",
    "<br>\n",
    "    Les lignes qui commencent avec “>” contiennent des commentaires (nom de la protéine etc.). Elles n’ont aucune importance pour notre projet. Les autres lignes contiennent les séquences, que l’on va utiliser dans le projet. Les séquences sont alignées, elles ont toutes la même longueur (L = 48 positions dans notre fichier). Chaque position i = 0, ..., L − 1 d'une séquence contient soit un acide aminé (A,C,...,Y, il y en a 20) ou un trou (–), que l'on considère comme 21ème lettre. Ensemble elles forment l'alphabet: \n",
    "    A =  {A, C, D, E, F, G, H, I, K, L, M, N, P, Q, R, S, T, V, W, Y, -}, avec q = 21 lettres différentes.\n",
    "</li>\n",
    "    <br>\n",
    "<li> testseq.txt:  testseq.txt: Même format de Dtrain.txt, mais avec une seule séquence b = (b0 , ..., bN −1 ) plus longue (longueur N = 114 > L). On va scanner cette séquence pour trouver une sous-séquence qui appartient à la famille definie par Dtrain.txt. </li>\n",
    "</ul>"
   ]
  },
  {
   "cell_type": "markdown",
   "metadata": {},
   "source": [
    "Exercice 1: Pour chaque position i = 0, ..., L − 1 de l' alignement et chaque acide aminé a ∈ A (trou compris), calculer le nombre d’occurences ni(a) et le poid ωi(a), où :\n",
    "\\begin{equation*}\n",
    "n_{i}(a) = \\textrm{nombre d'occurrences de l'acide aminé a dans la colonne i}\n",
    "\\end{equation*}\n",
    "\n",
    "\\begin{equation*}\n",
    "\\omega_i(a) = \\frac{n_i(a)+1}{M+q}\\ .\n",
    "\\end{equation*}"
   ]
  },
  {
   "cell_type": "code",
   "execution_count": 23,
   "metadata": {},
   "outputs": [],
   "source": [
    "import sys\n",
    "from random import randint\n",
    "import numpy as np\n",
    "aa = ['A', 'C', 'D', 'E', 'F', 'G', 'H', 'I', 'K', 'L', 'M', 'N', 'P', 'Q', 'R', 'S', 'T', 'V', 'W', 'Y', '-']\n",
    "q = 21\n",
    "#aa = ['A', 'B', 'C', '-']\n",
    "#q = 4\n",
    "#aa = ['A', 'G', 'C', 'T', '-']\n",
    "#q = 5"
   ]
  },
  {
   "cell_type": "code",
   "execution_count": 24,
   "metadata": {},
   "outputs": [],
   "source": [
    "#load path Files\n",
    "input_dataset_f = 'Dtrain.txt'\n",
    "input_sequence_f = 'test_seq.txt'\n",
    "#input_dataset_f = 'DtrainToy.txt'\n",
    "#input_sequence_f = 'test_seqToy.txt'\n",
    "#input_dataset_f = 'DtrainToyTD.txt'"
   ]
  },
  {
   "cell_type": "code",
   "execution_count": 25,
   "metadata": {},
   "outputs": [
    {
     "name": "stdout",
     "output_type": "stream",
     "text": [
      "Training data (watch out, this is long):\n",
      "MSA length 48\n",
      "MSA depth 5643\n"
     ]
    }
   ],
   "source": [
    "#load DTrain File\n",
    "def load_train(input_f):\n",
    "    \"\"\"Input 1 : a multiple sequence alignment (MSA) in FASTA format\n",
    "    Output 1 : the MSA (see REMARK)\n",
    "    Output 2 : the length of the aligned sequences (MSA length)\n",
    "    Output 3 : the number of sequences in the MSA (MSA depth)\n",
    "    \n",
    "    REMARK : The MSA should be represented as an ordered collection of sequences.\n",
    "    Meaning, the first sequence in the file must be the first sequence in the\n",
    "    data structure. You can represent it as a list of lists of char, a list of \n",
    "    str, a numpy matrix, etc. Just be consistent throughout the whole TME1\"\"\"\n",
    "    sequences = {}\n",
    "    length = 0\n",
    "    with open(input_f, 'r') as f:\n",
    "        name = ''\n",
    "        seq  = ''\n",
    "        for line in f:\n",
    "            if line[0] == '>':\n",
    "                length = len(seq)\n",
    "                sequences[name] = seq\n",
    "                name = line[1:-1]\n",
    "                seq = ''\n",
    "            else:\n",
    "                seq += line[:-1]\n",
    "        sequences[name] = seq\n",
    "        sequences.pop('')\n",
    "    \n",
    "    return sequences, length, len(sequences)\n",
    "\n",
    "train_set, L, m = load_train(input_dataset_f)\n",
    "print(\"Training data (watch out, this is long):\")\n",
    "#print(train_set)\n",
    "\n",
    "print(\"MSA length\", L)\n",
    "print(\"MSA depth\", m)"
   ]
  },
  {
   "cell_type": "code",
   "execution_count": 26,
   "metadata": {
    "scrolled": false
   },
   "outputs": [
    {
     "name": "stdout",
     "output_type": "stream",
     "text": [
      "(21, 48)\n",
      "[[1.76553672e-04 7.25282486e-01 1.02401130e-02 ... 3.42514124e-02\n",
      "  1.76553672e-04 2.38170904e-01]\n",
      " [1.76553672e-04 1.76553672e-04 1.94209040e-03 ... 7.59180791e-03\n",
      "  1.76553672e-04 1.69491525e-02]\n",
      " [1.76553672e-04 1.76553672e-04 3.53107345e-04 ... 1.76553672e-04\n",
      "  1.76553672e-04 1.76553672e-04]\n",
      " ...\n",
      " [1.76553672e-04 1.76553672e-04 1.76553672e-04 ... 1.76553672e-04\n",
      "  1.76553672e-04 1.76553672e-04]\n",
      " [1.76553672e-04 1.76553672e-04 1.76553672e-04 ... 1.78319209e-02\n",
      "  1.76553672e-04 1.76553672e-04]\n",
      " [3.13206215e-01 1.55367232e-01 8.20974576e-02 ... 5.66737288e-02\n",
      "  6.77966102e-02 3.53460452e-01]]\n"
     ]
    }
   ],
   "source": [
    "#Computing wi(a)\n",
    "def get_pwm(train_set, L, m, alphabet):\n",
    "    \"\"\"Input 1 : The MSA (see REMARK of the load_train function)\n",
    "    Input 2 : the MSA length\n",
    "    Input 3 : the MSA depth\n",
    "    Input 4 : the alphabet used (it must be an ordered collection of non-repeating characters)\n",
    "    Output 1 : position-weight matrix of shape (q, L) where q is len(alphabet)\"\"\"\n",
    "    PWM = np.zeros((len(alphabet),L))    # initialisation : 4 nucléotides + indel\n",
    "    for seq in train_set.values():\n",
    "        # Pour chaque caractère de la séquence \n",
    "        for i in range(L):\n",
    "            # Incrémenter le compteur de ce caractère dans PWM\n",
    "            # Ligne   = caractère\n",
    "            # Colonne = \n",
    "            PWM[ alphabet.index(seq[i]), i ] += 1 \n",
    "    if 0 in PWM:\n",
    "        PWM += 1\n",
    "    PWM /= (m+len(alphabet))\n",
    "    return PWM\n",
    "\n",
    "PWM = get_pwm(train_set, L, m, aa)\n",
    "print(PWM.shape)\n",
    "print(PWM)\n"
   ]
  },
  {
   "cell_type": "markdown",
   "metadata": {},
   "source": [
    "Exercise 2: Trouvez les positions les plus conservées en utilisant l’entropie relative.\n",
    "<br>\n",
    "2.1) Pour chaque position i = 0, ..., L − 1, determiner l’entropie relative Si<br>\n",
    "\\begin{equation*}\n",
    "\\label{eq:entropie}\n",
    "S_i = \\log_2(q) + \\sum_{a\\in {\\cal A}} \\omega_i(a)\\cdot \\log_2\\left[\\omega_i(a) \\right]\\ .\n",
    "\\end{equation*}\n",
    "<br>\n"
   ]
  },
  {
   "cell_type": "code",
   "execution_count": 6,
   "metadata": {},
   "outputs": [
    {
     "name": "stdout",
     "output_type": "stream",
     "text": [
      "(48,)\n"
     ]
    },
    {
     "data": {
      "text/html": [
       "<div>\n",
       "<style scoped>\n",
       "    .dataframe tbody tr th:only-of-type {\n",
       "        vertical-align: middle;\n",
       "    }\n",
       "\n",
       "    .dataframe tbody tr th {\n",
       "        vertical-align: top;\n",
       "    }\n",
       "\n",
       "    .dataframe thead th {\n",
       "        text-align: right;\n",
       "    }\n",
       "</style>\n",
       "<table border=\"1\" class=\"dataframe\">\n",
       "  <thead>\n",
       "    <tr style=\"text-align: right;\">\n",
       "      <th></th>\n",
       "      <th>Entropie</th>\n",
       "    </tr>\n",
       "  </thead>\n",
       "  <tbody>\n",
       "    <tr>\n",
       "      <th>0</th>\n",
       "      <td>1.854766</td>\n",
       "    </tr>\n",
       "    <tr>\n",
       "      <th>1</th>\n",
       "      <td>3.180778</td>\n",
       "    </tr>\n",
       "    <tr>\n",
       "      <th>2</th>\n",
       "      <td>2.053194</td>\n",
       "    </tr>\n",
       "    <tr>\n",
       "      <th>3</th>\n",
       "      <td>2.535683</td>\n",
       "    </tr>\n",
       "    <tr>\n",
       "      <th>4</th>\n",
       "      <td>1.914097</td>\n",
       "    </tr>\n",
       "    <tr>\n",
       "      <th>5</th>\n",
       "      <td>2.821574</td>\n",
       "    </tr>\n",
       "    <tr>\n",
       "      <th>6</th>\n",
       "      <td>0.734250</td>\n",
       "    </tr>\n",
       "    <tr>\n",
       "      <th>7</th>\n",
       "      <td>1.994170</td>\n",
       "    </tr>\n",
       "    <tr>\n",
       "      <th>8</th>\n",
       "      <td>0.791154</td>\n",
       "    </tr>\n",
       "    <tr>\n",
       "      <th>9</th>\n",
       "      <td>0.620221</td>\n",
       "    </tr>\n",
       "    <tr>\n",
       "      <th>10</th>\n",
       "      <td>1.182650</td>\n",
       "    </tr>\n",
       "    <tr>\n",
       "      <th>11</th>\n",
       "      <td>1.454342</td>\n",
       "    </tr>\n",
       "    <tr>\n",
       "      <th>12</th>\n",
       "      <td>2.808632</td>\n",
       "    </tr>\n",
       "    <tr>\n",
       "      <th>13</th>\n",
       "      <td>3.168556</td>\n",
       "    </tr>\n",
       "    <tr>\n",
       "      <th>14</th>\n",
       "      <td>1.607297</td>\n",
       "    </tr>\n",
       "    <tr>\n",
       "      <th>15</th>\n",
       "      <td>2.514405</td>\n",
       "    </tr>\n",
       "    <tr>\n",
       "      <th>16</th>\n",
       "      <td>0.810701</td>\n",
       "    </tr>\n",
       "    <tr>\n",
       "      <th>17</th>\n",
       "      <td>1.399646</td>\n",
       "    </tr>\n",
       "    <tr>\n",
       "      <th>18</th>\n",
       "      <td>3.220810</td>\n",
       "    </tr>\n",
       "    <tr>\n",
       "      <th>19</th>\n",
       "      <td>2.454291</td>\n",
       "    </tr>\n",
       "    <tr>\n",
       "      <th>20</th>\n",
       "      <td>1.046331</td>\n",
       "    </tr>\n",
       "    <tr>\n",
       "      <th>21</th>\n",
       "      <td>2.292529</td>\n",
       "    </tr>\n",
       "    <tr>\n",
       "      <th>22</th>\n",
       "      <td>0.599428</td>\n",
       "    </tr>\n",
       "    <tr>\n",
       "      <th>23</th>\n",
       "      <td>2.291423</td>\n",
       "    </tr>\n",
       "    <tr>\n",
       "      <th>24</th>\n",
       "      <td>1.593570</td>\n",
       "    </tr>\n",
       "    <tr>\n",
       "      <th>25</th>\n",
       "      <td>1.066957</td>\n",
       "    </tr>\n",
       "    <tr>\n",
       "      <th>26</th>\n",
       "      <td>0.791530</td>\n",
       "    </tr>\n",
       "    <tr>\n",
       "      <th>27</th>\n",
       "      <td>0.545659</td>\n",
       "    </tr>\n",
       "    <tr>\n",
       "      <th>28</th>\n",
       "      <td>1.161883</td>\n",
       "    </tr>\n",
       "    <tr>\n",
       "      <th>29</th>\n",
       "      <td>1.021450</td>\n",
       "    </tr>\n",
       "    <tr>\n",
       "      <th>30</th>\n",
       "      <td>1.762354</td>\n",
       "    </tr>\n",
       "    <tr>\n",
       "      <th>31</th>\n",
       "      <td>4.176827</td>\n",
       "    </tr>\n",
       "    <tr>\n",
       "      <th>32</th>\n",
       "      <td>1.960452</td>\n",
       "    </tr>\n",
       "    <tr>\n",
       "      <th>33</th>\n",
       "      <td>0.779067</td>\n",
       "    </tr>\n",
       "    <tr>\n",
       "      <th>34</th>\n",
       "      <td>2.577180</td>\n",
       "    </tr>\n",
       "    <tr>\n",
       "      <th>35</th>\n",
       "      <td>1.058520</td>\n",
       "    </tr>\n",
       "    <tr>\n",
       "      <th>36</th>\n",
       "      <td>0.636171</td>\n",
       "    </tr>\n",
       "    <tr>\n",
       "      <th>37</th>\n",
       "      <td>0.454716</td>\n",
       "    </tr>\n",
       "    <tr>\n",
       "      <th>38</th>\n",
       "      <td>1.157293</td>\n",
       "    </tr>\n",
       "    <tr>\n",
       "      <th>39</th>\n",
       "      <td>2.372642</td>\n",
       "    </tr>\n",
       "    <tr>\n",
       "      <th>40</th>\n",
       "      <td>2.221087</td>\n",
       "    </tr>\n",
       "    <tr>\n",
       "      <th>41</th>\n",
       "      <td>0.831461</td>\n",
       "    </tr>\n",
       "    <tr>\n",
       "      <th>42</th>\n",
       "      <td>0.778763</td>\n",
       "    </tr>\n",
       "    <tr>\n",
       "      <th>43</th>\n",
       "      <td>3.875514</td>\n",
       "    </tr>\n",
       "    <tr>\n",
       "      <th>44</th>\n",
       "      <td>1.284623</td>\n",
       "    </tr>\n",
       "    <tr>\n",
       "      <th>45</th>\n",
       "      <td>2.205530</td>\n",
       "    </tr>\n",
       "    <tr>\n",
       "      <th>46</th>\n",
       "      <td>3.986273</td>\n",
       "    </tr>\n",
       "    <tr>\n",
       "      <th>47</th>\n",
       "      <td>2.058165</td>\n",
       "    </tr>\n",
       "  </tbody>\n",
       "</table>\n",
       "</div>"
      ],
      "text/plain": [
       "    Entropie\n",
       "0   1.854766\n",
       "1   3.180778\n",
       "2   2.053194\n",
       "3   2.535683\n",
       "4   1.914097\n",
       "5   2.821574\n",
       "6   0.734250\n",
       "7   1.994170\n",
       "8   0.791154\n",
       "9   0.620221\n",
       "10  1.182650\n",
       "11  1.454342\n",
       "12  2.808632\n",
       "13  3.168556\n",
       "14  1.607297\n",
       "15  2.514405\n",
       "16  0.810701\n",
       "17  1.399646\n",
       "18  3.220810\n",
       "19  2.454291\n",
       "20  1.046331\n",
       "21  2.292529\n",
       "22  0.599428\n",
       "23  2.291423\n",
       "24  1.593570\n",
       "25  1.066957\n",
       "26  0.791530\n",
       "27  0.545659\n",
       "28  1.161883\n",
       "29  1.021450\n",
       "30  1.762354\n",
       "31  4.176827\n",
       "32  1.960452\n",
       "33  0.779067\n",
       "34  2.577180\n",
       "35  1.058520\n",
       "36  0.636171\n",
       "37  0.454716\n",
       "38  1.157293\n",
       "39  2.372642\n",
       "40  2.221087\n",
       "41  0.831461\n",
       "42  0.778763\n",
       "43  3.875514\n",
       "44  1.284623\n",
       "45  2.205530\n",
       "46  3.986273\n",
       "47  2.058165"
      ]
     },
     "execution_count": 6,
     "metadata": {},
     "output_type": "execute_result"
    }
   ],
   "source": [
    "#Computing Si\n",
    "def si_calculate (wi):\n",
    "    \"\"\"Input 1 : Weight vector (of length q) representing column i of the MSA\n",
    "    Output 1 : Relative entropy of column i\"\"\"\n",
    " \n",
    "    return (np.log(len(wi))/np.log(2)) + np.sum(wi* (np.log(wi)/np.log(2))) \n",
    "\n",
    "\n",
    "#Make a vector Si of length L containing the relative entropy of each position (column) of the MSA\n",
    "Si = []\n",
    "for i in range(L):\n",
    "    #print(si_calculate(PWM[:,i]))\n",
    "    Si.append(si_calculate(PWM[:,i]))\n",
    "Si = np.array(Si)\n",
    "print(Si.shape)\n",
    "df = pd.DataFrame(Si, columns=['Entropie'], index=np.array(range(L)))\n",
    "df"
   ]
  },
  {
   "cell_type": "markdown",
   "metadata": {},
   "source": [
    "2.2) Indiquez les acides aminees (ai*) des trois positions les plus conservées : \n",
    "\\begin{equation}\n",
    "\\label{eq:conserved}\n",
    "a_i^\\star = {\\rm argmax}_{a\\in {\\cal A}} \\omega_i(a)\\ .\n",
    "\\end{equation}"
   ]
  },
  {
   "cell_type": "code",
   "execution_count": 7,
   "metadata": {},
   "outputs": [
    {
     "name": "stdout",
     "output_type": "stream",
     "text": [
      "['G', 'P', 'W']\n"
     ]
    }
   ],
   "source": [
    "#computing ai*\n",
    "def get_aiStart(Si, PWM, naa, aa):\n",
    "    \"\"\"Input Si : Relative entropy vector of length L\n",
    "    Input PWM : position-weight matrix of shape (q, L)\n",
    "    Input naa : 0 < int < q+1, specifying the number of top-conserved residues\n",
    "    Output 1 : list of length naa containing the amino acid type (char) of the \n",
    "    top-naa conserved columns\"\"\"\n",
    "    # Dans la formule de Si nous avons omis un - dans la formule, d'où le argmax au lieu du armgin\n",
    "    top_aa = []\n",
    "    arguments = np.argpartition(Si, -naa)[-naa:]\n",
    "    # print('Arguments :' arguments)\n",
    "    for arg in arguments:\n",
    "        top_aa.append( aa[ np.argmax(PWM[:,arg]) ])\n",
    "        \n",
    "    return top_aa\n",
    "\n",
    "print(get_aiStart(Si, PWM, 3, aa))"
   ]
  },
  {
   "cell_type": "markdown",
   "metadata": {},
   "source": [
    "2.3) Tracer l’entropie rélative en fonction de chaque position i."
   ]
  },
  {
   "cell_type": "code",
   "execution_count": 8,
   "metadata": {},
   "outputs": [],
   "source": [
    "import matplotlib.pyplot as plt\n"
   ]
  },
  {
   "cell_type": "code",
   "execution_count": 9,
   "metadata": {},
   "outputs": [
    {
     "data": {
      "image/png": "[encoded data removed]",
      "text/plain": [
       "<Figure size 640x480 with 1 Axes>"
      ]
     },
     "metadata": {},
     "output_type": "display_data"
    }
   ],
   "source": [
    "#plot entropy\n",
    "def plot_entropy( Si, naa ):\n",
    "    \"\"\"For each of the L positions of the MSA, plot its entropy.\n",
    "    \n",
    "    BONUS : highlight the top-naa conserved sites, and print the\n",
    "    most abundant amino acid type on top of the naa identified positions\"\"\"\n",
    "    arguments = np.argpartition(Si, -naa)[-naa:]\n",
    "    plt.bar(np.arange(len(Si)), Si)\n",
    "    \n",
    "    plt.title('Entropies relatives de chaque position i\\n de l\\'alignement')\n",
    "    plt.xlabel('Position i')\n",
    "    plt.ylabel('Entropie Relative')\n",
    "    plt.bar(arguments, Si[arguments], label='Top naa')\n",
    "    plt.legend()\n",
    "    plt.savefig('entropy.png', dpi=300)\n",
    "\n",
    "plot_entropy(Si, 3)"
   ]
  },
  {
   "cell_type": "markdown",
   "metadata": {},
   "source": [
    "Exercise 3: Déterminer les paramètres f(0)(b) du modèle nul, où\n",
    "\\begin{equation}\n",
    "f^{(0)}(b) = \\frac 1L \\sum_{i=0}^{L-1} \\omega_i(b)\\ ,\n",
    "\\end{equation}"
   ]
  },
  {
   "cell_type": "code",
   "execution_count": 10,
   "metadata": {},
   "outputs": [
    {
     "name": "stdout",
     "output_type": "stream",
     "text": [
      "[0.1344162  0.01716774 0.18306094 0.19409134 0.09586864 0.20681161\n",
      " 0.02898843 0.11540725 0.11688694 0.17017252 0.0272313  0.08147532\n",
      " 0.08670467 0.07842346 0.10299805 0.11071597 0.09308582 0.1352233\n",
      " 0.08365281 0.0881255  0.13520648]\n"
     ]
    }
   ],
   "source": [
    "#computing f0\n",
    "def f0_calcule(PWM):\n",
    "    \"\"\"Input 1 : position-weight matrix of shape (q,L)\n",
    "    Output 1 : vector of size q containing the null model \"\"\"\n",
    "    return np.sum(PWM, axis=1)/len(PWM)\n",
    "\n",
    "f_0 = f0_calcule(PWM)\n",
    "print (f_0)"
   ]
  },
  {
   "cell_type": "markdown",
   "metadata": {},
   "source": [
    "Exercise 4: (à appliquer à testseq.txt): Déterminer l(bi,...,bi+L−1)  pour chaque sous-séquence de longueur L. \n",
    "Déterminer si il y a des sous-séquences de la famille definie par Dtrain. \n",
    "Tracer la log-vraisemblance en fonction de sa première position i = 0, ..., N − L.\n",
    "\\begin{equation}\n",
    "\\label{eq:ll}\n",
    "\\ell(b_0,...,b_{L-1}) = \\log_2 \\frac {P(b_0,...,b_{L-1} | \\omega )\n",
    "}{P^{(0)}(b_0,...,b_{L-1})}\n",
    "= \\sum_{i=0}^{L-1} \\log_2 \\frac {\\omega_i(b_i)}{f^{(0)}(b_i)}\\ .\n",
    "\\end{equation}"
   ]
  },
  {
   "cell_type": "markdown",
   "metadata": {},
   "source": [
    "4.1: Faites une fonction pour calculer la log-vraisemblance, d'une séquence de taille L."
   ]
  },
  {
   "cell_type": "code",
   "execution_count": 30,
   "metadata": {},
   "outputs": [],
   "source": [
    "#computing log-likehood\n",
    "def loglikehood(seq, PWM, f_0, L, aa):\n",
    "    \"\"\"Input 1 : sequence of which you want to calculate the log-likelihood\n",
    "    Input 2 : position-weight matrix of shape (q,L)\n",
    "    Input 3 : null model vector of length q\n",
    "    Input 4 : MSA length\n",
    "    Output 1 : log-likelihood of the sequence seq\"\"\"\n",
    "\n",
    "    P_omega     = np.prod([ PWM[ aa.index(seq[i]), i] for i in range(L)])\n",
    "    P_classique = np.prod([ f_0[ aa.index(seq[i])] for i in range(L)])\n",
    "        \n",
    "    return np.log(P_omega/P_classique)/np.log(2)\n",
    "\n",
    "# Test the log-likelihood on the sequences of the data set\n",
    "test, L_test, m_test = load_train(input_sequence_f)\n",
    "seq = test['tr|B2WCD5|B2WCD5_PYRTR segment']\n"
   ]
  },
  {
   "cell_type": "markdown",
   "metadata": {},
   "source": [
    "4.2: Faites une fonction qui etant donné une séquence de taille supérieur à k génère toutes les sous-séquences de taille k. Avec cette fonction, trouvez toutes les sous-séquences de taille L de la séquence en testseq.txt"
   ]
  },
  {
   "cell_type": "code",
   "execution_count": 34,
   "metadata": {},
   "outputs": [
    {
     "name": "stdout",
     "output_type": "stream",
     "text": [
      "PPAAAPQPKEPRYKALYDFAGQSAGELSLGKDEIILVTQKENNGWWLA\n",
      "PAAAPQPKEPRYKALYDFAGQSAGELSLGKDEIILVTQKENNGWWLAS\n",
      "AAAPQPKEPRYKALYDFAGQSAGELSLGKDEIILVTQKENNGWWLASR\n",
      "AAPQPKEPRYKALYDFAGQSAGELSLGKDEIILVTQKENNGWWLASRL\n",
      "APQPKEPRYKALYDFAGQSAGELSLGKDEIILVTQKENNGWWLASRLD\n",
      "PQPKEPRYKALYDFAGQSAGELSLGKDEIILVTQKENNGWWLASRLDK\n",
      "QPKEPRYKALYDFAGQSAGELSLGKDEIILVTQKENNGWWLASRLDKS\n",
      "PKEPRYKALYDFAGQSAGELSLGKDEIILVTQKENNGWWLASRLDKSA\n",
      "KEPRYKALYDFAGQSAGELSLGKDEIILVTQKENNGWWLASRLDKSAS\n",
      "EPRYKALYDFAGQSAGELSLGKDEIILVTQKENNGWWLASRLDKSASG\n",
      "PRYKALYDFAGQSAGELSLGKDEIILVTQKENNGWWLASRLDKSASGW\n",
      "RYKALYDFAGQSAGELSLGKDEIILVTQKENNGWWLASRLDKSASGWA\n",
      "YKALYDFAGQSAGELSLGKDEIILVTQKENNGWWLASRLDKSASGWAP\n",
      "KALYDFAGQSAGELSLGKDEIILVTQKENNGWWLASRLDKSASGWAPS\n",
      "ALYDFAGQSAGELSLGKDEIILVTQKENNGWWLASRLDKSASGWAPSA\n",
      "LYDFAGQSAGELSLGKDEIILVTQKENNGWWLASRLDKSASGWAPSAY\n",
      "YDFAGQSAGELSLGKDEIILVTQKENNGWWLASRLDKSASGWAPSAYL\n",
      "DFAGQSAGELSLGKDEIILVTQKENNGWWLASRLDKSASGWAPSAYLE\n",
      "FAGQSAGELSLGKDEIILVTQKENNGWWLASRLDKSASGWAPSAYLEE\n",
      "AGQSAGELSLGKDEIILVTQKENNGWWLASRLDKSASGWAPSAYLEEV\n",
      "GQSAGELSLGKDEIILVTQKENNGWWLASRLDKSASGWAPSAYLEEVV\n",
      "QSAGELSLGKDEIILVTQKENNGWWLASRLDKSASGWAPSAYLEEVVQ\n",
      "SAGELSLGKDEIILVTQKENNGWWLASRLDKSASGWAPSAYLEEVVQR\n",
      "AGELSLGKDEIILVTQKENNGWWLASRLDKSASGWAPSAYLEEVVQRV\n",
      "GELSLGKDEIILVTQKENNGWWLASRLDKSASGWAPSAYLEEVVQRVA\n",
      "ELSLGKDEIILVTQKENNGWWLASRLDKSASGWAPSAYLEEVVQRVAA\n",
      "LSLGKDEIILVTQKENNGWWLASRLDKSASGWAPSAYLEEVVQRVAAA\n",
      "SLGKDEIILVTQKENNGWWLASRLDKSASGWAPSAYLEEVVQRVAAAP\n",
      "LGKDEIILVTQKENNGWWLASRLDKSASGWAPSAYLEEVVQRVAAAPP\n",
      "GKDEIILVTQKENNGWWLASRLDKSASGWAPSAYLEEVVQRVAAAPPA\n",
      "KDEIILVTQKENNGWWLASRLDKSASGWAPSAYLEEVVQRVAAAPPAR\n",
      "DEIILVTQKENNGWWLASRLDKSASGWAPSAYLEEVVQRVAAAPPARP\n",
      "EIILVTQKENNGWWLASRLDKSASGWAPSAYLEEVVQRVAAAPPARPV\n",
      "IILVTQKENNGWWLASRLDKSASGWAPSAYLEEVVQRVAAAPPARPVN\n",
      "ILVTQKENNGWWLASRLDKSASGWAPSAYLEEVVQRVAAAPPARPVNG\n",
      "LVTQKENNGWWLASRLDKSASGWAPSAYLEEVVQRVAAAPPARPVNGA\n",
      "VTQKENNGWWLASRLDKSASGWAPSAYLEEVVQRVAAAPPARPVNGAA\n",
      "TQKENNGWWLASRLDKSASGWAPSAYLEEVVQRVAAAPPARPVNGAAG\n",
      "QKENNGWWLASRLDKSASGWAPSAYLEEVVQRVAAAPPARPVNGAAGG\n",
      "KENNGWWLASRLDKSASGWAPSAYLEEVVQRVAAAPPARPVNGAAGGK\n",
      "ENNGWWLASRLDKSASGWAPSAYLEEVVQRVAAAPPARPVNGAAGGKP\n",
      "NNGWWLASRLDKSASGWAPSAYLEEVVQRVAAAPPARPVNGAAGGKPK\n",
      "NGWWLASRLDKSASGWAPSAYLEEVVQRVAAAPPARPVNGAAGGKPKP\n",
      "GWWLASRLDKSASGWAPSAYLEEVVQRVAAAPPARPVNGAAGGKPKPP\n",
      "WWLASRLDKSASGWAPSAYLEEVVQRVAAAPPARPVNGAAGGKPKPPA\n",
      "WLASRLDKSASGWAPSAYLEEVVQRVAAAPPARPVNGAAGGKPKPPAP\n",
      "LASRLDKSASGWAPSAYLEEVVQRVAAAPPARPVNGAAGGKPKPPAPP\n",
      "ASRLDKSASGWAPSAYLEEVVQRVAAAPPARPVNGAAGGKPKPPAPPA\n",
      "SRLDKSASGWAPSAYLEEVVQRVAAAPPARPVNGAAGGKPKPPAPPAK\n",
      "RLDKSASGWAPSAYLEEVVQRVAAAPPARPVNGAAGGKPKPPAPPAKR\n",
      "LDKSASGWAPSAYLEEVVQRVAAAPPARPVNGAAGGKPKPPAPPAKRP\n",
      "DKSASGWAPSAYLEEVVQRVAAAPPARPVNGAAGGKPKPPAPPAKRPA\n",
      "KSASGWAPSAYLEEVVQRVAAAPPARPVNGAAGGKPKPPAPPAKRPAA\n",
      "SASGWAPSAYLEEVVQRVAAAPPARPVNGAAGGKPKPPAPPAKRPAAR\n",
      "ASGWAPSAYLEEVVQRVAAAPPARPVNGAAGGKPKPPAPPAKRPAARK\n",
      "SGWAPSAYLEEVVQRVAAAPPARPVNGAAGGKPKPPAPPAKRPAARKA\n",
      "GWAPSAYLEEVVQRVAAAPPARPVNGAAGGKPKPPAPPAKRPAARKAV\n",
      "WAPSAYLEEVVQRVAAAPPARPVNGAAGGKPKPPAPPAKRPAARKAVN\n",
      "APSAYLEEVVQRVAAAPPARPVNGAAGGKPKPPAPPAKRPAARKAVNG\n",
      "PSAYLEEVVQRVAAAPPARPVNGAAGGKPKPPAPPAKRPAARKAVNGD\n",
      "SAYLEEVVQRVAAAPPARPVNGAAGGKPKPPAPPAKRPAARKAVNGDS\n",
      "AYLEEVVQRVAAAPPARPVNGAAGGKPKPPAPPAKRPAARKAVNGDSA\n",
      "YLEEVVQRVAAAPPARPVNGAAGGKPKPPAPPAKRPAARKAVNGDSAR\n",
      "LEEVVQRVAAAPPARPVNGAAGGKPKPPAPPAKRPAARKAVNGDSARD\n",
      "EEVVQRVAAAPPARPVNGAAGGKPKPPAPPAKRPAARKAVNGDSARDS\n"
     ]
    }
   ],
   "source": [
    "#computing sliding_window \n",
    "def sliding_window (seq, k):\n",
    "    \"\"\"Input 1 : sequence of length > k\n",
    "    Input 2 : window length (int)\n",
    "    Output 1 : list of windows of length k generated from sequence seq\"\"\"    \n",
    "    return [seq[i:i+k] for i in range(len(seq)-k)]\n",
    "\n",
    "# Find all subsequences of length L from the sequence in testseq.txt\n",
    "slide = sliding_window( seq, L )\n",
    "for i in slide:\n",
    "    print(i)"
   ]
  },
  {
   "cell_type": "markdown",
   "metadata": {},
   "source": [
    "4.3: Calculer la log-vraisemblance pour toutes les sous-sequences trouvées en 4.2 et tracer un graphique de log-vraisemblance, avec en abscisse la position initiale de la sous-sequence."
   ]
  },
  {
   "cell_type": "code",
   "execution_count": 42,
   "metadata": {},
   "outputs": [
    {
     "name": "stdout",
     "output_type": "stream",
     "text": [
      "[-173.04338495 -174.21764131 -156.0245745  -176.78961912 -219.13098923\n",
      " -187.20291305 -174.92317957 -212.28599183 -226.7617111  -200.42861885\n",
      " -212.5473141  -153.78245196 -176.72992723   15.59635235 -196.55834358\n",
      " -187.71622402 -209.47315389 -220.66888766 -204.87685162 -202.87128385\n",
      " -199.90914117 -206.47868238 -182.75459249 -174.94497501 -210.94846203\n",
      " -189.3672052  -163.91575963 -218.25127571 -203.3704261  -193.78305619\n",
      " -202.40834857 -196.41004301 -182.4607663  -184.17650496 -213.1514153\n",
      " -191.32503029 -187.77037484 -205.24774356 -187.78868395 -187.25667449\n",
      " -223.0469244  -177.75568142 -189.35944409 -203.9071713  -144.05086172\n",
      " -181.59896861 -163.2784807  -165.3958147  -191.20714371 -201.0595972\n",
      " -200.74471285 -168.65033924 -197.67683444 -191.31386266 -203.4143971\n",
      " -191.25348379 -222.39726837 -176.90472479 -190.26385967 -210.85643263\n",
      " -184.51957353 -191.21069021 -208.51085999 -223.05341378 -188.7142193 ]\n"
     ]
    },
    {
     "ename": "ValueError",
     "evalue": "The truth value of an array with more than one element is ambiguous. Use a.any() or a.all()",
     "output_type": "error",
     "traceback": [
      "\u001b[0;31m---------------------------------------------------------------------------\u001b[0m",
      "\u001b[0;31mValueError\u001b[0m                                Traceback (most recent call last)",
      "\u001b[0;32m/tmp/ipykernel_122258/3068307703.py\u001b[0m in \u001b[0;36m<cell line: 26>\u001b[0;34m()\u001b[0m\n\u001b[1;32m     24\u001b[0m     \u001b[0;32mreturn\u001b[0m\u001b[0;34m\u001b[0m\u001b[0;34m\u001b[0m\u001b[0m\n\u001b[1;32m     25\u001b[0m \u001b[0;34m\u001b[0m\u001b[0m\n\u001b[0;32m---> 26\u001b[0;31m \u001b[0mplot_likelihood\u001b[0m\u001b[0;34m(\u001b[0m\u001b[0mlike\u001b[0m\u001b[0;34m)\u001b[0m\u001b[0;34m\u001b[0m\u001b[0;34m\u001b[0m\u001b[0m\n\u001b[0m",
      "\u001b[0;32m/tmp/ipykernel_122258/3068307703.py\u001b[0m in \u001b[0;36mplot_likelihood\u001b[0;34m(lhs)\u001b[0m\n\u001b[1;32m     20\u001b[0m     \u001b[0;34m\"\"\"Input 1 : log-likelihood vector\"\"\"\u001b[0m\u001b[0;34m\u001b[0m\u001b[0;34m\u001b[0m\u001b[0m\n\u001b[1;32m     21\u001b[0m \u001b[0;34m\u001b[0m\u001b[0m\n\u001b[0;32m---> 22\u001b[0;31m     \u001b[0mplt\u001b[0m\u001b[0;34m.\u001b[0m\u001b[0mbar\u001b[0m\u001b[0;34m(\u001b[0m\u001b[0mnp\u001b[0m\u001b[0;34m.\u001b[0m\u001b[0marange\u001b[0m\u001b[0;34m(\u001b[0m\u001b[0mlhs\u001b[0m\u001b[0;34m)\u001b[0m\u001b[0;34m,\u001b[0m \u001b[0mlhs\u001b[0m\u001b[0;34m)\u001b[0m\u001b[0;34m\u001b[0m\u001b[0;34m\u001b[0m\u001b[0m\n\u001b[0m\u001b[1;32m     23\u001b[0m     \u001b[0mplt\u001b[0m\u001b[0;34m.\u001b[0m\u001b[0msavefig\u001b[0m\u001b[0;34m(\u001b[0m\u001b[0;34m'likelihood.png'\u001b[0m\u001b[0;34m,\u001b[0m \u001b[0mdpi\u001b[0m\u001b[0;34m=\u001b[0m\u001b[0;36m300\u001b[0m\u001b[0;34m)\u001b[0m\u001b[0;34m\u001b[0m\u001b[0;34m\u001b[0m\u001b[0m\n\u001b[1;32m     24\u001b[0m     \u001b[0;32mreturn\u001b[0m\u001b[0;34m\u001b[0m\u001b[0;34m\u001b[0m\u001b[0m\n",
      "\u001b[0;31mValueError\u001b[0m: The truth value of an array with more than one element is ambiguous. Use a.any() or a.all()"
     ]
    }
   ],
   "source": [
    "#computing log-likelihood\n",
    "def likelihoodAllSousSeq(subseqs, PWM, f_0, k, aa):\n",
    "    \"\"\"Input 1  : list of all subsequences of length k\n",
    "       Input 2  : position-weight matrix of length shape (q,k)\n",
    "       Input 3  : null model vector of length k\n",
    "       Input 4  : length of each subsequence\n",
    "       Output 1 : log-likelihood vector of length len(subseqs) - k + 1\n",
    "    \n",
    "    REMARK : The length of the subsequences must match the\n",
    "    number of columns in the PWM and the length of the null model!\"\"\"\n",
    "    \n",
    "    scores = np.array([ loglikehood(seq, PWM, f_0, k, aa) for seq in subseqs ])\n",
    "    \n",
    "    return scores\n",
    "\n",
    "like = likelihoodAllSousSeq(slide, PWM, f_0, L, aa)\n",
    "print( like )\n",
    "\n",
    "def plot_likelihood(lhs):\n",
    "    \"\"\"Input 1 : log-likelihood vector\"\"\"\n",
    "    \n",
    "    plt.bar(np.arange(lhs), lhs)\n",
    "    plt.savefig('likelihood.png', dpi=300)\n",
    "    return\n",
    "\n",
    "plot_likelihood(like)"
   ]
  },
  {
   "cell_type": "code",
   "execution_count": 14,
   "metadata": {},
   "outputs": [],
   "source": [
    "#plotting log-likelihood for each initial position"
   ]
  },
  {
   "cell_type": "code",
   "execution_count": null,
   "metadata": {},
   "outputs": [],
   "source": []
  },
  {
   "cell_type": "code",
   "execution_count": null,
   "metadata": {},
   "outputs": [],
   "source": []
  },
  {
   "cell_type": "code",
   "execution_count": null,
   "metadata": {},
   "outputs": [],
   "source": []
  },
  {
   "cell_type": "code",
   "execution_count": null,
   "metadata": {},
   "outputs": [],
   "source": []
  },
  {
   "cell_type": "code",
   "execution_count": null,
   "metadata": {},
   "outputs": [],
   "source": []
  },
  {
   "cell_type": "code",
   "execution_count": null,
   "metadata": {},
   "outputs": [],
   "source": []
  },
  {
   "cell_type": "code",
   "execution_count": null,
   "metadata": {},
   "outputs": [],
   "source": []
  },
  {
   "cell_type": "code",
   "execution_count": null,
   "metadata": {},
   "outputs": [],
   "source": []
  }
 ],
 "metadata": {
  "celltoolbar": "Raw Cell Format",
  "kernelspec": {
   "display_name": "Python 3 (ipykernel)",
   "language": "python",
   "name": "python3"
  },
  "language_info": {
   "codemirror_mode": {
    "name": "ipython",
    "version": 3
   },
   "file_extension": ".py",
   "mimetype": "text/x-python",
   "name": "python",
   "nbconvert_exporter": "python",
   "pygments_lexer": "ipython3",
   "version": "3.10.6"
  }
 },
 "nbformat": 4,
 "nbformat_minor": 2
}

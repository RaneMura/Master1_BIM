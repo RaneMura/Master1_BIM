{
 "cells": [
  {
   "cell_type": "markdown",
   "metadata": {
    "id": "AMKZ5QVoBmjJ"
   },
   "source": [
    "<h1><b>Statistique en Bioinformatique : </b> TME9 </h1><br>\n",
    "\n",
    "L’objectif de ce TME est l'implementation de la méthode Expectation-Maximisation pour la recherche de motifs.\n",
    "\n",
    "<div class=\"alert alert-warning\" role=\"alert\" style=\"margin: 10px\">\n",
    "<div class=\"alert alert-warning\" role=\"alert\" style=\"margin: 10px\">\n",
    "<p><b>Soumission</b></p>\n",
    "<ul>\n",
    "<li>Renomer le fichier TME9.ipynb pour NomEtudiant1_NomEtudiant2.ipynb </li>\n",
    "<li>Soumettre via moodle </li>\n",
    "</div>"
   ]
  },
  {
   "cell_type": "markdown",
   "metadata": {},
   "source": [
    "Etudiant 1 : Delouis Maëlys\n",
    "<p>\n",
    "Etudiant 2 : Rey Soraya"
   ]
  },
  {
   "cell_type": "markdown",
   "metadata": {
    "id": "r_qH1CG7BmjM"
   },
   "source": [
    "<H1>Expectation-Maximisation Motif</H1>\n",
    "<br>\n",
    "La méthode EM (Expectation-Maximisation) permet de détecter des motifs dans un ensemble de séquences ADN ou protéiques reliées, non alignées. En particulier, étant donné un groupe de séquences de longueur $L$, dont on sait qu'elles partagent un motif commun de longueur $w$, l’algorithme EM:\n",
    "- infère un modèle $(\\Theta,Z)$ pour le motif;\n",
    "- localise l’occurrence du motif dans chaque séquence.\n",
    "\n",
    "$\\Theta$ representé la matrice des poids-positions $p_{c,k}$ du motif (où $c \\in \\{A,C,G,T\\}$ ou $c \\in \\{A,C,D,...,W\\}$  et $k \\in \\{0 \\dots w\\}$), $p_{c,0}$  est le vecteur de probabilités du modèle nul ou \"background\".\n",
    "$Ζ$ est la matrice des variables cachées, qui donnent les positions initiales du motif: \n",
    "- $Z_{i,j} = 1$, si le motif commence en position $j$ de la séquence $i$,\n",
    "- $Z_{i,j} = 0$, sinon. \n",
    "\n",
    "L’algorithme affine les paramètres du modèle de manière itérative par espérance-maximisation. Chaque itération $t$ se compose de deux étapes:\n",
    "- (E) Calcul des valeurs attendues $Ζ^{(t)}$ de $Ζ$, étant donnés $\\Theta^{(t-1)}$\n",
    "- (M) Estimation de  $\\Theta^{(t)}$  à partir de  $Ζ^{(t)}$"
   ]
  },
  {
   "cell_type": "markdown",
   "metadata": {
    "id": "uSue1iYeBmjO"
   },
   "source": [
    "1\\. Implémentez une fonction `read_training_file` pour lire le fichier d'entré qui contient un ensemble de séquences ADN non alignées. Pour simplifier nous allons utiliser les données vu en cours du fichier `toyEx.txt`."
   ]
  },
  {
   "cell_type": "code",
   "execution_count": 1,
   "metadata": {
    "id": "aWQrgN0iBmjP"
   },
   "outputs": [
    {
     "name": "stderr",
     "output_type": "stream",
     "text": [
      "C:\\Users\\maely\\miniconda3\\lib\\site-packages\\numpy\\_distributor_init.py:30: UserWarning: loaded more than 1 DLL from .libs:\n",
      "C:\\Users\\maely\\miniconda3\\lib\\site-packages\\numpy\\.libs\\libopenblas.FB5AE2TYXYH2IJRDKGDGQ3XBKLKTF43H.gfortran-win_amd64.dll\n",
      "C:\\Users\\maely\\miniconda3\\lib\\site-packages\\numpy\\.libs\\libopenblas64__v0.3.21-gcc_10_3_0.dll\n",
      "  warnings.warn(\"loaded more than 1 DLL from .libs:\"\n"
     ]
    },
    {
     "name": "stdout",
     "output_type": "stream",
     "text": [
      "['GTCAGG', 'GAGAGT', 'ACGGAG', 'CCAGTC']\n"
     ]
    }
   ],
   "source": [
    "import numpy as np\n",
    "import matplotlib.pyplot as plt\n",
    "\n",
    "nts = ['A', 'C', 'G', 'T']\n",
    "\n",
    "w = 3\n",
    "input_f = \"toyEx.txt\"\n",
    "\n",
    "def read_training_file(input_f):\n",
    "    \"\"\"\n",
    "    Read a file with no-aligned sequences\n",
    "    input input_f : file name\n",
    "    output seqs : list of sequences\n",
    "    \"\"\"\n",
    "    seqs = []\n",
    "    f = open(input_f, 'r')\n",
    "    line = f.readline()\n",
    "    while line:\n",
    "        seqs.append(line[:-1])\n",
    "        line = f.readline()\n",
    "   \n",
    "    return seqs\n",
    "\n",
    "seqs = read_training_file(input_f)\n",
    "print (seqs) #['GTCAGG', 'GAGAGT', 'ACGGAG', 'CCAGTC']"
   ]
  },
  {
   "cell_type": "markdown",
   "metadata": {
    "id": "XIHpbbKwBmjQ"
   },
   "source": [
    "2\\. Implémentez une fonction `initialiseP` pour initialiser la matrice poids-position $p_{c,k}$. On considère le modèle nul par défaut $p_0 = (0.25, 0.25, 0.25, 0.25)$. Pour initialiser $p^{(t)}$, on prend généralement un motif au hasard dans une sequence, et on fixe à $0.5$ les poids du nucleotide correspondant et à $\\frac{1-0.5}{3}$ les trois autres. "
   ]
  },
  {
   "cell_type": "code",
   "execution_count": 2,
   "metadata": {
    "id": "_zIZdJouBmjR"
   },
   "outputs": [
    {
     "name": "stdout",
     "output_type": "stream",
     "text": [
      "[[0.25       0.16666667 0.5        0.16666667]\n",
      " [0.25       0.5        0.16666667 0.16666667]\n",
      " [0.25       0.16666667 0.16666667 0.5       ]\n",
      " [0.25       0.16666667 0.16666667 0.16666667]]\n"
     ]
    }
   ],
   "source": [
    "def initialiseP(seqs, w, alph):\n",
    "    \"\"\"\n",
    "    Initialise pc,k\n",
    "    input seqs : list of sequences\n",
    "    input w : motif length\n",
    "    input alph : alphabet (nucleotides or amino acids)\n",
    "    output P: position probability matrix\n",
    "    \"\"\"\n",
    "    q=len(alph)\n",
    "    P = np.zeros((q, w+1))\n",
    "    # initialisation du model nul\n",
    "    P[:, 0] = [0.25] * q\n",
    "    # on tire une séquence de façon aléatoire\n",
    "    rand_index_seq = np.random.randint(0, len(seqs))\n",
    "    sequence = seqs[rand_index_seq]\n",
    "    # on tire un motif de façon aléatoire\n",
    "    rand_index_motif = np.random.randint(0, len(sequence) - w)\n",
    "    motif = sequence[rand_index_motif:rand_index_motif + w]\n",
    "    # on remplit les colones restantes\n",
    "    for i in range(len(motif)):\n",
    "        # la case du caractère du motif est mise à 0.5\n",
    "        c_k = alph.index(motif[i])\n",
    "        P[c_k][i + 1] = 0.5\n",
    "        \n",
    "        # les autres sont remplis équitablement de sorte à ce que la colonne somme à 1\n",
    "        for j in range(q):\n",
    "            if c_k != j:\n",
    "                P[j][i + 1] = (1 - 0.5) / (q - 1)\n",
    "    return P\n",
    "\n",
    "#test\n",
    "p = initialiseP(seqs, w, nts)\n",
    "print (p)"
   ]
  },
  {
   "cell_type": "markdown",
   "metadata": {
    "id": "rMqgrzYRBmjS"
   },
   "source": [
    "3\\. Implémenter une fonction `initialiseZ` pour initialiser la matrice $Z$ à uns. Rappelez-vous que la dimension de $Z$ est $nbSeq \\times (lenSeq -w +1)$, où $nbSeq$ est le nombre de sequences et $lenSeq$ est la taille/longueur des sequences."
   ]
  },
  {
   "cell_type": "code",
   "execution_count": 3,
   "metadata": {
    "id": "mghUiiW4BmjT"
   },
   "outputs": [
    {
     "name": "stdout",
     "output_type": "stream",
     "text": [
      "[[1. 1. 1. 1.]\n",
      " [1. 1. 1. 1.]\n",
      " [1. 1. 1. 1.]\n",
      " [1. 1. 1. 1.]]\n"
     ]
    }
   ],
   "source": [
    "def initialiseZ(seqs, w):\n",
    "    \"\"\"\n",
    "    Initialise Z\n",
    "    input seqs : list of sequences\n",
    "    input w : motif length\n",
    "    output Z :  matrix of motif start positions\n",
    "    \"\"\"\n",
    "    n = len(seqs)\n",
    "    L = len(seqs[0])\n",
    "    Z = np.ones((n, (L - w + 1)))\n",
    "    return Z\n",
    "\n",
    "Z = initialiseZ(seqs, w)\n",
    "print(Z)"
   ]
  },
  {
   "cell_type": "markdown",
   "metadata": {
    "id": "fbSoL4ywBmjU"
   },
   "source": [
    "4\\. Écrivez une fonction `E_step` pour le pas Expectation qui estime $Z$ à partir de  $p_{c,k}$. \n",
    "Écrivez aussi une fonction `normaliseZ` pour normaliser $Z$."
   ]
  },
  {
   "cell_type": "code",
   "execution_count": 4,
   "metadata": {},
   "outputs": [
    {
     "data": {
      "text/plain": [
       "[7.233796296296296e-05,\n",
       " 0.001953125,\n",
       " 7.233796296296296e-05,\n",
       " 7.233796296296296e-05]"
      ]
     },
     "execution_count": 4,
     "metadata": {},
     "output_type": "execute_result"
    }
   ],
   "source": [
    "# fonction intermdédiaire: calcule Z pour une séquence donnée à partir de P\n",
    "def compute_Z_for_seq(seq, P, w, alph):\n",
    "    res = []\n",
    "    # parcours des positions de la séquence\n",
    "    for i in range(len(seq) - w + 1):\n",
    "        # motif courrant\n",
    "        motif = seq[i: i + w]\n",
    "        # calcul de la probabilité du motif\n",
    "        proba = 1\n",
    "        for i in range(w):\n",
    "            c_k = alph.index(motif[i])\n",
    "            proba = proba * P[c_k][i + 1]\n",
    "        # calcul des probas hors-motif (on suppose que le model nul est systématiquement equiprobable)\n",
    "        proba_nulle = P[0][0] \n",
    "        proba = proba * pow(proba_nulle, len(seq) - w)\n",
    "        \n",
    "        res.append(proba)\n",
    "    return res\n",
    "    \n",
    "compute_Z_for_seq('ACAGTC', p, 3, ['A','C','G','T'])"
   ]
  },
  {
   "cell_type": "code",
   "execution_count": 5,
   "metadata": {
    "id": "9oa3r0j3BmjV"
   },
   "outputs": [
    {
     "name": "stdout",
     "output_type": "stream",
     "text": [
      "[[0.03125    0.03125    0.84375    0.09375   ]\n",
      " [0.45       0.05       0.45       0.05      ]\n",
      " [0.13636364 0.40909091 0.04545455 0.40909091]\n",
      " [0.09375    0.84375    0.03125    0.03125   ]]\n"
     ]
    }
   ],
   "source": [
    "def E_step(seqs, P, w, alph):\n",
    "    \"\"\"\n",
    "    Implement Expectation step\n",
    "    input seqs : list of sequences\n",
    "    input P : position probability matrix\n",
    "    input Z :  matrix of motif start positions\n",
    "    input w : motif length\n",
    "    input alph : alphabet (nucleotides or amino acids)\n",
    "    output Z :  matrix of motif start positions\n",
    "    \"\"\"\n",
    "    \n",
    "    Z = initialiseZ(seqs, w)\n",
    "    # on appelle la \n",
    "    for i in range(len(Z)):\n",
    "        Z[i] = compute_Z_for_seq(seqs[i], P, w, alph)\n",
    "    return Z\n",
    "\n",
    "def normaliseZ(z):\n",
    "    \"\"\"\n",
    "    Normalise Z matrix\n",
    "    input Z : unnormalised matrix\n",
    "    output Zn : normalised matrix\n",
    "    \"\"\"\n",
    "    return np.array([row/sum(row) for row in z])\n",
    "\n",
    "Z = E_step(seqs, p, w, nts)\n",
    "z_norm = normaliseZ(Z)\n",
    "print(z_norm)"
   ]
  },
  {
   "cell_type": "markdown",
   "metadata": {
    "id": "odh27oHwBmjV"
   },
   "source": [
    "5\\. Implémentez une fonction `M_step` pour le pas Maximisation qui estime $p_{c,k}$ à partir de $Z$. \n",
    "Utilisez les \"pseudocounts\" pour éviter les probabilités ègales à zero."
   ]
  },
  {
   "cell_type": "code",
   "execution_count": 6,
   "metadata": {
    "id": "VleAgdFtBmjW",
    "scrolled": true
   },
   "outputs": [
    {
     "name": "stdout",
     "output_type": "stream",
     "text": [
      "[[0.25       0.17017045 0.49957386 0.15255682]\n",
      " [0.25       0.39879261 0.15767045 0.1328125 ]\n",
      " [0.25       0.30213068 0.20994318 0.57947443]\n",
      " [0.25       0.12890625 0.1328125  0.13515625]]\n"
     ]
    }
   ],
   "source": [
    "def totalNumberofCH(seqs,alph):\n",
    "\n",
    "    q = len(alph)\n",
    "    totalN = np.zeros((q))\n",
    "    for i in range(q):\n",
    "        e = alph[i]\n",
    "        for seq in seqs:\n",
    "            for s in seq:\n",
    "                if(s == e):\n",
    "                    totalN[i]+=1\n",
    "    return totalN\n",
    "                    \n",
    "def M_step(seqs, Z, w, alph):\n",
    "    \"\"\"\n",
    "    Implement Expectation step\n",
    "    input seqs : list of sequences\n",
    "    input Z :  matrix of motif start positions\n",
    "    input w : motif length\n",
    "    input alph : alphabet (nucleotides or amino acids)\n",
    "    output P : position probability matrix\n",
    "    \"\"\"\n",
    "    n = len(seqs)\n",
    "    L = len(seqs[0])\n",
    "    q = len(alph)\n",
    "    \n",
    "    # initialisation de P (avec pseudo-count)\n",
    "    P = np.ones((q, w+1))\n",
    "    \n",
    "    # on va parcourir tous les motifs de toutes les séquences et ajouter\n",
    "    # au fur et à mesure les probabilités du motif dans les cases\n",
    "    # appropriées de P\n",
    "    for i in range(n):\n",
    "        for j in range(L - w + 1):\n",
    "            # on récupère le motif\n",
    "            motif = seqs[i][j:j + w]\n",
    "            # parcours du motif\n",
    "            for k in range(len(motif)):\n",
    "                # caractère courant\n",
    "                c_k = alph.index(motif[k])\n",
    "                # position du caractère dans le motif\n",
    "                pos = k + 1\n",
    "                # ajout de la probabilité Z_i,j\n",
    "                P[c_k][pos] += Z[i][j]\n",
    "                \n",
    "    # normalisation des colonnes (avec pseudo-count) : division par somme des Z + longueur alphabet\n",
    "    # hors la somme des Z vaut le nombre de séquences, puisque chaque séquence a ses Z qui somment à 1\n",
    "    P = P / (q + n)\n",
    "    \n",
    "    # ajout du model nul\n",
    "    P[:, 0] = [0.25] * q\n",
    "    return P\n",
    "\n",
    "P = M_step(seqs, z_norm, w, nts)\n",
    "print(P)"
   ]
  },
  {
   "cell_type": "code",
   "execution_count": 7,
   "metadata": {},
   "outputs": [
    {
     "name": "stdout",
     "output_type": "stream",
     "text": [
      "[1. 1. 1. 1.]\n"
     ]
    }
   ],
   "source": [
    "# test : vérification que les colones somment à 1\n",
    "print(np.sum(P, axis=0))"
   ]
  },
  {
   "cell_type": "markdown",
   "metadata": {
    "id": "37ciA9qLBmjY"
   },
   "source": [
    "6\\. Écrivez une fonction `likelihood` qui calcule la log-vraisemblance de l'ensemble des sequences."
   ]
  },
  {
   "cell_type": "code",
   "execution_count": 16,
   "metadata": {
    "colab": {
     "base_uri": "https://localhost:8080/"
    },
    "id": "jUMUQUwZBmjY",
    "outputId": "b679b7aa-6b80-496d-d6be-c6342913321d"
   },
   "outputs": [
    {
     "name": "stdout",
     "output_type": "stream",
     "text": [
      "-38.94175466716874\n"
     ]
    }
   ],
   "source": [
    "def likelihood(seqs, Z, P, w, alph):\n",
    "    \"\"\"\n",
    "    Implement log likelihood function of P\n",
    "    input seqs : list of sequences\n",
    "    input Z :  matrix of motif start positions\n",
    "    input p : position probability matrix\n",
    "    input w : motif length\n",
    "    input alph : alphabet (nucleotides or amino acids)\n",
    "    output lLikelihood : log likelihood of P \n",
    "\n",
    "    \"\"\"\n",
    "    M = len(seqs)\n",
    "    L = len(seqs[0])\n",
    "    # avec le passage au log, toutes les valeurs s'additionnent\n",
    "    lLikelihood = np.log((L-w+1)**-M) + np.sum(np.log(Z))\n",
    "    return lLikelihood\n",
    "\n",
    "logvraisemblance = likelihood(seqs, z_norm, P, w, nts)\n",
    "print(logvraisemblance)"
   ]
  },
  {
   "cell_type": "markdown",
   "metadata": {
    "id": "LFOgaK9eBmjZ"
   },
   "source": [
    "7\\. Implémentez l'algorithme Expectation-Maximisation. Vous calculerez la valeur de la log-vraisemblance totale du modèle à chaque iteration et l'algorithme prendra fin lorsque $\\Delta \\log \\text{Pr}(D | \\Theta) < \\varepsilon$. Utilisez $\\varepsilon = 1e-4$. Votre implementation devra renvoyer les paramètres du modele ($p$ et la log-likelihood associé), ainsi bien que la liste des meilleures positions du motif dans chaque sequence (matrice $Z$). Faites attention à utiliser $Z$ non-normalisé afin de trouver la log-vraisemblance!"
   ]
  },
  {
   "cell_type": "code",
   "execution_count": 26,
   "metadata": {
    "id": "-ZXGq1_3Bmja"
   },
   "outputs": [
    {
     "name": "stdout",
     "output_type": "stream",
     "text": [
      "Les paramètres du modele:\n",
      "p:\n",
      " [[0.25       0.15756863 0.53548749 0.14330331]\n",
      " [0.25       0.372438   0.14417995 0.13643636]\n",
      " [0.25       0.34270557 0.1838962  0.5896597 ]\n",
      " [0.25       0.12728781 0.13643636 0.13060063]]\n",
      "\n",
      "\n",
      "log-vraisemblance associé: -136.89300815757966\n",
      "\n",
      "\n",
      "Z:\n",
      " [[0.04439564 0.01830245 0.81839488 0.11890703]\n",
      " [0.48231219 0.01850812 0.48231219 0.01686751]\n",
      " [0.07832878 0.2361419  0.05280749 0.63272182]\n",
      " [0.05680838 0.86815885 0.02793756 0.0470952 ]]\n",
      "\n",
      "Les motifs:\n",
      "seq1: 3  CAG\n",
      "seq2: 1  GAG\n",
      "seq3: 4  GAG\n",
      "seq4: 2  CAG\n"
     ]
    },
    {
     "data": {
      "image/png": "[encoded data removed]",
      "text/plain": [
       "<Figure size 640x480 with 1 Axes>"
      ]
     },
     "metadata": {},
     "output_type": "display_data"
    }
   ],
   "source": [
    "def ExpectationMaximisation(seqs, w, alph, eps=1e-4):\n",
    "    \"\"\"\n",
    "    Implement Expectation Maximisation algorithm\n",
    "    input seqs : list of sequences\n",
    "    input w : motif length\n",
    "    input alph : alphabet (nucleotides or amino acids)\n",
    "    input eps : threahold \n",
    "    output P : position probability matrix\n",
    "    output Z :  matrix of motif start positions\n",
    "    output lLikelihood : log likelihood of P \n",
    "    output pos_motif : positions of motifs in seqs\n",
    "    \"\"\"\n",
    "    P = initialiseP(seqs, w, alph)\n",
    "    Z = initialiseZ(seqs, w)\n",
    "    lLikelihood = [likelihood(seqs, Z, P, w, alph)]\n",
    "    pos_motif = []\n",
    "    # équivalent do-while avec condition de sortie\n",
    "    while True:\n",
    "        Z = E_step(seqs, P, w, alph)\n",
    "        z_norm = normaliseZ(Z)\n",
    "        P = M_step(seqs, z_norm, w, alph)\n",
    "        \n",
    "        # calcul de likelihood\n",
    "        log_like = likelihood(seqs, Z, P, w, alph)\n",
    "        delta_lL = np.abs(lLikelihood[-1] - log_like)\n",
    "        lLikelihood.append(log_like)\n",
    "        \n",
    "        if delta_lL < eps :\n",
    "            break\n",
    "        \n",
    "    # calcul des positions des motifs (valeurs maximales dans Z)\n",
    "    pos_motif = np.argmax(Z, axis=1)\n",
    "\n",
    "    return (P, lLikelihood, normaliseZ(Z), pos_motif)\n",
    "\n",
    "def analyse_results(results, seqs):\n",
    "    print('Les paramètres du modele:')\n",
    "    print('p:\\n',results[0])\n",
    "    print('\\n')\n",
    "    print('log-vraisemblance associé:',results[1][-1])\n",
    "    print('\\n')\n",
    "    print('Z:\\n',results[2])\n",
    "    print('\\nLes motifs:')\n",
    "    for i in range(len(seqs)):\n",
    "        print('seq'+str(i+1)+': '+ str(results[3][i]+1) + '  ' + seqs[i][results[3][i]:results[3][i]+w])\n",
    "\n",
    "    plt.plot(results[1][1:])\n",
    "    plt.xlabel('Iteration')\n",
    "    plt.ylabel('Log-vraisemblance')\n",
    "    plt.show()\n",
    "\n",
    "eps = 10**-4\n",
    "EMResults = ExpectationMaximisation(seqs, w, nts, eps)\n",
    "analyse_results(EMResults,seqs)"
   ]
  },
  {
   "cell_type": "markdown",
   "metadata": {
    "id": "MZsOsS8yBmjb"
   },
   "source": [
    "8\\. Qu'est-ce que vous observez en exécutant l'algorithme EM plusieurs fois? Justifiez votre réponse."
   ]
  },
  {
   "cell_type": "markdown",
   "metadata": {
    "id": "HgXXj3dcBmjb"
   },
   "source": [
    "Reponse:\n",
    "\n",
    "<font color=\"blue\">\n",
    "On constate qu'on atteint le maximum de vraissemblance mais que les itérations se poursuivent car la convergence n'est pas encore atteinte, ce qui veut dire que le résultat n'est pas nécessairement optimal. Il faudrait peut être stocker toutes les valeurs possibles et faire un argmax dessus pour optenir le model optimal.\n",
    "</font>"
   ]
  },
  {
   "cell_type": "markdown",
   "metadata": {
    "id": "WThFDcG5Bmjb"
   },
   "source": [
    "9\\. Pour éviter le problème identifié au point précedent, écrivez une fonction `EM_iteratif` qui exécute l'algorithme `EM` $N$ fois ($N=10$) et qui prend les paramètres associés à la meilleure log-vraisemblance. Trouvez-vous les bons motifs?"
   ]
  },
  {
   "cell_type": "code",
   "execution_count": 81,
   "metadata": {
    "id": "hiMm-jSkBmjc"
   },
   "outputs": [
    {
     "name": "stdout",
     "output_type": "stream",
     "text": [
      "Les paramètres du modele:\n",
      "p:\n",
      " [[0.25       0.17017045 0.49957386 0.15255682]\n",
      " [0.25       0.39879261 0.15767045 0.1328125 ]\n",
      " [0.25       0.30213068 0.20994318 0.57947443]\n",
      " [0.25       0.12890625 0.1328125  0.13515625]]\n",
      "\n",
      "\n",
      "log-vraisemblance associé: -136.89079308590513\n",
      "\n",
      "\n",
      "Z:\n",
      " [[0.03125    0.03125    0.84375    0.09375   ]\n",
      " [0.45       0.05       0.45       0.05      ]\n",
      " [0.13636364 0.40909091 0.04545455 0.40909091]\n",
      " [0.09375    0.84375    0.03125    0.03125   ]]\n",
      "\n",
      "Les motifs:\n",
      "seq1: 3  CAG\n",
      "seq2: 1  GAG\n",
      "seq3: 2  CGG\n",
      "seq4: 2  CAG\n"
     ]
    },
    {
     "data": {
      "image/png": "[encoded data removed]",
      "text/plain": [
       "<Figure size 640x480 with 1 Axes>"
      ]
     },
     "metadata": {},
     "output_type": "display_data"
    }
   ],
   "source": [
    "def EM_iteratif(N, seqs, w, alph, eps):\n",
    "    \"\"\"\n",
    "    Implement a iterative version of Expectation Maximisation algorithm\n",
    "    input N : number of iterations\n",
    "    input seqs : list of sequences\n",
    "    input w : motif length\n",
    "    input eps : threahold \n",
    "    output bestModel : the parameter of the best model\n",
    "    \"\"\"\n",
    " \n",
    "    P = initialiseP(seqs, w, alph)\n",
    "    Z = initialiseZ(seqs, w)\n",
    "    P_list = [initialiseP(seqs, w, alph)]\n",
    "    Z_list = [initialiseZ(seqs, w)]\n",
    "    lLikelihood = [likelihood(seqs, Z, P, w, alph)]\n",
    "    pos_motif = []\n",
    "    t = 0\n",
    "    # équivalent do-while avec condition de sortie\n",
    "    while True:\n",
    "        t += 1\n",
    "        Z = E_step(seqs, P, w, alph)\n",
    "        z_norm = normaliseZ(Z)\n",
    "        P = M_step(seqs, z_norm, w, alph)\n",
    "        \n",
    "        P_list.append(P)\n",
    "        Z_list.append(Z)\n",
    "        \n",
    "        # calcul de likelihood\n",
    "        log_like = likelihood(seqs, Z, P, w, alph)\n",
    "        delta = np.abs(log_like - lLikelihood[-1])\n",
    "        lLikelihood.append(log_like)\n",
    "\n",
    "        if t == N + 1 or delta < eps:\n",
    "            break\n",
    "        \n",
    "    best_index = np.argmax(lLikelihood[1:])\n",
    "    Z_best = Z_list[best_index]\n",
    "    P_best = P_list[best_index]\n",
    "    \n",
    "    # calcul des positions des motifs (valeurs maximales dans Z)\n",
    "    pos_motif = np.argmax(Z_best, axis=1)\n",
    "    \n",
    "    bestModel = P_best, lLikelihood, normaliseZ(Z_best), pos_motif\n",
    "    return bestModel\n",
    "\n",
    "\n",
    "eps = 10**-4\n",
    "N=10\n",
    "w = 3\n",
    "meilleurEM = EM_iteratif(N, seqs, w, nts, eps)\n",
    "analyse_results(meilleurEM, seqs)"
   ]
  },
  {
   "cell_type": "markdown",
   "metadata": {
    "id": "us2JZ9SRBmjc"
   },
   "source": [
    "10\\. Appliquez votre algorithme `EM` à l'ensemble des séquence du fichier `trainingSequences.txt` en utilisant $w=10$. "
   ]
  },
  {
   "cell_type": "code",
   "execution_count": 82,
   "metadata": {
    "id": "9yc5bUMIBmjd"
   },
   "outputs": [
    {
     "name": "stdout",
     "output_type": "stream",
     "text": [
      "['ACAACCATATATAGTAGCCACTGAAT', 'CCACCCCATATATAGTACGGGTGGTG', 'CCATAAATAGAGCAGACTGTCGCTGT', 'GTAAACATAAAACCCCATAAATAGGA', 'TTCAAGAAACTGCCATAAATAGCGAT', 'TAGAGGTTTTTGTGCCATAAATAGGT', 'CCCCATAAATAGGAATATCGGCCTGA', 'TTGCCATTAAATTATACCATATATGG', 'TATCAACAACGATAACCCATATATGG', 'TTTCCAAATATAGAAGGTGTGGAAAG', 'TCCAAATATAGTAAAATCGAGTCGAT', 'GACTGGGGCCCAAATATAGCATGTTC', 'ATCATTAGCTTTTACTCCATAAATGG', 'ATTCTTTTGCCATAAATGGTAACTCG', 'CCATAAATGGCAAGTCTGTCGAATAA', 'CCCATAAATGGCAGGGTATTAGCACG', 'CCAAAAATAGTGTGTCGTAACAGCTT', 'CCAAAAATAGGGGAATGGAAGTGGGG', 'CCAAAAATAGGCCAGAGTTTACAACG', 'CCAAAAATAGTTAAATAATATACATT', 'CTACACCTTCCAAAAATAGTATATCT', 'TTGCCAAATATGGGGTTAGAGTGTTC', 'GTCTTTACCAAAAATGGTGATCCTGT', 'TTGCCAAAAATGGAGCGTTTACCAAT', 'ATCCACCATTTATAGATTCAGGAGGC', 'GCATAAGAGAACATTCCATTTATAGG', 'TCAACCCCATTTATAGCCACGTCAGT', 'CATCCATTAATAGTAGCCTAATGGCG', 'GGAGTAGGCCCATTAATAGTATCTTT', 'CCATTAATAGACAAAATCGACTCAAG', 'CCAATTATAGAAAGTGGCTGGTCGTC', 'AACTATTATTTCTCACCCATTAATGG', 'ATGCTTTACCAATAATAGAGCTGCAA', 'GGTCAGTTAGATCCAATTATGGAATG', 'GCATTCCAAAATTAGTAACGATATCT', 'CCTCCTTTCCAAAATTAGTTGAGAAG', 'CTTTGCCAAAATTAGCTATTTCTGAC', 'ACGCATGCACCACATATAGTAACGTG', 'AGCGCCCCATTTTTAGGGTTTAAGCT', 'CCATTTTTAGTAATTTACAACGCCGC', 'CCATTTTTAGTATGGAAGCCGTGAGT', 'AAATTACCATAAGTGGTAATACACAC', 'CAATTACTATATATAGCGTGTTTGTC', 'CCATACATGGAATGTACCGAAACACT', 'CCGAAAGTACTATAAATAGTAATCCA', 'GTTTTCGCCTTTCTATAAATAGTACC', 'GGTACCTAATATAGTAATCAGCTCTG', 'TCTTTAATTACTTGCCTAATATAGCT', 'GGATGCATCCCTAATATAGTTAATAA', 'ATCTTTACCAAAACTAGTTAATTCGA', 'TGCTAAATATAGAACATCTCCAAATA', 'CCTTCTAACTAAATATAGAAGTGATA', 'ATTACCATAAACAGAAATCAGTGGAT', 'CCTAAAAATAGATCGAATGTGTGCTC', 'TACTAAAAATAGATCATGAGCTACGA', 'TAGTCACTTGACCATACCTAAAATGG', 'ATCAACAGTCTACAATCCTAAAATGG', 'CAAACATTCCAGATTTAGAATGGTTA', 'ACTTCTTTCCTTTTATAGCTGAGTGC', 'CCGCTAAGCCTTGTCCTTTTATAGCA', 'TGCCCAAAAAAAGAAAGTTGTCAGAC', 'CCCAAATAAGGTAAAGCTCTCTGGAC', 'AACCACACACCCAGAATTAGTAAGCG', 'TTCATTTAAGACTTTACCATTTCTGG', 'TGCGATGGAATAGTACTAAATTTAGG', 'TGCGGAAGAGGGTTCCCGATATAGAT', 'TCCCAAAAATACTCATATGTCGGGCT', 'CCATATTGGGTAAAGATTGCTTTTTA', 'TAGTGGTTAACTACCCGTTTTTAGTA', 'CCAATTTATAGTTCACTTTCGTGATG', 'TACTCGCTTTTCTTACTAAAAGTAGA', 'TACTAAAAGTAGTAGTTTGTCTGCAT', 'CCATTTTAAGGAATTTACGATCTAGT', 'TCCCATTTTAAGACCAACTTCTCATT', 'GATCCAGTAGATTCCATTTATGTACG', 'CCTGTAAATAGTAACAAGGTGCATCG', 'CGATCAATATGTTACCATTTTGGGGT', 'GAGCGAGACCTTCCCAATAATTAGTA', 'AAGTGACTATATTACTCAAAATAGAA', 'TTACCAAATTGCCAATTTAGGCTAAA', 'TTACCAAATTGCCAATTTAGGCTAAA', 'GAAGATACCTAATACGGAAATTTTCC', 'GCAGACTTGCTATATTAAGCTAATAT', 'CGCTTTCTTACTATAAATGTTTACTA', 'GGTTCAAGATTTTTCCTTTTATGTAC', 'TTTATAGTGTCCCTTTTTCGGTAAGT', 'ATCCTACGATGCTTTCTAAAAGAAGG', 'CCCTAGCAATTTTTTACTATATTTGT', 'GGAAGAATTTACTATAATTGTACATG', 'CTCTAATGGCCTTACTACTTAAAGCA', 'GCCGAGTCCGGAATTTCCGAAAAATG', 'ATTTATTTTCCTAAAGTGTAACTAAC', 'GACCTGTATCCTTTTCTACTTTTGTC', 'ATATGCCCCTCACAAGTTACCAATTA', 'AAAATGGTTTAATTTCTCGGGACAGG', 'CTCAGTGCACACAGACATTCCAAATA', 'GATTAGGATTCGTTTGTTTCCAAATA']\n",
      "Les paramètres du modele:\n",
      "p:\n",
      " [[0.25       0.18233717 0.27787153 0.61607331 0.30843935 0.63545975\n",
      "  0.59143775 0.2883867  0.29156221 0.27702477 0.1734725 ]\n",
      " [0.25       0.58280056 0.24181242 0.10932557 0.11386104 0.08977959\n",
      "  0.08692705 0.09391305 0.07311726 0.1093529  0.13642918]\n",
      " [0.25       0.07393863 0.07981981 0.08309208 0.10225286 0.06788408\n",
      "  0.1117469  0.09771133 0.13485726 0.44182467 0.27960485]\n",
      " [0.25       0.16092363 0.40049624 0.19150905 0.47544675 0.20687659\n",
      "  0.2098883  0.51998893 0.50046328 0.17179765 0.41049347]]\n",
      "\n",
      "\n",
      "log-vraisemblance associé: -71059.13460535284\n",
      "\n",
      "\n",
      "Z:\n",
      " [[0.01756669 0.05270007 0.01756669 ... 0.01756669 0.00585556 0.00195185]\n",
      " [0.00721732 0.02165196 0.00721732 ... 0.06495589 0.02165196 0.00080192]\n",
      " [0.35543637 0.11847879 0.01316431 ... 0.0043881  0.00048757 0.35543637]\n",
      " ...\n",
      " [0.0199852  0.05995559 0.00666173 ... 0.00074019 0.00666173 0.00666173]\n",
      " [0.03050847 0.01016949 0.03050847 ... 0.03050847 0.09152542 0.03050847]\n",
      " [0.02735562 0.00911854 0.24620061 ... 0.00303951 0.02735562 0.00911854]]\n",
      "\n",
      "Les motifs:\n",
      "seq1: 9  ATATAGTAGC\n",
      "seq2: 6  CCATATATAG\n",
      "seq3: 1  CCATAAATAG\n",
      "seq4: 15  CCATAAATAG\n",
      "seq5: 13  CCATAAATAG\n",
      "seq6: 15  CCATAAATAG\n",
      "seq7: 3  CCATAAATAG\n",
      "seq8: 6  ATTAAATTAT\n",
      "seq9: 17  CCATATATGG\n",
      "seq10: 2  TTCCAAATAT\n",
      "seq11: 3  CAAATATAGT\n",
      "seq12: 11  CAAATATAGC\n",
      "seq13: 17  CCATAAATGG\n",
      "seq14: 10  CCATAAATGG\n",
      "seq15: 1  CCATAAATGG\n",
      "seq16: 2  CCATAAATGG\n",
      "seq17: 2  CAAAAATAGT\n",
      "seq18: 2  CAAAAATAGG\n",
      "seq19: 2  CAAAAATAGG\n",
      "seq20: 2  CAAAAATAGT\n",
      "seq21: 11  CAAAAATAGT\n",
      "seq22: 4  CCAAATATGG\n",
      "seq23: 9  CAAAAATGGT\n",
      "seq24: 4  CCAAAAATGG\n",
      "seq25: 3  CCACCATTTA\n",
      "seq26: 1  GCATAAGAGA\n",
      "seq27: 5  CCCCATTTAT\n",
      "seq28: 5  CATTAATAGT\n",
      "seq29: 11  CATTAATAGT\n",
      "seq30: 2  CATTAATAGA\n",
      "seq31: 2  CAATTATAGA\n",
      "seq32: 3  CTATTATTTC\n",
      "seq33: 10  CAATAATAGA\n",
      "seq34: 11  ATCCAATTAT\n",
      "seq35: 6  CCAAAATTAG\n",
      "seq36: 9  CCAAAATTAG\n",
      "seq37: 6  CCAAAATTAG\n",
      "seq38: 11  CACATATAGT\n",
      "seq39: 5  CCCCATTTTT\n",
      "seq40: 1  CCATTTTTAG\n",
      "seq41: 1  CCATTTTTAG\n",
      "seq42: 7  CCATAAGTGG\n",
      "seq43: 1  CAATTACTAT\n",
      "seq44: 1  CCATACATGG\n",
      "seq45: 10  CTATAAATAG\n",
      "seq46: 13  CTATAAATAG\n",
      "seq47: 6  CTAATATAGT\n",
      "seq48: 2  CTTTAATTAC\n",
      "seq49: 11  CTAATATAGT\n",
      "seq50: 9  CAAAACTAGT\n",
      "seq51: 1  TGCTAAATAT\n",
      "seq52: 13  ATATAGAAGT\n",
      "seq53: 5  CCATAAACAG\n",
      "seq54: 2  CTAAAAATAG\n",
      "seq55: 3  CTAAAAATAG\n",
      "seq56: 12  CCATACCTAA\n",
      "seq57: 10  CTACAATCCT\n",
      "seq58: 15  TTAGAATGGT\n",
      "seq59: 5  CTTTCCTTTT\n",
      "seq60: 16  CTTTTATAGC\n",
      "seq61: 12  AGAAAGTTGT\n",
      "seq62: 3  CAAATAAGGT\n",
      "seq63: 11  CCAGAATTAG\n",
      "seq64: 4  ATTTAAGACT\n",
      "seq65: 5  ATGGAATAGT\n",
      "seq66: 17  CGATATAGAT\n",
      "seq67: 4  CAAAAATACT\n",
      "seq68: 1  CCATATTGGG\n",
      "seq69: 11  CTACCCGTTT\n",
      "seq70: 6  TTATAGTTCA\n",
      "seq71: 16  CTAAAAGTAG\n",
      "seq72: 3  CTAAAAGTAG\n",
      "seq73: 1  CCATTTTAAG\n",
      "seq74: 3  CCATTTTAAG\n",
      "seq75: 14  CCATTTATGT\n",
      "seq76: 2  CTGTAAATAG\n",
      "seq77: 1  CGATCAATAT\n",
      "seq78: 15  CAATAATTAG\n",
      "seq79: 7  CTATATTACT\n",
      "seq80: 3  ACCAAATTGC\n",
      "seq81: 3  ACCAAATTGC\n",
      "seq82: 15  CGGAAATTTT\n",
      "seq83: 10  CTATATTAAG\n",
      "seq84: 11  CTATAAATGT\n",
      "seq85: 5  CAAGATTTTT\n",
      "seq86: 1  TTTATAGTGT\n",
      "seq87: 4  CTACGATGCT\n",
      "seq88: 17  CTATATTTGT\n",
      "seq89: 12  CTATAATTGT\n",
      "seq90: 1  CTCTAATGGC\n",
      "seq91: 8  CCGGAATTTC\n",
      "seq92: 10  CCTAAAGTGT\n",
      "seq93: 16  CTACTTTTGT\n",
      "seq94: 1  ATATGCCCCT\n",
      "seq95: 7  GTTTAATTTC\n",
      "seq96: 12  CAGACATTCC\n",
      "seq97: 3  TTAGGATTCG\n"
     ]
    },
    {
     "data": {
      "image/png": "[encoded data removed]",
      "text/plain": [
       "<Figure size 640x480 with 1 Axes>"
      ]
     },
     "metadata": {},
     "output_type": "display_data"
    }
   ],
   "source": [
    "w= 10\n",
    "input_f = \"trainingSequences.txt\"\n",
    "seqs_train = read_training_file(input_f)\n",
    "print (seqs_train)\n",
    "eps = 10**-4\n",
    "N=10\n",
    "meilleurEM = EM_iteratif(N, seqs_train, w, nts, eps)\n",
    "analyse_results(meilleurEM,seqs_train)"
   ]
  },
  {
   "cell_type": "markdown",
   "metadata": {
    "id": "r3ddFiW2Bmjd"
   },
   "source": [
    "11\\. Construire un LOGO pour le motif prédit avec le service <i>WebLogo</i>. Pour cela, identifiez le motif dans chaque séquence, utiliser <i>ClustalOmega</i> pour les aligner et puis <i>WebLogo</i> pour générer le LOGO. Ajouter le LOGO à votre réponse."
   ]
  },
  {
   "cell_type": "code",
   "execution_count": 83,
   "metadata": {
    "id": "sR5YLgIZBmjd"
   },
   "outputs": [],
   "source": [
    "fhandler = open('motifs.txt','w')\n",
    "for i in range(len(seqs_train)):\n",
    "    fhandler.write('>motif'+str(i+1)+'\\n')\n",
    "    fhandler.write(seqs_train[i][meilleurEM[3][i]:meilleurEM[3][i]+w])\n",
    "    fhandler.write('\\n')\n",
    "fhandler.close()"
   ]
  },
  {
   "attachments": {
    "image-2.png": {
     "image/png": "[encoded data removed]"
    }
   },
   "cell_type": "markdown",
   "metadata": {
    "id": "0lu09z4zBmje"
   },
   "source": [
    "![image-2.png](attachment:image-2.png)"
   ]
  },
  {
   "cell_type": "markdown",
   "metadata": {
    "id": "YfmV6fjVBmje"
   },
   "source": [
    "12\\. Comparez les motifs trouvés par votre programme avec les motifs du fichier `testingSequences.txt`, où les vrais motifs sont montrés en lettre majuscule. Quelle est la performance de votre programme? "
   ]
  },
  {
   "cell_type": "code",
   "execution_count": 87,
   "metadata": {
    "id": "jh36eh-vBmje"
   },
   "outputs": [
    {
     "name": "stdout",
     "output_type": "stream",
     "text": [
      "Performance by character =  0.622680412371134\n",
      "Performance by sequence =  0.41237113402061853\n"
     ]
    }
   ],
   "source": [
    "import re\n",
    "\n",
    "motifs_extracted = []\n",
    "motifs_real = []\n",
    "w = 10\n",
    "motif = '[A-Z]{%d}'%w\n",
    "\n",
    "\n",
    "input_f = \"testingSequences.txt\"\n",
    "\n",
    "f_test = open(input_f, 'r')\n",
    "\n",
    "# lecture des séquences de test\n",
    "test_seq = f_test.readline()\n",
    "while test_seq:\n",
    "    motifs_real.append(re.search(motif, test_seq).group(0))\n",
    "    test_seq = f_test.readline()\n",
    "    \n",
    "# lecture des séquences extraites\n",
    "for i in range(len(seqs_train)):\n",
    "    motifs_extracted.append(seqs_train[i][meilleurEM[3][i]:meilleurEM[3][i]+w])\n",
    "    \n",
    "# comparaison\n",
    "nb_match = 0\n",
    "for i in range(len(motifs_extracted)):\n",
    "    for j in  range(len(motifs_extracted[i])):\n",
    "        if motifs_extracted[i][j] == motifs_real[i][j]:\n",
    "            nb_match += 1\n",
    "print('Performance by character = ', nb_match/(len(motifs_extracted)*w))\n",
    "\n",
    "# comparaison\n",
    "nb_match = 0\n",
    "for i in range(len(motifs_extracted)):\n",
    "        if motifs_extracted[i] == motifs_real[i]:\n",
    "            nb_match += 1\n",
    "print('Performance by sequence = ', nb_match/len(motifs_extracted))\n",
    "\n",
    "\n",
    "\n"
   ]
  },
  {
   "cell_type": "code",
   "execution_count": null,
   "metadata": {},
   "outputs": [],
   "source": []
  }
 ],
 "metadata": {
  "colab": {
   "collapsed_sections": [],
   "name": "TME9_2022.ipynb",
   "provenance": []
  },
  "kernelspec": {
   "display_name": "Python 3 (ipykernel)",
   "language": "python",
   "name": "python3"
  },
  "language_info": {
   "codemirror_mode": {
    "name": "ipython",
    "version": 3
   },
   "file_extension": ".py",
   "mimetype": "text/x-python",
   "name": "python",
   "nbconvert_exporter": "python",
   "pygments_lexer": "ipython3",
   "version": "3.10.6"
  }
 },
 "nbformat": 4,
 "nbformat_minor": 1
}

{
 "cells": [
  {
   "cell_type": "markdown",
   "metadata": {
    "id": "AMKZ5QVoBmjJ"
   },
   "source": [
    "<h1><b>Statistique en Bioinformatique : </b> TME9 </h1><br>\n",
    "\n",
    "L’objectif de ce TME est l'implementation de la méthode Expectation-Maximisation pour la recherche de motifs.\n",
    "\n",
    "<div class=\"alert alert-warning\" role=\"alert\" style=\"margin: 10px\">\n",
    "<div class=\"alert alert-warning\" role=\"alert\" style=\"margin: 10px\">\n",
    "<p><b>Soumission</b></p>\n",
    "<ul>\n",
    "<li>Renomer le fichier TME9.ipynb pour NomEtudiant1_NomEtudiant2.ipynb </li>\n",
    "<li>Soumettre via moodle </li>\n",
    "</div>"
   ]
  },
  {
   "cell_type": "markdown",
   "metadata": {
    "id": "r_qH1CG7BmjM"
   },
   "source": [
    "<H1>Expectation-Maximisation Motif</H1>\n",
    "<br>\n",
    "La méthode EM (Expectation-Maximisation) permet de détecter des motifs dans un ensemble de séquences ADN ou protéiques reliées, non alignées. En particulier, étant donné un groupe de séquences de longueur $L$, dont on sait qu'elles partagent un motif commun de longueur $w$, l’algorithme EM:\n",
    "- infère un modèle $(\\Theta,Z)$ pour le motif;\n",
    "- localise l’occurrence du motif dans chaque séquence.\n",
    "\n",
    "$\\Theta$ representé la matrice des poids-positions $p_{c,k}$ du motif (où $c \\in \\{A,C,G,T\\}$ ou $c \\in \\{A,C,D,...,W\\}$  et $k \\in \\{0 \\dots w\\}$), $p_{c,0}$  est le vecteur de probabilités du modèle nul ou \"background\".\n",
    "$Ζ$ est la matrice des variables cachées, qui donnent les positions initiales du motif: \n",
    "- $Z_{i,j} = 1$, si le motif commence en position $j$ de la séquence $i$,\n",
    "- $Z_{i,j} = 0$, sinon. \n",
    "\n",
    "L’algorithme affine les paramètres du modèle de manière itérative par espérance-maximisation. Chaque itération $t$ se compose de deux étapes:\n",
    "- (E) Calcul des valeurs attendues $Ζ^{(t)}$ de $Ζ$, étant donnés $\\Theta^{(t-1)}$\n",
    "- (M) Estimation de  $\\Theta^{(t)}$  à partir de  $Ζ^{(t)}$"
   ]
  },
  {
   "cell_type": "markdown",
   "metadata": {
    "id": "uSue1iYeBmjO"
   },
   "source": [
    "1\\. Implémentez une fonction `read_training_file` pour lire le fichier d'entré qui contient un ensemble de séquences ADN non alignées. Pour simplifier nous allons utiliser les données vu en cours du fichier `toyEx.txt`."
   ]
  },
  {
   "cell_type": "code",
   "execution_count": 394,
   "metadata": {
    "id": "aWQrgN0iBmjP"
   },
   "outputs": [
    {
     "name": "stdout",
     "output_type": "stream",
     "text": [
      "['GTCAGG', 'GAGAGT', 'ACGGAG', 'CCAGTC']\n"
     ]
    }
   ],
   "source": [
    "import numpy as np\n",
    "import matplotlib.pyplot as plt\n",
    "import random\n",
    "\n",
    "nts = ['A', 'C', 'G', 'T']\n",
    "\n",
    "w = 3\n",
    "input_f = \"toyEx.txt\"\n",
    "\n",
    "def read_training_file(input_f):\n",
    "    \"\"\"\n",
    "    Read a file with no-aligned sequences\n",
    "    input input_f : file name\n",
    "    output seqs : list of sequences\n",
    "    \"\"\"\n",
    "    seqs = []\n",
    "    with open(input_f, 'r') as f:\n",
    "        for line in f:\n",
    "            seqs.append( line.rstrip('\\n') )\n",
    "    return seqs\n",
    "\n",
    "seqs = read_training_file(input_f)\n",
    "print (seqs) #['GTCAGG', 'GAGAGT', 'ACGGAG', 'CCAGTC']"
   ]
  },
  {
   "cell_type": "markdown",
   "metadata": {
    "id": "XIHpbbKwBmjQ"
   },
   "source": [
    "2\\. Implémentez une fonction `initialiseP` pour initialiser la matrice poids-position $p_{c,k}$. On considère le modèle nul par défaut $p_0 = (0.25, 0.25, 0.25, 0.25)$. Pour initialiser $p^{(t)}$, on prend généralement un motif au hasard dans une sequence, et on fixe à $0.5$ les poids du nucleotide correspondant et à $\\frac{1-0.5}{3}$ les trois autres. "
   ]
  },
  {
   "cell_type": "code",
   "execution_count": 395,
   "metadata": {
    "id": "_zIZdJouBmjR",
    "scrolled": true
   },
   "outputs": [
    {
     "name": "stdout",
     "output_type": "stream",
     "text": [
      "[[0.25       0.16666667 0.16666667 0.5       ]\n",
      " [0.25       0.16666667 0.16666667 0.16666667]\n",
      " [0.25       0.16666667 0.5        0.16666667]\n",
      " [0.25       0.5        0.16666667 0.16666667]]\n"
     ]
    }
   ],
   "source": [
    "def initialiseP(seqs, w, alph):\n",
    "    \"\"\"\n",
    "    Initialise pc,k\n",
    "    input seqs : list of sequences\n",
    "    input w : motif length\n",
    "    input alph : alphabet (nucleotides or amino acids)\n",
    "    output P: position probability matrix\n",
    "    \"\"\"\n",
    "    \n",
    "    \n",
    "    q=len(alph)\n",
    "    nts = ['A', 'C', 'G', 'T']\n",
    "    \n",
    "    #Initialisation de P\n",
    "    P = np.zeros((q, w+1))\n",
    "    \n",
    "    #Première colonne à 0.25\n",
    "    P[:,0] = np.ones(q) * (1/(q))\n",
    "    \n",
    "    for t in range(1,w+1):\n",
    "        #Tirage d'une sequence aléatoire\n",
    "        seq_h = seqs[random.randint(0,len(seqs)-1)]\n",
    "        \n",
    "        #Tirage d'un nt aléatoire\n",
    "        nt_h = seq_h[random.randint(0,len(seq_h)-1)]\n",
    "        \n",
    "        #Mise à jour des autres\n",
    "        P[ :, t] = (np.ones(q)-0.5)/3\n",
    "        \n",
    "        #Mise a jour avec nt\n",
    "        P[ nts.index(nt_h), t] = 0.5\n",
    "   \n",
    "    return P\n",
    "\n",
    "#test\n",
    "p = initialiseP(seqs, w, nts)\n",
    "print (p)"
   ]
  },
  {
   "cell_type": "markdown",
   "metadata": {
    "id": "rMqgrzYRBmjS"
   },
   "source": [
    "3\\. Implémenter une fonction `initialiseZ` pour initialiser la matrice $Z$ à uns. Rappelez-vous que la dimension de $Z$ est $nbSeq \\times (lenSeq -w +1)$, où $nbSeq$ est le nombre de sequences et $lenSeq$ est la taille/longueur des sequences."
   ]
  },
  {
   "cell_type": "code",
   "execution_count": 396,
   "metadata": {
    "id": "mghUiiW4BmjT"
   },
   "outputs": [
    {
     "name": "stdout",
     "output_type": "stream",
     "text": [
      "[[1. 0. 0. 0.]\n",
      " [0. 0. 1. 0.]\n",
      " [0. 0. 1. 0.]\n",
      " [0. 0. 1. 0.]]\n"
     ]
    }
   ],
   "source": [
    "def initialiseZ(seqs, w):\n",
    "    \"\"\"\n",
    "    Initialise Z\n",
    "    input seqs : list of sequences\n",
    "    input w : motif length\n",
    "    output Z :  matrix of motif start positions\n",
    "    \"\"\"\n",
    "    \n",
    "    #initialisation\n",
    "    Z = np.zeros((len(seqs),len(seqs[0])-w+1))\n",
    "    \n",
    "    #Affectation de 1\n",
    "    for s in range(len(seqs)):\n",
    "        Z[s,random.randint(0,len(seqs[0])-w)] = 1\n",
    "    return Z\n",
    "\n",
    "Z = initialiseZ(seqs, w)\n",
    "print(Z)"
   ]
  },
  {
   "cell_type": "markdown",
   "metadata": {
    "id": "fbSoL4ywBmjU"
   },
   "source": [
    "4\\. Écrivez une fonction `E_step` pour le pas Expectation qui estime $Z$ à partir de  $p_{c,k}$. \n",
    "Écrivez aussi une fonction `normaliseZ` pour normaliser $Z$."
   ]
  },
  {
   "cell_type": "code",
   "execution_count": 397,
   "metadata": {
    "id": "9oa3r0j3BmjV"
   },
   "outputs": [
    {
     "name": "stdout",
     "output_type": "stream",
     "text": [
      "[[0.30769231 0.30769231 0.15384615 0.23076923]\n",
      " [0.27906977 0.09302326 0.41860465 0.20930233]\n",
      " [0.11428571 0.11428571 0.51428571 0.25714286]\n",
      " [0.17391304 0.17391304 0.26086957 0.39130435]]\n"
     ]
    }
   ],
   "source": [
    "def E_step(seqs, P, Z, w, alph):\n",
    "    \"\"\"\n",
    "    Implement Expectation step\n",
    "    input seqs : list of sequences\n",
    "    input P : position probability matrix\n",
    "    input Z :  matrix of motif start positions\n",
    "    input w : motif length\n",
    "    input alph : alphabet (nucleotides or amino acids)\n",
    "    output Z :  matrix of motif start positions\n",
    "    \"\"\"  \n",
    "    \n",
    "    #Initialisation de Z\n",
    "    #Z = initialiseZ(seqs, w)\n",
    "    \n",
    "    #Initialisation de new_Z\n",
    "    new_Z = np.ones(Z.shape)\n",
    "    nts = ['A', 'C', 'G', 'T']\n",
    "\n",
    "    #Parcours sur chaque sequence\n",
    "    for i in range(len(seqs)):\n",
    "        #Parcours sur chaque nt de la séquence\n",
    "        for j in range(len(Z[0])):\n",
    "            #Parcours sur chaque porrtion de séquence\n",
    "            for k in range(0, j):\n",
    "                index = nts.index(seqs[i][j])\n",
    "                new_Z[i,j] *= P[ index, 0 ]\n",
    "            for k in range(j, w):\n",
    "                index = nts.index(seqs[i][j])\n",
    "                new_Z[i,j] *= P[ index, k]\n",
    "            for k in range(w, len(seqs[0])):\n",
    "                index = nts.index(seqs[i][j])\n",
    "                new_Z[i,j] *= P[ index, 0]\n",
    "    \n",
    "    return new_Z\n",
    "\n",
    "def normaliseZ(z):\n",
    "    \"\"\"\n",
    "    Normalise Z matrix\n",
    "    input Z : unnormalised matrix\n",
    "    output Zn : normalised matrix\n",
    "    \"\"\"\n",
    "    return np.array([row/sum(row) for row in z])\n",
    "    \n",
    "Z = E_step(seqs, p, zbis, w, nts)\n",
    "z_norm = normaliseZ(Z)\n",
    "print(z_norm)"
   ]
  },
  {
   "cell_type": "markdown",
   "metadata": {
    "id": "odh27oHwBmjV"
   },
   "source": [
    "5\\. Implémentez une fonction `M_step` pour le pas Maximisation qui estime $p_{c,k}$ à partir de $Z$. \n",
    "Utilisez les \"pseudocounts\" pour éviter les probabilités ègales à zero."
   ]
  },
  {
   "cell_type": "code",
   "execution_count": 398,
   "metadata": {
    "id": "VleAgdFtBmjW",
    "scrolled": false
   },
   "outputs": [
    {
     "name": "stdout",
     "output_type": "stream",
     "text": [
      "[[0.25       0.28721008 0.26376968 0.25      ]\n",
      " [0.25       0.23597881 0.23623032 0.15065514]\n",
      " [0.25       0.30244849 0.28068672 0.4204952 ]\n",
      " [0.25       0.17436262 0.21931328 0.17884966]]\n"
     ]
    }
   ],
   "source": [
    "def totalNumberofCH(seqs,alph):\n",
    "    q = len(alph)\n",
    "    totalN = np.zeros((q))\n",
    "    for i in range(q):\n",
    "        e = alph[i]\n",
    "        for seq in seqs:\n",
    "            for s in seq:\n",
    "                if(s == e):\n",
    "                    totalN[i]+=1\n",
    "    return totalN\n",
    "                    \n",
    "def M_step(seqs, Z, w, alph):\n",
    "    \"\"\"\n",
    "    Implement Expectation step\n",
    "    input seqs : list of sequences\n",
    "    input Z :  matrix of motif start positions\n",
    "    input w : motif length\n",
    "    input alph : alphabet (nucleotides or amino acids)\n",
    "    output P : position probability matrix\n",
    "    \"\"\"\n",
    "    #Mise de chaque valeur à 1\n",
    "    P = np.ones((len(seqs), len(seqs[0])-w+1))\n",
    "    \n",
    "    \n",
    "    totalN = totalNumberofCH(seqs, alph)\n",
    "    nts = ['A', 'C', 'G', 'T']\n",
    "    for seq_i,seq in enumerate(seqs):\n",
    "        all_motifs = [seq[k:k+w] for k in range(len(seq)-w+1)]\n",
    "        \n",
    "        for pos_m,motif in enumerate(all_motifs):\n",
    "        \n",
    "            for pos_n,nt in enumerate(motif):\n",
    "                index = nts.index(nt)\n",
    "                P[index, 1+pos_n] += Z[seq_i, pos_n]\n",
    "\n",
    "    return P/np.sum(P,axis=0)\n",
    "    \n",
    "P = M_step(seqs, z_norm, w, nts)\n",
    "\n",
    "print(P)"
   ]
  },
  {
   "cell_type": "markdown",
   "metadata": {
    "id": "37ciA9qLBmjY"
   },
   "source": [
    "6\\. Écrivez une fonction `likelihood` qui calcule la log-vraisemblance de l'ensemble des sequences."
   ]
  },
  {
   "cell_type": "code",
   "execution_count": 399,
   "metadata": {
    "colab": {
     "base_uri": "https://localhost:8080/"
    },
    "id": "jUMUQUwZBmjY",
    "outputId": "b679b7aa-6b80-496d-d6be-c6342913321d"
   },
   "outputs": [
    {
     "name": "stdout",
     "output_type": "stream",
     "text": [
      "-33.48953638146004\n"
     ]
    }
   ],
   "source": [
    "def likelihood(seqs, Z, P, w, alph):\n",
    "    \"\"\"\n",
    "    Implement log likelihood function of P\n",
    "    input seqs : list of sequences\n",
    "    input Z :  matrix of motif start positions\n",
    "    input p : position probability matrix\n",
    "    input w : motif length\n",
    "    input alph : alphabet (nucleotides or amino acids)\n",
    "    output lLikelihood : log likelihood of P \n",
    "\n",
    "    \"\"\"\n",
    "    M = len(seqs)\n",
    "    L = len(seqs[0])\n",
    "\n",
    "    lLikelihood = np.log((L-w+1)**-M)\n",
    "    lLikelihood += np.sum(np.log([np.sum(z) for z in Z]))\n",
    "    \n",
    "    return lLikelihood\n",
    "\n",
    "logvraisemblance = likelihood(seqs, Z, P, w, nts)\n",
    "print(logvraisemblance)"
   ]
  },
  {
   "cell_type": "markdown",
   "metadata": {
    "id": "LFOgaK9eBmjZ"
   },
   "source": [
    "7\\. Implémentez l'algorithme Expectation-Maximisation. Vous calculerez la valeur de la log-vraisemblance totale du modèle à chaque iteration et l'algorithme prendra fin lorsque $\\Delta \\log \\text{Pr}(D | \\Theta) < \\varepsilon$. Utilisez $\\varepsilon = 1e-4$. Votre implementation devra renvoyer les paramètres du modele ($p$ et la log-likelihood associé), ainsi bien que la liste des meilleures positions du motif dans chaque sequence (matrice $Z$). Faites attention à utiliser $Z$ non-normalisé afin de trouver la log-vraisemblance!"
   ]
  },
  {
   "cell_type": "code",
   "execution_count": 400,
   "metadata": {
    "id": "-ZXGq1_3Bmja"
   },
   "outputs": [
    {
     "name": "stdout",
     "output_type": "stream",
     "text": [
      "Les paramètres du modele:\n",
      "p:\n",
      " [[0.25       0.25006104 0.25006101 0.25      ]\n",
      " [0.25       0.24999993 0.24993899 0.24987799]\n",
      " [0.25       0.25012204 0.25012197 0.25024398]\n",
      " [0.25       0.249817   0.24987803 0.24987803]]\n",
      "\n",
      "\n",
      "log-vraisemblance associé: -33.2705767541646\n",
      "\n",
      "\n",
      "Z:\n",
      " [[0.00024438 0.00024384 0.00024408 0.00024414]\n",
      " [0.00024438 0.00024426 0.00024426 0.00024414]\n",
      " [0.00024426 0.00024408 0.00024426 0.00024414]\n",
      " [0.00024408 0.00024408 0.0002442  0.00024414]]\n",
      "\n",
      "Les motifs:\n",
      "seq1: 1  GTC\n",
      "seq2: 1  GAG\n",
      "seq3: 1  ACG\n",
      "seq4: 3  AGT\n"
     ]
    },
    {
     "data": {
      "image/png": "[encoded data removed]",
      "text/plain": [
       "<Figure size 640x480 with 1 Axes>"
      ]
     },
     "metadata": {},
     "output_type": "display_data"
    }
   ],
   "source": [
    "def ExpectationMaximisation(seqs, w, alph, eps):\n",
    "    \"\"\"\n",
    "    Implement Expectation Maximisation algorithm\n",
    "    input seqs : list of sequences\n",
    "    input w : motif length\n",
    "    input alph : alphabet (nucleotides or amino acids)\n",
    "    input eps : threahold \n",
    "    output P : position probability matrix\n",
    "    output Z :  matrix of motif start positions\n",
    "    output lLikelihood : log likelihood of P \n",
    "    output pos_motif : positions of motifs in seqs\n",
    "    \"\"\"\n",
    "    P = initialiseP(seqs, w, alph)\n",
    "    Z = initialiseZ(seqs, w)\n",
    "    lLikelihood = []\n",
    "    pos_motif = []\n",
    "    \n",
    "    #Infini pour éviter les erreurs\n",
    "    stop = np.inf\n",
    "    \n",
    "    #Boucler jusqu'à atteindre epsilon\n",
    "    while stop>=eps:\n",
    "        #Expectation\n",
    "        Z = E_step(seqs,P,Z,w,alph)\n",
    "        \n",
    "        #Maximization\n",
    "        P = M_step(seqs,Z,w,alph)\n",
    "        \n",
    "        #Calcul du log-vraisemblance et mise a jour du stop\n",
    "        lLikelihood.append(likelihood(seqs,Z,P,w,alph))\n",
    "        if len(lLikelihood)>=2:\n",
    "            stop = np.abs(lLikelihood[len(lLikelihood)-2] - lLikelihood[len(lLikelihood)-1])\n",
    "    \n",
    "    #Récupération des meilleurs positions de motif\n",
    "    for s in range(len(seqs)):\n",
    "        pos_motif.append(np.argmax(Z[s]))\n",
    "\n",
    "    return (P, lLikelihood, Z, pos_motif)\n",
    "\n",
    "def analyse_results(results, seqs):\n",
    "    print('Les paramètres du modele:')\n",
    "    print('p:\\n',results[0])\n",
    "    print('\\n')\n",
    "    print('log-vraisemblance associé:',results[1][-1])\n",
    "    print('\\n')\n",
    "    print('Z:\\n',results[2])\n",
    "    print('\\nLes motifs:')\n",
    "    for i in range(len(seqs)):\n",
    "        print('seq'+str(i+1)+': '+ str(results[3][i]+1) + '  ' + seqs[i][results[3][i]:results[3][i]+w])\n",
    "\n",
    "    plt.plot(results[1])\n",
    "    plt.xlabel('Iteration')\n",
    "    plt.ylabel('Log-vraisemblance')\n",
    "    plt.show()\n",
    "\n",
    "eps = 10**-4\n",
    "EMResults = ExpectationMaximisation(seqs, w, nts, eps)\n",
    "analyse_results(EMResults,seqs)"
   ]
  },
  {
   "cell_type": "markdown",
   "metadata": {
    "id": "MZsOsS8yBmjb"
   },
   "source": [
    "8\\. Qu'est-ce que vous observez en exécutant l'algorithme EM plusieurs fois? Justifiez votre réponse."
   ]
  },
  {
   "cell_type": "markdown",
   "metadata": {
    "id": "HgXXj3dcBmjb"
   },
   "source": [
    "Reponse:\n",
    "\n",
    "<font color=\"blue\">\n",
    "\n",
    "</font>"
   ]
  },
  {
   "cell_type": "markdown",
   "metadata": {
    "id": "WThFDcG5Bmjb"
   },
   "source": [
    "9\\. Pour éviter le problème identifié au point précedent, écrivez une fonction `EM_iteratif` qui exécute l'algorithme `EM` $N$ fois ($N=10$) et qui prend les paramètres associés à la meilleure log-vraisemblance. Trouvez-vous les bons motifs?"
   ]
  },
  {
   "cell_type": "code",
   "execution_count": 401,
   "metadata": {
    "id": "hiMm-jSkBmjc"
   },
   "outputs": [
    {
     "name": "stdout",
     "output_type": "stream",
     "text": [
      "Les paramètres du modele:\n",
      "p:\n",
      " [[0.25       0.25002709 0.25002707 0.25      ]\n",
      " [0.25       0.25021673 0.24997293 0.2499187 ]\n",
      " [0.25       0.25005418 0.25027068 0.2502439 ]\n",
      " [0.25       0.24970199 0.24972932 0.2498374 ]]\n",
      "\n",
      "\n",
      "log-vraisemblance associé: -33.270576754083066\n",
      "\n",
      "\n",
      "Z:\n",
      " [[0.00010851 0.00010851 0.00048828 0.00024414]\n",
      " [0.00010851 0.00010851 0.00016276 0.00024414]\n",
      " [0.00010851 0.00097656 0.00016276 0.00024414]\n",
      " [0.00097656 0.00097656 0.00016276 0.00024414]]\n",
      "\n",
      "Les motifs:\n",
      "seq1: 3  CAG\n",
      "seq2: 4  AGT\n",
      "seq3: 2  CGG\n",
      "seq4: 1  CCA\n"
     ]
    },
    {
     "data": {
      "image/png": "[encoded data removed]",
      "text/plain": [
       "<Figure size 640x480 with 1 Axes>"
      ]
     },
     "metadata": {},
     "output_type": "display_data"
    }
   ],
   "source": [
    "def EM_iteratif(N, seqs, w, alph, eps):\n",
    "    \"\"\"\n",
    "    Implement a iterative version of Expectation Maximisation algorithm\n",
    "    input N : number of iterations\n",
    "    input seqs : list of sequences\n",
    "    input w : motif length\n",
    "    input eps : threahold \n",
    "    output bestModel : the parameter of the best model\n",
    "    \"\"\"\n",
    "  \n",
    "    #Initialisation des paramètres\n",
    "    P = initialiseP(seqs, w, alph)\n",
    "    Z = initialiseZ(seqs, w)\n",
    "    top_lLikelihood = []\n",
    "    top_P = []\n",
    "    top_Z = []\n",
    "    pos_motif = []\n",
    "    \n",
    "    #Boucler jusqu'à atteindre epsilon\n",
    "    for n in range(N):\n",
    "        #Expectation\n",
    "        Z = E_step(seqs,P,Z,w,alph)\n",
    "        top_Z.append(Z)\n",
    "        \n",
    "        #Maximization\n",
    "        P = M_step(seqs,Z,w,alph)\n",
    "        top_P.append(P)\n",
    "        \n",
    "        #Calcul du log-vraisemblance et mise a jour du stop\n",
    "        log_like_actuel = likelihood(seqs,Z,P,w,alph)\n",
    "        top_lLikelihood.append(log_like_actuel)\n",
    "        \n",
    "        if len(top_lLikelihood)>=2:\n",
    "            stop = np.abs(top_lLikelihood[len(top_lLikelihood)-2] - top_lLikelihood[len(top_lLikelihood)-1])\n",
    "        \n",
    "        #Récupération des meilleurs positions de motif\n",
    "        pos_motif.append([np.argmax(Z[s]) for s in range(len(seqs))]) \n",
    "\n",
    "    #Récupération des top_valeurs\n",
    "    lLikelihood = max(top_lLikelihood)\n",
    "    Z = top_Z[np.argmax(lLikelihood)]\n",
    "    P = top_P[np.argmax(lLikelihood)]\n",
    "    pos_motif = pos_motif[np.argmax(lLikelihood)]\n",
    "\n",
    "    bestModel = P, top_lLikelihood, Z,pos_motif\n",
    "\n",
    "    return bestModel\n",
    "\n",
    "\n",
    "eps = 10**-4\n",
    "N=10\n",
    "meilleurEM = EM_iteratif(N, seqs, w, nts, eps)\n",
    "analyse_results(meilleurEM,seqs)"
   ]
  },
  {
   "cell_type": "markdown",
   "metadata": {
    "id": "us2JZ9SRBmjc"
   },
   "source": [
    "10\\. Appliquez votre algorithme `EM` à l'ensemble des séquence du fichier `trainingSequences.txt` en utilisant $w=10$. "
   ]
  },
  {
   "cell_type": "code",
   "execution_count": 424,
   "metadata": {
    "id": "9yc5bUMIBmjd"
   },
   "outputs": [
    {
     "name": "stdout",
     "output_type": "stream",
     "text": [
      "['ACAACCATATATAGTAGCCACTGAAT', 'CCACCCCATATATAGTACGGGTGGTG', 'CCATAAATAGAGCAGACTGTCGCTGT', 'GTAAACATAAAACCCCATAAATAGGA', 'TTCAAGAAACTGCCATAAATAGCGAT', 'TAGAGGTTTTTGTGCCATAAATAGGT', 'CCCCATAAATAGGAATATCGGCCTGA', 'TTGCCATTAAATTATACCATATATGG', 'TATCAACAACGATAACCCATATATGG', 'TTTCCAAATATAGAAGGTGTGGAAAG', 'TCCAAATATAGTAAAATCGAGTCGAT', 'GACTGGGGCCCAAATATAGCATGTTC', 'ATCATTAGCTTTTACTCCATAAATGG', 'ATTCTTTTGCCATAAATGGTAACTCG', 'CCATAAATGGCAAGTCTGTCGAATAA', 'CCCATAAATGGCAGGGTATTAGCACG', 'CCAAAAATAGTGTGTCGTAACAGCTT', 'CCAAAAATAGGGGAATGGAAGTGGGG', 'CCAAAAATAGGCCAGAGTTTACAACG', 'CCAAAAATAGTTAAATAATATACATT', 'CTACACCTTCCAAAAATAGTATATCT', 'TTGCCAAATATGGGGTTAGAGTGTTC', 'GTCTTTACCAAAAATGGTGATCCTGT', 'TTGCCAAAAATGGAGCGTTTACCAAT', 'ATCCACCATTTATAGATTCAGGAGGC', 'GCATAAGAGAACATTCCATTTATAGG', 'TCAACCCCATTTATAGCCACGTCAGT', 'CATCCATTAATAGTAGCCTAATGGCG', 'GGAGTAGGCCCATTAATAGTATCTTT', 'CCATTAATAGACAAAATCGACTCAAG', 'CCAATTATAGAAAGTGGCTGGTCGTC', 'AACTATTATTTCTCACCCATTAATGG', 'ATGCTTTACCAATAATAGAGCTGCAA', 'GGTCAGTTAGATCCAATTATGGAATG', 'GCATTCCAAAATTAGTAACGATATCT', 'CCTCCTTTCCAAAATTAGTTGAGAAG', 'CTTTGCCAAAATTAGCTATTTCTGAC', 'ACGCATGCACCACATATAGTAACGTG', 'AGCGCCCCATTTTTAGGGTTTAAGCT', 'CCATTTTTAGTAATTTACAACGCCGC', 'CCATTTTTAGTATGGAAGCCGTGAGT', 'AAATTACCATAAGTGGTAATACACAC', 'CAATTACTATATATAGCGTGTTTGTC', 'CCATACATGGAATGTACCGAAACACT', 'CCGAAAGTACTATAAATAGTAATCCA', 'GTTTTCGCCTTTCTATAAATAGTACC', 'GGTACCTAATATAGTAATCAGCTCTG', 'TCTTTAATTACTTGCCTAATATAGCT', 'GGATGCATCCCTAATATAGTTAATAA', 'ATCTTTACCAAAACTAGTTAATTCGA', 'TGCTAAATATAGAACATCTCCAAATA', 'CCTTCTAACTAAATATAGAAGTGATA', 'ATTACCATAAACAGAAATCAGTGGAT', 'CCTAAAAATAGATCGAATGTGTGCTC', 'TACTAAAAATAGATCATGAGCTACGA', 'TAGTCACTTGACCATACCTAAAATGG', 'ATCAACAGTCTACAATCCTAAAATGG', 'CAAACATTCCAGATTTAGAATGGTTA', 'ACTTCTTTCCTTTTATAGCTGAGTGC', 'CCGCTAAGCCTTGTCCTTTTATAGCA', 'TGCCCAAAAAAAGAAAGTTGTCAGAC', 'CCCAAATAAGGTAAAGCTCTCTGGAC', 'AACCACACACCCAGAATTAGTAAGCG', 'TTCATTTAAGACTTTACCATTTCTGG', 'TGCGATGGAATAGTACTAAATTTAGG', 'TGCGGAAGAGGGTTCCCGATATAGAT', 'TCCCAAAAATACTCATATGTCGGGCT', 'CCATATTGGGTAAAGATTGCTTTTTA', 'TAGTGGTTAACTACCCGTTTTTAGTA', 'CCAATTTATAGTTCACTTTCGTGATG', 'TACTCGCTTTTCTTACTAAAAGTAGA', 'TACTAAAAGTAGTAGTTTGTCTGCAT', 'CCATTTTAAGGAATTTACGATCTAGT', 'TCCCATTTTAAGACCAACTTCTCATT', 'GATCCAGTAGATTCCATTTATGTACG', 'CCTGTAAATAGTAACAAGGTGCATCG', 'CGATCAATATGTTACCATTTTGGGGT', 'GAGCGAGACCTTCCCAATAATTAGTA', 'AAGTGACTATATTACTCAAAATAGAA', 'TTACCAAATTGCCAATTTAGGCTAAA', 'TTACCAAATTGCCAATTTAGGCTAAA', 'GAAGATACCTAATACGGAAATTTTCC', 'GCAGACTTGCTATATTAAGCTAATAT', 'CGCTTTCTTACTATAAATGTTTACTA', 'GGTTCAAGATTTTTCCTTTTATGTAC', 'TTTATAGTGTCCCTTTTTCGGTAAGT', 'ATCCTACGATGCTTTCTAAAAGAAGG', 'CCCTAGCAATTTTTTACTATATTTGT', 'GGAAGAATTTACTATAATTGTACATG', 'CTCTAATGGCCTTACTACTTAAAGCA', 'GCCGAGTCCGGAATTTCCGAAAAATG', 'ATTTATTTTCCTAAAGTGTAACTAAC', 'GACCTGTATCCTTTTCTACTTTTGTC', 'ATATGCCCCTCACAAGTTACCAATTA', 'AAAATGGTTTAATTTCTCGGGACAGG', 'CTCAGTGCACACAGACATTCCAAATA', 'GATTAGGATTCGTTTGTTTCCAAATA']\n",
      "Les paramètres du modele:\n",
      "p:\n",
      " [[0.01030928 0.01030928 0.01030928 ... 0.01030928 0.01030928 0.01030928]\n",
      " [0.01030928 0.01030928 0.01030928 ... 0.01030928 0.01030928 0.01030928]\n",
      " [0.01030928 0.01030928 0.01030928 ... 0.01030928 0.01030928 0.01030928]\n",
      " ...\n",
      " [0.01030928 0.01030928 0.01030928 ... 0.01030928 0.01030928 0.01030928]\n",
      " [0.01030928 0.01030928 0.01030928 ... 0.01030928 0.01030928 0.01030928]\n",
      " [0.01030928 0.01030928 0.01030928 ... 0.01030928 0.01030928 0.01030928]]\n",
      "\n",
      "\n",
      "log-vraisemblance associé: -11579.555128101949\n",
      "\n",
      "\n",
      "Z:\n",
      " [[1.55949023e-16 5.19830076e-17 2.33923534e-16 ... 8.67361738e-19\n",
      "  2.16840434e-19 5.42101086e-20]\n",
      " [5.19830076e-17 5.19830076e-17 2.33923534e-16 ... 8.67361738e-19\n",
      "  2.16840434e-19 5.42101086e-20]\n",
      " [5.19830076e-17 5.19830076e-17 2.33923534e-16 ... 8.67361738e-19\n",
      "  2.16840434e-19 5.42101086e-20]\n",
      " ...\n",
      " [1.55949023e-16 1.55949023e-16 2.33923534e-16 ... 8.67361738e-19\n",
      "  2.16840434e-19 5.42101086e-20]\n",
      " [5.19830076e-17 1.55949023e-16 7.79745115e-17 ... 8.67361738e-19\n",
      "  2.16840434e-19 5.42101086e-20]\n",
      " [1.73276692e-17 1.55949023e-16 7.79745115e-17 ... 8.67361738e-19\n",
      "  2.16840434e-19 5.42101086e-20]]\n",
      "\n",
      "Les motifs:\n",
      "seq1: 7  ATATATAGTA\n",
      "seq2: 10  ATATAGTACG\n",
      "seq3: 7  ATAGAGCAGA\n",
      "seq4: 10  AAACCCCATA\n",
      "seq5: 7  AAACTGCCAT\n",
      "seq6: 4  AGGTTTTTGT\n",
      "seq7: 7  AAATAGGAAT\n",
      "seq8: 10  AATTATACCA\n",
      "seq9: 7  CAACGATAAC\n",
      "seq10: 10  ATAGAAGGTG\n",
      "seq11: 10  AGTAAAATCG\n",
      "seq12: 9  CCCAAATATA\n",
      "seq13: 7  AGCTTTTACT\n",
      "seq14: 11  CATAAATGGT\n",
      "seq15: 7  ATGGCAAGTC\n",
      "seq16: 7  AATGGCAGGG\n",
      "seq17: 7  ATAGTGTGTC\n",
      "seq18: 7  ATAGGGGAAT\n",
      "seq19: 7  ATAGGCCAGA\n",
      "seq20: 7  ATAGTTAAAT\n",
      "seq21: 7  CTTCCAAAAA\n",
      "seq22: 10  ATGGGGTTAG\n",
      "seq23: 8  CCAAAAATGG\n",
      "seq24: 10  ATGGAGCGTT\n",
      "seq25: 7  CATTTATAGA\n",
      "seq26: 10  AACATTCCAT\n",
      "seq27: 8  CATTTATAGC\n",
      "seq28: 10  ATAGTAGCCT\n",
      "seq29: 9  CCCATTAATA\n",
      "seq30: 7  ATAGACAAAA\n",
      "seq31: 7  ATAGAAAGTG\n",
      "seq32: 11  TCTCACCCAT\n",
      "seq33: 9  CCAATAATAG\n",
      "seq34: 9  AGATCCAATT\n",
      "seq35: 10  AATTAGTAAC\n",
      "seq36: 9  CCAAAATTAG\n",
      "seq37: 10  AATTAGCTAT\n",
      "seq38: 8  CACCACATAT\n",
      "seq39: 8  CATTTTTAGG\n",
      "seq40: 9  AGTAATTTAC\n",
      "seq41: 9  AGTATGGAAG\n",
      "seq42: 8  CATAAGTGGT\n",
      "seq43: 7  CTATATATAG\n",
      "seq44: 7  ATGGAATGTA\n",
      "seq45: 4  AAAGTACTAT\n",
      "seq46: 8  CCTTTCTATA\n",
      "seq47: 4  ACCTAATATA\n",
      "seq48: 10  ACTTGCCTAA\n",
      "seq49: 7  ATCCCTAATA\n",
      "seq50: 8  CCAAAACTAG\n",
      "seq51: 7  ATATAGAACA\n",
      "seq52: 7  AACTAAATAT\n",
      "seq53: 10  AACAGAAATC\n",
      "seq54: 10  AGATCGAATG\n",
      "seq55: 7  AAATAGATCA\n",
      "seq56: 7  CTTGACCATA\n",
      "seq57: 7  AGTCTACAAT\n",
      "seq58: 4  ACATTCCAGA\n",
      "seq59: 9  CCTTTTATAG\n",
      "seq60: 7  AGCCTTGTCC\n",
      "seq61: 10  AAAGAAAGTT\n",
      "seq62: 4  AAATAAGGTA\n",
      "seq63: 8  CACCCAGAAT\n",
      "seq64: 4  ATTTAAGACT\n",
      "seq65: 10  ATAGTACTAA\n",
      "seq66: 7  AGAGGGTTCC\n",
      "seq67: 7  AAATACTCAT\n",
      "seq68: 3  ATATTGGGTA\n",
      "seq69: 10  ACTACCCGTT\n",
      "seq70: 10  AGTTCACTTT\n",
      "seq71: 7  CTTTTCTTAC\n",
      "seq72: 7  AAGTAGTAGT\n",
      "seq73: 9  AGGAATTTAC\n",
      "seq74: 10  AAGACCAACT\n",
      "seq75: 9  AGATTCCATT\n",
      "seq76: 10  AGTAACAAGG\n",
      "seq77: 7  ATATGTTACC\n",
      "seq78: 9  CCTTCCCAAT\n",
      "seq79: 7  CTATATTACT\n",
      "seq80: 7  AATTGCCAAT\n",
      "seq81: 7  AATTGCCAAT\n",
      "seq82: 8  CCTAATACGG\n",
      "seq83: 6  CTTGCTATAT\n",
      "seq84: 10  ACTATAAATG\n",
      "seq85: 7  AGATTTTTCC\n",
      "seq86: 4  ATAGTGTCCC\n",
      "seq87: 7  CGATGCTTTC\n",
      "seq88: 7  CAATTTTTTA\n",
      "seq89: 7  ATTTACTATA\n",
      "seq90: 6  ATGGCCTTAC\n",
      "seq91: 8  CCGGAATTTC\n",
      "seq92: 11  CTAAAGTGTA\n",
      "seq93: 11  CTTTTCTACT\n",
      "seq94: 8  CCTCACAAGT\n",
      "seq95: 4  ATGGTTTAAT\n",
      "seq96: 8  CACACAGACA\n",
      "seq97: 11  CGTTTGTTTC\n"
     ]
    },
    {
     "data": {
      "image/png": "[encoded data removed]",
      "text/plain": [
       "<Figure size 640x480 with 1 Axes>"
      ]
     },
     "metadata": {},
     "output_type": "display_data"
    }
   ],
   "source": [
    "w= 10\n",
    "input_f = \"trainingSequences.txt\"\n",
    "seqs_train = read_training_file(input_f)\n",
    "print (seqs_train)\n",
    "eps = 10**-4\n",
    "N=10\n",
    "meilleurEM = EM_iteratif(N, seqs_train, w, nts, eps)\n",
    "analyse_results(meilleurEM,seqs_train)"
   ]
  },
  {
   "cell_type": "markdown",
   "metadata": {
    "id": "r3ddFiW2Bmjd"
   },
   "source": [
    "11\\. Construire un LOGO pour le motif prédit avec le service <i>WebLogo</i>. Pour cela, identifiez le motif dans chaque séquence, utiliser <i>ClustalOmega</i> pour les aligner et puis <i>WebLogo</i> pour générer le LOGO. Ajouter le LOGO à votre réponse."
   ]
  },
  {
   "cell_type": "code",
   "execution_count": 425,
   "metadata": {
    "id": "sR5YLgIZBmjd"
   },
   "outputs": [],
   "source": [
    "fhandler = open('motifs.txt','w')\n",
    "for i in range(len(seqs_train)):\n",
    "    fhandler.write('>motif'+str(i+1)+'\\n')\n",
    "    fhandler.write(seqs_train[i][meilleurEM[3][i]:meilleurEM[3][i]+w])\n",
    "    fhandler.write('\\n')\n",
    "fhandler.close()"
   ]
  },
  {
   "cell_type": "markdown",
   "metadata": {
    "id": "0lu09z4zBmje"
   },
   "source": []
  },
  {
   "attachments": {
    "logo.png": {
     "image/png": "[encoded data removed]"
    }
   },
   "cell_type": "markdown",
   "metadata": {},
   "source": [
    "![logo.png](attachment:logo.png)"
   ]
  },
  {
   "cell_type": "markdown",
   "metadata": {
    "id": "YfmV6fjVBmje"
   },
   "source": [
    "12\\. Comparez les motifs trouvés par votre programme avec les motifs du fichier `testingSequences.txt`, où les vrais motifs sont montrés en lettre majuscule. Quelle est la performance de votre programme? "
   ]
  },
  {
   "cell_type": "code",
   "execution_count": 426,
   "metadata": {
    "id": "jh36eh-vBmje"
   },
   "outputs": [],
   "source": [
    "import re\n",
    "\n",
    "input_f = \"testingSequences.txt\"\n",
    "\n",
    "motifs_extracted = []\n",
    "motifs_real = []\n",
    "\n",
    "#Récuperation des séquences\n",
    "with open(\"motifs.txt\",\"r\" ) as file:\n",
    "    contenu = file.read()\n",
    "    pattern = r'\\w+\\n(\\w+)'\n",
    "    motifs_extracted = re.findall(pattern,contenu)\n",
    "\n",
    "#Extraction des parties en Majuscules \n",
    "with open(input_f,\"r\" ) as file:\n",
    "    contenu = file.read()\n",
    "    pattern = r'[A-Z]+'\n",
    "    motifs_real = re.findall(pattern,contenu)\n",
    "\n"
   ]
  },
  {
   "cell_type": "code",
   "execution_count": 427,
   "metadata": {},
   "outputs": [
    {
     "name": "stdout",
     "output_type": "stream",
     "text": [
      "0.1134020618556701\n"
     ]
    }
   ],
   "source": [
    "total = len(motifs_extracted)\n",
    "count = 0\n",
    "for i in motifs_extracted:\n",
    "    for j in motifs_real:\n",
    "        if i==j:\n",
    "            count+=1\n",
    "            \n",
    "print(count/total)"
   ]
  },
  {
   "cell_type": "code",
   "execution_count": null,
   "metadata": {},
   "outputs": [],
   "source": []
  }
 ],
 "metadata": {
  "colab": {
   "collapsed_sections": [],
   "name": "TME9_2022.ipynb",
   "provenance": []
  },
  "kernelspec": {
   "display_name": "Python 3 (ipykernel)",
   "language": "python",
   "name": "python3"
  },
  "language_info": {
   "codemirror_mode": {
    "name": "ipython",
    "version": 3
   },
   "file_extension": ".py",
   "mimetype": "text/x-python",
   "name": "python",
   "nbconvert_exporter": "python",
   "pygments_lexer": "ipython3",
   "version": "3.10.6"
  }
 },
 "nbformat": 4,
 "nbformat_minor": 1
}

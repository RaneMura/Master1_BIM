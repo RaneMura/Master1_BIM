{
 "cells": [
  {
   "cell_type": "markdown",
   "metadata": {
    "id": "uyVJZrDJ1rw4"
   },
   "source": [
    "<h1><b>Statistique en Bioinformatique : </b> TME solo </h1><br>\n",
    "<div class=\"alert alert-warning\" role=\"alert\" style=\"margin: 10px\">\n",
    "<p><b>Soumission</b></p>\n",
    "<ul>\n",
    "<li>Renommer le fichier TMEsolo_2023.ipynb pour NomEtudiant_TMEsolo.ipynb </li>\n",
    "<li>Envoyer via moodle</li>\n",
    "</ul>\n",
    "</div>\n",
    "<div class=\"alert alert-warning\" role=\"alert\" style=\"margin: 10px\">\n",
    "\n",
    "</div>"
   ]
  },
  {
   "cell_type": "markdown",
   "metadata": {
    "id": "MuhBN-ZZ1rw-"
   },
   "source": [
    "<h2> Recherche de Motifs</h2>\n",
    "Nous allons développer un algorithme très simple pour la recherche de motifs dans des séquences d'ADN et comparer les résultats avec l'algorithme Expectation et Maximization. "
   ]
  },
  {
   "cell_type": "code",
   "execution_count": 124,
   "metadata": {
    "id": "FVyKCsfj1rw_"
   },
   "outputs": [],
   "source": [
    "# Configuration\n",
    "\n",
    "import numpy as np\n",
    "import matplotlib.pyplot as plt\n",
    "import random\n",
    "\n",
    "nuc = ['A', 'C', 'G', 'T']\n",
    "\n"
   ]
  },
  {
   "cell_type": "markdown",
   "metadata": {
    "id": "Xylb8_Lp1rxC"
   },
   "source": [
    "<b>1. Génération des séquences aléatoires </b>:\n",
    "Nous allons d'abord générer des données artificielles, un jeu de données de séquences ayant le motif (positives). Pour générer les séquences positives, \n",
    "utilisez la matrice de fréquence ci-dessous, la séquence consensus de ce motif \"AGTATAG\"."
   ]
  },
  {
   "cell_type": "code",
   "execution_count": 125,
   "metadata": {
    "id": "FsK029CF1rxD"
   },
   "outputs": [],
   "source": [
    "\n",
    "\n",
    "k = 7 #taille du motif\n",
    "N = 100 #nombre de sequences\n",
    "\n",
    "MotifConsensus = \"AGTATAG\"\n",
    "\n",
    "freq = np.array([\n",
    "  [1000,  12,   3,  1000,   5,   1000,   1],\n",
    "  [10,    8,   3,   3,   0,    10,   1],\n",
    "  [4,   1000,   2,   7,   5,    13,   1000],\n",
    "  [6,    10,  1000,   5,   1000,   6,   1]])\n"
   ]
  },
  {
   "cell_type": "markdown",
   "metadata": {
    "id": "71P8IWA61rxE"
   },
   "source": [
    "<b> Générer de séquences positives </b>:\n",
    "Écrivez une fonction qui génère N séquences de taille T contenant le motif \"AGTATAG\". \n",
    "La séquence du motif doit être généré en utilisant la matrice de Probabilité produite à partir de la matrice de fréquence.\n",
    "La position d'insertion du motif est aléatoire et ses residues sont en **majuscules**, \n",
    "les autres residues de la séquence hors le motif sont représentés en minuscule. \n",
    "\n"
   ]
  },
  {
   "cell_type": "code",
   "execution_count": 126,
   "metadata": {
    "id": "E7n7xjRB1rxE"
   },
   "outputs": [],
   "source": [
    "\n",
    "def createPosSequences(freq, nuc, k=7, N=100, T=100):\n",
    "    \"\"\"\n",
    "    Genere N sequences positives (ayant le motif)\n",
    "    entrée freq : matrice de frequences qui represent le motif d'interet\n",
    "    entrée nuc  : alphabet \n",
    "    entrée k    : taille du motif\n",
    "    entrée N    : nombre de sequences\n",
    "    entrée T    : taille de chaque sequence\n",
    "    sortie posMotif  : list contenant les sequences positives, motif implanté\n",
    "    sortie motifs    : list contenant les motifs selement\n",
    "    \"\"\"\n",
    "\n",
    "    motif = \"\"\n",
    "    motifs =  []\n",
    "    posMotif = []\n",
    "\n",
    "    #Récupération du motif\n",
    "    index_max_motif = [np.argmax(freq[:,i]) for i in range(k)]\n",
    "    for i in range(k):\n",
    "        motif+=nuc[index_max_motif[i]]\n",
    "    \n",
    "    for n in range(N):\n",
    "        \n",
    "        #Index d'ajout du motif\n",
    "        index_demarrage= np.random.randint(T-k)\n",
    "        seq_avant = \"\"\n",
    "        seq_apres = \"\"\n",
    "        seq = \"\"\n",
    "        \n",
    "        #Ajout de la premiere partie\n",
    "        for i in range(index_demarrage):\n",
    "            seq_avant+=nuc[np.random.randint(len(nuc))]        \n",
    "                \n",
    "        #Ajout du reste de la séquence\n",
    "        for i in range(T-index_demarrage-k):\n",
    "            seq_apres+=nuc[np.random.randint(len(nuc))]\n",
    "        \n",
    "        #Création de la séquence\n",
    "        seq = seq_avant.lower()+motif.upper()+seq_apres.lower()\n",
    "        \n",
    "        posMotif.append(seq)\n",
    "        motifs.append(motif)\n",
    "\n",
    " \n",
    "    return posMotif, motifs\n",
    "\n",
    "posMotif, motifs = createPosSequences(freq, nuc, k, 10, 30)\n",
    "\n",
    "pos = [x.upper() for x in posMotif] #transform toutes les séquences en majuscules \n"
   ]
  },
  {
   "cell_type": "code",
   "execution_count": 127,
   "metadata": {},
   "outputs": [
    {
     "name": "stdout",
     "output_type": "stream",
     "text": [
      "['gtgaaaataatgtggtatgttAGTATAGcg', 'cggggcagaaatcttAGTATAGttcggtag', 'cAGTATAGagaattataaaccgcggctaat', 'ttaacagttcctaaggAGTATAGtacgggc', 'ccgcaagctgaAGTATAGagaaaacatacg', 'cggtagacAGTATAGtgcatggatgtaccg', 'AGTATAGtacggataacacataacgtgctg', 'gggtcgggatcggAGTATAGacccctaggg', 'cccagtAGTATAGgatccactgtataacgc', 'ctggcctgAGTATAGccgtcgtagtcatgt']\n",
      "['AGTATAG', 'AGTATAG', 'AGTATAG', 'AGTATAG', 'AGTATAG', 'AGTATAG', 'AGTATAG', 'AGTATAG', 'AGTATAG', 'AGTATAG']\n"
     ]
    }
   ],
   "source": [
    "print(posMotif)\n",
    "print(motifs)"
   ]
  },
  {
   "cell_type": "markdown",
   "metadata": {
    "id": "AgbeHy3E_cRW"
   },
   "source": [
    "<b> 2. Générer la matrice de poids position</b> à partir de séquences générer artificiellement `motifs` \n",
    "puis comparer la matrice générée avec la matrice originale `freq`, que remarquez vous?"
   ]
  },
  {
   "cell_type": "code",
   "execution_count": 99,
   "metadata": {
    "id": "8hIxvUvCAzbH"
   },
   "outputs": [
    {
     "name": "stdout",
     "output_type": "stream",
     "text": [
      "PWM\n",
      "\n",
      "[[0.78571429 0.07142857 0.07142857 0.78571429 0.07142857 0.78571429\n",
      "  0.07142857]\n",
      " [0.07142857 0.07142857 0.07142857 0.07142857 0.07142857 0.07142857\n",
      "  0.07142857]\n",
      " [0.07142857 0.78571429 0.07142857 0.07142857 0.07142857 0.07142857\n",
      "  0.78571429]\n",
      " [0.07142857 0.07142857 0.78571429 0.07142857 0.78571429 0.07142857\n",
      "  0.07142857]]\n",
      "\n",
      "freq normalisé\n",
      "\n",
      "[[0.98039216 0.01176471 0.00294118 0.98039216 0.00490196 0.98039216\n",
      "  0.00098039]\n",
      " [0.00980392 0.00784314 0.00294118 0.00294118 0.         0.00980392\n",
      "  0.00098039]\n",
      " [0.00392157 0.98039216 0.00196078 0.00686275 0.00490196 0.0127451\n",
      "  0.98039216]\n",
      " [0.00588235 0.00980392 0.98039216 0.00490196 0.98039216 0.00588235\n",
      "  0.00098039]]\n",
      "\n",
      "On peut quand même constater la présence du motif mais moins marqué\n",
      "\n"
     ]
    }
   ],
   "source": [
    "#Computing wi(a)\n",
    "def matricePoidsPosition(motifs, nuc, k):\n",
    "    \"\"\"\n",
    "    Genere la matrice de poids position à partir de motifs\n",
    "    entrée motifs : list  contenant les motifs d'interets\n",
    "    entrée nuc  : alphabet \n",
    "    entrée k    : taille du motif\n",
    "    sortie pwm  : matrice de poids position qui represent les motifs\n",
    "    \"\"\"\n",
    "    q = len(nuc)\n",
    "    PWM = np.ones((q, k))\n",
    "\n",
    "    #Parcours sur chaque séquence de la liste\n",
    "    for m in motifs: \n",
    "        #Parcours sur la longueur de la séquence\n",
    "        for i in range(k):\n",
    "            #Incrémentation des occurences de l'alpahbet en fonction de la position\n",
    "            PWM[nuc.index(m[i]),i] += 1 \n",
    "    \n",
    "\n",
    "    #Normalisation    \n",
    "    PWM /= (len(motifs)+len(nuc))\n",
    "    \n",
    "    return PWM\n",
    "\n",
    "\n",
    "PWM = matricePoidsPosition(motifs, nuc, k); \n",
    "\n",
    "print(\"PWM\\n\")\n",
    "print (PWM)\n",
    "\n",
    "print(\"\\nfreq normalisé\\n\")\n",
    "print(freq/1020)\n",
    "\n",
    "print(\"\\nOn peut quand même constater la présence du motif mais moins marqué\\n\")\n"
   ]
  },
  {
   "cell_type": "markdown",
   "metadata": {
    "id": "8Jgh64191rxI"
   },
   "source": [
    "<b>3. Chercher les motifs en utilisant l'algorithme `motifSearch` </b>:\n",
    "<br>\n",
    "Faire une fonction pour chercher le motif le plus plus frequents dans l'ensemble de sequences positives `pos`. "
   ]
  },
  {
   "cell_type": "code",
   "execution_count": 105,
   "metadata": {
    "id": "C9OjaTFl1rxH"
   },
   "outputs": [
    {
     "name": "stdout",
     "output_type": "stream",
     "text": [
      "{'AGTATAG': 10}\n"
     ]
    }
   ],
   "source": [
    "def motifSearch(k:int, sequences:list):\n",
    "    \"\"\"\n",
    "    Cherche les motifs de taille k dans un ensemble de séquences\n",
    "    entrée k : taille du motif\n",
    "    entrée séquences : liste de sequences\n",
    "    sortie motifs: dictionnaire de motifs, clé=motif, valeur = fréquence d'observation\n",
    "    >>>searchMotifs(3, ['TAAGTAA', 'TATAA', 'CTATC'])\n",
    "    {'TAA': 3, 'AAG': 1, 'AGT': 1, 'GTA': 1, 'TAT': 2, 'ATA': 1, 'CTA': 1, 'ATC': 1}\n",
    "    \"\"\"\n",
    "    motifsFound  = {};\n",
    "    liste = []\n",
    "    for s in sequences:\n",
    "        for j in range(len(s)-k+1):\n",
    "            liste.append(s[j:k+j])\n",
    "\n",
    "    for i in liste :\n",
    "        if i in motifsFound.keys():\n",
    "            motifsFound[i]+=1\n",
    "        else:\n",
    "            motifsFound[i]=1\n",
    "        \n",
    "    return motifsFound\n",
    "\n",
    "\n",
    "def getTopMotifs(motifs:dict(), top=1):\n",
    "    \"\"\"\n",
    "    renvoyer les top motifs le plus frequent\n",
    "    entrée motifsFound: dictionnaire de motifs, clé=motif, valeur = fréquence d'observation\n",
    "    entrée top : les top plus frequent \n",
    "    sortie motifsfreq: dictionnaire contenant les top motifs les plus fréquents, clé=motif, valeur = fréquence d'observation\n",
    "    >>>getTopMotifs({'TAA': 3, 'AAG': 1, 'AGT': 1, 'GTA': 1, 'TAT': 2, 'ATA': 1, 'CTA': 1, 'ATC': 1}, 2)\n",
    "    {'TAA': 3, 'TAT': 2}\n",
    "    \"\"\"\n",
    "    motifsfreq  = {}\n",
    "    for i in range(top):\n",
    "        top_in = max(motifs.values())\n",
    "        k = [z for z in motifs.keys() if motifs[z]==top_in]\n",
    "        if len(k)>top:\n",
    "            for k_in in range(top):          \n",
    "                if k[k_in] not in motifsfreq.keys():\n",
    "                    motifsfreq[k[k_in]]=motifs[k[k_in]]\n",
    "                    motifs[k[k_in]] = 0\n",
    "                    break\n",
    "        \n",
    "        if len(k) == 1 : \n",
    "            l = k[0] \n",
    "            if l not in motifsfreq.keys():\n",
    "                    motifsfreq[l]=motifs[l]\n",
    "                    motifs[l] = 0\n",
    "\n",
    "    return motifsfreq\n",
    "\n",
    "motifsFound = motifSearch(k, pos)\n",
    "topMotifs = getTopMotifs(motifsFound, 1)\n",
    "print (topMotifs)\n"
   ]
  },
  {
   "cell_type": "markdown",
   "metadata": {
    "id": "6-r5J3I81rxJ"
   },
   "source": [
    "4. Avez vous trouvez le motif N fois dans l'ensemble de séquences positives `pos`? Justifiez votre réponse."
   ]
  },
  {
   "cell_type": "markdown",
   "metadata": {
    "id": "gVqNfHQAEEXT"
   },
   "source": [
    "<font color=\"#0000FF\"> Réponse: Oui, car il est discernable et ne présente pas beaucoup de variabilité </font>"
   ]
  },
  {
   "cell_type": "markdown",
   "metadata": {
    "id": "GtuFSZLwELz-"
   },
   "source": [
    "5. Utiliser l'algorithme Expectation-Maximisation pour chercher un motif de taille k dans l'ensemble de séquences `pos`."
   ]
  },
  {
   "cell_type": "code",
   "execution_count": 138,
   "metadata": {},
   "outputs": [],
   "source": [
    "def initialiseP(seqs, w, alph):\n",
    "    \"\"\"\n",
    "    Initialise pc,k\n",
    "    input seqs : list of sequences\n",
    "    input w : motif length\n",
    "    input alph : alphabet (nucleotides or amino acids)\n",
    "    output P: position probability matrix\n",
    "    \"\"\"\n",
    "    q=len(alph)\n",
    "    P = np.zeros((q, w+1))\n",
    "    # initialisation du model nul\n",
    "    P[:, 0] = [1/q] * q\n",
    "    # on tire une séquence de façon aléatoire\n",
    "    rand_index_seq = np.random.randint(0, len(seqs))\n",
    "    sequence = seqs[rand_index_seq]\n",
    "    # on tire un motif de façon aléatoire\n",
    "    rand_index_motif = np.random.randint(0, len(sequence) - w)\n",
    "    motif = sequence[rand_index_motif:rand_index_motif + w]\n",
    "    # on remplit les colones restantes\n",
    "    for i in range(len(motif)):\n",
    "        # la case du caractère du motif est mise à 0.5\n",
    "        c_k = alph.index(motif[i])\n",
    "        P[c_k][i + 1] = 0.5\n",
    "        \n",
    "        # les autres sont remplis équitablement de sorte à ce que la colonne somme à 1\n",
    "        for j in range(q):\n",
    "            if c_k != j:\n",
    "                P[j][i + 1] = (1 - 0.5) / (q - 1)\n",
    "    return P\n",
    "\n",
    "def initialiseZ(seqs, w):\n",
    "    \"\"\"\n",
    "    Initialise Z\n",
    "    input seqs : list of sequences\n",
    "    input w : motif length\n",
    "    output Z :  matrix of motif start positions\n",
    "    \"\"\"\n",
    "    n = len(seqs)\n",
    "    L = len(seqs[0])\n",
    "    Z = np.ones((n, (L - w + 1)))\n",
    "    return Z\n",
    "\n",
    "def compute_Z_for_seq(seq, P, w, alph):\n",
    "    res = []\n",
    "    # parcours des positions de la séquence\n",
    "    for i in range(len(seq) - w + 1):\n",
    "        # motif courrant\n",
    "        motif = seq[i: i + w]\n",
    "        # calcul de la probabilité du motif\n",
    "        proba = 1\n",
    "        for i in range(w):\n",
    "            c_k = alph.index(motif[i])\n",
    "            proba = proba * P[c_k][i + 1]\n",
    "        # calcul des probas hors-motif (on suppose que le model nul est systématiquement equiprobable)\n",
    "        proba_nulle = P[0][0] \n",
    "        proba = proba * pow(proba_nulle, len(seq) - w)\n",
    "        \n",
    "        res.append(proba)\n",
    "    return res\n",
    "\n",
    "def E_step(seqs, P, w, alph):\n",
    "    \"\"\"\n",
    "    Implement Expectation step\n",
    "    input seqs : list of sequences\n",
    "    input P : position probability matrix\n",
    "    input Z :  matrix of motif start positions\n",
    "    input w : motif length\n",
    "    input alph : alphabet (nucleotides or amino acids)\n",
    "    output Z :  matrix of motif start positions\n",
    "    \"\"\"\n",
    "    \n",
    "    Z = initialiseZ(seqs, w)\n",
    "    # on appelle la \n",
    "    for i in range(len(Z)):\n",
    "        Z[i] = compute_Z_for_seq(seqs[i], P, w, alph)\n",
    "    return Z\n",
    "\n",
    "def normaliseZ(z):\n",
    "    \"\"\"\n",
    "    Normalise Z matrix\n",
    "    input Z : unnormalised matrix\n",
    "    output Zn : normalised matrix\n",
    "    \"\"\"\n",
    "    return np.array([row/sum(row) for row in z])\n",
    "\n",
    "def M_step(seqs, Z, w, alph):\n",
    "    \"\"\"\n",
    "    Implement Expectation step\n",
    "    input seqs : list of sequences\n",
    "    input Z :  matrix of motif start positions\n",
    "    input w : motif length\n",
    "    input alph : alphabet (nucleotides or amino acids)\n",
    "    output P : position probability matrix\n",
    "    \"\"\"\n",
    "    n = len(seqs)\n",
    "    L = len(seqs[0])\n",
    "    q = len(alph)\n",
    "    \n",
    "    # initialisation de P (avec pseudo-count)\n",
    "    P = np.ones((q, w+1))\n",
    "    \n",
    "    # on va parcourir tous les motifs de toutes les séquences et ajouter\n",
    "    # au fur et à mesure les probabilités du motif dans les cases\n",
    "    # appropriées de P\n",
    "    for i in range(n):\n",
    "        for j in range(L - w + 1):\n",
    "            # on récupère le motif\n",
    "            motif = seqs[i][j:j + w]\n",
    "            # parcours du motif\n",
    "            for k in range(len(motif)):\n",
    "                # caractère courant\n",
    "                c_k = alph.index(motif[k])\n",
    "                # position du caractère dans le motif\n",
    "                pos = k + 1\n",
    "                # ajout de la probabilité Z_i,j\n",
    "                P[c_k][pos] += Z[i][j]\n",
    "                \n",
    "    # normalisation des colonnes (avec pseudo-count) : division par somme des Z + longueur alphabet\n",
    "    # hors la somme des Z vaut le nombre de séquences, puisque chaque séquence a ses Z qui somment à 1\n",
    "    P = P / (q + n)\n",
    "    \n",
    "    # ajout du model nul\n",
    "    P[:, 0] = [1/q] * q\n",
    "    return P\n",
    "\n",
    "\n",
    "def ExpectationMaximisation(seqs, w, alph, eps):\n",
    "    \"\"\"\n",
    "    Implement Expectation Maximisation algorithm\n",
    "    input seqs : list of sequences\n",
    "    input w : motif length\n",
    "    input alph : alphabet (nucleotides or amino acids)\n",
    "    input eps : threahold \n",
    "    output P : position probability matrix\n",
    "    output Z :  matrix of motif start positions\n",
    "    output lLikelihood : log likelihood of P \n",
    "    output pos_motif : positions of motifs in seqs\n",
    "    \"\"\"\n",
    "    P = initialiseP(seqs, w, alph)\n",
    "    Z = initialiseZ(seqs, w)\n",
    "    lLikelihood = []\n",
    "    pos_motif = []\n",
    "    \n",
    "    #Infini pour éviter les erreurs\n",
    "    stop = np.inf\n",
    "    \n",
    "    #Boucler jusqu'à atteindre epsilon\n",
    "    while stop>=eps:\n",
    "        #Expectation\n",
    "        Z = E_step(seqs,P,Z,w,alph)\n",
    "        \n",
    "        #Maximization\n",
    "        P = M_step(seqs,Z,w,alph)\n",
    "        \n",
    "        #Calcul du log-vraisemblance et mise a jour du stop\n",
    "        lLikelihood.append(likelihood(seqs,Z,P,w,alph))\n",
    "        if len(lLikelihood)>=2:\n",
    "            stop = np.abs(lLikelihood[len(lLikelihood)-2] - lLikelihood[len(lLikelihood)-1])\n",
    "    \n",
    "    #Récupération des meilleurs positions de motif\n",
    "    for s in range(len(seqs)):\n",
    "        pos_motif.append(np.argmax(Z[s]))\n",
    "\n",
    "    return (P, lLikelihood, Z, pos_motif)"
   ]
  },
  {
   "cell_type": "code",
   "execution_count": 131,
   "metadata": {},
   "outputs": [],
   "source": [
    "P, top_lLikelihood, Z,pos_motif = ExpectationMaximisation(pos,k,nuc,1e-4)"
   ]
  },
  {
   "cell_type": "code",
   "execution_count": 142,
   "metadata": {},
   "outputs": [
    {
     "name": "stdout",
     "output_type": "stream",
     "text": [
      "['gaaaata', 'ggcagaa', 'GTATAGa', 'gttccta', 'gcaagct', 'gtagacA', 'GTATAGt', 'gtcggga', 'gtAGTAT', 'gcctgAG']\n"
     ]
    }
   ],
   "source": [
    "list_mot_par_EM = []\n",
    "for i in range(len(pos_motif)):\n",
    "    list_mot_par_EM.append(posMotif[i][pos_motif[i]:pos_motif[i]+k])\n",
    "\n",
    "print(list_mot_par_EM)"
   ]
  },
  {
   "cell_type": "markdown",
   "metadata": {
    "id": "WtO1aj2YFNaG"
   },
   "source": [
    "6. Comparez les motifs trouvés par EM et l'algorithme `motifSearch` avec les motifs `posMotif`, \n",
    "où les vrais motifs sont montrés en lettre majuscule. Quelle est la performance de ces deux programmes? "
   ]
  },
  {
   "cell_type": "code",
   "execution_count": 143,
   "metadata": {
    "id": "9UOrmIf9Fye-"
   },
   "outputs": [
    {
     "name": "stdout",
     "output_type": "stream",
     "text": [
      "{'AGTATAG': 10}\n"
     ]
    }
   ],
   "source": [
    "motifsFound_LAST = motifSearch(k, posMotif)\n",
    "topMotifs_LAST = getTopMotifs(motifsFound_LAST, 1)\n",
    "print(topMotifs_LAST)"
   ]
  },
  {
   "cell_type": "code",
   "execution_count": 144,
   "metadata": {},
   "outputs": [
    {
     "name": "stdout",
     "output_type": "stream",
     "text": [
      "L'algo EM ne fonctionne pas bien,  du coup j'ai une meilleure performance côté algorithme MotifsSearch\n"
     ]
    }
   ],
   "source": [
    "print(\"L'algo EM ne fonctionne pas bien,  du coup j'ai une meilleure performance côté algorithme MotifsSearch\")"
   ]
  },
  {
   "cell_type": "code",
   "execution_count": null,
   "metadata": {},
   "outputs": [],
   "source": []
  }
 ],
 "metadata": {
  "colab": {
   "provenance": []
  },
  "kernelspec": {
   "display_name": "Python 3 (ipykernel)",
   "language": "python",
   "name": "python3"
  },
  "language_info": {
   "codemirror_mode": {
    "name": "ipython",
    "version": 3
   },
   "file_extension": ".py",
   "mimetype": "text/x-python",
   "name": "python",
   "nbconvert_exporter": "python",
   "pygments_lexer": "ipython3",
   "version": "3.10.6"
  }
 },
 "nbformat": 4,
 "nbformat_minor": 1
}

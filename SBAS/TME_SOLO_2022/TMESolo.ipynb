{
 "cells": [
  {
   "cell_type": "markdown",
   "metadata": {},
   "source": [
    "<h1><b>Statistique en Bioinformatique : </b> TME - Solo </h1>\n",
    "<br>\n",
    "<div class=\"alert alert-warning\" role=\"alert\" style=\"margin: 10px\">\n",
    "<p> Duration : 1h</p>   \n",
    "<p><b>Soumission via moodle</b></p>\n",
    "\n",
    "</div>"
   ]
  },
  {
   "cell_type": "markdown",
   "metadata": {},
   "source": [
    "Nom etudiant: "
   ]
  },
  {
   "cell_type": "markdown",
   "metadata": {},
   "source": [
    "\n",
    "Nous voudrions identifier les homologues de la séquence protéique dans le fichier \"inconnue.fasta\""
   ]
  },
  {
   "cell_type": "code",
   "execution_count": 1,
   "metadata": {},
   "outputs": [],
   "source": [
    "# méthode bonus: suppression de gap de toutes les séquences d'un fichier fasta\n",
    "def delete_gaps(file_in, file_out):\n",
    "    \"\"\"\n",
    "        file_in: fichier de séquences au format Fasta\n",
    "        file_out: nom du fichier de sortie (les mêmes séquences sans les gaps)\n",
    "    \"\"\"\n",
    "    f = open(file_in, 'r')\n",
    "    f_out = open(file_out,  \"w\")\n",
    "    line = f.readline()\n",
    "    while line:\n",
    "        # traitement des lignes de séquences\n",
    "        if line[0] !='>':\n",
    "            temp = \"\"\n",
    "            for c in line:\n",
    "                if c != '-':\n",
    "                    temp += c\n",
    "            f_out.write(temp)\n",
    "        else:\n",
    "            f_out.write(line)\n",
    "        line = f.readline()\n",
    "\n",
    "#petit test\n",
    "delete_gaps('alignement.fasta', 'sortie2.fasta')"
   ]
  },
  {
   "cell_type": "markdown",
   "metadata": {},
   "source": [
    "<b> Question 1 </b>:  À partir de l'application BLAST, disponible via le site de <a href=\"http://blast.ncbi.nlm.nih.gov/\">NCBI</a>. Faites un BLAST de la séquence inconnue.fasta contre la banque swissprot. Répondez aux questions suivantes:"
   ]
  },
  {
   "cell_type": "markdown",
   "metadata": {},
   "source": [
    "<b>1.1 </b>: Combien de séquence vous avez en résultat ?"
   ]
  },
  {
   "cell_type": "markdown",
   "metadata": {},
   "source": [
    "<font color=\"red\"> Réponse : </font>\n",
    "<font color=\"blue\">\n",
    "51 séquences\n",
    "</font>"
   ]
  },
  {
   "cell_type": "markdown",
   "metadata": {},
   "source": [
    "<b>1.2 </b>: Faire un histogramme pour montrer la distribution des scores? Vous pouvez faire le download du fichier de \"hit Table\" en format csv."
   ]
  },
  {
   "cell_type": "code",
   "execution_count": 2,
   "metadata": {},
   "outputs": [
    {
     "name": "stdout",
     "output_type": "stream",
     "text": [
      "[100.     66.667  65.625  70.312  65.625  66.667  69.841  70.312  70.312\n",
      "  61.905  65.079  65.079  57.812  55.556  42.373  53.191  53.191  40.\n",
      "  37.097  41.667  56.098  38.983  40.     48.936  39.474  52.727  54.762\n",
      "  45.902  56.098  53.191  54.762  38.182  38.333  36.667  46.512  51.22\n",
      "  45.833  35.484  35.593  35.593  37.288  35.593  48.78   40.385  46.809\n",
      "  40.385  43.75   36.667  48.936  40.385  40.385]\n"
     ]
    },
    {
     "data": {
      "image/png": "[encoded data removed]",
      "text/plain": [
       "<Figure size 640x480 with 1 Axes>"
      ]
     },
     "metadata": {},
     "output_type": "display_data"
    }
   ],
   "source": [
    "import matplotlib.pyplot as plt\n",
    "import numpy as np\n",
    "def histogramme():\n",
    "    file = np.loadtxt(\"hit_table.csv\",delimiter=\",\", dtype=str)\n",
    "    score = (file[:,2]).astype(float)\n",
    "    print(score)\n",
    "    plt.hist(score, bins=50)\n",
    "    \n",
    "histogramme()"
   ]
  },
  {
   "cell_type": "markdown",
   "metadata": {},
   "source": [
    "<b>1.3</b>: En analysant le résultat graphique de BLAST vous pouvez dire que cette protéine a des homologues proches? Justifiez votre réponse?"
   ]
  },
  {
   "cell_type": "markdown",
   "metadata": {},
   "source": [
    "<font color=\"red\"> Réponse : </font>\n",
    "<font color=\"blue\">\n",
    "On constate qu'on obtient 3 pics principaux. 1 correspond aux scores les plus bas, et est le plus important, 1 au milieu et un petit avec un très bon score. On en conclut qu'on a peu d'homologues proches et beaucoup d'homologues plus lointain. \n",
    "</font>"
   ]
  },
  {
   "cell_type": "markdown",
   "metadata": {},
   "source": [
    "<b> Question 2</b>: A partir de résultats de BLAST, télécharger les séquences alignées dans l'onglet \"Aligments\", cliquez sur Download puis FASTA (aligned sequences)."
   ]
  },
  {
   "cell_type": "markdown",
   "metadata": {},
   "source": [
    "<b> 2.1 </b>:  Ajouter au fichier telechargé la séquence inconnue.fasta, enlever les gaps et les ré-aligner avec l'outil <a href=\"http://www.ebi.ac.uk/Tools/msa/clustalo/\">Clustal omega</a>.\n",
    "Calculer la séquence consensus de l'alignement et le score avec la matrice Blosum62."
   ]
  },
  {
   "cell_type": "code",
   "execution_count": null,
   "metadata": {},
   "outputs": [],
   "source": [
    "#alignement obtenu\n"
   ]
  },
  {
   "cell_type": "code",
   "execution_count": null,
   "metadata": {},
   "outputs": [],
   "source": [
    "#Sequence consensus\n",
    "\n"
   ]
  },
  {
   "cell_type": "code",
   "execution_count": 3,
   "metadata": {},
   "outputs": [],
   "source": [
    "#Score de l'aligment\n",
    "blosum_file = 'BLOSUM62(1).txt'\n",
    "gap = -5\n",
    "\n",
    "aa = ['A', 'C', 'D', 'E', 'F', 'G', 'H', 'I', 'K', 'L', 'M', 'N', 'P', 'Q', 'R', 'S', 'T', 'V', 'W', 'Y', '-']\n",
    "q = 21\n",
    "\n",
    "# lecture des séquences\n",
    "#Read multi fasta\n",
    "def extraireAllFastaMulti(fileName):\n",
    "    \"\"\"\n",
    "    Read a FASTA file with several sequences\n",
    "    input1 fileName: file name\n",
    "    output1 IdSeq: list of sequences IDs\n",
    "    output2 Seqs: sequences    \n",
    "    \"\"\" \n",
    "    \n",
    "    Seqs=[]\n",
    "    IdSeq=[]   \n",
    "    with open(fileName, 'r') as in_f:\n",
    "        for line in in_f.readlines():            \n",
    "            if line[0] == '>':\n",
    "                IdSeq += [line[1:-1]]\n",
    "                Seqs += [[]]\n",
    "            else :\n",
    "                # on récupère la séquence dans la ligne et on la converti systématiquement en majuscule pour éviter\n",
    "                # des problèmes d'indexation dans la matrice BLOSUM\n",
    "                Seqs[-1] += line.replace('\\n', '').upper()\n",
    "                \n",
    "    return IdSeq, Seqs\n",
    "\n",
    "idSeqs, Seqs = extraireAllFastaMulti('alignement.fasta')\n",
    "\n",
    "#read Blosum\n",
    "def readBlosum(nameFile):\n",
    "    \"\"\"\n",
    "    Read substitution matrix file  \n",
    "    Input1 fileName : blosum file name\n",
    "    Output1 Blosum: a dictionary containing BLOSUM matrix, key is a pair of amino acids (alphabetic order) and value is the substitution value. \n",
    "    REMARK : You could eliminate the last four columns and last four rows of Blosum file\n",
    "    \"\"\"\n",
    "    blosum ={}\n",
    "    i = 0\n",
    "    with open(nameFile, 'r') as in_f:\n",
    "        for line in in_f.readlines():\n",
    "            if i == q:\n",
    "                break\n",
    "            if line[0] != '#':\n",
    "                # cas de la première ligne de la matrice:\n",
    "                if i > 0:\n",
    "                    line = line[1:-1].split(' ')\n",
    "                    j = 0\n",
    "                    for k in range(len(line)):\n",
    "                        if j == q - 1:\n",
    "                            break\n",
    "                        if line[k] != '':\n",
    "                            blosum[aa[i-1] + aa[j]] = int(line[k])\n",
    "                            j+=1\n",
    "                i+=1\n",
    "    return blosum\n",
    "\n",
    "blosum = readBlosum(blosum_file)\n",
    "\n"
   ]
  },
  {
   "cell_type": "code",
   "execution_count": 4,
   "metadata": {},
   "outputs": [
    {
     "data": {
      "text/plain": [
       "-1046.5625"
      ]
     },
     "execution_count": 4,
     "metadata": {},
     "output_type": "execute_result"
    }
   ],
   "source": [
    "# score\n",
    "def SP_score(SeqsM, blosum, gap):\n",
    "    \"\"\"\n",
    "    Compute MSA score based on a substitution matrix and gap penality\n",
    "    input1 SeqsM: list of aligned sequences\n",
    "    input2 blosum: substitution matrix\n",
    "    input3 gap: gap penality\n",
    "    output1 score: MSA score\n",
    "    \"\"\"\n",
    "\n",
    "   \n",
    "    n = len(SeqsM) #nb sequences\n",
    "    K = len(SeqsM[0]) # nb colonnes\n",
    "    score = np.zeros(K)\n",
    "    for k in range(K):\n",
    "        for i in range(n):\n",
    "            for j in range(i+1,n):\n",
    "                a1 = SeqsM[i][k]\n",
    "                a2 = SeqsM[j][k]\n",
    "                if a1 != '-' and a2 != '-':\n",
    "                    score[k]+= blosum[a1+a2]\n",
    "                else :\n",
    "                    score[k] += gap         \n",
    "    \n",
    "\n",
    "    return np.sum(score)/K\n",
    "SP_score(Seqs, blosum, gap)\n"
   ]
  },
  {
   "cell_type": "code",
   "execution_count": 36,
   "metadata": {},
   "outputs": [
    {
     "data": {
      "text/plain": [
       "['-',\n",
       " '-',\n",
       " '-',\n",
       " '-',\n",
       " 'K',\n",
       " 'R',\n",
       " 'Q',\n",
       " 'K',\n",
       " 'R',\n",
       " 'K',\n",
       " 'I',\n",
       " 'S',\n",
       " 'N',\n",
       " 'R',\n",
       " 'E',\n",
       " 'S',\n",
       " 'A',\n",
       " 'R',\n",
       " 'R',\n",
       " 'S',\n",
       " 'R',\n",
       " 'L',\n",
       " 'R',\n",
       " 'K',\n",
       " 'Q',\n",
       " 'A',\n",
       " 'Y',\n",
       " 'T',\n",
       " 'E',\n",
       " 'E',\n",
       " 'L',\n",
       " 'E',\n",
       " 'A',\n",
       " 'R',\n",
       " 'V',\n",
       " 'E',\n",
       " 'V',\n",
       " 'L',\n",
       " 'K',\n",
       " 'N',\n",
       " 'E',\n",
       " 'N',\n",
       " 'A',\n",
       " 'S',\n",
       " 'L',\n",
       " 'R',\n",
       " 'A',\n",
       " 'E',\n",
       " 'L',\n",
       " '-',\n",
       " '-',\n",
       " 'L',\n",
       " '-',\n",
       " '-',\n",
       " '-',\n",
       " '-',\n",
       " '-',\n",
       " '-',\n",
       " '-',\n",
       " '-',\n",
       " '-',\n",
       " '-',\n",
       " 'N',\n",
       " '-',\n",
       " '-',\n",
       " '-',\n",
       " '-',\n",
       " '-',\n",
       " '-',\n",
       " '-',\n",
       " '-',\n",
       " '-',\n",
       " '-',\n",
       " '-',\n",
       " '-',\n",
       " '-',\n",
       " '-',\n",
       " '-',\n",
       " '-',\n",
       " '-']"
      ]
     },
     "execution_count": 36,
     "metadata": {},
     "output_type": "execute_result"
    }
   ],
   "source": [
    "# consensus\n",
    "def consensus(Seqs):\n",
    "    res = []\n",
    "    columns = len(Seqs[0])\n",
    "    for i in range(columns):\n",
    "        colonne = Seqs[:,i]\n",
    "        dico = {}\n",
    "        for c in colonne:\n",
    "            if c in dico:\n",
    "                dico[c] += 1\n",
    "            else:\n",
    "                dico[c] = 1\n",
    "        val = list(dico.values())\n",
    "        key = list(dico.keys())\n",
    "        index = np.argmax(val)\n",
    "        res.append(key[index])\n",
    "    return res\n",
    "        \n",
    "consensus(np.array(Seqs))"
   ]
  },
  {
   "cell_type": "markdown",
   "metadata": {},
   "source": [
    "<b>2.2</b>:  Calculer la PWM à partir de l'alignement."
   ]
  },
  {
   "cell_type": "code",
   "execution_count": 6,
   "metadata": {},
   "outputs": [
    {
     "name": "stdout",
     "output_type": "stream",
     "text": [
      "         0         1         2         3         4         5         6   \\\n",
      "A  0.013699  0.054795  0.041096  0.013699  0.013699  0.013699  0.082192   \n",
      "C  0.013699  0.013699  0.013699  0.013699  0.013699  0.013699  0.013699   \n",
      "D  0.054795  0.013699  0.082192  0.013699  0.013699  0.013699  0.013699   \n",
      "E  0.260274  0.013699  0.219178  0.027397  0.027397  0.013699  0.164384   \n",
      "F  0.013699  0.013699  0.013699  0.013699  0.013699  0.013699  0.013699   \n",
      "G  0.013699  0.013699  0.013699  0.013699  0.013699  0.013699  0.013699   \n",
      "H  0.013699  0.013699  0.027397  0.013699  0.013699  0.013699  0.013699   \n",
      "I  0.013699  0.013699  0.013699  0.027397  0.013699  0.013699  0.041096   \n",
      "K  0.013699  0.041096  0.013699  0.027397  0.465753  0.150685  0.027397   \n",
      "L  0.013699  0.013699  0.013699  0.232877  0.013699  0.013699  0.027397   \n",
      "M  0.013699  0.013699  0.013699  0.013699  0.013699  0.013699  0.027397   \n",
      "N  0.013699  0.013699  0.027397  0.013699  0.013699  0.013699  0.013699   \n",
      "P  0.013699  0.027397  0.013699  0.013699  0.013699  0.013699  0.013699   \n",
      "Q  0.013699  0.013699  0.027397  0.027397  0.013699  0.013699  0.328767   \n",
      "R  0.013699  0.232877  0.013699  0.054795  0.260274  0.589041  0.095890   \n",
      "S  0.013699  0.013699  0.013699  0.013699  0.013699  0.013699  0.013699   \n",
      "T  0.013699  0.013699  0.027397  0.013699  0.013699  0.013699  0.013699   \n",
      "V  0.013699  0.013699  0.013699  0.068493  0.013699  0.013699  0.041096   \n",
      "W  0.013699  0.013699  0.013699  0.013699  0.013699  0.013699  0.013699   \n",
      "Y  0.013699  0.013699  0.013699  0.013699  0.013699  0.013699  0.013699   \n",
      "-  0.438356  0.424658  0.369863  0.356164  0.013699  0.013699  0.013699   \n",
      "\n",
      "         7         8         9   ...        70        71        72        73  \\\n",
      "A  0.013699  0.013699  0.013699  ...  0.013699  0.013699  0.013699  0.013699   \n",
      "C  0.013699  0.013699  0.013699  ...  0.013699  0.013699  0.013699  0.013699   \n",
      "D  0.013699  0.013699  0.013699  ...  0.013699  0.013699  0.013699  0.013699   \n",
      "E  0.013699  0.013699  0.013699  ...  0.013699  0.013699  0.013699  0.013699   \n",
      "F  0.013699  0.027397  0.013699  ...  0.013699  0.013699  0.013699  0.013699   \n",
      "G  0.013699  0.013699  0.013699  ...  0.013699  0.013699  0.013699  0.013699   \n",
      "H  0.013699  0.013699  0.013699  ...  0.013699  0.013699  0.013699  0.013699   \n",
      "I  0.054795  0.013699  0.082192  ...  0.027397  0.013699  0.013699  0.013699   \n",
      "K  0.356164  0.027397  0.287671  ...  0.013699  0.013699  0.013699  0.013699   \n",
      "L  0.027397  0.013699  0.136986  ...  0.013699  0.013699  0.027397  0.013699   \n",
      "M  0.013699  0.013699  0.232877  ...  0.013699  0.013699  0.013699  0.013699   \n",
      "N  0.013699  0.013699  0.013699  ...  0.013699  0.013699  0.013699  0.013699   \n",
      "P  0.013699  0.013699  0.013699  ...  0.013699  0.013699  0.013699  0.013699   \n",
      "Q  0.013699  0.013699  0.027397  ...  0.013699  0.013699  0.013699  0.013699   \n",
      "R  0.287671  0.698630  0.027397  ...  0.013699  0.013699  0.013699  0.013699   \n",
      "S  0.027397  0.013699  0.013699  ...  0.013699  0.013699  0.013699  0.027397   \n",
      "T  0.013699  0.013699  0.013699  ...  0.013699  0.013699  0.013699  0.013699   \n",
      "V  0.041096  0.013699  0.013699  ...  0.013699  0.013699  0.013699  0.013699   \n",
      "W  0.013699  0.013699  0.013699  ...  0.013699  0.027397  0.013699  0.013699   \n",
      "Y  0.013699  0.013699  0.013699  ...  0.013699  0.013699  0.013699  0.013699   \n",
      "-  0.013699  0.013699  0.013699  ...  0.712329  0.712329  0.712329  0.712329   \n",
      "\n",
      "         74        75        76        77        78        79  \n",
      "A  0.013699  0.013699  0.013699  0.013699  0.013699  0.013699  \n",
      "C  0.013699  0.013699  0.013699  0.013699  0.013699  0.013699  \n",
      "D  0.013699  0.013699  0.013699  0.013699  0.027397  0.013699  \n",
      "E  0.013699  0.013699  0.013699  0.013699  0.013699  0.013699  \n",
      "F  0.013699  0.013699  0.013699  0.013699  0.013699  0.013699  \n",
      "G  0.013699  0.013699  0.013699  0.013699  0.013699  0.013699  \n",
      "H  0.013699  0.013699  0.013699  0.013699  0.013699  0.013699  \n",
      "I  0.013699  0.013699  0.013699  0.013699  0.013699  0.013699  \n",
      "K  0.013699  0.013699  0.013699  0.013699  0.013699  0.013699  \n",
      "L  0.013699  0.013699  0.013699  0.013699  0.013699  0.027397  \n",
      "M  0.013699  0.013699  0.013699  0.013699  0.013699  0.013699  \n",
      "N  0.013699  0.013699  0.013699  0.013699  0.013699  0.013699  \n",
      "P  0.013699  0.013699  0.013699  0.013699  0.013699  0.013699  \n",
      "Q  0.013699  0.013699  0.013699  0.013699  0.013699  0.013699  \n",
      "R  0.013699  0.013699  0.013699  0.013699  0.013699  0.013699  \n",
      "S  0.027397  0.013699  0.013699  0.027397  0.013699  0.013699  \n",
      "T  0.013699  0.013699  0.013699  0.013699  0.013699  0.013699  \n",
      "V  0.013699  0.013699  0.027397  0.013699  0.013699  0.013699  \n",
      "W  0.013699  0.013699  0.013699  0.013699  0.013699  0.013699  \n",
      "Y  0.013699  0.027397  0.013699  0.013699  0.013699  0.013699  \n",
      "-  0.712329  0.712329  0.712329  0.712329  0.712329  0.712329  \n",
      "\n",
      "[21 rows x 80 columns]\n"
     ]
    }
   ],
   "source": [
    "import sys\n",
    "import numpy as np\n",
    "import pandas as pd\n",
    "\n",
    "aa = ['A', 'C', 'D', 'E', 'F', 'G', 'H', 'I', 'K', 'L', 'M', 'N', 'P', 'Q', 'R', 'S', 'T', 'V', 'W', 'Y', '-']\n",
    "q = 21\n",
    "\n",
    "def get_pwm(seqs, L, m, alphabet):\n",
    "    \"\"\"Input 1 : The MSA (see REMARK of the load_train function)\n",
    "    Input 2 : the MSA length\n",
    "    Input 3 : the MSA depth\n",
    "    Input 4 : the alphabet used (it must be an ordered collection of non-repeating characters)\n",
    "    Output 1 : position-weight matrix of shape (q, L) where q is len(alphabet)\"\"\"\n",
    "    q = len(alphabet)  \n",
    "    pwm = np.ones((q, L))\n",
    "    for i in range(L):\n",
    "        colonne = seqs[:,i]\n",
    "        for c in colonne:\n",
    "            index = alphabet.index(c)\n",
    "            pwm[index,i] += 1\n",
    "        \n",
    "    return pd.DataFrame(pwm/(q + m),  index = aa, columns=np.arange(L))\n",
    "\n",
    "PWM = get_pwm(np.array(Seqs), len(Seqs[0]), len(Seqs), aa)\n",
    "print(PWM)"
   ]
  },
  {
   "cell_type": "markdown",
   "metadata": {},
   "source": [
    "<b>2.3</b>: Afficher la meilleure log-vraisemblance de la séquence du fichier teste.fasta ainsi que les positions dans la séquence. "
   ]
  },
  {
   "cell_type": "code",
   "execution_count": 7,
   "metadata": {},
   "outputs": [
    {
     "name": "stdout",
     "output_type": "stream",
     "text": [
      "-58.43794744367361\n",
      "['M', 'E', 'D', 'Q', 'E', 'R', 'I', 'K', 'V', 'E', 'R', 'K', 'R', 'L', 'R', 'N', 'R', 'L', 'A', 'R', 'T', 'K', 'C', 'R', 'K', 'R', 'K', 'L', 'E', 'R', 'I', 'A', 'R', 'L', 'E', 'A', 'F', 'V', 'K', 'T', 'L', 'K', 'A', 'E', 'N', 'L', 'G', 'L', 'S', 'N', 'T', 'A', 'G', 'C', 'L', 'R', 'E', 'Q', 'V', 'A', 'Q', 'L', 'K', 'K', 'K', 'V', 'M', 'T', 'H', 'V', 'S', 'N', 'G', 'C', 'Q', 'L', 'L', 'L', 'P', 'V']\n",
      "['E', 'D', 'Q', 'E', 'R', 'I', 'K', 'V', 'E', 'R', 'K', 'R', 'L', 'R', 'N', 'R', 'L', 'A', 'R', 'T', 'K', 'C', 'R', 'K', 'R', 'K', 'L', 'E', 'R', 'I', 'A', 'R', 'L', 'E', 'A', 'F', 'V', 'K', 'T', 'L', 'K', 'A', 'E', 'N', 'L', 'G', 'L', 'S', 'N', 'T', 'A', 'G', 'C', 'L', 'R', 'E', 'Q', 'V', 'A', 'Q', 'L', 'K', 'K', 'K', 'V', 'M', 'T', 'H', 'V', 'S', 'N', 'G', 'C', 'Q', 'L', 'L', 'L', 'P', 'V', 'K']\n",
      "['D', 'Q', 'E', 'R', 'I', 'K', 'V', 'E', 'R', 'K', 'R', 'L', 'R', 'N', 'R', 'L', 'A', 'R', 'T', 'K', 'C', 'R', 'K', 'R', 'K', 'L', 'E', 'R', 'I', 'A', 'R', 'L', 'E', 'A', 'F', 'V', 'K', 'T', 'L', 'K', 'A', 'E', 'N', 'L', 'G', 'L', 'S', 'N', 'T', 'A', 'G', 'C', 'L', 'R', 'E', 'Q', 'V', 'A', 'Q', 'L', 'K', 'K', 'K', 'V', 'M', 'T', 'H', 'V', 'S', 'N', 'G', 'C', 'Q', 'L', 'L', 'L', 'P', 'V', 'K', 'G']\n",
      "['Q', 'E', 'R', 'I', 'K', 'V', 'E', 'R', 'K', 'R', 'L', 'R', 'N', 'R', 'L', 'A', 'R', 'T', 'K', 'C', 'R', 'K', 'R', 'K', 'L', 'E', 'R', 'I', 'A', 'R', 'L', 'E', 'A', 'F', 'V', 'K', 'T', 'L', 'K', 'A', 'E', 'N', 'L', 'G', 'L', 'S', 'N', 'T', 'A', 'G', 'C', 'L', 'R', 'E', 'Q', 'V', 'A', 'Q', 'L', 'K', 'K', 'K', 'V', 'M', 'T', 'H', 'V', 'S', 'N', 'G', 'C', 'Q', 'L', 'L', 'L', 'P', 'V', 'K', 'G', 'H']\n",
      "['E', 'R', 'I', 'K', 'V', 'E', 'R', 'K', 'R', 'L', 'R', 'N', 'R', 'L', 'A', 'R', 'T', 'K', 'C', 'R', 'K', 'R', 'K', 'L', 'E', 'R', 'I', 'A', 'R', 'L', 'E', 'A', 'F', 'V', 'K', 'T', 'L', 'K', 'A', 'E', 'N', 'L', 'G', 'L', 'S', 'N', 'T', 'A', 'G', 'C', 'L', 'R', 'E', 'Q', 'V', 'A', 'Q', 'L', 'K', 'K', 'K', 'V', 'M', 'T', 'H', 'V', 'S', 'N', 'G', 'C', 'Q', 'L', 'L', 'L', 'P', 'V', 'K', 'G', 'H', 'A']\n",
      "[['M', 'E', 'D', 'Q', 'E', 'R', 'I', 'K', 'V', 'E', 'R', 'K', 'R', 'L', 'R', 'N', 'R', 'L', 'A', 'R', 'T', 'K', 'C', 'R', 'K', 'R', 'K', 'L', 'E', 'R', 'I', 'A', 'R', 'L', 'E', 'A', 'F', 'V', 'K', 'T', 'L', 'K', 'A', 'E', 'N', 'L', 'G', 'L', 'S', 'N', 'T', 'A', 'G', 'C', 'L', 'R', 'E', 'Q', 'V', 'A', 'Q', 'L', 'K', 'K', 'K', 'V', 'M', 'T', 'H', 'V', 'S', 'N', 'G', 'C', 'Q', 'L', 'L', 'L', 'P', 'V'], ['E', 'D', 'Q', 'E', 'R', 'I', 'K', 'V', 'E', 'R', 'K', 'R', 'L', 'R', 'N', 'R', 'L', 'A', 'R', 'T', 'K', 'C', 'R', 'K', 'R', 'K', 'L', 'E', 'R', 'I', 'A', 'R', 'L', 'E', 'A', 'F', 'V', 'K', 'T', 'L', 'K', 'A', 'E', 'N', 'L', 'G', 'L', 'S', 'N', 'T', 'A', 'G', 'C', 'L', 'R', 'E', 'Q', 'V', 'A', 'Q', 'L', 'K', 'K', 'K', 'V', 'M', 'T', 'H', 'V', 'S', 'N', 'G', 'C', 'Q', 'L', 'L', 'L', 'P', 'V', 'K'], ['D', 'Q', 'E', 'R', 'I', 'K', 'V', 'E', 'R', 'K', 'R', 'L', 'R', 'N', 'R', 'L', 'A', 'R', 'T', 'K', 'C', 'R', 'K', 'R', 'K', 'L', 'E', 'R', 'I', 'A', 'R', 'L', 'E', 'A', 'F', 'V', 'K', 'T', 'L', 'K', 'A', 'E', 'N', 'L', 'G', 'L', 'S', 'N', 'T', 'A', 'G', 'C', 'L', 'R', 'E', 'Q', 'V', 'A', 'Q', 'L', 'K', 'K', 'K', 'V', 'M', 'T', 'H', 'V', 'S', 'N', 'G', 'C', 'Q', 'L', 'L', 'L', 'P', 'V', 'K', 'G'], ['Q', 'E', 'R', 'I', 'K', 'V', 'E', 'R', 'K', 'R', 'L', 'R', 'N', 'R', 'L', 'A', 'R', 'T', 'K', 'C', 'R', 'K', 'R', 'K', 'L', 'E', 'R', 'I', 'A', 'R', 'L', 'E', 'A', 'F', 'V', 'K', 'T', 'L', 'K', 'A', 'E', 'N', 'L', 'G', 'L', 'S', 'N', 'T', 'A', 'G', 'C', 'L', 'R', 'E', 'Q', 'V', 'A', 'Q', 'L', 'K', 'K', 'K', 'V', 'M', 'T', 'H', 'V', 'S', 'N', 'G', 'C', 'Q', 'L', 'L', 'L', 'P', 'V', 'K', 'G', 'H'], ['E', 'R', 'I', 'K', 'V', 'E', 'R', 'K', 'R', 'L', 'R', 'N', 'R', 'L', 'A', 'R', 'T', 'K', 'C', 'R', 'K', 'R', 'K', 'L', 'E', 'R', 'I', 'A', 'R', 'L', 'E', 'A', 'F', 'V', 'K', 'T', 'L', 'K', 'A', 'E', 'N', 'L', 'G', 'L', 'S', 'N', 'T', 'A', 'G', 'C', 'L', 'R', 'E', 'Q', 'V', 'A', 'Q', 'L', 'K', 'K', 'K', 'V', 'M', 'T', 'H', 'V', 'S', 'N', 'G', 'C', 'Q', 'L', 'L', 'L', 'P', 'V', 'K', 'G', 'H', 'A']]\n"
     ]
    }
   ],
   "source": [
    "# ouverture de teste.fasta\n",
    "idTeste, seqs = extraireAllFastaMulti('teste.fasta')\n",
    "teste = seqs[0]\n",
    "\n",
    "import pandas as pd\n",
    "\n",
    "#computing f0\n",
    "def f0_calcule(PWM):\n",
    "    \"\"\"Input 1 : position-weight matrix of shape (q,L)\n",
    "    Output 1 : vector of size q containing the null model \"\"\"   \n",
    "    return pd.DataFrame([(1/len(PWM[0]))*np.sum(PWM[i]) for i in range(q)], index = PWM.index)\n",
    "\n",
    "f_0 = f0_calcule(PWM)\n",
    "\n",
    "#computing log-likehood\n",
    "def loglikehood(seq, PWM, f_0, L):\n",
    "    \"\"\"Input 1 : sequence of which you want to calculate the log-likelihood\n",
    "    Input 2 : position-weight matrix of shape (q,L)\n",
    "    Input 3 : null model vector of length q\n",
    "    Input 4 : MSA length\n",
    "    Output 1 : log-likelihood of the sequence seq\"\"\"\n",
    "    f = 1 # proba de ma séquence selon modèle train\n",
    "    f0 = 1 # proba de ma séquence selon modèle nul\n",
    "    # seq = array d'entiers qui représente lettre \n",
    "    for i in range(L-1):\n",
    "        f0 = f0 * f_0.loc[seq[i]]\n",
    "        f = f * PWM.loc[seq[i]][i]\n",
    "    prod = f/f0    \n",
    "    ll = np.log2(prod)     \n",
    "    return ll[0]\n",
    "\n",
    "#test\n",
    "L=80\n",
    "print(loglikehood(teste[:L], PWM, f_0, L))\n",
    "\n",
    "#computing sliding_window \n",
    "def sliding_window (seq, k):\n",
    "    \"\"\"Input 1 : sequence of length > k\n",
    "    Input 2 : window length (int)\n",
    "    Output 1 : list of windows of length k generated from sequence seq\"\"\"\n",
    "    n = len(seq)\n",
    "    windows = [] # initialise une liste de listes\n",
    "    for i in range(n-k):\n",
    "        print(seq[i: i + k])\n",
    "        windows += [seq[i: i + k]]   \n",
    "    return windows\n",
    "\n",
    "# Find all subsequences of length L from the sequence in testseq.txt\n",
    "subseqs = sliding_window(teste,L)\n",
    "print(subseqs)"
   ]
  },
  {
   "cell_type": "code",
   "execution_count": 8,
   "metadata": {},
   "outputs": [],
   "source": [
    "#computing log-likelihood\n",
    "def likelihoodAllSousSeq(subseqs, PWM, f_0, k): #(subseqs, k)\n",
    "    \"\"\"Input 1 : list of all subsequences of length k\n",
    "    Input 2 : position-weight matrix of length shape (q,k)\n",
    "    Input 3 : null model vector of length k\n",
    "    Input 4 : length of each subsequence\n",
    "    Output 1 : log-likelihood vector of length len(subseqs) - k + 1\n",
    "    \n",
    "    REMARK : The length of the subsequences must match the\n",
    "    number of columns in the PWM and the length of the null model!\"\"\"\n",
    "    # le modèle null fait la longueur de l'alphabet, ce qui ne correspond pas au nombre de colonnes de PWM (position)\n",
    "    if k != len(PWM.iloc[0]):\n",
    "        print('Erreur de longueur!!!')\n",
    "        return\n",
    "    lhs = [loglikehood(seq, PWM, f_0, k) for seq in subseqs]\n",
    "    return lhs\n",
    "\n",
    "\n",
    "def plot_likelihood(lhs): #(lhs,k)\n",
    "    \"\"\"Input 1 : log-likelihood vector\"\"\"\n",
    "    plt.figure(figsize=(8,6))\n",
    "    plt.plot(lhs)\n",
    "    plt.title(\"Vraissemblance des sous-séquences par rapport au modèle\")\n",
    "    plt.xlabel(\"position de la sous séquence\")\n",
    "    plt.ylabel(\"log-likelyhood\")\n",
    "    plt.savefig('likelihood.png', dpi=300)\n",
    "    return\n"
   ]
  },
  {
   "cell_type": "code",
   "execution_count": 9,
   "metadata": {},
   "outputs": [
    {
     "name": "stdout",
     "output_type": "stream",
     "text": [
      "position dans la séquence: 3\n",
      "likelihood maximale: 11.180488406870992\n"
     ]
    }
   ],
   "source": [
    "#plotting log-likelihood for each initial position\n",
    "lhs = likelihoodAllSousSeq(subseqs, PWM, f_0, L)\n",
    "print('position dans la séquence:', np.argmax(lhs))\n",
    "print('likelihood maximale:', np.max(lhs))"
   ]
  },
  {
   "cell_type": "code",
   "execution_count": 10,
   "metadata": {},
   "outputs": [
    {
     "data": {
      "image/png": "[encoded data removed]",
      "text/plain": [
       "<Figure size 800x600 with 1 Axes>"
      ]
     },
     "metadata": {},
     "output_type": "display_data"
    }
   ],
   "source": [
    "plot_likelihood(lhs)"
   ]
  },
  {
   "cell_type": "markdown",
   "metadata": {},
   "source": [
    "<b> Question 3 </b>:   A partir de l'alignement de la question précédente construit le modèle HMMer en utilisant la version 3. Répondez aux questions suivantes :"
   ]
  },
  {
   "cell_type": "markdown",
   "metadata": {},
   "source": [
    "<b> 3.1 </b>:  Combien d'états Match observez-vous?"
   ]
  },
  {
   "cell_type": "markdown",
   "metadata": {},
   "source": [
    "<font color=\"red\"> Réponse : </font>\n",
    "<font color=\"blue\">\n",
    "On 60 états de match\n",
    "</font>"
   ]
  },
  {
   "cell_type": "markdown",
   "metadata": {},
   "source": [
    "<b> 3.2 </b>: Chercher la séquence du fichier teste.fasta en utilisant hmmsearch (default parameters). Quelle est le c-évalués et le score?"
   ]
  },
  {
   "cell_type": "markdown",
   "metadata": {},
   "source": [
    "<font color=\"red\"> Réponse : </font>\n",
    "<font color=\"blue\">\n",
    "score =  23.6, c-evalue =  2.3e-09\n",
    "</font>"
   ]
  },
  {
   "cell_type": "markdown",
   "metadata": {},
   "source": [
    "<b> 3.3</b>:  A partir de résultats obtenus avez vous une indication de la fonction ou domaine fonctionnelle de la protéine inconnue? Si oui télécharger le modèle HMMer correspondant du site de pfam puis refaire la question 3.2, en utilisant l'option --cut_ga "
   ]
  },
  {
   "cell_type": "markdown",
   "metadata": {},
   "source": [
    "<font color=\"red\"> Réponse : </font>\n",
    "<font color=\"blue\">\n",
    "On pense que c'est G-box-binding factor 1\n",
    "</font>"
   ]
  },
  {
   "cell_type": "markdown",
   "metadata": {},
   "source": [
    "<b> Question 4 </b>:  Faire une fonction pour éliminer toutes les colonnes de l'argument qui ont au moins un gap. Puis chercher le motif de taille k = 10 avec l'algorithme EM. "
   ]
  },
  {
   "cell_type": "code",
   "execution_count": 11,
   "metadata": {},
   "outputs": [
    {
     "name": "stdout",
     "output_type": "stream",
     "text": [
      "['K' 'K' 'R' 'K' 'R' 'K' 'L' 'S' 'N' 'R' 'E' 'S' 'A' 'R' 'R' 'S' 'R' 'L'\n",
      " 'K' 'K' 'Q' 'K' 'L' 'M' 'E' 'D' 'T' 'I' 'H' 'E' 'I' 'S' 'S' 'L' 'E' 'R'\n",
      " 'R' 'I' 'K' 'E' 'N']\n",
      "['-', '-', '-', '-', 'K', 'K', 'R', 'K', 'R', 'K', 'L', 'S', 'N', 'R', 'E', 'S', 'A', 'R', 'R', 'S', 'R', 'L', 'K', 'K', 'Q', 'K', 'L', 'M', 'E', 'D', 'T', 'I', 'H', 'E', 'I', 'S', 'S', 'L', 'E', 'R', 'R', 'I', 'K', 'E', 'N', 'S', 'E', 'R', 'C', 'R', 'A', 'V', 'K', 'Q', 'R', 'L', 'D', 'S', 'V', 'E', 'T', 'E', 'N', 'A', 'G', 'L', 'R', 'S', 'E', 'K', 'I', 'W', 'L', 'S', 'S', 'Y', 'V', 'S', 'D', 'L']\n"
     ]
    }
   ],
   "source": [
    "# nos séquences sont dans Seqs depuis le readMultiAlign\n",
    "def eliminate_gap(Seqs):\n",
    "    seqs = np.array(Seqs)\n",
    "    res = []\n",
    "    for i in range(len(seqs[0])):\n",
    "        colonne = seqs[:, i]\n",
    "        if ((np.where(colonne=='-', 1, 0)).sum() == 0):\n",
    "            res.append(colonne)\n",
    "    return np.array(res).T\n",
    "\n",
    "newseqs = eliminate_gap(Seqs)\n",
    "print(newseqs[0])\n",
    "print(Seqs[0])"
   ]
  },
  {
   "cell_type": "code",
   "execution_count": 12,
   "metadata": {},
   "outputs": [
    {
     "name": "stdout",
     "output_type": "stream",
     "text": [
      "[[0.04761905 0.025      0.025      0.025      0.025      0.025\n",
      "  0.025      0.025      0.025      0.025      0.025     ]\n",
      " [0.04761905 0.025      0.025      0.025      0.025      0.025\n",
      "  0.025      0.025      0.025      0.025      0.025     ]\n",
      " [0.04761905 0.025      0.025      0.025      0.025      0.025\n",
      "  0.025      0.025      0.025      0.025      0.025     ]\n",
      " [0.04761905 0.025      0.025      0.025      0.025      0.025\n",
      "  0.025      0.025      0.025      0.025      0.025     ]\n",
      " [0.04761905 0.025      0.025      0.025      0.025      0.025\n",
      "  0.025      0.025      0.025      0.025      0.025     ]\n",
      " [0.04761905 0.025      0.025      0.025      0.025      0.025\n",
      "  0.025      0.025      0.025      0.025      0.025     ]\n",
      " [0.04761905 0.025      0.025      0.025      0.025      0.025\n",
      "  0.025      0.025      0.025      0.025      0.025     ]\n",
      " [0.04761905 0.025      0.025      0.025      0.025      0.025\n",
      "  0.025      0.025      0.025      0.025      0.025     ]\n",
      " [0.04761905 0.5        0.025      0.025      0.5        0.025\n",
      "  0.5        0.025      0.025      0.025      0.025     ]\n",
      " [0.04761905 0.025      0.025      0.025      0.025      0.025\n",
      "  0.025      0.025      0.025      0.025      0.025     ]\n",
      " [0.04761905 0.025      0.025      0.025      0.025      0.025\n",
      "  0.025      0.025      0.025      0.025      0.025     ]\n",
      " [0.04761905 0.025      0.025      0.025      0.025      0.025\n",
      "  0.025      0.025      0.025      0.5        0.025     ]\n",
      " [0.04761905 0.025      0.025      0.025      0.025      0.025\n",
      "  0.025      0.025      0.025      0.025      0.025     ]\n",
      " [0.04761905 0.025      0.025      0.5        0.025      0.025\n",
      "  0.025      0.5        0.025      0.025      0.025     ]\n",
      " [0.04761905 0.025      0.5        0.025      0.025      0.5\n",
      "  0.025      0.025      0.025      0.025      0.5       ]\n",
      " [0.04761905 0.025      0.025      0.025      0.025      0.025\n",
      "  0.025      0.025      0.5        0.025      0.025     ]\n",
      " [0.04761905 0.025      0.025      0.025      0.025      0.025\n",
      "  0.025      0.025      0.025      0.025      0.025     ]\n",
      " [0.04761905 0.025      0.025      0.025      0.025      0.025\n",
      "  0.025      0.025      0.025      0.025      0.025     ]\n",
      " [0.04761905 0.025      0.025      0.025      0.025      0.025\n",
      "  0.025      0.025      0.025      0.025      0.025     ]\n",
      " [0.04761905 0.025      0.025      0.025      0.025      0.025\n",
      "  0.025      0.025      0.025      0.025      0.025     ]\n",
      " [0.04761905 0.025      0.025      0.025      0.025      0.025\n",
      "  0.025      0.025      0.025      0.025      0.025     ]]\n"
     ]
    }
   ],
   "source": [
    "def initialiseP(seqs, w, alph):\n",
    "    \"\"\"\n",
    "    Initialise pc,k\n",
    "    input seqs : list of sequences\n",
    "    input w : motif length\n",
    "    input alph : alphabet (nucleotides or amino acids)\n",
    "    output P: position probability matrix\n",
    "    \"\"\"\n",
    "    q=len(alph)\n",
    "    P = np.zeros((q, w+1))\n",
    "    # initialisation du model nul\n",
    "    P[:, 0] = [1/q] * q\n",
    "    # on tire une séquence de façon aléatoire\n",
    "    rand_index_seq = np.random.randint(0, len(seqs))\n",
    "    sequence = seqs[rand_index_seq]\n",
    "    # on tire un motif de façon aléatoire\n",
    "    rand_index_motif = np.random.randint(0, len(sequence) - w)\n",
    "    motif = sequence[rand_index_motif:rand_index_motif + w]\n",
    "    # on remplit les colones restantes\n",
    "    for i in range(len(motif)):\n",
    "        # la case du caractère du motif est mise à 0.5\n",
    "        c_k = alph.index(motif[i])\n",
    "        P[c_k][i + 1] = 0.5\n",
    "        \n",
    "        # les autres sont remplis équitablement de sorte à ce que la colonne somme à 1\n",
    "        for j in range(q):\n",
    "            if c_k != j:\n",
    "                P[j][i + 1] = (1 - 0.5) / (q - 1)\n",
    "    return P\n",
    "\n",
    "#test\n",
    "w = 10\n",
    "p = initialiseP(newseqs, w, aa)\n",
    "print (p)"
   ]
  },
  {
   "cell_type": "code",
   "execution_count": 13,
   "metadata": {},
   "outputs": [
    {
     "name": "stdout",
     "output_type": "stream",
     "text": [
      "[[1. 1. 1. ... 1. 1. 1.]\n",
      " [1. 1. 1. ... 1. 1. 1.]\n",
      " [1. 1. 1. ... 1. 1. 1.]\n",
      " ...\n",
      " [1. 1. 1. ... 1. 1. 1.]\n",
      " [1. 1. 1. ... 1. 1. 1.]\n",
      " [1. 1. 1. ... 1. 1. 1.]]\n"
     ]
    }
   ],
   "source": [
    "def initialiseZ(seqs, w):\n",
    "    \"\"\"\n",
    "    Initialise Z\n",
    "    input seqs : list of sequences\n",
    "    input w : motif length\n",
    "    output Z :  matrix of motif start positions\n",
    "    \"\"\"\n",
    "    n = len(seqs)\n",
    "    L = len(seqs[0])\n",
    "    Z = np.ones((n, (L - w + 1)))\n",
    "    return Z\n",
    "\n",
    "Z = initialiseZ(Seqs, w)\n",
    "print(Z)"
   ]
  },
  {
   "cell_type": "code",
   "execution_count": 14,
   "metadata": {},
   "outputs": [],
   "source": [
    "# fonction intermdédiaire: calcule Z pour une séquence donnée à partir de P\n",
    "def compute_Z_for_seq(seq, P, w, alph):\n",
    "    res = []\n",
    "    # parcours des positions de la séquence\n",
    "    for i in range(len(seq) - w + 1):\n",
    "        # motif courrant\n",
    "        motif = seq[i: i + w]\n",
    "        # calcul de la probabilité du motif\n",
    "        proba = 1\n",
    "        for i in range(w):\n",
    "            c_k = alph.index(motif[i])\n",
    "            proba = proba * P[c_k][i + 1]\n",
    "        # calcul des probas hors-motif (on suppose que le model nul est systématiquement equiprobable)\n",
    "        proba_nulle = P[0][0] \n",
    "        proba = proba * pow(proba_nulle, len(seq) - w)\n",
    "        \n",
    "        res.append(proba)\n",
    "    return res"
   ]
  },
  {
   "cell_type": "code",
   "execution_count": 15,
   "metadata": {},
   "outputs": [
    {
     "name": "stdout",
     "output_type": "stream",
     "text": [
      "[[5.00728560e-06 4.00582848e-02 1.00145712e-04 1.00145712e-04\n",
      "  2.00291424e-03 1.00145712e-04 2.00291424e-03 4.00582848e-02\n",
      "  2.00291424e-03 1.00145712e-04 2.00291424e-03 2.00291424e-03\n",
      "  1.00145712e-04 1.00145712e-04 1.00145712e-04 2.00291424e-03\n",
      "  2.00291424e-03 5.00728560e-06 2.00291424e-03 2.00291424e-03\n",
      "  1.00145712e-04 8.01165696e-01 1.00145712e-04 2.00291424e-03\n",
      "  2.00291424e-03 1.00145712e-04 1.00145712e-04 5.00728560e-06\n",
      "  2.00291424e-03 5.00728560e-06 5.00728560e-06 1.00145712e-04\n",
      "  5.00728560e-06 1.00145712e-04 5.00728560e-06 1.00145712e-04\n",
      "  2.00291424e-03 5.00728560e-06 2.00291424e-03 5.00728560e-06\n",
      "  5.00728560e-06 4.00582848e-02 5.00728560e-06 5.00728560e-06\n",
      "  5.00728560e-06 5.00728560e-06 1.00145712e-04 5.00728560e-06\n",
      "  5.00728560e-06 5.00728560e-06 5.00728560e-06 2.00291424e-03\n",
      "  5.00728560e-06 5.00728560e-06 2.00291424e-03 1.00145712e-04\n",
      "  5.00728560e-06 1.00145712e-04 2.00291424e-03 2.00291424e-03\n",
      "  1.00145712e-04 1.00145712e-04 1.00145712e-04 4.00582848e-02\n",
      "  1.00145712e-04 5.00728560e-06 5.00728560e-06 5.00728560e-06\n",
      "  1.00145712e-04 5.00728560e-06 5.00728560e-06 5.00728560e-06\n",
      "  1.00145712e-04 5.00728560e-06 5.00728560e-06 1.00145712e-04]]\n"
     ]
    }
   ],
   "source": [
    "def E_step(seqs, P, w, alph):\n",
    "    \"\"\"\n",
    "    Implement Expectation step\n",
    "    input seqs : list of sequences\n",
    "    input P : position probability matrix\n",
    "    input Z :  matrix of motif start positions\n",
    "    input w : motif length\n",
    "    input alph : alphabet (nucleotides or amino acids)\n",
    "    output Z :  matrix of motif start positions\n",
    "    \"\"\"\n",
    "    \n",
    "    Z = initialiseZ(seqs, w)\n",
    "    # on appelle la \n",
    "    for i in range(len(Z)):\n",
    "        Z[i] = compute_Z_for_seq(seqs[i], P, w, alph)\n",
    "    return Z\n",
    "\n",
    "def normaliseZ(z):\n",
    "    \"\"\"\n",
    "    Normalise Z matrix\n",
    "    input Z : unnormalised matrix\n",
    "    output Zn : normalised matrix\n",
    "    \"\"\"\n",
    "    return np.array([row/sum(row) for row in z])\n",
    "\n",
    "Z = E_step(seqs, p, w, aa)\n",
    "z_norm = normaliseZ(Z)\n",
    "print(z_norm)"
   ]
  },
  {
   "cell_type": "code",
   "execution_count": 16,
   "metadata": {},
   "outputs": [
    {
     "name": "stdout",
     "output_type": "stream",
     "text": [
      "[[0.04761905 0.045737   0.04736733 0.04555537 0.04563754 0.0455597\n",
      "  0.0455597  0.04555537 0.04573268 0.04573291 0.04547344]\n",
      " [0.04761905 0.04545955 0.08187595 0.04555037 0.04554604 0.04554604\n",
      "  0.04545955 0.04554604 0.04555037 0.04545955 0.04546388]\n",
      " [0.04761905 0.0454591  0.04727538 0.04545477 0.04545455 0.04545455\n",
      "  0.04545455 0.04545455 0.04545455 0.04545455 0.04545455]\n",
      " [0.04761905 0.04746269 0.04555993 0.04919658 0.04737598 0.04555105\n",
      "  0.04581894 0.04555515 0.08196722 0.04728926 0.04555082]\n",
      " [0.04761905 0.04554559 0.0454591  0.04545477 0.0454591  0.04545477\n",
      "  0.0454591  0.04545477 0.04545477 0.04554559 0.04545933]\n",
      " [0.04761905 0.04546388 0.04554604 0.04545523 0.04545523 0.04545955\n",
      "  0.04727583 0.0454641  0.04545546 0.04555059 0.04728038]\n",
      " [0.04761905 0.0454591  0.04545477 0.04545477 0.04545477 0.0454591\n",
      "  0.04727538 0.0454591  0.04546365 0.04545933 0.04554581]\n",
      " [0.04761905 0.04554581 0.04545933 0.04563663 0.04545933 0.04546365\n",
      "  0.04727993 0.04554581 0.04554559 0.0454591  0.08187117]\n",
      " [0.04761905 0.08762044 0.04756716 0.04575521 0.08243107 0.04747635\n",
      "  0.08243563 0.04756739 0.04565597 0.04575089 0.04565142]\n",
      " [0.04761905 0.04556493 0.04556949 0.04583351 0.04582918 0.04747681\n",
      "  0.0456562  0.08561002 0.04583783 0.04556971 0.04601081]\n",
      " [0.04761905 0.045455   0.04545477 0.0454591  0.04727538 0.0454591\n",
      "  0.0454591  0.0454591  0.04554559 0.04554559 0.0454591 ]\n",
      " [0.04761905 0.04554627 0.04545978 0.04545978 0.04728903 0.04554627\n",
      "  0.04554627 0.04555059 0.04555059 0.05100808 0.04555492]\n",
      " [0.04761905 0.04545455 0.04545455 0.04545455 0.0454591  0.04545477\n",
      "  0.04545477 0.0454591  0.04545477 0.04545477 0.04545477]\n",
      " [0.04761905 0.04546843 0.04555059 0.04737552 0.04555059 0.04545523\n",
      "  0.04545955 0.04564118 0.04545523 0.04545523 0.04554604]\n",
      " [0.04761905 0.04584193 0.04611004 0.08215886 0.04748523 0.08433839\n",
      "  0.04756739 0.04601035 0.047485   0.08242242 0.04939209]\n",
      " [0.04761905 0.045455   0.045455   0.04546365 0.045455   0.045455\n",
      "  0.045455   0.04545933 0.04909621 0.04545933 0.04545933]\n",
      " [0.04761905 0.04545978 0.04563708 0.04554627 0.04555059 0.04737552\n",
      "  0.04555059 0.04546843 0.0454641  0.04555492 0.04745769]\n",
      " [0.04761905 0.04563731 0.04738007 0.04737143 0.04546866 0.04565051\n",
      "  0.04546888 0.04737598 0.04746679 0.04546456 0.04555082]\n",
      " [0.04761905 0.04545455 0.04545455 0.04545455 0.04545455 0.04545455\n",
      "  0.04545455 0.04545455 0.04545455 0.04545455 0.04545455]\n",
      " [0.04761905 0.04545455 0.04545455 0.04545455 0.04545455 0.04545455\n",
      "  0.04545455 0.04545455 0.04545455 0.04545455 0.04545455]\n",
      " [0.04761905 0.04545455 0.04545455 0.04545455 0.04545455 0.04545455\n",
      "  0.04545455 0.04545455 0.04545455 0.04545455 0.04545455]]\n"
     ]
    }
   ],
   "source": [
    "def M_step(seqs, Z, w, alph):\n",
    "    \"\"\"\n",
    "    Implement Expectation step\n",
    "    input seqs : list of sequences\n",
    "    input Z :  matrix of motif start positions\n",
    "    input w : motif length\n",
    "    input alph : alphabet (nucleotides or amino acids)\n",
    "    output P : position probability matrix\n",
    "    \"\"\"\n",
    "    n = len(seqs)\n",
    "    L = len(seqs[0])\n",
    "    q = len(alph)\n",
    "    \n",
    "    # initialisation de P (avec pseudo-count)\n",
    "    P = np.ones((q, w+1))\n",
    "    \n",
    "    # on va parcourir tous les motifs de toutes les séquences et ajouter\n",
    "    # au fur et à mesure les probabilités du motif dans les cases\n",
    "    # appropriées de P\n",
    "    for i in range(n):\n",
    "        for j in range(L - w + 1):\n",
    "            # on récupère le motif\n",
    "            motif = seqs[i][j:j + w]\n",
    "            # parcours du motif\n",
    "            for k in range(len(motif)):\n",
    "                # caractère courant\n",
    "                c_k = alph.index(motif[k])\n",
    "                # position du caractère dans le motif\n",
    "                pos = k + 1\n",
    "                # ajout de la probabilité Z_i,j\n",
    "                P[c_k][pos] += Z[i][j]\n",
    "                \n",
    "    # normalisation des colonnes (avec pseudo-count) : division par somme des Z + longueur alphabet\n",
    "    # hors la somme des Z vaut le nombre de séquences, puisque chaque séquence a ses Z qui somment à 1\n",
    "    P = P / (q + n)\n",
    "    \n",
    "    # ajout du model nul\n",
    "    P[:, 0] = [1/q] * q\n",
    "    return P\n",
    "\n",
    "P = M_step(seqs, z_norm, w, aa)\n",
    "print(P)"
   ]
  },
  {
   "cell_type": "code",
   "execution_count": 24,
   "metadata": {},
   "outputs": [
    {
     "name": "stdout",
     "output_type": "stream",
     "text": [
      "ADAKAAAMCIA\n"
     ]
    }
   ],
   "source": [
    "def retour_motif(alph,P):\n",
    "    motif = \"\"\n",
    "    for i in range(P.shape[1]):\n",
    "        maxi = np.max(P[i,:])\n",
    "        maxi_indices = np.where(P[i,:]== maxi)[0]\n",
    "        if len(maxi_indices)>1:\n",
    "            motif = \"[\"\n",
    "            for i in maxi_indices:\n",
    "                motif+=aa[i]\n",
    "            motif = \"]\"\n",
    "        else:\n",
    "            motif += aa[maxi_indices[0]]\n",
    "        \n",
    "    return motif\n",
    "\n",
    "motif = retour_motif(aa,P)\n",
    "print(motif)\n",
    "        "
   ]
  },
  {
   "cell_type": "code",
   "execution_count": null,
   "metadata": {},
   "outputs": [],
   "source": []
  },
  {
   "cell_type": "code",
   "execution_count": null,
   "metadata": {},
   "outputs": [],
   "source": []
  }
 ],
 "metadata": {
  "kernelspec": {
   "display_name": "Python 3 (ipykernel)",
   "language": "python",
   "name": "python3"
  },
  "language_info": {
   "codemirror_mode": {
    "name": "ipython",
    "version": 3
   },
   "file_extension": ".py",
   "mimetype": "text/x-python",
   "name": "python",
   "nbconvert_exporter": "python",
   "pygments_lexer": "ipython3",
   "version": "3.10.6"
  }
 },
 "nbformat": 4,
 "nbformat_minor": 4
}
